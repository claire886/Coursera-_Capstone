{
 "cells": [
  {
   "cell_type": "markdown",
   "metadata": {},
   "source": [
    "# Introduction\n",
    "\n",
    "This project will use machine learning to segment and cluster neighborhoods in Toronto, Canada. We will use Foursquare API to get information of local places for segmenting and clustering.\n",
    "\n",
    "[Question 1: The number of rows in dataframe](#number_of_rows)\n",
    "\n",
    "[Question 2: Dataframe with latitude and longitude](#df_with_ll)\n",
    "\n",
    "[Question 3: Map with neighborhood cluster marker](#map_clusters)"
   ]
  },
  {
   "cell_type": "code",
   "execution_count": 469,
   "metadata": {},
   "outputs": [
    {
     "name": "stdout",
     "output_type": "stream",
     "text": [
      "Libraries imported.\n"
     ]
    }
   ],
   "source": [
    "# Import associated libraries.\n",
    "import pandas as pd\n",
    "import numpy as np\n",
    "\n",
    "import requests # Library to handle requests\n",
    "import json  #Library to handle JSON files\n",
    "from pandas.io.json import json_normalize  #Transform JSON file into a panda dataframe.\n",
    "\n",
    "import matplotlib.cm as cm\n",
    "import matplotlib.colors as colors\n",
    "%matplotlib inline\n",
    "\n",
    "from sklearn.cluster import KMeans  #Import k-means from clustering stage.\n",
    "\n",
    "#!conda install -c conda-forge geopy --yes # uncomment this line if you have geopy library\n",
    "from geopy.geocoders import Nominatim  # Convert an address into latitude and longitude values.\n",
    "#!conda install -c conda-forge folium=0.5.0 --yes # uncomment this line if you have folium package\n",
    "import folium #Map rendering  library.\n",
    "\n",
    "print('Libraries imported.')"
   ]
  },
  {
   "cell_type": "markdown",
   "metadata": {},
   "source": [
    "First, we will scrape Toronto neighborhoods data from a Wikipedia page, and then transform it into a pandas dataframe."
   ]
  },
  {
   "cell_type": "code",
   "execution_count": 470,
   "metadata": {},
   "outputs": [
    {
     "data": {
      "text/html": [
       "<div>\n",
       "<style scoped>\n",
       "    .dataframe tbody tr th:only-of-type {\n",
       "        vertical-align: middle;\n",
       "    }\n",
       "\n",
       "    .dataframe tbody tr th {\n",
       "        vertical-align: top;\n",
       "    }\n",
       "\n",
       "    .dataframe thead th {\n",
       "        text-align: right;\n",
       "    }\n",
       "</style>\n",
       "<table border=\"1\" class=\"dataframe\">\n",
       "  <thead>\n",
       "    <tr style=\"text-align: right;\">\n",
       "      <th></th>\n",
       "      <th>Postal Code</th>\n",
       "      <th>Borough</th>\n",
       "      <th>Neighbourhood</th>\n",
       "    </tr>\n",
       "  </thead>\n",
       "  <tbody>\n",
       "    <tr>\n",
       "      <th>0</th>\n",
       "      <td>M1A</td>\n",
       "      <td>Not assigned</td>\n",
       "      <td>Not assigned</td>\n",
       "    </tr>\n",
       "    <tr>\n",
       "      <th>1</th>\n",
       "      <td>M2A</td>\n",
       "      <td>Not assigned</td>\n",
       "      <td>Not assigned</td>\n",
       "    </tr>\n",
       "    <tr>\n",
       "      <th>2</th>\n",
       "      <td>M3A</td>\n",
       "      <td>North York</td>\n",
       "      <td>Parkwoods</td>\n",
       "    </tr>\n",
       "    <tr>\n",
       "      <th>3</th>\n",
       "      <td>M4A</td>\n",
       "      <td>North York</td>\n",
       "      <td>Victoria Village</td>\n",
       "    </tr>\n",
       "    <tr>\n",
       "      <th>4</th>\n",
       "      <td>M5A</td>\n",
       "      <td>Downtown Toronto</td>\n",
       "      <td>Regent Park, Harbourfront</td>\n",
       "    </tr>\n",
       "  </tbody>\n",
       "</table>\n",
       "</div>"
      ],
      "text/plain": [
       "  Postal Code           Borough              Neighbourhood\n",
       "0         M1A      Not assigned               Not assigned\n",
       "1         M2A      Not assigned               Not assigned\n",
       "2         M3A        North York                  Parkwoods\n",
       "3         M4A        North York           Victoria Village\n",
       "4         M5A  Downtown Toronto  Regent Park, Harbourfront"
      ]
     },
     "execution_count": 470,
     "metadata": {},
     "output_type": "execute_result"
    }
   ],
   "source": [
    "# Reading Toronto neighborhoods data from Wikipedia page.\n",
    "nh_ls = pd.read_html('https://en.wikipedia.org/wiki/List_of_postal_codes_of_Canada:_M')\n",
    "df = nh_ls[0]\n",
    "df.head()"
   ]
  },
  {
   "cell_type": "markdown",
   "metadata": {},
   "source": [
    "We'll clean the dataframe and transform it to our favorable format. We will remove rows with 'Not assigned' in column borough. If more then one neighborhood exists in one postal code, these neighborhoods will be combined into one row with a comma seperated them. If a cell has a borough but a 'Not assigned'  neighborhood, then the neighborhood will be the same as the borough."
   ]
  },
  {
   "cell_type": "code",
   "execution_count": 471,
   "metadata": {},
   "outputs": [
    {
     "name": "stdout",
     "output_type": "stream",
     "text": [
      "The number of neighborhood column which is \"Not assigned\":  0\n"
     ]
    },
    {
     "data": {
      "text/plain": [
       "Borough         1\n",
       "Neighborhood    1\n",
       "dtype: int64"
      ]
     },
     "execution_count": 471,
     "metadata": {},
     "output_type": "execute_result"
    }
   ],
   "source": [
    "# Rename columns and remove 'Not assigned' borough\n",
    "df.columns = ['PostalCode', 'Borough', 'Neighborhood']\n",
    "df = df[df['Borough'] != 'Not assigned']\n",
    "# Check if any 'Not assigned' Neighborhood\n",
    "print('The number of neighborhood column which is \"Not assigned\": ', (df[df['Neighborhood'] == 'Not Assigned']).shape[0])\n",
    "# Check if there is duplicated postal code\n",
    "df.groupby(['PostalCode']).count().max()"
   ]
  },
  {
   "cell_type": "markdown",
   "metadata": {},
   "source": [
    "Let's take a look at the new dataframe and calculate the number of rows in the dataframe. "
   ]
  },
  {
   "cell_type": "code",
   "execution_count": 472,
   "metadata": {},
   "outputs": [
    {
     "data": {
      "text/html": [
       "<div>\n",
       "<style scoped>\n",
       "    .dataframe tbody tr th:only-of-type {\n",
       "        vertical-align: middle;\n",
       "    }\n",
       "\n",
       "    .dataframe tbody tr th {\n",
       "        vertical-align: top;\n",
       "    }\n",
       "\n",
       "    .dataframe thead th {\n",
       "        text-align: right;\n",
       "    }\n",
       "</style>\n",
       "<table border=\"1\" class=\"dataframe\">\n",
       "  <thead>\n",
       "    <tr style=\"text-align: right;\">\n",
       "      <th></th>\n",
       "      <th>PostalCode</th>\n",
       "      <th>Borough</th>\n",
       "      <th>Neighborhood</th>\n",
       "    </tr>\n",
       "  </thead>\n",
       "  <tbody>\n",
       "    <tr>\n",
       "      <th>0</th>\n",
       "      <td>M3A</td>\n",
       "      <td>North York</td>\n",
       "      <td>Parkwoods</td>\n",
       "    </tr>\n",
       "    <tr>\n",
       "      <th>1</th>\n",
       "      <td>M4A</td>\n",
       "      <td>North York</td>\n",
       "      <td>Victoria Village</td>\n",
       "    </tr>\n",
       "    <tr>\n",
       "      <th>2</th>\n",
       "      <td>M5A</td>\n",
       "      <td>Downtown Toronto</td>\n",
       "      <td>Regent Park, Harbourfront</td>\n",
       "    </tr>\n",
       "    <tr>\n",
       "      <th>3</th>\n",
       "      <td>M6A</td>\n",
       "      <td>North York</td>\n",
       "      <td>Lawrence Manor, Lawrence Heights</td>\n",
       "    </tr>\n",
       "    <tr>\n",
       "      <th>4</th>\n",
       "      <td>M7A</td>\n",
       "      <td>Downtown Toronto</td>\n",
       "      <td>Queen's Park, Ontario Provincial Government</td>\n",
       "    </tr>\n",
       "  </tbody>\n",
       "</table>\n",
       "</div>"
      ],
      "text/plain": [
       "  PostalCode           Borough                                 Neighborhood\n",
       "0        M3A        North York                                    Parkwoods\n",
       "1        M4A        North York                             Victoria Village\n",
       "2        M5A  Downtown Toronto                    Regent Park, Harbourfront\n",
       "3        M6A        North York             Lawrence Manor, Lawrence Heights\n",
       "4        M7A  Downtown Toronto  Queen's Park, Ontario Provincial Government"
      ]
     },
     "execution_count": 472,
     "metadata": {},
     "output_type": "execute_result"
    }
   ],
   "source": [
    "trt_nh = df.reset_index(drop=True)\n",
    "trt_nh.head()"
   ]
  },
  {
   "cell_type": "markdown",
   "metadata": {},
   "source": [
    "Find out the number of row in dataframe.<a id='number_of_rows'></a>"
   ]
  },
  {
   "cell_type": "code",
   "execution_count": 473,
   "metadata": {},
   "outputs": [
    {
     "data": {
      "text/plain": [
       "103"
      ]
     },
     "execution_count": 473,
     "metadata": {},
     "output_type": "execute_result"
    }
   ],
   "source": [
    "# The number of rows in dataframe.\n",
    "trt_nh.shape[0]"
   ]
  },
  {
   "cell_type": "markdown",
   "metadata": {},
   "source": [
    "Let's add latitude and longitude into dataframe for each postal code."
   ]
  },
  {
   "cell_type": "code",
   "execution_count": 474,
   "metadata": {},
   "outputs": [
    {
     "data": {
      "text/html": [
       "<div>\n",
       "<style scoped>\n",
       "    .dataframe tbody tr th:only-of-type {\n",
       "        vertical-align: middle;\n",
       "    }\n",
       "\n",
       "    .dataframe tbody tr th {\n",
       "        vertical-align: top;\n",
       "    }\n",
       "\n",
       "    .dataframe thead th {\n",
       "        text-align: right;\n",
       "    }\n",
       "</style>\n",
       "<table border=\"1\" class=\"dataframe\">\n",
       "  <thead>\n",
       "    <tr style=\"text-align: right;\">\n",
       "      <th></th>\n",
       "      <th>Postal Code</th>\n",
       "      <th>Latitude</th>\n",
       "      <th>Longitude</th>\n",
       "    </tr>\n",
       "  </thead>\n",
       "  <tbody>\n",
       "    <tr>\n",
       "      <th>0</th>\n",
       "      <td>M1B</td>\n",
       "      <td>43.806686</td>\n",
       "      <td>-79.194353</td>\n",
       "    </tr>\n",
       "    <tr>\n",
       "      <th>1</th>\n",
       "      <td>M1C</td>\n",
       "      <td>43.784535</td>\n",
       "      <td>-79.160497</td>\n",
       "    </tr>\n",
       "    <tr>\n",
       "      <th>2</th>\n",
       "      <td>M1E</td>\n",
       "      <td>43.763573</td>\n",
       "      <td>-79.188711</td>\n",
       "    </tr>\n",
       "    <tr>\n",
       "      <th>3</th>\n",
       "      <td>M1G</td>\n",
       "      <td>43.770992</td>\n",
       "      <td>-79.216917</td>\n",
       "    </tr>\n",
       "    <tr>\n",
       "      <th>4</th>\n",
       "      <td>M1H</td>\n",
       "      <td>43.773136</td>\n",
       "      <td>-79.239476</td>\n",
       "    </tr>\n",
       "  </tbody>\n",
       "</table>\n",
       "</div>"
      ],
      "text/plain": [
       "  Postal Code   Latitude  Longitude\n",
       "0         M1B  43.806686 -79.194353\n",
       "1         M1C  43.784535 -79.160497\n",
       "2         M1E  43.763573 -79.188711\n",
       "3         M1G  43.770992 -79.216917\n",
       "4         M1H  43.773136 -79.239476"
      ]
     },
     "execution_count": 474,
     "metadata": {},
     "output_type": "execute_result"
    }
   ],
   "source": [
    "# Import coordinates file.\n",
    "cordi = pd.read_csv('Geospatial_Coordinates.csv')\n",
    "geocoo.head()"
   ]
  },
  {
   "cell_type": "markdown",
   "metadata": {},
   "source": [
    "Add latitude and longitude into dataframe. <a id='df_with_ll'></a>"
   ]
  },
  {
   "cell_type": "code",
   "execution_count": 475,
   "metadata": {},
   "outputs": [
    {
     "data": {
      "text/html": [
       "<div>\n",
       "<style scoped>\n",
       "    .dataframe tbody tr th:only-of-type {\n",
       "        vertical-align: middle;\n",
       "    }\n",
       "\n",
       "    .dataframe tbody tr th {\n",
       "        vertical-align: top;\n",
       "    }\n",
       "\n",
       "    .dataframe thead th {\n",
       "        text-align: right;\n",
       "    }\n",
       "</style>\n",
       "<table border=\"1\" class=\"dataframe\">\n",
       "  <thead>\n",
       "    <tr style=\"text-align: right;\">\n",
       "      <th></th>\n",
       "      <th>PostalCode</th>\n",
       "      <th>Borough</th>\n",
       "      <th>Neighborhood</th>\n",
       "      <th>Latitude</th>\n",
       "      <th>Longitude</th>\n",
       "    </tr>\n",
       "  </thead>\n",
       "  <tbody>\n",
       "    <tr>\n",
       "      <th>0</th>\n",
       "      <td>M3A</td>\n",
       "      <td>North York</td>\n",
       "      <td>Parkwoods</td>\n",
       "      <td>43.753259</td>\n",
       "      <td>-79.329656</td>\n",
       "    </tr>\n",
       "    <tr>\n",
       "      <th>1</th>\n",
       "      <td>M4A</td>\n",
       "      <td>North York</td>\n",
       "      <td>Victoria Village</td>\n",
       "      <td>43.725882</td>\n",
       "      <td>-79.315572</td>\n",
       "    </tr>\n",
       "    <tr>\n",
       "      <th>2</th>\n",
       "      <td>M5A</td>\n",
       "      <td>Downtown Toronto</td>\n",
       "      <td>Regent Park, Harbourfront</td>\n",
       "      <td>43.654260</td>\n",
       "      <td>-79.360636</td>\n",
       "    </tr>\n",
       "    <tr>\n",
       "      <th>3</th>\n",
       "      <td>M6A</td>\n",
       "      <td>North York</td>\n",
       "      <td>Lawrence Manor, Lawrence Heights</td>\n",
       "      <td>43.718518</td>\n",
       "      <td>-79.464763</td>\n",
       "    </tr>\n",
       "    <tr>\n",
       "      <th>4</th>\n",
       "      <td>M7A</td>\n",
       "      <td>Downtown Toronto</td>\n",
       "      <td>Queen's Park, Ontario Provincial Government</td>\n",
       "      <td>43.662301</td>\n",
       "      <td>-79.389494</td>\n",
       "    </tr>\n",
       "  </tbody>\n",
       "</table>\n",
       "</div>"
      ],
      "text/plain": [
       "  PostalCode           Borough                                 Neighborhood  \\\n",
       "0        M3A        North York                                    Parkwoods   \n",
       "1        M4A        North York                             Victoria Village   \n",
       "2        M5A  Downtown Toronto                    Regent Park, Harbourfront   \n",
       "3        M6A        North York             Lawrence Manor, Lawrence Heights   \n",
       "4        M7A  Downtown Toronto  Queen's Park, Ontario Provincial Government   \n",
       "\n",
       "    Latitude  Longitude  \n",
       "0  43.753259 -79.329656  \n",
       "1  43.725882 -79.315572  \n",
       "2  43.654260 -79.360636  \n",
       "3  43.718518 -79.464763  \n",
       "4  43.662301 -79.389494  "
      ]
     },
     "execution_count": 475,
     "metadata": {},
     "output_type": "execute_result"
    }
   ],
   "source": [
    "for i, pc in enumerate(trt_nh['PostalCode']):\n",
    "    pc_row = cordi[cordi['Postal Code']==pc]    #Looking latitude & longitude for the corrosponding postal code.\n",
    "    trt_nh.loc[i, 'Latitude'] = pc_row.iloc[0, 1]\n",
    "    trt_nh.loc[i, 'Longitude'] = pc_row.iloc[0, 2]\n",
    "trt_nh.head()"
   ]
  },
  {
   "cell_type": "markdown",
   "metadata": {},
   "source": [
    "Use geopy library to get the geographical coordinate values of Toronto."
   ]
  },
  {
   "cell_type": "code",
   "execution_count": 476,
   "metadata": {},
   "outputs": [
    {
     "name": "stdout",
     "output_type": "stream",
     "text": [
      "The geographical coordinate of Toronto are 43.6534817, -79.3839347.\n"
     ]
    }
   ],
   "source": [
    "# Create map of Toronto using latitude & longitude.\n",
    "address = 'Toronto, Canada'\n",
    "\n",
    "geolocator = Nominatim(user_agent='trt_explorer')\n",
    "trt_ll = geolocator.geocode(address)\n",
    "trt_latt = trt_ll.latitude\n",
    "trt_logt = trt_ll.longitude\n",
    "print('The geographical coordinate of Toronto are {}, {}.'.format(trt_latt, trt_logt))"
   ]
  },
  {
   "cell_type": "markdown",
   "metadata": {},
   "source": [
    "Create a map of Toronto with neighborhoods superimposed on top."
   ]
  },
  {
   "cell_type": "code",
   "execution_count": 477,
   "metadata": {},
   "outputs": [
    {
     "data": {
      "text/html": [
       "<div style=\"width:100%;\"><div style=\"position:relative;width:100%;height:0;padding-bottom:60%;\"><span style=\"color:#565656\">Make this Notebook Trusted to load map: File -> Trust Notebook</span><iframe src=\"about:blank\" style=\"position:absolute;width:100%;height:100%;left:0;top:0;border:none !important;\" data-html=PCFET0NUWVBFIGh0bWw+CjxoZWFkPiAgICAKICAgIDxtZXRhIGh0dHAtZXF1aXY9ImNvbnRlbnQtdHlwZSIgY29udGVudD0idGV4dC9odG1sOyBjaGFyc2V0PVVURi04IiAvPgogICAgPHNjcmlwdD5MX1BSRUZFUl9DQU5WQVMgPSBmYWxzZTsgTF9OT19UT1VDSCA9IGZhbHNlOyBMX0RJU0FCTEVfM0QgPSBmYWxzZTs8L3NjcmlwdD4KICAgIDxzY3JpcHQgc3JjPSJodHRwczovL2Nkbi5qc2RlbGl2ci5uZXQvbnBtL2xlYWZsZXRAMS4yLjAvZGlzdC9sZWFmbGV0LmpzIj48L3NjcmlwdD4KICAgIDxzY3JpcHQgc3JjPSJodHRwczovL2FqYXguZ29vZ2xlYXBpcy5jb20vYWpheC9saWJzL2pxdWVyeS8xLjExLjEvanF1ZXJ5Lm1pbi5qcyI+PC9zY3JpcHQ+CiAgICA8c2NyaXB0IHNyYz0iaHR0cHM6Ly9tYXhjZG4uYm9vdHN0cmFwY2RuLmNvbS9ib290c3RyYXAvMy4yLjAvanMvYm9vdHN0cmFwLm1pbi5qcyI+PC9zY3JpcHQ+CiAgICA8c2NyaXB0IHNyYz0iaHR0cHM6Ly9jZG5qcy5jbG91ZGZsYXJlLmNvbS9hamF4L2xpYnMvTGVhZmxldC5hd2Vzb21lLW1hcmtlcnMvMi4wLjIvbGVhZmxldC5hd2Vzb21lLW1hcmtlcnMuanMiPjwvc2NyaXB0PgogICAgPGxpbmsgcmVsPSJzdHlsZXNoZWV0IiBocmVmPSJodHRwczovL2Nkbi5qc2RlbGl2ci5uZXQvbnBtL2xlYWZsZXRAMS4yLjAvZGlzdC9sZWFmbGV0LmNzcyIvPgogICAgPGxpbmsgcmVsPSJzdHlsZXNoZWV0IiBocmVmPSJodHRwczovL21heGNkbi5ib290c3RyYXBjZG4uY29tL2Jvb3RzdHJhcC8zLjIuMC9jc3MvYm9vdHN0cmFwLm1pbi5jc3MiLz4KICAgIDxsaW5rIHJlbD0ic3R5bGVzaGVldCIgaHJlZj0iaHR0cHM6Ly9tYXhjZG4uYm9vdHN0cmFwY2RuLmNvbS9ib290c3RyYXAvMy4yLjAvY3NzL2Jvb3RzdHJhcC10aGVtZS5taW4uY3NzIi8+CiAgICA8bGluayByZWw9InN0eWxlc2hlZXQiIGhyZWY9Imh0dHBzOi8vbWF4Y2RuLmJvb3RzdHJhcGNkbi5jb20vZm9udC1hd2Vzb21lLzQuNi4zL2Nzcy9mb250LWF3ZXNvbWUubWluLmNzcyIvPgogICAgPGxpbmsgcmVsPSJzdHlsZXNoZWV0IiBocmVmPSJodHRwczovL2NkbmpzLmNsb3VkZmxhcmUuY29tL2FqYXgvbGlicy9MZWFmbGV0LmF3ZXNvbWUtbWFya2Vycy8yLjAuMi9sZWFmbGV0LmF3ZXNvbWUtbWFya2Vycy5jc3MiLz4KICAgIDxsaW5rIHJlbD0ic3R5bGVzaGVldCIgaHJlZj0iaHR0cHM6Ly9yYXdnaXQuY29tL3B5dGhvbi12aXN1YWxpemF0aW9uL2ZvbGl1bS9tYXN0ZXIvZm9saXVtL3RlbXBsYXRlcy9sZWFmbGV0LmF3ZXNvbWUucm90YXRlLmNzcyIvPgogICAgPHN0eWxlPmh0bWwsIGJvZHkge3dpZHRoOiAxMDAlO2hlaWdodDogMTAwJTttYXJnaW46IDA7cGFkZGluZzogMDt9PC9zdHlsZT4KICAgIDxzdHlsZT4jbWFwIHtwb3NpdGlvbjphYnNvbHV0ZTt0b3A6MDtib3R0b206MDtyaWdodDowO2xlZnQ6MDt9PC9zdHlsZT4KICAgIAogICAgICAgICAgICA8c3R5bGU+ICNtYXBfN2U0NWJlZTNlN2Y2NDcyOTlhYjk5YzY4MWRjNGRlMzUgewogICAgICAgICAgICAgICAgcG9zaXRpb24gOiByZWxhdGl2ZTsKICAgICAgICAgICAgICAgIHdpZHRoIDogMTAwLjAlOwogICAgICAgICAgICAgICAgaGVpZ2h0OiAxMDAuMCU7CiAgICAgICAgICAgICAgICBsZWZ0OiAwLjAlOwogICAgICAgICAgICAgICAgdG9wOiAwLjAlOwogICAgICAgICAgICAgICAgfQogICAgICAgICAgICA8L3N0eWxlPgogICAgICAgIAo8L2hlYWQ+Cjxib2R5PiAgICAKICAgIAogICAgICAgICAgICA8ZGl2IGNsYXNzPSJmb2xpdW0tbWFwIiBpZD0ibWFwXzdlNDViZWUzZTdmNjQ3Mjk5YWI5OWM2ODFkYzRkZTM1IiA+PC9kaXY+CiAgICAgICAgCjwvYm9keT4KPHNjcmlwdD4gICAgCiAgICAKCiAgICAgICAgICAgIAogICAgICAgICAgICAgICAgdmFyIGJvdW5kcyA9IG51bGw7CiAgICAgICAgICAgIAoKICAgICAgICAgICAgdmFyIG1hcF83ZTQ1YmVlM2U3ZjY0NzI5OWFiOTljNjgxZGM0ZGUzNSA9IEwubWFwKAogICAgICAgICAgICAgICAgICAgICAgICAgICAgICAgICAgJ21hcF83ZTQ1YmVlM2U3ZjY0NzI5OWFiOTljNjgxZGM0ZGUzNScsCiAgICAgICAgICAgICAgICAgICAgICAgICAgICAgICAgICB7Y2VudGVyOiBbNDMuNjUzNDgxNywtNzkuMzgzOTM0N10sCiAgICAgICAgICAgICAgICAgICAgICAgICAgICAgICAgICB6b29tOiAxMCwKICAgICAgICAgICAgICAgICAgICAgICAgICAgICAgICAgIG1heEJvdW5kczogYm91bmRzLAogICAgICAgICAgICAgICAgICAgICAgICAgICAgICAgICAgbGF5ZXJzOiBbXSwKICAgICAgICAgICAgICAgICAgICAgICAgICAgICAgICAgIHdvcmxkQ29weUp1bXA6IGZhbHNlLAogICAgICAgICAgICAgICAgICAgICAgICAgICAgICAgICAgY3JzOiBMLkNSUy5FUFNHMzg1NwogICAgICAgICAgICAgICAgICAgICAgICAgICAgICAgICB9KTsKICAgICAgICAgICAgCiAgICAgICAgCiAgICAKICAgICAgICAgICAgdmFyIHRpbGVfbGF5ZXJfNjI0MjFjNTgyZWYxNDlkNmFmODUyZmNmODkwZmI1ZWYgPSBMLnRpbGVMYXllcigKICAgICAgICAgICAgICAgICdodHRwczovL3tzfS50aWxlLm9wZW5zdHJlZXRtYXAub3JnL3t6fS97eH0ve3l9LnBuZycsCiAgICAgICAgICAgICAgICB7CiAgImF0dHJpYnV0aW9uIjogbnVsbCwKICAiZGV0ZWN0UmV0aW5hIjogZmFsc2UsCiAgIm1heFpvb20iOiAxOCwKICAibWluWm9vbSI6IDEsCiAgIm5vV3JhcCI6IGZhbHNlLAogICJzdWJkb21haW5zIjogImFiYyIKfQogICAgICAgICAgICAgICAgKS5hZGRUbyhtYXBfN2U0NWJlZTNlN2Y2NDcyOTlhYjk5YzY4MWRjNGRlMzUpOwogICAgICAgIAogICAgCiAgICAgICAgICAgIHZhciBjaXJjbGVfbWFya2VyX2M4MDlkODkzZjU3NTQxYjQ5YjYyMmRkMTc2Y2RmMWY1ID0gTC5jaXJjbGVNYXJrZXIoCiAgICAgICAgICAgICAgICBbNDMuNzUzMjU4NiwtNzkuMzI5NjU2NV0sCiAgICAgICAgICAgICAgICB7CiAgImJ1YmJsaW5nTW91c2VFdmVudHMiOiB0cnVlLAogICJjb2xvciI6ICJibHVlIiwKICAiZGFzaEFycmF5IjogbnVsbCwKICAiZGFzaE9mZnNldCI6IG51bGwsCiAgImZpbGwiOiBmYWxzZSwKICAiZmlsbENvbG9yIjogIiMzMTg2Y2MiLAogICJmaWxsT3BhY2l0eSI6IDAuNywKICAiZmlsbFJ1bGUiOiAiZXZlbm9kZCIsCiAgImxpbmVDYXAiOiAicm91bmQiLAogICJsaW5lSm9pbiI6ICJyb3VuZCIsCiAgIm9wYWNpdHkiOiAxLjAsCiAgInJhZGl1cyI6IDUsCiAgInN0cm9rZSI6IHRydWUsCiAgIndlaWdodCI6IDMKfQogICAgICAgICAgICAgICAgKS5hZGRUbyhtYXBfN2U0NWJlZTNlN2Y2NDcyOTlhYjk5YzY4MWRjNGRlMzUpOwogICAgICAgICAgICAKICAgIAogICAgICAgICAgICB2YXIgcG9wdXBfMzE2YjJjNjUwMTI4NDYzZWIxOTE2MDM1NjQwNGU2MTMgPSBMLnBvcHVwKHttYXhXaWR0aDogJzMwMCd9KTsKCiAgICAgICAgICAgIAogICAgICAgICAgICAgICAgdmFyIGh0bWxfNWQwMTExYmE5YTYwNDhkMGFlODdiMDY1Y2Q2OTgzZWMgPSAkKCc8ZGl2IGlkPSJodG1sXzVkMDExMWJhOWE2MDQ4ZDBhZTg3YjA2NWNkNjk4M2VjIiBzdHlsZT0id2lkdGg6IDEwMC4wJTsgaGVpZ2h0OiAxMDAuMCU7Ij5QYXJrd29vZHMsIE5vcnRoIFlvcms8L2Rpdj4nKVswXTsKICAgICAgICAgICAgICAgIHBvcHVwXzMxNmIyYzY1MDEyODQ2M2ViMTkxNjAzNTY0MDRlNjEzLnNldENvbnRlbnQoaHRtbF81ZDAxMTFiYTlhNjA0OGQwYWU4N2IwNjVjZDY5ODNlYyk7CiAgICAgICAgICAgIAoKICAgICAgICAgICAgY2lyY2xlX21hcmtlcl9jODA5ZDg5M2Y1NzU0MWI0OWI2MjJkZDE3NmNkZjFmNS5iaW5kUG9wdXAocG9wdXBfMzE2YjJjNjUwMTI4NDYzZWIxOTE2MDM1NjQwNGU2MTMpOwoKICAgICAgICAgICAgCiAgICAgICAgCiAgICAKICAgICAgICAgICAgdmFyIGNpcmNsZV9tYXJrZXJfM2RlN2UxYmQ2NDBjNGU3MWI2MzgyNmFmMWZmZmNjNjYgPSBMLmNpcmNsZU1hcmtlcigKICAgICAgICAgICAgICAgIFs0My43MjU4ODIyOTk5OTk5OTUsLTc5LjMxNTU3MTU5OTk5OTk4XSwKICAgICAgICAgICAgICAgIHsKICAiYnViYmxpbmdNb3VzZUV2ZW50cyI6IHRydWUsCiAgImNvbG9yIjogImJsdWUiLAogICJkYXNoQXJyYXkiOiBudWxsLAogICJkYXNoT2Zmc2V0IjogbnVsbCwKICAiZmlsbCI6IGZhbHNlLAogICJmaWxsQ29sb3IiOiAiIzMxODZjYyIsCiAgImZpbGxPcGFjaXR5IjogMC43LAogICJmaWxsUnVsZSI6ICJldmVub2RkIiwKICAibGluZUNhcCI6ICJyb3VuZCIsCiAgImxpbmVKb2luIjogInJvdW5kIiwKICAib3BhY2l0eSI6IDEuMCwKICAicmFkaXVzIjogNSwKICAic3Ryb2tlIjogdHJ1ZSwKICAid2VpZ2h0IjogMwp9CiAgICAgICAgICAgICAgICApLmFkZFRvKG1hcF83ZTQ1YmVlM2U3ZjY0NzI5OWFiOTljNjgxZGM0ZGUzNSk7CiAgICAgICAgICAgIAogICAgCiAgICAgICAgICAgIHZhciBwb3B1cF9hMmY0OThmMzE0MWM0NmUxOGNiNjQzODY0OGZlZDM1MiA9IEwucG9wdXAoe21heFdpZHRoOiAnMzAwJ30pOwoKICAgICAgICAgICAgCiAgICAgICAgICAgICAgICB2YXIgaHRtbF81Nzc1MGY3MzQ4NGM0ZDIxYmQ4ZGZhMzkyMTJlZWIyNCA9ICQoJzxkaXYgaWQ9Imh0bWxfNTc3NTBmNzM0ODRjNGQyMWJkOGRmYTM5MjEyZWViMjQiIHN0eWxlPSJ3aWR0aDogMTAwLjAlOyBoZWlnaHQ6IDEwMC4wJTsiPlZpY3RvcmlhIFZpbGxhZ2UsIE5vcnRoIFlvcms8L2Rpdj4nKVswXTsKICAgICAgICAgICAgICAgIHBvcHVwX2EyZjQ5OGYzMTQxYzQ2ZTE4Y2I2NDM4NjQ4ZmVkMzUyLnNldENvbnRlbnQoaHRtbF81Nzc1MGY3MzQ4NGM0ZDIxYmQ4ZGZhMzkyMTJlZWIyNCk7CiAgICAgICAgICAgIAoKICAgICAgICAgICAgY2lyY2xlX21hcmtlcl8zZGU3ZTFiZDY0MGM0ZTcxYjYzODI2YWYxZmZmY2M2Ni5iaW5kUG9wdXAocG9wdXBfYTJmNDk4ZjMxNDFjNDZlMThjYjY0Mzg2NDhmZWQzNTIpOwoKICAgICAgICAgICAgCiAgICAgICAgCiAgICAKICAgICAgICAgICAgdmFyIGNpcmNsZV9tYXJrZXJfMzE5YTc3MDE3ZmNmNDNmZTlhZjQzMGVkYjRiMGIwMGEgPSBMLmNpcmNsZU1hcmtlcigKICAgICAgICAgICAgICAgIFs0My42NTQyNTk5LC03OS4zNjA2MzU5XSwKICAgICAgICAgICAgICAgIHsKICAiYnViYmxpbmdNb3VzZUV2ZW50cyI6IHRydWUsCiAgImNvbG9yIjogImJsdWUiLAogICJkYXNoQXJyYXkiOiBudWxsLAogICJkYXNoT2Zmc2V0IjogbnVsbCwKICAiZmlsbCI6IGZhbHNlLAogICJmaWxsQ29sb3IiOiAiIzMxODZjYyIsCiAgImZpbGxPcGFjaXR5IjogMC43LAogICJmaWxsUnVsZSI6ICJldmVub2RkIiwKICAibGluZUNhcCI6ICJyb3VuZCIsCiAgImxpbmVKb2luIjogInJvdW5kIiwKICAib3BhY2l0eSI6IDEuMCwKICAicmFkaXVzIjogNSwKICAic3Ryb2tlIjogdHJ1ZSwKICAid2VpZ2h0IjogMwp9CiAgICAgICAgICAgICAgICApLmFkZFRvKG1hcF83ZTQ1YmVlM2U3ZjY0NzI5OWFiOTljNjgxZGM0ZGUzNSk7CiAgICAgICAgICAgIAogICAgCiAgICAgICAgICAgIHZhciBwb3B1cF8yYWIzNmE4NWU5NTQ0NWViYjUzMjRkNDUwZTk3N2U2YSA9IEwucG9wdXAoe21heFdpZHRoOiAnMzAwJ30pOwoKICAgICAgICAgICAgCiAgICAgICAgICAgICAgICB2YXIgaHRtbF9iNDMzYjllM2Q5YWE0MTA4YjM3NmI1N2IzNGRjODMwMiA9ICQoJzxkaXYgaWQ9Imh0bWxfYjQzM2I5ZTNkOWFhNDEwOGIzNzZiNTdiMzRkYzgzMDIiIHN0eWxlPSJ3aWR0aDogMTAwLjAlOyBoZWlnaHQ6IDEwMC4wJTsiPlJlZ2VudCBQYXJrLCBIYXJib3VyZnJvbnQsIERvd250b3duIFRvcm9udG88L2Rpdj4nKVswXTsKICAgICAgICAgICAgICAgIHBvcHVwXzJhYjM2YTg1ZTk1NDQ1ZWJiNTMyNGQ0NTBlOTc3ZTZhLnNldENvbnRlbnQoaHRtbF9iNDMzYjllM2Q5YWE0MTA4YjM3NmI1N2IzNGRjODMwMik7CiAgICAgICAgICAgIAoKICAgICAgICAgICAgY2lyY2xlX21hcmtlcl8zMTlhNzcwMTdmY2Y0M2ZlOWFmNDMwZWRiNGIwYjAwYS5iaW5kUG9wdXAocG9wdXBfMmFiMzZhODVlOTU0NDVlYmI1MzI0ZDQ1MGU5NzdlNmEpOwoKICAgICAgICAgICAgCiAgICAgICAgCiAgICAKICAgICAgICAgICAgdmFyIGNpcmNsZV9tYXJrZXJfY2ZiNWFlZTkxYzE2NGNkYjkxOWY4YTJjMGM0ZGRmMzQgPSBMLmNpcmNsZU1hcmtlcigKICAgICAgICAgICAgICAgIFs0My43MTg1MTc5OTk5OTk5OTYsLTc5LjQ2NDc2MzI5OTk5OTk5XSwKICAgICAgICAgICAgICAgIHsKICAiYnViYmxpbmdNb3VzZUV2ZW50cyI6IHRydWUsCiAgImNvbG9yIjogImJsdWUiLAogICJkYXNoQXJyYXkiOiBudWxsLAogICJkYXNoT2Zmc2V0IjogbnVsbCwKICAiZmlsbCI6IGZhbHNlLAogICJmaWxsQ29sb3IiOiAiIzMxODZjYyIsCiAgImZpbGxPcGFjaXR5IjogMC43LAogICJmaWxsUnVsZSI6ICJldmVub2RkIiwKICAibGluZUNhcCI6ICJyb3VuZCIsCiAgImxpbmVKb2luIjogInJvdW5kIiwKICAib3BhY2l0eSI6IDEuMCwKICAicmFkaXVzIjogNSwKICAic3Ryb2tlIjogdHJ1ZSwKICAid2VpZ2h0IjogMwp9CiAgICAgICAgICAgICAgICApLmFkZFRvKG1hcF83ZTQ1YmVlM2U3ZjY0NzI5OWFiOTljNjgxZGM0ZGUzNSk7CiAgICAgICAgICAgIAogICAgCiAgICAgICAgICAgIHZhciBwb3B1cF84NWRkNTg4NDg2MGU0NmJlODk5NjQwYjU3ZWZmYWI5YyA9IEwucG9wdXAoe21heFdpZHRoOiAnMzAwJ30pOwoKICAgICAgICAgICAgCiAgICAgICAgICAgICAgICB2YXIgaHRtbF84ZWY2NjRkYTlhOTY0NTc2YmE2MzYxNWNmYjYxZWNjMiA9ICQoJzxkaXYgaWQ9Imh0bWxfOGVmNjY0ZGE5YTk2NDU3NmJhNjM2MTVjZmI2MWVjYzIiIHN0eWxlPSJ3aWR0aDogMTAwLjAlOyBoZWlnaHQ6IDEwMC4wJTsiPkxhd3JlbmNlIE1hbm9yLCBMYXdyZW5jZSBIZWlnaHRzLCBOb3J0aCBZb3JrPC9kaXY+JylbMF07CiAgICAgICAgICAgICAgICBwb3B1cF84NWRkNTg4NDg2MGU0NmJlODk5NjQwYjU3ZWZmYWI5Yy5zZXRDb250ZW50KGh0bWxfOGVmNjY0ZGE5YTk2NDU3NmJhNjM2MTVjZmI2MWVjYzIpOwogICAgICAgICAgICAKCiAgICAgICAgICAgIGNpcmNsZV9tYXJrZXJfY2ZiNWFlZTkxYzE2NGNkYjkxOWY4YTJjMGM0ZGRmMzQuYmluZFBvcHVwKHBvcHVwXzg1ZGQ1ODg0ODYwZTQ2YmU4OTk2NDBiNTdlZmZhYjljKTsKCiAgICAgICAgICAgIAogICAgICAgIAogICAgCiAgICAgICAgICAgIHZhciBjaXJjbGVfbWFya2VyX2FmZDM3NTk2YzJiODQ1ZTM5NjEwNWI3OGZkYmYzNjhiID0gTC5jaXJjbGVNYXJrZXIoCiAgICAgICAgICAgICAgICBbNDMuNjYyMzAxNSwtNzkuMzg5NDkzOF0sCiAgICAgICAgICAgICAgICB7CiAgImJ1YmJsaW5nTW91c2VFdmVudHMiOiB0cnVlLAogICJjb2xvciI6ICJibHVlIiwKICAiZGFzaEFycmF5IjogbnVsbCwKICAiZGFzaE9mZnNldCI6IG51bGwsCiAgImZpbGwiOiBmYWxzZSwKICAiZmlsbENvbG9yIjogIiMzMTg2Y2MiLAogICJmaWxsT3BhY2l0eSI6IDAuNywKICAiZmlsbFJ1bGUiOiAiZXZlbm9kZCIsCiAgImxpbmVDYXAiOiAicm91bmQiLAogICJsaW5lSm9pbiI6ICJyb3VuZCIsCiAgIm9wYWNpdHkiOiAxLjAsCiAgInJhZGl1cyI6IDUsCiAgInN0cm9rZSI6IHRydWUsCiAgIndlaWdodCI6IDMKfQogICAgICAgICAgICAgICAgKS5hZGRUbyhtYXBfN2U0NWJlZTNlN2Y2NDcyOTlhYjk5YzY4MWRjNGRlMzUpOwogICAgICAgICAgICAKICAgIAogICAgICAgICAgICB2YXIgcG9wdXBfMjM2Y2UxY2FlODMwNDk0ZTg1YjY4MWFhMjdjMDA4Y2YgPSBMLnBvcHVwKHttYXhXaWR0aDogJzMwMCd9KTsKCiAgICAgICAgICAgIAogICAgICAgICAgICAgICAgdmFyIGh0bWxfZGM4NDJhYTJiNzI1NDFkYzgwNmRmZTgzNmZiMDhkMDggPSAkKCc8ZGl2IGlkPSJodG1sX2RjODQyYWEyYjcyNTQxZGM4MDZkZmU4MzZmYjA4ZDA4IiBzdHlsZT0id2lkdGg6IDEwMC4wJTsgaGVpZ2h0OiAxMDAuMCU7Ij5RdWVlbiYjMzk7cyBQYXJrLCBPbnRhcmlvIFByb3ZpbmNpYWwgR292ZXJubWVudCwgRG93bnRvd24gVG9yb250bzwvZGl2PicpWzBdOwogICAgICAgICAgICAgICAgcG9wdXBfMjM2Y2UxY2FlODMwNDk0ZTg1YjY4MWFhMjdjMDA4Y2Yuc2V0Q29udGVudChodG1sX2RjODQyYWEyYjcyNTQxZGM4MDZkZmU4MzZmYjA4ZDA4KTsKICAgICAgICAgICAgCgogICAgICAgICAgICBjaXJjbGVfbWFya2VyX2FmZDM3NTk2YzJiODQ1ZTM5NjEwNWI3OGZkYmYzNjhiLmJpbmRQb3B1cChwb3B1cF8yMzZjZTFjYWU4MzA0OTRlODViNjgxYWEyN2MwMDhjZik7CgogICAgICAgICAgICAKICAgICAgICAKICAgIAogICAgICAgICAgICB2YXIgY2lyY2xlX21hcmtlcl9hZTRkMjcxMTE0NDQ0MzgxYTYxN2Q3ZjdlYjdhYzYyMSA9IEwuY2lyY2xlTWFya2VyKAogICAgICAgICAgICAgICAgWzQzLjY2Nzg1NTYsLTc5LjUzMjI0MjQwMDAwMDAyXSwKICAgICAgICAgICAgICAgIHsKICAiYnViYmxpbmdNb3VzZUV2ZW50cyI6IHRydWUsCiAgImNvbG9yIjogImJsdWUiLAogICJkYXNoQXJyYXkiOiBudWxsLAogICJkYXNoT2Zmc2V0IjogbnVsbCwKICAiZmlsbCI6IGZhbHNlLAogICJmaWxsQ29sb3IiOiAiIzMxODZjYyIsCiAgImZpbGxPcGFjaXR5IjogMC43LAogICJmaWxsUnVsZSI6ICJldmVub2RkIiwKICAibGluZUNhcCI6ICJyb3VuZCIsCiAgImxpbmVKb2luIjogInJvdW5kIiwKICAib3BhY2l0eSI6IDEuMCwKICAicmFkaXVzIjogNSwKICAic3Ryb2tlIjogdHJ1ZSwKICAid2VpZ2h0IjogMwp9CiAgICAgICAgICAgICAgICApLmFkZFRvKG1hcF83ZTQ1YmVlM2U3ZjY0NzI5OWFiOTljNjgxZGM0ZGUzNSk7CiAgICAgICAgICAgIAogICAgCiAgICAgICAgICAgIHZhciBwb3B1cF83OThjYTg4OTEwYjk0MDJkYjk3NTU1MTkwZjUwODg3YyA9IEwucG9wdXAoe21heFdpZHRoOiAnMzAwJ30pOwoKICAgICAgICAgICAgCiAgICAgICAgICAgICAgICB2YXIgaHRtbF9kMTZlYTUxNmNiNjc0MjRlOGY5N2M3YTEwMDViN2QzNyA9ICQoJzxkaXYgaWQ9Imh0bWxfZDE2ZWE1MTZjYjY3NDI0ZThmOTdjN2ExMDA1YjdkMzciIHN0eWxlPSJ3aWR0aDogMTAwLjAlOyBoZWlnaHQ6IDEwMC4wJTsiPklzbGluZ3RvbiBBdmVudWUsIEh1bWJlciBWYWxsZXkgVmlsbGFnZSwgRXRvYmljb2tlPC9kaXY+JylbMF07CiAgICAgICAgICAgICAgICBwb3B1cF83OThjYTg4OTEwYjk0MDJkYjk3NTU1MTkwZjUwODg3Yy5zZXRDb250ZW50KGh0bWxfZDE2ZWE1MTZjYjY3NDI0ZThmOTdjN2ExMDA1YjdkMzcpOwogICAgICAgICAgICAKCiAgICAgICAgICAgIGNpcmNsZV9tYXJrZXJfYWU0ZDI3MTExNDQ0NDM4MWE2MTdkN2Y3ZWI3YWM2MjEuYmluZFBvcHVwKHBvcHVwXzc5OGNhODg5MTBiOTQwMmRiOTc1NTUxOTBmNTA4ODdjKTsKCiAgICAgICAgICAgIAogICAgICAgIAogICAgCiAgICAgICAgICAgIHZhciBjaXJjbGVfbWFya2VyX2Y1YTkyYjQyNGZkNTRlNDNhZTI4Y2RiZDg5MmJiMjJmID0gTC5jaXJjbGVNYXJrZXIoCiAgICAgICAgICAgICAgICBbNDMuODA2Njg2Mjk5OTk5OTk2LC03OS4xOTQzNTM0MDAwMDAwMV0sCiAgICAgICAgICAgICAgICB7CiAgImJ1YmJsaW5nTW91c2VFdmVudHMiOiB0cnVlLAogICJjb2xvciI6ICJibHVlIiwKICAiZGFzaEFycmF5IjogbnVsbCwKICAiZGFzaE9mZnNldCI6IG51bGwsCiAgImZpbGwiOiBmYWxzZSwKICAiZmlsbENvbG9yIjogIiMzMTg2Y2MiLAogICJmaWxsT3BhY2l0eSI6IDAuNywKICAiZmlsbFJ1bGUiOiAiZXZlbm9kZCIsCiAgImxpbmVDYXAiOiAicm91bmQiLAogICJsaW5lSm9pbiI6ICJyb3VuZCIsCiAgIm9wYWNpdHkiOiAxLjAsCiAgInJhZGl1cyI6IDUsCiAgInN0cm9rZSI6IHRydWUsCiAgIndlaWdodCI6IDMKfQogICAgICAgICAgICAgICAgKS5hZGRUbyhtYXBfN2U0NWJlZTNlN2Y2NDcyOTlhYjk5YzY4MWRjNGRlMzUpOwogICAgICAgICAgICAKICAgIAogICAgICAgICAgICB2YXIgcG9wdXBfNmIzZjgwZDAyYjA1NGZmNmI5ODMwMTdkN2RiMmJjMDYgPSBMLnBvcHVwKHttYXhXaWR0aDogJzMwMCd9KTsKCiAgICAgICAgICAgIAogICAgICAgICAgICAgICAgdmFyIGh0bWxfMmE0YzI5MzBmYjA5NDQ1NWFmMTY4YmU2NTI5YTI3ZDQgPSAkKCc8ZGl2IGlkPSJodG1sXzJhNGMyOTMwZmIwOTQ0NTVhZjE2OGJlNjUyOWEyN2Q0IiBzdHlsZT0id2lkdGg6IDEwMC4wJTsgaGVpZ2h0OiAxMDAuMCU7Ij5NYWx2ZXJuLCBSb3VnZSwgU2NhcmJvcm91Z2g8L2Rpdj4nKVswXTsKICAgICAgICAgICAgICAgIHBvcHVwXzZiM2Y4MGQwMmIwNTRmZjZiOTgzMDE3ZDdkYjJiYzA2LnNldENvbnRlbnQoaHRtbF8yYTRjMjkzMGZiMDk0NDU1YWYxNjhiZTY1MjlhMjdkNCk7CiAgICAgICAgICAgIAoKICAgICAgICAgICAgY2lyY2xlX21hcmtlcl9mNWE5MmI0MjRmZDU0ZTQzYWUyOGNkYmQ4OTJiYjIyZi5iaW5kUG9wdXAocG9wdXBfNmIzZjgwZDAyYjA1NGZmNmI5ODMwMTdkN2RiMmJjMDYpOwoKICAgICAgICAgICAgCiAgICAgICAgCiAgICAKICAgICAgICAgICAgdmFyIGNpcmNsZV9tYXJrZXJfY2I3ZWI3NGMyZDhhNGJkNGE2ZjIzMGQ4YmJkNjQ2MzcgPSBMLmNpcmNsZU1hcmtlcigKICAgICAgICAgICAgICAgIFs0My43NDU5MDU3OTk5OTk5OTYsLTc5LjM1MjE4OF0sCiAgICAgICAgICAgICAgICB7CiAgImJ1YmJsaW5nTW91c2VFdmVudHMiOiB0cnVlLAogICJjb2xvciI6ICJibHVlIiwKICAiZGFzaEFycmF5IjogbnVsbCwKICAiZGFzaE9mZnNldCI6IG51bGwsCiAgImZpbGwiOiBmYWxzZSwKICAiZmlsbENvbG9yIjogIiMzMTg2Y2MiLAogICJmaWxsT3BhY2l0eSI6IDAuNywKICAiZmlsbFJ1bGUiOiAiZXZlbm9kZCIsCiAgImxpbmVDYXAiOiAicm91bmQiLAogICJsaW5lSm9pbiI6ICJyb3VuZCIsCiAgIm9wYWNpdHkiOiAxLjAsCiAgInJhZGl1cyI6IDUsCiAgInN0cm9rZSI6IHRydWUsCiAgIndlaWdodCI6IDMKfQogICAgICAgICAgICAgICAgKS5hZGRUbyhtYXBfN2U0NWJlZTNlN2Y2NDcyOTlhYjk5YzY4MWRjNGRlMzUpOwogICAgICAgICAgICAKICAgIAogICAgICAgICAgICB2YXIgcG9wdXBfNmM3NWI4ZjhjMTNlNGFmZDg5N2Q0MDdhOWJjYmNlMjEgPSBMLnBvcHVwKHttYXhXaWR0aDogJzMwMCd9KTsKCiAgICAgICAgICAgIAogICAgICAgICAgICAgICAgdmFyIGh0bWxfNTU0NjZlMGM2ZDY1NGI3YmE2NzJlMTVjZmRkYjY4ZmMgPSAkKCc8ZGl2IGlkPSJodG1sXzU1NDY2ZTBjNmQ2NTRiN2JhNjcyZTE1Y2ZkZGI2OGZjIiBzdHlsZT0id2lkdGg6IDEwMC4wJTsgaGVpZ2h0OiAxMDAuMCU7Ij5Eb24gTWlsbHMsIE5vcnRoIFlvcms8L2Rpdj4nKVswXTsKICAgICAgICAgICAgICAgIHBvcHVwXzZjNzViOGY4YzEzZTRhZmQ4OTdkNDA3YTliY2JjZTIxLnNldENvbnRlbnQoaHRtbF81NTQ2NmUwYzZkNjU0YjdiYTY3MmUxNWNmZGRiNjhmYyk7CiAgICAgICAgICAgIAoKICAgICAgICAgICAgY2lyY2xlX21hcmtlcl9jYjdlYjc0YzJkOGE0YmQ0YTZmMjMwZDhiYmQ2NDYzNy5iaW5kUG9wdXAocG9wdXBfNmM3NWI4ZjhjMTNlNGFmZDg5N2Q0MDdhOWJjYmNlMjEpOwoKICAgICAgICAgICAgCiAgICAgICAgCiAgICAKICAgICAgICAgICAgdmFyIGNpcmNsZV9tYXJrZXJfNDNhNjkwNzc2OGZiNDIyOGIyNjdmODg5MjA4NjA5YzAgPSBMLmNpcmNsZU1hcmtlcigKICAgICAgICAgICAgICAgIFs0My43MDYzOTcyLC03OS4zMDk5MzddLAogICAgICAgICAgICAgICAgewogICJidWJibGluZ01vdXNlRXZlbnRzIjogdHJ1ZSwKICAiY29sb3IiOiAiYmx1ZSIsCiAgImRhc2hBcnJheSI6IG51bGwsCiAgImRhc2hPZmZzZXQiOiBudWxsLAogICJmaWxsIjogZmFsc2UsCiAgImZpbGxDb2xvciI6ICIjMzE4NmNjIiwKICAiZmlsbE9wYWNpdHkiOiAwLjcsCiAgImZpbGxSdWxlIjogImV2ZW5vZGQiLAogICJsaW5lQ2FwIjogInJvdW5kIiwKICAibGluZUpvaW4iOiAicm91bmQiLAogICJvcGFjaXR5IjogMS4wLAogICJyYWRpdXMiOiA1LAogICJzdHJva2UiOiB0cnVlLAogICJ3ZWlnaHQiOiAzCn0KICAgICAgICAgICAgICAgICkuYWRkVG8obWFwXzdlNDViZWUzZTdmNjQ3Mjk5YWI5OWM2ODFkYzRkZTM1KTsKICAgICAgICAgICAgCiAgICAKICAgICAgICAgICAgdmFyIHBvcHVwXzA0YzgyM2I0MWJmZjQ4MjQ5ODU1YWEzMzAxZDhlMmMzID0gTC5wb3B1cCh7bWF4V2lkdGg6ICczMDAnfSk7CgogICAgICAgICAgICAKICAgICAgICAgICAgICAgIHZhciBodG1sXzYxMTQ1Zjk5YmE1ZDQ5ZTc4YWYxMzk3Y2Y2ZTEzNTczID0gJCgnPGRpdiBpZD0iaHRtbF82MTE0NWY5OWJhNWQ0OWU3OGFmMTM5N2NmNmUxMzU3MyIgc3R5bGU9IndpZHRoOiAxMDAuMCU7IGhlaWdodDogMTAwLjAlOyI+UGFya3ZpZXcgSGlsbCwgV29vZGJpbmUgR2FyZGVucywgRWFzdCBZb3JrPC9kaXY+JylbMF07CiAgICAgICAgICAgICAgICBwb3B1cF8wNGM4MjNiNDFiZmY0ODI0OTg1NWFhMzMwMWQ4ZTJjMy5zZXRDb250ZW50KGh0bWxfNjExNDVmOTliYTVkNDllNzhhZjEzOTdjZjZlMTM1NzMpOwogICAgICAgICAgICAKCiAgICAgICAgICAgIGNpcmNsZV9tYXJrZXJfNDNhNjkwNzc2OGZiNDIyOGIyNjdmODg5MjA4NjA5YzAuYmluZFBvcHVwKHBvcHVwXzA0YzgyM2I0MWJmZjQ4MjQ5ODU1YWEzMzAxZDhlMmMzKTsKCiAgICAgICAgICAgIAogICAgICAgIAogICAgCiAgICAgICAgICAgIHZhciBjaXJjbGVfbWFya2VyX2M2MGIyOGNjMmY3NTRkZDNhN2ZjYzg0MDVmNDc0NjBjID0gTC5jaXJjbGVNYXJrZXIoCiAgICAgICAgICAgICAgICBbNDMuNjU3MTYxOCwtNzkuMzc4OTM3MDk5OTk5OTldLAogICAgICAgICAgICAgICAgewogICJidWJibGluZ01vdXNlRXZlbnRzIjogdHJ1ZSwKICAiY29sb3IiOiAiYmx1ZSIsCiAgImRhc2hBcnJheSI6IG51bGwsCiAgImRhc2hPZmZzZXQiOiBudWxsLAogICJmaWxsIjogZmFsc2UsCiAgImZpbGxDb2xvciI6ICIjMzE4NmNjIiwKICAiZmlsbE9wYWNpdHkiOiAwLjcsCiAgImZpbGxSdWxlIjogImV2ZW5vZGQiLAogICJsaW5lQ2FwIjogInJvdW5kIiwKICAibGluZUpvaW4iOiAicm91bmQiLAogICJvcGFjaXR5IjogMS4wLAogICJyYWRpdXMiOiA1LAogICJzdHJva2UiOiB0cnVlLAogICJ3ZWlnaHQiOiAzCn0KICAgICAgICAgICAgICAgICkuYWRkVG8obWFwXzdlNDViZWUzZTdmNjQ3Mjk5YWI5OWM2ODFkYzRkZTM1KTsKICAgICAgICAgICAgCiAgICAKICAgICAgICAgICAgdmFyIHBvcHVwX2RjYjVhMWEyYzg5NzRhN2Q5OTFjNmNjZDEwMzE4ZWRjID0gTC5wb3B1cCh7bWF4V2lkdGg6ICczMDAnfSk7CgogICAgICAgICAgICAKICAgICAgICAgICAgICAgIHZhciBodG1sXzU5NTNiY2E4ZGEwMDRjMTI4Y2UzOTM5NjkwOTlmNjFlID0gJCgnPGRpdiBpZD0iaHRtbF81OTUzYmNhOGRhMDA0YzEyOGNlMzkzOTY5MDk5ZjYxZSIgc3R5bGU9IndpZHRoOiAxMDAuMCU7IGhlaWdodDogMTAwLjAlOyI+R2FyZGVuIERpc3RyaWN0LCBSeWVyc29uLCBEb3dudG93biBUb3JvbnRvPC9kaXY+JylbMF07CiAgICAgICAgICAgICAgICBwb3B1cF9kY2I1YTFhMmM4OTc0YTdkOTkxYzZjY2QxMDMxOGVkYy5zZXRDb250ZW50KGh0bWxfNTk1M2JjYThkYTAwNGMxMjhjZTM5Mzk2OTA5OWY2MWUpOwogICAgICAgICAgICAKCiAgICAgICAgICAgIGNpcmNsZV9tYXJrZXJfYzYwYjI4Y2MyZjc1NGRkM2E3ZmNjODQwNWY0NzQ2MGMuYmluZFBvcHVwKHBvcHVwX2RjYjVhMWEyYzg5NzRhN2Q5OTFjNmNjZDEwMzE4ZWRjKTsKCiAgICAgICAgICAgIAogICAgICAgIAogICAgCiAgICAgICAgICAgIHZhciBjaXJjbGVfbWFya2VyXzQ0ZGVmOTk0MTliYTRhZjNiNDZjYjNjNjUzNzBjM2U0ID0gTC5jaXJjbGVNYXJrZXIoCiAgICAgICAgICAgICAgICBbNDMuNzA5NTc3LC03OS40NDUwNzI1OTk5OTk5OV0sCiAgICAgICAgICAgICAgICB7CiAgImJ1YmJsaW5nTW91c2VFdmVudHMiOiB0cnVlLAogICJjb2xvciI6ICJibHVlIiwKICAiZGFzaEFycmF5IjogbnVsbCwKICAiZGFzaE9mZnNldCI6IG51bGwsCiAgImZpbGwiOiBmYWxzZSwKICAiZmlsbENvbG9yIjogIiMzMTg2Y2MiLAogICJmaWxsT3BhY2l0eSI6IDAuNywKICAiZmlsbFJ1bGUiOiAiZXZlbm9kZCIsCiAgImxpbmVDYXAiOiAicm91bmQiLAogICJsaW5lSm9pbiI6ICJyb3VuZCIsCiAgIm9wYWNpdHkiOiAxLjAsCiAgInJhZGl1cyI6IDUsCiAgInN0cm9rZSI6IHRydWUsCiAgIndlaWdodCI6IDMKfQogICAgICAgICAgICAgICAgKS5hZGRUbyhtYXBfN2U0NWJlZTNlN2Y2NDcyOTlhYjk5YzY4MWRjNGRlMzUpOwogICAgICAgICAgICAKICAgIAogICAgICAgICAgICB2YXIgcG9wdXBfMjY1YzQ4MmY3ZTk0NDM3OWI3Yzc4YWZhYTc3ODNkYzcgPSBMLnBvcHVwKHttYXhXaWR0aDogJzMwMCd9KTsKCiAgICAgICAgICAgIAogICAgICAgICAgICAgICAgdmFyIGh0bWxfMWU0MDg1NTNiNzE0NGQ2MTgzNmQyOWFjM2JhYmY4YjQgPSAkKCc8ZGl2IGlkPSJodG1sXzFlNDA4NTUzYjcxNDRkNjE4MzZkMjlhYzNiYWJmOGI0IiBzdHlsZT0id2lkdGg6IDEwMC4wJTsgaGVpZ2h0OiAxMDAuMCU7Ij5HbGVuY2Fpcm4sIE5vcnRoIFlvcms8L2Rpdj4nKVswXTsKICAgICAgICAgICAgICAgIHBvcHVwXzI2NWM0ODJmN2U5NDQzNzliN2M3OGFmYWE3NzgzZGM3LnNldENvbnRlbnQoaHRtbF8xZTQwODU1M2I3MTQ0ZDYxODM2ZDI5YWMzYmFiZjhiNCk7CiAgICAgICAgICAgIAoKICAgICAgICAgICAgY2lyY2xlX21hcmtlcl80NGRlZjk5NDE5YmE0YWYzYjQ2Y2IzYzY1MzcwYzNlNC5iaW5kUG9wdXAocG9wdXBfMjY1YzQ4MmY3ZTk0NDM3OWI3Yzc4YWZhYTc3ODNkYzcpOwoKICAgICAgICAgICAgCiAgICAgICAgCiAgICAKICAgICAgICAgICAgdmFyIGNpcmNsZV9tYXJrZXJfZmNhNWM3MGZmMGFjNGI4MGEzMzcwZDI2ZDFmYmQzYzMgPSBMLmNpcmNsZU1hcmtlcigKICAgICAgICAgICAgICAgIFs0My42NTA5NDMyLC03OS41NTQ3MjQ0MDAwMDAwMV0sCiAgICAgICAgICAgICAgICB7CiAgImJ1YmJsaW5nTW91c2VFdmVudHMiOiB0cnVlLAogICJjb2xvciI6ICJibHVlIiwKICAiZGFzaEFycmF5IjogbnVsbCwKICAiZGFzaE9mZnNldCI6IG51bGwsCiAgImZpbGwiOiBmYWxzZSwKICAiZmlsbENvbG9yIjogIiMzMTg2Y2MiLAogICJmaWxsT3BhY2l0eSI6IDAuNywKICAiZmlsbFJ1bGUiOiAiZXZlbm9kZCIsCiAgImxpbmVDYXAiOiAicm91bmQiLAogICJsaW5lSm9pbiI6ICJyb3VuZCIsCiAgIm9wYWNpdHkiOiAxLjAsCiAgInJhZGl1cyI6IDUsCiAgInN0cm9rZSI6IHRydWUsCiAgIndlaWdodCI6IDMKfQogICAgICAgICAgICAgICAgKS5hZGRUbyhtYXBfN2U0NWJlZTNlN2Y2NDcyOTlhYjk5YzY4MWRjNGRlMzUpOwogICAgICAgICAgICAKICAgIAogICAgICAgICAgICB2YXIgcG9wdXBfYzAyODRhZGMwNTczNGQxMWI5M2YyODhlNzEzODcxOGMgPSBMLnBvcHVwKHttYXhXaWR0aDogJzMwMCd9KTsKCiAgICAgICAgICAgIAogICAgICAgICAgICAgICAgdmFyIGh0bWxfZWNiMWIyOTBlYTFmNDZkZDkwZjNlMzQ1NjgzOGZhN2IgPSAkKCc8ZGl2IGlkPSJodG1sX2VjYjFiMjkwZWExZjQ2ZGQ5MGYzZTM0NTY4MzhmYTdiIiBzdHlsZT0id2lkdGg6IDEwMC4wJTsgaGVpZ2h0OiAxMDAuMCU7Ij5XZXN0IERlYW5lIFBhcmssIFByaW5jZXNzIEdhcmRlbnMsIE1hcnRpbiBHcm92ZSwgSXNsaW5ndG9uLCBDbG92ZXJkYWxlLCBFdG9iaWNva2U8L2Rpdj4nKVswXTsKICAgICAgICAgICAgICAgIHBvcHVwX2MwMjg0YWRjMDU3MzRkMTFiOTNmMjg4ZTcxMzg3MThjLnNldENvbnRlbnQoaHRtbF9lY2IxYjI5MGVhMWY0NmRkOTBmM2UzNDU2ODM4ZmE3Yik7CiAgICAgICAgICAgIAoKICAgICAgICAgICAgY2lyY2xlX21hcmtlcl9mY2E1YzcwZmYwYWM0YjgwYTMzNzBkMjZkMWZiZDNjMy5iaW5kUG9wdXAocG9wdXBfYzAyODRhZGMwNTczNGQxMWI5M2YyODhlNzEzODcxOGMpOwoKICAgICAgICAgICAgCiAgICAgICAgCiAgICAKICAgICAgICAgICAgdmFyIGNpcmNsZV9tYXJrZXJfZjhkZjNmNDA1ZGZiNGU5M2JmODY5YWE0MTA4M2U5YzMgPSBMLmNpcmNsZU1hcmtlcigKICAgICAgICAgICAgICAgIFs0My43ODQ1MzUxLC03OS4xNjA0OTcwOTk5OTk5OV0sCiAgICAgICAgICAgICAgICB7CiAgImJ1YmJsaW5nTW91c2VFdmVudHMiOiB0cnVlLAogICJjb2xvciI6ICJibHVlIiwKICAiZGFzaEFycmF5IjogbnVsbCwKICAiZGFzaE9mZnNldCI6IG51bGwsCiAgImZpbGwiOiBmYWxzZSwKICAiZmlsbENvbG9yIjogIiMzMTg2Y2MiLAogICJmaWxsT3BhY2l0eSI6IDAuNywKICAiZmlsbFJ1bGUiOiAiZXZlbm9kZCIsCiAgImxpbmVDYXAiOiAicm91bmQiLAogICJsaW5lSm9pbiI6ICJyb3VuZCIsCiAgIm9wYWNpdHkiOiAxLjAsCiAgInJhZGl1cyI6IDUsCiAgInN0cm9rZSI6IHRydWUsCiAgIndlaWdodCI6IDMKfQogICAgICAgICAgICAgICAgKS5hZGRUbyhtYXBfN2U0NWJlZTNlN2Y2NDcyOTlhYjk5YzY4MWRjNGRlMzUpOwogICAgICAgICAgICAKICAgIAogICAgICAgICAgICB2YXIgcG9wdXBfYzRlNmYxZDQ2ODkzNDk0Zjg3Yjg3NzU2MzE4YWJmNTAgPSBMLnBvcHVwKHttYXhXaWR0aDogJzMwMCd9KTsKCiAgICAgICAgICAgIAogICAgICAgICAgICAgICAgdmFyIGh0bWxfOWRmMDAzYzY4OTBlNGY4N2ExNjdjOGY3MGQwMmIxZTIgPSAkKCc8ZGl2IGlkPSJodG1sXzlkZjAwM2M2ODkwZTRmODdhMTY3YzhmNzBkMDJiMWUyIiBzdHlsZT0id2lkdGg6IDEwMC4wJTsgaGVpZ2h0OiAxMDAuMCU7Ij5Sb3VnZSBIaWxsLCBQb3J0IFVuaW9uLCBIaWdobGFuZCBDcmVlaywgU2NhcmJvcm91Z2g8L2Rpdj4nKVswXTsKICAgICAgICAgICAgICAgIHBvcHVwX2M0ZTZmMWQ0Njg5MzQ5NGY4N2I4Nzc1NjMxOGFiZjUwLnNldENvbnRlbnQoaHRtbF85ZGYwMDNjNjg5MGU0Zjg3YTE2N2M4ZjcwZDAyYjFlMik7CiAgICAgICAgICAgIAoKICAgICAgICAgICAgY2lyY2xlX21hcmtlcl9mOGRmM2Y0MDVkZmI0ZTkzYmY4NjlhYTQxMDgzZTljMy5iaW5kUG9wdXAocG9wdXBfYzRlNmYxZDQ2ODkzNDk0Zjg3Yjg3NzU2MzE4YWJmNTApOwoKICAgICAgICAgICAgCiAgICAgICAgCiAgICAKICAgICAgICAgICAgdmFyIGNpcmNsZV9tYXJrZXJfZmZkMWEyZjZmNzJlNDA4ZmE2NWY2MjljYTVlN2U1NDMgPSBMLmNpcmNsZU1hcmtlcigKICAgICAgICAgICAgICAgIFs0My43MjU4OTk3MDAwMDAwMSwtNzkuMzQwOTIzXSwKICAgICAgICAgICAgICAgIHsKICAiYnViYmxpbmdNb3VzZUV2ZW50cyI6IHRydWUsCiAgImNvbG9yIjogImJsdWUiLAogICJkYXNoQXJyYXkiOiBudWxsLAogICJkYXNoT2Zmc2V0IjogbnVsbCwKICAiZmlsbCI6IGZhbHNlLAogICJmaWxsQ29sb3IiOiAiIzMxODZjYyIsCiAgImZpbGxPcGFjaXR5IjogMC43LAogICJmaWxsUnVsZSI6ICJldmVub2RkIiwKICAibGluZUNhcCI6ICJyb3VuZCIsCiAgImxpbmVKb2luIjogInJvdW5kIiwKICAib3BhY2l0eSI6IDEuMCwKICAicmFkaXVzIjogNSwKICAic3Ryb2tlIjogdHJ1ZSwKICAid2VpZ2h0IjogMwp9CiAgICAgICAgICAgICAgICApLmFkZFRvKG1hcF83ZTQ1YmVlM2U3ZjY0NzI5OWFiOTljNjgxZGM0ZGUzNSk7CiAgICAgICAgICAgIAogICAgCiAgICAgICAgICAgIHZhciBwb3B1cF81MDQxYjg4NmJhNjQ0MWNiOTU2ZWY4MDBjZTQ1OGM4ZiA9IEwucG9wdXAoe21heFdpZHRoOiAnMzAwJ30pOwoKICAgICAgICAgICAgCiAgICAgICAgICAgICAgICB2YXIgaHRtbF85NmUxNWFkNTNlNWE0NTdiYjhmYTRiMDBmZTkyZmVmZiA9ICQoJzxkaXYgaWQ9Imh0bWxfOTZlMTVhZDUzZTVhNDU3YmI4ZmE0YjAwZmU5MmZlZmYiIHN0eWxlPSJ3aWR0aDogMTAwLjAlOyBoZWlnaHQ6IDEwMC4wJTsiPkRvbiBNaWxscywgTm9ydGggWW9yazwvZGl2PicpWzBdOwogICAgICAgICAgICAgICAgcG9wdXBfNTA0MWI4ODZiYTY0NDFjYjk1NmVmODAwY2U0NThjOGYuc2V0Q29udGVudChodG1sXzk2ZTE1YWQ1M2U1YTQ1N2JiOGZhNGIwMGZlOTJmZWZmKTsKICAgICAgICAgICAgCgogICAgICAgICAgICBjaXJjbGVfbWFya2VyX2ZmZDFhMmY2ZjcyZTQwOGZhNjVmNjI5Y2E1ZTdlNTQzLmJpbmRQb3B1cChwb3B1cF81MDQxYjg4NmJhNjQ0MWNiOTU2ZWY4MDBjZTQ1OGM4Zik7CgogICAgICAgICAgICAKICAgICAgICAKICAgIAogICAgICAgICAgICB2YXIgY2lyY2xlX21hcmtlcl8wYzBkMTg5NThhMDU0OGUxYjA4MTJiYTEyMWJiZTE0MyA9IEwuY2lyY2xlTWFya2VyKAogICAgICAgICAgICAgICAgWzQzLjY5NTM0MzkwMDAwMDAwNSwtNzkuMzE4Mzg4N10sCiAgICAgICAgICAgICAgICB7CiAgImJ1YmJsaW5nTW91c2VFdmVudHMiOiB0cnVlLAogICJjb2xvciI6ICJibHVlIiwKICAiZGFzaEFycmF5IjogbnVsbCwKICAiZGFzaE9mZnNldCI6IG51bGwsCiAgImZpbGwiOiBmYWxzZSwKICAiZmlsbENvbG9yIjogIiMzMTg2Y2MiLAogICJmaWxsT3BhY2l0eSI6IDAuNywKICAiZmlsbFJ1bGUiOiAiZXZlbm9kZCIsCiAgImxpbmVDYXAiOiAicm91bmQiLAogICJsaW5lSm9pbiI6ICJyb3VuZCIsCiAgIm9wYWNpdHkiOiAxLjAsCiAgInJhZGl1cyI6IDUsCiAgInN0cm9rZSI6IHRydWUsCiAgIndlaWdodCI6IDMKfQogICAgICAgICAgICAgICAgKS5hZGRUbyhtYXBfN2U0NWJlZTNlN2Y2NDcyOTlhYjk5YzY4MWRjNGRlMzUpOwogICAgICAgICAgICAKICAgIAogICAgICAgICAgICB2YXIgcG9wdXBfMGM2MzgyMmFmOWYwNGE2Mjk1ZmYxNTVjZTVkYjQ1YjUgPSBMLnBvcHVwKHttYXhXaWR0aDogJzMwMCd9KTsKCiAgICAgICAgICAgIAogICAgICAgICAgICAgICAgdmFyIGh0bWxfMDg4ZTcxMjEyYTM2NDdmN2EyMzk5NDZhOWEwOGI2ODQgPSAkKCc8ZGl2IGlkPSJodG1sXzA4OGU3MTIxMmEzNjQ3ZjdhMjM5OTQ2YTlhMDhiNjg0IiBzdHlsZT0id2lkdGg6IDEwMC4wJTsgaGVpZ2h0OiAxMDAuMCU7Ij5Xb29kYmluZSBIZWlnaHRzLCBFYXN0IFlvcms8L2Rpdj4nKVswXTsKICAgICAgICAgICAgICAgIHBvcHVwXzBjNjM4MjJhZjlmMDRhNjI5NWZmMTU1Y2U1ZGI0NWI1LnNldENvbnRlbnQoaHRtbF8wODhlNzEyMTJhMzY0N2Y3YTIzOTk0NmE5YTA4YjY4NCk7CiAgICAgICAgICAgIAoKICAgICAgICAgICAgY2lyY2xlX21hcmtlcl8wYzBkMTg5NThhMDU0OGUxYjA4MTJiYTEyMWJiZTE0My5iaW5kUG9wdXAocG9wdXBfMGM2MzgyMmFmOWYwNGE2Mjk1ZmYxNTVjZTVkYjQ1YjUpOwoKICAgICAgICAgICAgCiAgICAgICAgCiAgICAKICAgICAgICAgICAgdmFyIGNpcmNsZV9tYXJrZXJfZTkxNmZjM2QyODg4NDQ0NTk0ZGFhNTdkNWNmMDRhOWIgPSBMLmNpcmNsZU1hcmtlcigKICAgICAgICAgICAgICAgIFs0My42NTE0OTM5LC03OS4zNzU0MTc5XSwKICAgICAgICAgICAgICAgIHsKICAiYnViYmxpbmdNb3VzZUV2ZW50cyI6IHRydWUsCiAgImNvbG9yIjogImJsdWUiLAogICJkYXNoQXJyYXkiOiBudWxsLAogICJkYXNoT2Zmc2V0IjogbnVsbCwKICAiZmlsbCI6IGZhbHNlLAogICJmaWxsQ29sb3IiOiAiIzMxODZjYyIsCiAgImZpbGxPcGFjaXR5IjogMC43LAogICJmaWxsUnVsZSI6ICJldmVub2RkIiwKICAibGluZUNhcCI6ICJyb3VuZCIsCiAgImxpbmVKb2luIjogInJvdW5kIiwKICAib3BhY2l0eSI6IDEuMCwKICAicmFkaXVzIjogNSwKICAic3Ryb2tlIjogdHJ1ZSwKICAid2VpZ2h0IjogMwp9CiAgICAgICAgICAgICAgICApLmFkZFRvKG1hcF83ZTQ1YmVlM2U3ZjY0NzI5OWFiOTljNjgxZGM0ZGUzNSk7CiAgICAgICAgICAgIAogICAgCiAgICAgICAgICAgIHZhciBwb3B1cF81Mjg2MGM2MDY3MmU0MWNjOTRiNzYxY2I3ZmM2MDQ5NCA9IEwucG9wdXAoe21heFdpZHRoOiAnMzAwJ30pOwoKICAgICAgICAgICAgCiAgICAgICAgICAgICAgICB2YXIgaHRtbF82OTZiMGNhZWUxOTM0MmVhYTliMjMzYjE4NTg4NjEwMyA9ICQoJzxkaXYgaWQ9Imh0bWxfNjk2YjBjYWVlMTkzNDJlYWE5YjIzM2IxODU4ODYxMDMiIHN0eWxlPSJ3aWR0aDogMTAwLjAlOyBoZWlnaHQ6IDEwMC4wJTsiPlN0LiBKYW1lcyBUb3duLCBEb3dudG93biBUb3JvbnRvPC9kaXY+JylbMF07CiAgICAgICAgICAgICAgICBwb3B1cF81Mjg2MGM2MDY3MmU0MWNjOTRiNzYxY2I3ZmM2MDQ5NC5zZXRDb250ZW50KGh0bWxfNjk2YjBjYWVlMTkzNDJlYWE5YjIzM2IxODU4ODYxMDMpOwogICAgICAgICAgICAKCiAgICAgICAgICAgIGNpcmNsZV9tYXJrZXJfZTkxNmZjM2QyODg4NDQ0NTk0ZGFhNTdkNWNmMDRhOWIuYmluZFBvcHVwKHBvcHVwXzUyODYwYzYwNjcyZTQxY2M5NGI3NjFjYjdmYzYwNDk0KTsKCiAgICAgICAgICAgIAogICAgICAgIAogICAgCiAgICAgICAgICAgIHZhciBjaXJjbGVfbWFya2VyXzkyNDhjNzQxYTdlYTQxN2Q4MThhNTg2YTk2NDI4ZTg0ID0gTC5jaXJjbGVNYXJrZXIoCiAgICAgICAgICAgICAgICBbNDMuNjkzNzgxMywtNzkuNDI4MTkxNDAwMDAwMDJdLAogICAgICAgICAgICAgICAgewogICJidWJibGluZ01vdXNlRXZlbnRzIjogdHJ1ZSwKICAiY29sb3IiOiAiYmx1ZSIsCiAgImRhc2hBcnJheSI6IG51bGwsCiAgImRhc2hPZmZzZXQiOiBudWxsLAogICJmaWxsIjogZmFsc2UsCiAgImZpbGxDb2xvciI6ICIjMzE4NmNjIiwKICAiZmlsbE9wYWNpdHkiOiAwLjcsCiAgImZpbGxSdWxlIjogImV2ZW5vZGQiLAogICJsaW5lQ2FwIjogInJvdW5kIiwKICAibGluZUpvaW4iOiAicm91bmQiLAogICJvcGFjaXR5IjogMS4wLAogICJyYWRpdXMiOiA1LAogICJzdHJva2UiOiB0cnVlLAogICJ3ZWlnaHQiOiAzCn0KICAgICAgICAgICAgICAgICkuYWRkVG8obWFwXzdlNDViZWUzZTdmNjQ3Mjk5YWI5OWM2ODFkYzRkZTM1KTsKICAgICAgICAgICAgCiAgICAKICAgICAgICAgICAgdmFyIHBvcHVwXzFhZjA0NTY0ZmM4OTRmNjRhYjQxOTY5ZTVhNzcyOGI2ID0gTC5wb3B1cCh7bWF4V2lkdGg6ICczMDAnfSk7CgogICAgICAgICAgICAKICAgICAgICAgICAgICAgIHZhciBodG1sXzllNTM4YzNiNGEwOTQzZmE5MmNmMGUxNWE2M2M5M2ExID0gJCgnPGRpdiBpZD0iaHRtbF85ZTUzOGMzYjRhMDk0M2ZhOTJjZjBlMTVhNjNjOTNhMSIgc3R5bGU9IndpZHRoOiAxMDAuMCU7IGhlaWdodDogMTAwLjAlOyI+SHVtZXdvb2QtQ2VkYXJ2YWxlLCBZb3JrPC9kaXY+JylbMF07CiAgICAgICAgICAgICAgICBwb3B1cF8xYWYwNDU2NGZjODk0ZjY0YWI0MTk2OWU1YTc3MjhiNi5zZXRDb250ZW50KGh0bWxfOWU1MzhjM2I0YTA5NDNmYTkyY2YwZTE1YTYzYzkzYTEpOwogICAgICAgICAgICAKCiAgICAgICAgICAgIGNpcmNsZV9tYXJrZXJfOTI0OGM3NDFhN2VhNDE3ZDgxOGE1ODZhOTY0MjhlODQuYmluZFBvcHVwKHBvcHVwXzFhZjA0NTY0ZmM4OTRmNjRhYjQxOTY5ZTVhNzcyOGI2KTsKCiAgICAgICAgICAgIAogICAgICAgIAogICAgCiAgICAgICAgICAgIHZhciBjaXJjbGVfbWFya2VyX2JjN2YxZGNjYTI1YjQ5ODc4MDA3MGExM2M1Yzk3ZWNhID0gTC5jaXJjbGVNYXJrZXIoCiAgICAgICAgICAgICAgICBbNDMuNjQzNTE1MiwtNzkuNTc3MjAwNzk5OTk5OTldLAogICAgICAgICAgICAgICAgewogICJidWJibGluZ01vdXNlRXZlbnRzIjogdHJ1ZSwKICAiY29sb3IiOiAiYmx1ZSIsCiAgImRhc2hBcnJheSI6IG51bGwsCiAgImRhc2hPZmZzZXQiOiBudWxsLAogICJmaWxsIjogZmFsc2UsCiAgImZpbGxDb2xvciI6ICIjMzE4NmNjIiwKICAiZmlsbE9wYWNpdHkiOiAwLjcsCiAgImZpbGxSdWxlIjogImV2ZW5vZGQiLAogICJsaW5lQ2FwIjogInJvdW5kIiwKICAibGluZUpvaW4iOiAicm91bmQiLAogICJvcGFjaXR5IjogMS4wLAogICJyYWRpdXMiOiA1LAogICJzdHJva2UiOiB0cnVlLAogICJ3ZWlnaHQiOiAzCn0KICAgICAgICAgICAgICAgICkuYWRkVG8obWFwXzdlNDViZWUzZTdmNjQ3Mjk5YWI5OWM2ODFkYzRkZTM1KTsKICAgICAgICAgICAgCiAgICAKICAgICAgICAgICAgdmFyIHBvcHVwXzM0Mzc2NjViZTZmMzQ4NzdhYzUwZjFjZDYxM2Y2YmE2ID0gTC5wb3B1cCh7bWF4V2lkdGg6ICczMDAnfSk7CgogICAgICAgICAgICAKICAgICAgICAgICAgICAgIHZhciBodG1sX2NhOWRjYjg5MTI3NDRhY2E5YjRmNDIzYjgzNTQ3ZjNkID0gJCgnPGRpdiBpZD0iaHRtbF9jYTlkY2I4OTEyNzQ0YWNhOWI0ZjQyM2I4MzU0N2YzZCIgc3R5bGU9IndpZHRoOiAxMDAuMCU7IGhlaWdodDogMTAwLjAlOyI+RXJpbmdhdGUsIEJsb29yZGFsZSBHYXJkZW5zLCBPbGQgQnVybmhhbXRob3JwZSwgTWFya2xhbmQgV29vZCwgRXRvYmljb2tlPC9kaXY+JylbMF07CiAgICAgICAgICAgICAgICBwb3B1cF8zNDM3NjY1YmU2ZjM0ODc3YWM1MGYxY2Q2MTNmNmJhNi5zZXRDb250ZW50KGh0bWxfY2E5ZGNiODkxMjc0NGFjYTliNGY0MjNiODM1NDdmM2QpOwogICAgICAgICAgICAKCiAgICAgICAgICAgIGNpcmNsZV9tYXJrZXJfYmM3ZjFkY2NhMjViNDk4NzgwMDcwYTEzYzVjOTdlY2EuYmluZFBvcHVwKHBvcHVwXzM0Mzc2NjViZTZmMzQ4NzdhYzUwZjFjZDYxM2Y2YmE2KTsKCiAgICAgICAgICAgIAogICAgICAgIAogICAgCiAgICAgICAgICAgIHZhciBjaXJjbGVfbWFya2VyXzI3ZGU3ZTBhODU5NDQwOGQ5ZjdhMzgxYjBmMjAzZGM3ID0gTC5jaXJjbGVNYXJrZXIoCiAgICAgICAgICAgICAgICBbNDMuNzYzNTcyNiwtNzkuMTg4NzExNV0sCiAgICAgICAgICAgICAgICB7CiAgImJ1YmJsaW5nTW91c2VFdmVudHMiOiB0cnVlLAogICJjb2xvciI6ICJibHVlIiwKICAiZGFzaEFycmF5IjogbnVsbCwKICAiZGFzaE9mZnNldCI6IG51bGwsCiAgImZpbGwiOiBmYWxzZSwKICAiZmlsbENvbG9yIjogIiMzMTg2Y2MiLAogICJmaWxsT3BhY2l0eSI6IDAuNywKICAiZmlsbFJ1bGUiOiAiZXZlbm9kZCIsCiAgImxpbmVDYXAiOiAicm91bmQiLAogICJsaW5lSm9pbiI6ICJyb3VuZCIsCiAgIm9wYWNpdHkiOiAxLjAsCiAgInJhZGl1cyI6IDUsCiAgInN0cm9rZSI6IHRydWUsCiAgIndlaWdodCI6IDMKfQogICAgICAgICAgICAgICAgKS5hZGRUbyhtYXBfN2U0NWJlZTNlN2Y2NDcyOTlhYjk5YzY4MWRjNGRlMzUpOwogICAgICAgICAgICAKICAgIAogICAgICAgICAgICB2YXIgcG9wdXBfZDVjN2I1MjQxNmJhNGQ3MmEzMDIyYzhlMTMzMjQxZWIgPSBMLnBvcHVwKHttYXhXaWR0aDogJzMwMCd9KTsKCiAgICAgICAgICAgIAogICAgICAgICAgICAgICAgdmFyIGh0bWxfNmUzYzllOTBmY2RmNGY4ZGFjNzMyMTEwYzYzOWRhNTAgPSAkKCc8ZGl2IGlkPSJodG1sXzZlM2M5ZTkwZmNkZjRmOGRhYzczMjExMGM2MzlkYTUwIiBzdHlsZT0id2lkdGg6IDEwMC4wJTsgaGVpZ2h0OiAxMDAuMCU7Ij5HdWlsZHdvb2QsIE1vcm5pbmdzaWRlLCBXZXN0IEhpbGwsIFNjYXJib3JvdWdoPC9kaXY+JylbMF07CiAgICAgICAgICAgICAgICBwb3B1cF9kNWM3YjUyNDE2YmE0ZDcyYTMwMjJjOGUxMzMyNDFlYi5zZXRDb250ZW50KGh0bWxfNmUzYzllOTBmY2RmNGY4ZGFjNzMyMTEwYzYzOWRhNTApOwogICAgICAgICAgICAKCiAgICAgICAgICAgIGNpcmNsZV9tYXJrZXJfMjdkZTdlMGE4NTk0NDA4ZDlmN2EzODFiMGYyMDNkYzcuYmluZFBvcHVwKHBvcHVwX2Q1YzdiNTI0MTZiYTRkNzJhMzAyMmM4ZTEzMzI0MWViKTsKCiAgICAgICAgICAgIAogICAgICAgIAogICAgCiAgICAgICAgICAgIHZhciBjaXJjbGVfbWFya2VyXzY0MWFmYzQ4YjQ0OTQ4Yjk5MDBlNWZiMjdhZjZmOTQ5ID0gTC5jaXJjbGVNYXJrZXIoCiAgICAgICAgICAgICAgICBbNDMuNjc2MzU3Mzk5OTk5OTksLTc5LjI5MzAzMTJdLAogICAgICAgICAgICAgICAgewogICJidWJibGluZ01vdXNlRXZlbnRzIjogdHJ1ZSwKICAiY29sb3IiOiAiYmx1ZSIsCiAgImRhc2hBcnJheSI6IG51bGwsCiAgImRhc2hPZmZzZXQiOiBudWxsLAogICJmaWxsIjogZmFsc2UsCiAgImZpbGxDb2xvciI6ICIjMzE4NmNjIiwKICAiZmlsbE9wYWNpdHkiOiAwLjcsCiAgImZpbGxSdWxlIjogImV2ZW5vZGQiLAogICJsaW5lQ2FwIjogInJvdW5kIiwKICAibGluZUpvaW4iOiAicm91bmQiLAogICJvcGFjaXR5IjogMS4wLAogICJyYWRpdXMiOiA1LAogICJzdHJva2UiOiB0cnVlLAogICJ3ZWlnaHQiOiAzCn0KICAgICAgICAgICAgICAgICkuYWRkVG8obWFwXzdlNDViZWUzZTdmNjQ3Mjk5YWI5OWM2ODFkYzRkZTM1KTsKICAgICAgICAgICAgCiAgICAKICAgICAgICAgICAgdmFyIHBvcHVwXzRlZjM2M2QxZTZhYjRjNjg4OTc0YWI1MGJmNzNmN2MwID0gTC5wb3B1cCh7bWF4V2lkdGg6ICczMDAnfSk7CgogICAgICAgICAgICAKICAgICAgICAgICAgICAgIHZhciBodG1sX2VkNDRlOWU4YTEzODQ2N2M5YjZlOTVkZjBhNGVmZGQ1ID0gJCgnPGRpdiBpZD0iaHRtbF9lZDQ0ZTllOGExMzg0NjdjOWI2ZTk1ZGYwYTRlZmRkNSIgc3R5bGU9IndpZHRoOiAxMDAuMCU7IGhlaWdodDogMTAwLjAlOyI+VGhlIEJlYWNoZXMsIEVhc3QgVG9yb250bzwvZGl2PicpWzBdOwogICAgICAgICAgICAgICAgcG9wdXBfNGVmMzYzZDFlNmFiNGM2ODg5NzRhYjUwYmY3M2Y3YzAuc2V0Q29udGVudChodG1sX2VkNDRlOWU4YTEzODQ2N2M5YjZlOTVkZjBhNGVmZGQ1KTsKICAgICAgICAgICAgCgogICAgICAgICAgICBjaXJjbGVfbWFya2VyXzY0MWFmYzQ4YjQ0OTQ4Yjk5MDBlNWZiMjdhZjZmOTQ5LmJpbmRQb3B1cChwb3B1cF80ZWYzNjNkMWU2YWI0YzY4ODk3NGFiNTBiZjczZjdjMCk7CgogICAgICAgICAgICAKICAgICAgICAKICAgIAogICAgICAgICAgICB2YXIgY2lyY2xlX21hcmtlcl80NmRlYmRmZTdjYmM0YzkzODliMTQ2ZjUyN2ZhMDQ2ZiA9IEwuY2lyY2xlTWFya2VyKAogICAgICAgICAgICAgICAgWzQzLjY0NDc3MDc5OTk5OTk5NiwtNzkuMzczMzA2NF0sCiAgICAgICAgICAgICAgICB7CiAgImJ1YmJsaW5nTW91c2VFdmVudHMiOiB0cnVlLAogICJjb2xvciI6ICJibHVlIiwKICAiZGFzaEFycmF5IjogbnVsbCwKICAiZGFzaE9mZnNldCI6IG51bGwsCiAgImZpbGwiOiBmYWxzZSwKICAiZmlsbENvbG9yIjogIiMzMTg2Y2MiLAogICJmaWxsT3BhY2l0eSI6IDAuNywKICAiZmlsbFJ1bGUiOiAiZXZlbm9kZCIsCiAgImxpbmVDYXAiOiAicm91bmQiLAogICJsaW5lSm9pbiI6ICJyb3VuZCIsCiAgIm9wYWNpdHkiOiAxLjAsCiAgInJhZGl1cyI6IDUsCiAgInN0cm9rZSI6IHRydWUsCiAgIndlaWdodCI6IDMKfQogICAgICAgICAgICAgICAgKS5hZGRUbyhtYXBfN2U0NWJlZTNlN2Y2NDcyOTlhYjk5YzY4MWRjNGRlMzUpOwogICAgICAgICAgICAKICAgIAogICAgICAgICAgICB2YXIgcG9wdXBfM2RlOTkyY2Q5NzQwNGM2ODhhNzU0YjZiZWUyZjhjNmQgPSBMLnBvcHVwKHttYXhXaWR0aDogJzMwMCd9KTsKCiAgICAgICAgICAgIAogICAgICAgICAgICAgICAgdmFyIGh0bWxfODJiNmQxYzhkNjNmNDFlMmJlNmZjNDkxZTZhMGJjZjUgPSAkKCc8ZGl2IGlkPSJodG1sXzgyYjZkMWM4ZDYzZjQxZTJiZTZmYzQ5MWU2YTBiY2Y1IiBzdHlsZT0id2lkdGg6IDEwMC4wJTsgaGVpZ2h0OiAxMDAuMCU7Ij5CZXJjenkgUGFyaywgRG93bnRvd24gVG9yb250bzwvZGl2PicpWzBdOwogICAgICAgICAgICAgICAgcG9wdXBfM2RlOTkyY2Q5NzQwNGM2ODhhNzU0YjZiZWUyZjhjNmQuc2V0Q29udGVudChodG1sXzgyYjZkMWM4ZDYzZjQxZTJiZTZmYzQ5MWU2YTBiY2Y1KTsKICAgICAgICAgICAgCgogICAgICAgICAgICBjaXJjbGVfbWFya2VyXzQ2ZGViZGZlN2NiYzRjOTM4OWIxNDZmNTI3ZmEwNDZmLmJpbmRQb3B1cChwb3B1cF8zZGU5OTJjZDk3NDA0YzY4OGE3NTRiNmJlZTJmOGM2ZCk7CgogICAgICAgICAgICAKICAgICAgICAKICAgIAogICAgICAgICAgICB2YXIgY2lyY2xlX21hcmtlcl85MTRkNjhlNTdlZTE0NDM1ODEwMDM3OWE2ZTEyOGVkMSA9IEwuY2lyY2xlTWFya2VyKAogICAgICAgICAgICAgICAgWzQzLjY4OTAyNTYsLTc5LjQ1MzUxMl0sCiAgICAgICAgICAgICAgICB7CiAgImJ1YmJsaW5nTW91c2VFdmVudHMiOiB0cnVlLAogICJjb2xvciI6ICJibHVlIiwKICAiZGFzaEFycmF5IjogbnVsbCwKICAiZGFzaE9mZnNldCI6IG51bGwsCiAgImZpbGwiOiBmYWxzZSwKICAiZmlsbENvbG9yIjogIiMzMTg2Y2MiLAogICJmaWxsT3BhY2l0eSI6IDAuNywKICAiZmlsbFJ1bGUiOiAiZXZlbm9kZCIsCiAgImxpbmVDYXAiOiAicm91bmQiLAogICJsaW5lSm9pbiI6ICJyb3VuZCIsCiAgIm9wYWNpdHkiOiAxLjAsCiAgInJhZGl1cyI6IDUsCiAgInN0cm9rZSI6IHRydWUsCiAgIndlaWdodCI6IDMKfQogICAgICAgICAgICAgICAgKS5hZGRUbyhtYXBfN2U0NWJlZTNlN2Y2NDcyOTlhYjk5YzY4MWRjNGRlMzUpOwogICAgICAgICAgICAKICAgIAogICAgICAgICAgICB2YXIgcG9wdXBfY2Q2Y2U4N2IzMWU1NDM5NGE4Y2E0Yzc4ZjIyZmFiYzAgPSBMLnBvcHVwKHttYXhXaWR0aDogJzMwMCd9KTsKCiAgICAgICAgICAgIAogICAgICAgICAgICAgICAgdmFyIGh0bWxfZjI0YmZjOTJkZGQ2NDgxMjk2OTZiNjQxMzI2YjZkMjAgPSAkKCc8ZGl2IGlkPSJodG1sX2YyNGJmYzkyZGRkNjQ4MTI5Njk2YjY0MTMyNmI2ZDIwIiBzdHlsZT0id2lkdGg6IDEwMC4wJTsgaGVpZ2h0OiAxMDAuMCU7Ij5DYWxlZG9uaWEtRmFpcmJhbmtzLCBZb3JrPC9kaXY+JylbMF07CiAgICAgICAgICAgICAgICBwb3B1cF9jZDZjZTg3YjMxZTU0Mzk0YThjYTRjNzhmMjJmYWJjMC5zZXRDb250ZW50KGh0bWxfZjI0YmZjOTJkZGQ2NDgxMjk2OTZiNjQxMzI2YjZkMjApOwogICAgICAgICAgICAKCiAgICAgICAgICAgIGNpcmNsZV9tYXJrZXJfOTE0ZDY4ZTU3ZWUxNDQzNTgxMDAzNzlhNmUxMjhlZDEuYmluZFBvcHVwKHBvcHVwX2NkNmNlODdiMzFlNTQzOTRhOGNhNGM3OGYyMmZhYmMwKTsKCiAgICAgICAgICAgIAogICAgICAgIAogICAgCiAgICAgICAgICAgIHZhciBjaXJjbGVfbWFya2VyXzgwZjNhNjJhMjZlMzRiM2NiZDZmYjM3OTRlZTRjNmU2ID0gTC5jaXJjbGVNYXJrZXIoCiAgICAgICAgICAgICAgICBbNDMuNzcwOTkyMSwtNzkuMjE2OTE3NDAwMDAwMDFdLAogICAgICAgICAgICAgICAgewogICJidWJibGluZ01vdXNlRXZlbnRzIjogdHJ1ZSwKICAiY29sb3IiOiAiYmx1ZSIsCiAgImRhc2hBcnJheSI6IG51bGwsCiAgImRhc2hPZmZzZXQiOiBudWxsLAogICJmaWxsIjogZmFsc2UsCiAgImZpbGxDb2xvciI6ICIjMzE4NmNjIiwKICAiZmlsbE9wYWNpdHkiOiAwLjcsCiAgImZpbGxSdWxlIjogImV2ZW5vZGQiLAogICJsaW5lQ2FwIjogInJvdW5kIiwKICAibGluZUpvaW4iOiAicm91bmQiLAogICJvcGFjaXR5IjogMS4wLAogICJyYWRpdXMiOiA1LAogICJzdHJva2UiOiB0cnVlLAogICJ3ZWlnaHQiOiAzCn0KICAgICAgICAgICAgICAgICkuYWRkVG8obWFwXzdlNDViZWUzZTdmNjQ3Mjk5YWI5OWM2ODFkYzRkZTM1KTsKICAgICAgICAgICAgCiAgICAKICAgICAgICAgICAgdmFyIHBvcHVwX2IwODljMzQyYzI5MjQ5M2NiM2UwNDg5ZjQzODAwMjNjID0gTC5wb3B1cCh7bWF4V2lkdGg6ICczMDAnfSk7CgogICAgICAgICAgICAKICAgICAgICAgICAgICAgIHZhciBodG1sXzllNzY5MTNkNWZkZTQyNjA5ZjRlODU0YmM1ZGFkYTg5ID0gJCgnPGRpdiBpZD0iaHRtbF85ZTc2OTEzZDVmZGU0MjYwOWY0ZTg1NGJjNWRhZGE4OSIgc3R5bGU9IndpZHRoOiAxMDAuMCU7IGhlaWdodDogMTAwLjAlOyI+V29idXJuLCBTY2FyYm9yb3VnaDwvZGl2PicpWzBdOwogICAgICAgICAgICAgICAgcG9wdXBfYjA4OWMzNDJjMjkyNDkzY2IzZTA0ODlmNDM4MDAyM2Muc2V0Q29udGVudChodG1sXzllNzY5MTNkNWZkZTQyNjA5ZjRlODU0YmM1ZGFkYTg5KTsKICAgICAgICAgICAgCgogICAgICAgICAgICBjaXJjbGVfbWFya2VyXzgwZjNhNjJhMjZlMzRiM2NiZDZmYjM3OTRlZTRjNmU2LmJpbmRQb3B1cChwb3B1cF9iMDg5YzM0MmMyOTI0OTNjYjNlMDQ4OWY0MzgwMDIzYyk7CgogICAgICAgICAgICAKICAgICAgICAKICAgIAogICAgICAgICAgICB2YXIgY2lyY2xlX21hcmtlcl80ZWUzOTg4NmFjM2Q0OWYwODE5MTg1ZWM4ZWI1NDIzMCA9IEwuY2lyY2xlTWFya2VyKAogICAgICAgICAgICAgICAgWzQzLjcwOTA2MDQsLTc5LjM2MzQ1MTddLAogICAgICAgICAgICAgICAgewogICJidWJibGluZ01vdXNlRXZlbnRzIjogdHJ1ZSwKICAiY29sb3IiOiAiYmx1ZSIsCiAgImRhc2hBcnJheSI6IG51bGwsCiAgImRhc2hPZmZzZXQiOiBudWxsLAogICJmaWxsIjogZmFsc2UsCiAgImZpbGxDb2xvciI6ICIjMzE4NmNjIiwKICAiZmlsbE9wYWNpdHkiOiAwLjcsCiAgImZpbGxSdWxlIjogImV2ZW5vZGQiLAogICJsaW5lQ2FwIjogInJvdW5kIiwKICAibGluZUpvaW4iOiAicm91bmQiLAogICJvcGFjaXR5IjogMS4wLAogICJyYWRpdXMiOiA1LAogICJzdHJva2UiOiB0cnVlLAogICJ3ZWlnaHQiOiAzCn0KICAgICAgICAgICAgICAgICkuYWRkVG8obWFwXzdlNDViZWUzZTdmNjQ3Mjk5YWI5OWM2ODFkYzRkZTM1KTsKICAgICAgICAgICAgCiAgICAKICAgICAgICAgICAgdmFyIHBvcHVwXzNjMzNlYzc5OGMzYTRhNjBhYTExNzkxMmNkMTU5NDJmID0gTC5wb3B1cCh7bWF4V2lkdGg6ICczMDAnfSk7CgogICAgICAgICAgICAKICAgICAgICAgICAgICAgIHZhciBodG1sXzc5ODEwZjk4MmIwMzQ5ZjU5ZDRlYzYyZTAxOTFjMDAzID0gJCgnPGRpdiBpZD0iaHRtbF83OTgxMGY5ODJiMDM0OWY1OWQ0ZWM2MmUwMTkxYzAwMyIgc3R5bGU9IndpZHRoOiAxMDAuMCU7IGhlaWdodDogMTAwLjAlOyI+TGVhc2lkZSwgRWFzdCBZb3JrPC9kaXY+JylbMF07CiAgICAgICAgICAgICAgICBwb3B1cF8zYzMzZWM3OThjM2E0YTYwYWExMTc5MTJjZDE1OTQyZi5zZXRDb250ZW50KGh0bWxfNzk4MTBmOTgyYjAzNDlmNTlkNGVjNjJlMDE5MWMwMDMpOwogICAgICAgICAgICAKCiAgICAgICAgICAgIGNpcmNsZV9tYXJrZXJfNGVlMzk4ODZhYzNkNDlmMDgxOTE4NWVjOGViNTQyMzAuYmluZFBvcHVwKHBvcHVwXzNjMzNlYzc5OGMzYTRhNjBhYTExNzkxMmNkMTU5NDJmKTsKCiAgICAgICAgICAgIAogICAgICAgIAogICAgCiAgICAgICAgICAgIHZhciBjaXJjbGVfbWFya2VyXzVkMjU1MTJlM2QwODQwMGJhZmNkMDFhNjA3YjU2NTA2ID0gTC5jaXJjbGVNYXJrZXIoCiAgICAgICAgICAgICAgICBbNDMuNjU3OTUyNCwtNzkuMzg3MzgyNl0sCiAgICAgICAgICAgICAgICB7CiAgImJ1YmJsaW5nTW91c2VFdmVudHMiOiB0cnVlLAogICJjb2xvciI6ICJibHVlIiwKICAiZGFzaEFycmF5IjogbnVsbCwKICAiZGFzaE9mZnNldCI6IG51bGwsCiAgImZpbGwiOiBmYWxzZSwKICAiZmlsbENvbG9yIjogIiMzMTg2Y2MiLAogICJmaWxsT3BhY2l0eSI6IDAuNywKICAiZmlsbFJ1bGUiOiAiZXZlbm9kZCIsCiAgImxpbmVDYXAiOiAicm91bmQiLAogICJsaW5lSm9pbiI6ICJyb3VuZCIsCiAgIm9wYWNpdHkiOiAxLjAsCiAgInJhZGl1cyI6IDUsCiAgInN0cm9rZSI6IHRydWUsCiAgIndlaWdodCI6IDMKfQogICAgICAgICAgICAgICAgKS5hZGRUbyhtYXBfN2U0NWJlZTNlN2Y2NDcyOTlhYjk5YzY4MWRjNGRlMzUpOwogICAgICAgICAgICAKICAgIAogICAgICAgICAgICB2YXIgcG9wdXBfODE2ZjYwYzI0ODc4NDcwYjhiODMzZWI1MmY3NzIzNGMgPSBMLnBvcHVwKHttYXhXaWR0aDogJzMwMCd9KTsKCiAgICAgICAgICAgIAogICAgICAgICAgICAgICAgdmFyIGh0bWxfYjhkNDYxZGIwZDhjNGZkYzgzNzRkNDg3Zjc3MjUxNTcgPSAkKCc8ZGl2IGlkPSJodG1sX2I4ZDQ2MWRiMGQ4YzRmZGM4Mzc0ZDQ4N2Y3NzI1MTU3IiBzdHlsZT0id2lkdGg6IDEwMC4wJTsgaGVpZ2h0OiAxMDAuMCU7Ij5DZW50cmFsIEJheSBTdHJlZXQsIERvd250b3duIFRvcm9udG88L2Rpdj4nKVswXTsKICAgICAgICAgICAgICAgIHBvcHVwXzgxNmY2MGMyNDg3ODQ3MGI4YjgzM2ViNTJmNzcyMzRjLnNldENvbnRlbnQoaHRtbF9iOGQ0NjFkYjBkOGM0ZmRjODM3NGQ0ODdmNzcyNTE1Nyk7CiAgICAgICAgICAgIAoKICAgICAgICAgICAgY2lyY2xlX21hcmtlcl81ZDI1NTEyZTNkMDg0MDBiYWZjZDAxYTYwN2I1NjUwNi5iaW5kUG9wdXAocG9wdXBfODE2ZjYwYzI0ODc4NDcwYjhiODMzZWI1MmY3NzIzNGMpOwoKICAgICAgICAgICAgCiAgICAgICAgCiAgICAKICAgICAgICAgICAgdmFyIGNpcmNsZV9tYXJrZXJfZmIyNDRhYjZkMDVlNGVkODhiN2VlOGI2OWZkZGFhNWMgPSBMLmNpcmNsZU1hcmtlcigKICAgICAgICAgICAgICAgIFs0My42Njk1NDIsLTc5LjQyMjU2MzddLAogICAgICAgICAgICAgICAgewogICJidWJibGluZ01vdXNlRXZlbnRzIjogdHJ1ZSwKICAiY29sb3IiOiAiYmx1ZSIsCiAgImRhc2hBcnJheSI6IG51bGwsCiAgImRhc2hPZmZzZXQiOiBudWxsLAogICJmaWxsIjogZmFsc2UsCiAgImZpbGxDb2xvciI6ICIjMzE4NmNjIiwKICAiZmlsbE9wYWNpdHkiOiAwLjcsCiAgImZpbGxSdWxlIjogImV2ZW5vZGQiLAogICJsaW5lQ2FwIjogInJvdW5kIiwKICAibGluZUpvaW4iOiAicm91bmQiLAogICJvcGFjaXR5IjogMS4wLAogICJyYWRpdXMiOiA1LAogICJzdHJva2UiOiB0cnVlLAogICJ3ZWlnaHQiOiAzCn0KICAgICAgICAgICAgICAgICkuYWRkVG8obWFwXzdlNDViZWUzZTdmNjQ3Mjk5YWI5OWM2ODFkYzRkZTM1KTsKICAgICAgICAgICAgCiAgICAKICAgICAgICAgICAgdmFyIHBvcHVwXzBmYjhhMDA0OGEyNzQ0ZWY4NmM0NzgyYzFlODg0NWRmID0gTC5wb3B1cCh7bWF4V2lkdGg6ICczMDAnfSk7CgogICAgICAgICAgICAKICAgICAgICAgICAgICAgIHZhciBodG1sXzk5ODc5NTE0NTU2MjRjZWJiOTNkNWMxNzc5NGNmNGNlID0gJCgnPGRpdiBpZD0iaHRtbF85OTg3OTUxNDU1NjI0Y2ViYjkzZDVjMTc3OTRjZjRjZSIgc3R5bGU9IndpZHRoOiAxMDAuMCU7IGhlaWdodDogMTAwLjAlOyI+Q2hyaXN0aWUsIERvd250b3duIFRvcm9udG88L2Rpdj4nKVswXTsKICAgICAgICAgICAgICAgIHBvcHVwXzBmYjhhMDA0OGEyNzQ0ZWY4NmM0NzgyYzFlODg0NWRmLnNldENvbnRlbnQoaHRtbF85OTg3OTUxNDU1NjI0Y2ViYjkzZDVjMTc3OTRjZjRjZSk7CiAgICAgICAgICAgIAoKICAgICAgICAgICAgY2lyY2xlX21hcmtlcl9mYjI0NGFiNmQwNWU0ZWQ4OGI3ZWU4YjY5ZmRkYWE1Yy5iaW5kUG9wdXAocG9wdXBfMGZiOGEwMDQ4YTI3NDRlZjg2YzQ3ODJjMWU4ODQ1ZGYpOwoKICAgICAgICAgICAgCiAgICAgICAgCiAgICAKICAgICAgICAgICAgdmFyIGNpcmNsZV9tYXJrZXJfODQ1NmQ1MGIzM2UzNDBlZTk4NDcxZThiMjhiMTZkOWQgPSBMLmNpcmNsZU1hcmtlcigKICAgICAgICAgICAgICAgIFs0My43NzMxMzYsLTc5LjIzOTQ3NjA5OTk5OTk5XSwKICAgICAgICAgICAgICAgIHsKICAiYnViYmxpbmdNb3VzZUV2ZW50cyI6IHRydWUsCiAgImNvbG9yIjogImJsdWUiLAogICJkYXNoQXJyYXkiOiBudWxsLAogICJkYXNoT2Zmc2V0IjogbnVsbCwKICAiZmlsbCI6IGZhbHNlLAogICJmaWxsQ29sb3IiOiAiIzMxODZjYyIsCiAgImZpbGxPcGFjaXR5IjogMC43LAogICJmaWxsUnVsZSI6ICJldmVub2RkIiwKICAibGluZUNhcCI6ICJyb3VuZCIsCiAgImxpbmVKb2luIjogInJvdW5kIiwKICAib3BhY2l0eSI6IDEuMCwKICAicmFkaXVzIjogNSwKICAic3Ryb2tlIjogdHJ1ZSwKICAid2VpZ2h0IjogMwp9CiAgICAgICAgICAgICAgICApLmFkZFRvKG1hcF83ZTQ1YmVlM2U3ZjY0NzI5OWFiOTljNjgxZGM0ZGUzNSk7CiAgICAgICAgICAgIAogICAgCiAgICAgICAgICAgIHZhciBwb3B1cF85NDNlYzY3MmQwNDY0OWE5ODgxOGZkMGMzZjM1ODMyNSA9IEwucG9wdXAoe21heFdpZHRoOiAnMzAwJ30pOwoKICAgICAgICAgICAgCiAgICAgICAgICAgICAgICB2YXIgaHRtbF83OTY5YzdhY2QyMzA0YTNiYWJjMGFiMDJiODM1ZGFhOCA9ICQoJzxkaXYgaWQ9Imh0bWxfNzk2OWM3YWNkMjMwNGEzYmFiYzBhYjAyYjgzNWRhYTgiIHN0eWxlPSJ3aWR0aDogMTAwLjAlOyBoZWlnaHQ6IDEwMC4wJTsiPkNlZGFyYnJhZSwgU2NhcmJvcm91Z2g8L2Rpdj4nKVswXTsKICAgICAgICAgICAgICAgIHBvcHVwXzk0M2VjNjcyZDA0NjQ5YTk4ODE4ZmQwYzNmMzU4MzI1LnNldENvbnRlbnQoaHRtbF83OTY5YzdhY2QyMzA0YTNiYWJjMGFiMDJiODM1ZGFhOCk7CiAgICAgICAgICAgIAoKICAgICAgICAgICAgY2lyY2xlX21hcmtlcl84NDU2ZDUwYjMzZTM0MGVlOTg0NzFlOGIyOGIxNmQ5ZC5iaW5kUG9wdXAocG9wdXBfOTQzZWM2NzJkMDQ2NDlhOTg4MThmZDBjM2YzNTgzMjUpOwoKICAgICAgICAgICAgCiAgICAgICAgCiAgICAKICAgICAgICAgICAgdmFyIGNpcmNsZV9tYXJrZXJfYTU1NjA0YjMzOThjNGNhMDhmMmI1ZjdmODc4NTgxYzkgPSBMLmNpcmNsZU1hcmtlcigKICAgICAgICAgICAgICAgIFs0My44MDM3NjIyLC03OS4zNjM0NTE3XSwKICAgICAgICAgICAgICAgIHsKICAiYnViYmxpbmdNb3VzZUV2ZW50cyI6IHRydWUsCiAgImNvbG9yIjogImJsdWUiLAogICJkYXNoQXJyYXkiOiBudWxsLAogICJkYXNoT2Zmc2V0IjogbnVsbCwKICAiZmlsbCI6IGZhbHNlLAogICJmaWxsQ29sb3IiOiAiIzMxODZjYyIsCiAgImZpbGxPcGFjaXR5IjogMC43LAogICJmaWxsUnVsZSI6ICJldmVub2RkIiwKICAibGluZUNhcCI6ICJyb3VuZCIsCiAgImxpbmVKb2luIjogInJvdW5kIiwKICAib3BhY2l0eSI6IDEuMCwKICAicmFkaXVzIjogNSwKICAic3Ryb2tlIjogdHJ1ZSwKICAid2VpZ2h0IjogMwp9CiAgICAgICAgICAgICAgICApLmFkZFRvKG1hcF83ZTQ1YmVlM2U3ZjY0NzI5OWFiOTljNjgxZGM0ZGUzNSk7CiAgICAgICAgICAgIAogICAgCiAgICAgICAgICAgIHZhciBwb3B1cF9kMDc4ZGYzZmZjNjM0YjljYmI3YWIwY2E0NWM0ZTAxZiA9IEwucG9wdXAoe21heFdpZHRoOiAnMzAwJ30pOwoKICAgICAgICAgICAgCiAgICAgICAgICAgICAgICB2YXIgaHRtbF8yMDU3MzFkYTAwMTA0MmRmOWQ5MGJjZjZhZmU0NTgzOCA9ICQoJzxkaXYgaWQ9Imh0bWxfMjA1NzMxZGEwMDEwNDJkZjlkOTBiY2Y2YWZlNDU4MzgiIHN0eWxlPSJ3aWR0aDogMTAwLjAlOyBoZWlnaHQ6IDEwMC4wJTsiPkhpbGxjcmVzdCBWaWxsYWdlLCBOb3J0aCBZb3JrPC9kaXY+JylbMF07CiAgICAgICAgICAgICAgICBwb3B1cF9kMDc4ZGYzZmZjNjM0YjljYmI3YWIwY2E0NWM0ZTAxZi5zZXRDb250ZW50KGh0bWxfMjA1NzMxZGEwMDEwNDJkZjlkOTBiY2Y2YWZlNDU4MzgpOwogICAgICAgICAgICAKCiAgICAgICAgICAgIGNpcmNsZV9tYXJrZXJfYTU1NjA0YjMzOThjNGNhMDhmMmI1ZjdmODc4NTgxYzkuYmluZFBvcHVwKHBvcHVwX2QwNzhkZjNmZmM2MzRiOWNiYjdhYjBjYTQ1YzRlMDFmKTsKCiAgICAgICAgICAgIAogICAgICAgIAogICAgCiAgICAgICAgICAgIHZhciBjaXJjbGVfbWFya2VyX2FlYjgzZWQwYjZhYTRkNzg4NTg3ZWI1MGQ0OWNhMzZkID0gTC5jaXJjbGVNYXJrZXIoCiAgICAgICAgICAgICAgICBbNDMuNzU0MzI4MywtNzkuNDQyMjU5M10sCiAgICAgICAgICAgICAgICB7CiAgImJ1YmJsaW5nTW91c2VFdmVudHMiOiB0cnVlLAogICJjb2xvciI6ICJibHVlIiwKICAiZGFzaEFycmF5IjogbnVsbCwKICAiZGFzaE9mZnNldCI6IG51bGwsCiAgImZpbGwiOiBmYWxzZSwKICAiZmlsbENvbG9yIjogIiMzMTg2Y2MiLAogICJmaWxsT3BhY2l0eSI6IDAuNywKICAiZmlsbFJ1bGUiOiAiZXZlbm9kZCIsCiAgImxpbmVDYXAiOiAicm91bmQiLAogICJsaW5lSm9pbiI6ICJyb3VuZCIsCiAgIm9wYWNpdHkiOiAxLjAsCiAgInJhZGl1cyI6IDUsCiAgInN0cm9rZSI6IHRydWUsCiAgIndlaWdodCI6IDMKfQogICAgICAgICAgICAgICAgKS5hZGRUbyhtYXBfN2U0NWJlZTNlN2Y2NDcyOTlhYjk5YzY4MWRjNGRlMzUpOwogICAgICAgICAgICAKICAgIAogICAgICAgICAgICB2YXIgcG9wdXBfYzA2ZmJlMTU1YjAzNGYxMjk4MWM1NzllYThmYWM0YjkgPSBMLnBvcHVwKHttYXhXaWR0aDogJzMwMCd9KTsKCiAgICAgICAgICAgIAogICAgICAgICAgICAgICAgdmFyIGh0bWxfMTExOWJhZjNlMDQ2NGVkYTlmYmRiZDFkYzg5OTM0ZjYgPSAkKCc8ZGl2IGlkPSJodG1sXzExMTliYWYzZTA0NjRlZGE5ZmJkYmQxZGM4OTkzNGY2IiBzdHlsZT0id2lkdGg6IDEwMC4wJTsgaGVpZ2h0OiAxMDAuMCU7Ij5CYXRodXJzdCBNYW5vciwgV2lsc29uIEhlaWdodHMsIERvd25zdmlldyBOb3J0aCwgTm9ydGggWW9yazwvZGl2PicpWzBdOwogICAgICAgICAgICAgICAgcG9wdXBfYzA2ZmJlMTU1YjAzNGYxMjk4MWM1NzllYThmYWM0Yjkuc2V0Q29udGVudChodG1sXzExMTliYWYzZTA0NjRlZGE5ZmJkYmQxZGM4OTkzNGY2KTsKICAgICAgICAgICAgCgogICAgICAgICAgICBjaXJjbGVfbWFya2VyX2FlYjgzZWQwYjZhYTRkNzg4NTg3ZWI1MGQ0OWNhMzZkLmJpbmRQb3B1cChwb3B1cF9jMDZmYmUxNTViMDM0ZjEyOTgxYzU3OWVhOGZhYzRiOSk7CgogICAgICAgICAgICAKICAgICAgICAKICAgIAogICAgICAgICAgICB2YXIgY2lyY2xlX21hcmtlcl85YzE1OGNmMjlhZmQ0NmNlOGU5ZmQ2ZTQzYTRhMjEzOCA9IEwuY2lyY2xlTWFya2VyKAogICAgICAgICAgICAgICAgWzQzLjcwNTM2ODksLTc5LjM0OTM3MTkwMDAwMDAxXSwKICAgICAgICAgICAgICAgIHsKICAiYnViYmxpbmdNb3VzZUV2ZW50cyI6IHRydWUsCiAgImNvbG9yIjogImJsdWUiLAogICJkYXNoQXJyYXkiOiBudWxsLAogICJkYXNoT2Zmc2V0IjogbnVsbCwKICAiZmlsbCI6IGZhbHNlLAogICJmaWxsQ29sb3IiOiAiIzMxODZjYyIsCiAgImZpbGxPcGFjaXR5IjogMC43LAogICJmaWxsUnVsZSI6ICJldmVub2RkIiwKICAibGluZUNhcCI6ICJyb3VuZCIsCiAgImxpbmVKb2luIjogInJvdW5kIiwKICAib3BhY2l0eSI6IDEuMCwKICAicmFkaXVzIjogNSwKICAic3Ryb2tlIjogdHJ1ZSwKICAid2VpZ2h0IjogMwp9CiAgICAgICAgICAgICAgICApLmFkZFRvKG1hcF83ZTQ1YmVlM2U3ZjY0NzI5OWFiOTljNjgxZGM0ZGUzNSk7CiAgICAgICAgICAgIAogICAgCiAgICAgICAgICAgIHZhciBwb3B1cF83ZTIyNzQ0ZTFjZDk0MmRhODgxNzU2MzMxYTYzOWQ2YiA9IEwucG9wdXAoe21heFdpZHRoOiAnMzAwJ30pOwoKICAgICAgICAgICAgCiAgICAgICAgICAgICAgICB2YXIgaHRtbF9iNmQ4MjNhMzY1NmU0ZDkxOWZiNDU3ZDY5ZGVjMWE4ZSA9ICQoJzxkaXYgaWQ9Imh0bWxfYjZkODIzYTM2NTZlNGQ5MTlmYjQ1N2Q2OWRlYzFhOGUiIHN0eWxlPSJ3aWR0aDogMTAwLjAlOyBoZWlnaHQ6IDEwMC4wJTsiPlRob3JuY2xpZmZlIFBhcmssIEVhc3QgWW9yazwvZGl2PicpWzBdOwogICAgICAgICAgICAgICAgcG9wdXBfN2UyMjc0NGUxY2Q5NDJkYTg4MTc1NjMzMWE2MzlkNmIuc2V0Q29udGVudChodG1sX2I2ZDgyM2EzNjU2ZTRkOTE5ZmI0NTdkNjlkZWMxYThlKTsKICAgICAgICAgICAgCgogICAgICAgICAgICBjaXJjbGVfbWFya2VyXzljMTU4Y2YyOWFmZDQ2Y2U4ZTlmZDZlNDNhNGEyMTM4LmJpbmRQb3B1cChwb3B1cF83ZTIyNzQ0ZTFjZDk0MmRhODgxNzU2MzMxYTYzOWQ2Yik7CgogICAgICAgICAgICAKICAgICAgICAKICAgIAogICAgICAgICAgICB2YXIgY2lyY2xlX21hcmtlcl9mNmIxMDEzY2EzMmI0MzdiYjY3OTViNDE5MTI3NGU0ZSA9IEwuY2lyY2xlTWFya2VyKAogICAgICAgICAgICAgICAgWzQzLjY1MDU3MTIwMDAwMDAxLC03OS4zODQ1Njc1XSwKICAgICAgICAgICAgICAgIHsKICAiYnViYmxpbmdNb3VzZUV2ZW50cyI6IHRydWUsCiAgImNvbG9yIjogImJsdWUiLAogICJkYXNoQXJyYXkiOiBudWxsLAogICJkYXNoT2Zmc2V0IjogbnVsbCwKICAiZmlsbCI6IGZhbHNlLAogICJmaWxsQ29sb3IiOiAiIzMxODZjYyIsCiAgImZpbGxPcGFjaXR5IjogMC43LAogICJmaWxsUnVsZSI6ICJldmVub2RkIiwKICAibGluZUNhcCI6ICJyb3VuZCIsCiAgImxpbmVKb2luIjogInJvdW5kIiwKICAib3BhY2l0eSI6IDEuMCwKICAicmFkaXVzIjogNSwKICAic3Ryb2tlIjogdHJ1ZSwKICAid2VpZ2h0IjogMwp9CiAgICAgICAgICAgICAgICApLmFkZFRvKG1hcF83ZTQ1YmVlM2U3ZjY0NzI5OWFiOTljNjgxZGM0ZGUzNSk7CiAgICAgICAgICAgIAogICAgCiAgICAgICAgICAgIHZhciBwb3B1cF80ZTA2Mjc4YTVkNGQ0MDYyODZhMGZhN2FiZDk5MDYyYSA9IEwucG9wdXAoe21heFdpZHRoOiAnMzAwJ30pOwoKICAgICAgICAgICAgCiAgICAgICAgICAgICAgICB2YXIgaHRtbF9iNGJiYTM5YjQwN2E0Mjg3YTg2MTNmZmJhYzYwZmJjMCA9ICQoJzxkaXYgaWQ9Imh0bWxfYjRiYmEzOWI0MDdhNDI4N2E4NjEzZmZiYWM2MGZiYzAiIHN0eWxlPSJ3aWR0aDogMTAwLjAlOyBoZWlnaHQ6IDEwMC4wJTsiPlJpY2htb25kLCBBZGVsYWlkZSwgS2luZywgRG93bnRvd24gVG9yb250bzwvZGl2PicpWzBdOwogICAgICAgICAgICAgICAgcG9wdXBfNGUwNjI3OGE1ZDRkNDA2Mjg2YTBmYTdhYmQ5OTA2MmEuc2V0Q29udGVudChodG1sX2I0YmJhMzliNDA3YTQyODdhODYxM2ZmYmFjNjBmYmMwKTsKICAgICAgICAgICAgCgogICAgICAgICAgICBjaXJjbGVfbWFya2VyX2Y2YjEwMTNjYTMyYjQzN2JiNjc5NWI0MTkxMjc0ZTRlLmJpbmRQb3B1cChwb3B1cF80ZTA2Mjc4YTVkNGQ0MDYyODZhMGZhN2FiZDk5MDYyYSk7CgogICAgICAgICAgICAKICAgICAgICAKICAgIAogICAgICAgICAgICB2YXIgY2lyY2xlX21hcmtlcl85OGZlZGU0ZGQ1ZGM0MTBhYTg3MjIyZDEyYWYxZGI4ZSA9IEwuY2lyY2xlTWFya2VyKAogICAgICAgICAgICAgICAgWzQzLjY2OTAwNTEwMDAwMDAxLC03OS40NDIyNTkzXSwKICAgICAgICAgICAgICAgIHsKICAiYnViYmxpbmdNb3VzZUV2ZW50cyI6IHRydWUsCiAgImNvbG9yIjogImJsdWUiLAogICJkYXNoQXJyYXkiOiBudWxsLAogICJkYXNoT2Zmc2V0IjogbnVsbCwKICAiZmlsbCI6IGZhbHNlLAogICJmaWxsQ29sb3IiOiAiIzMxODZjYyIsCiAgImZpbGxPcGFjaXR5IjogMC43LAogICJmaWxsUnVsZSI6ICJldmVub2RkIiwKICAibGluZUNhcCI6ICJyb3VuZCIsCiAgImxpbmVKb2luIjogInJvdW5kIiwKICAib3BhY2l0eSI6IDEuMCwKICAicmFkaXVzIjogNSwKICAic3Ryb2tlIjogdHJ1ZSwKICAid2VpZ2h0IjogMwp9CiAgICAgICAgICAgICAgICApLmFkZFRvKG1hcF83ZTQ1YmVlM2U3ZjY0NzI5OWFiOTljNjgxZGM0ZGUzNSk7CiAgICAgICAgICAgIAogICAgCiAgICAgICAgICAgIHZhciBwb3B1cF81ZGY0Y2ZlOWZlYWQ0M2Y1Yjk5NmRlNmUzNmU0MzUyYSA9IEwucG9wdXAoe21heFdpZHRoOiAnMzAwJ30pOwoKICAgICAgICAgICAgCiAgICAgICAgICAgICAgICB2YXIgaHRtbF83NWM4OTQyODdkN2Q0M2IzYjRjYWJmZDkzZGJhYWZjOSA9ICQoJzxkaXYgaWQ9Imh0bWxfNzVjODk0Mjg3ZDdkNDNiM2I0Y2FiZmQ5M2RiYWFmYzkiIHN0eWxlPSJ3aWR0aDogMTAwLjAlOyBoZWlnaHQ6IDEwMC4wJTsiPkR1ZmZlcmluLCBEb3ZlcmNvdXJ0IFZpbGxhZ2UsIFdlc3QgVG9yb250bzwvZGl2PicpWzBdOwogICAgICAgICAgICAgICAgcG9wdXBfNWRmNGNmZTlmZWFkNDNmNWI5OTZkZTZlMzZlNDM1MmEuc2V0Q29udGVudChodG1sXzc1Yzg5NDI4N2Q3ZDQzYjNiNGNhYmZkOTNkYmFhZmM5KTsKICAgICAgICAgICAgCgogICAgICAgICAgICBjaXJjbGVfbWFya2VyXzk4ZmVkZTRkZDVkYzQxMGFhODcyMjJkMTJhZjFkYjhlLmJpbmRQb3B1cChwb3B1cF81ZGY0Y2ZlOWZlYWQ0M2Y1Yjk5NmRlNmUzNmU0MzUyYSk7CgogICAgICAgICAgICAKICAgICAgICAKICAgIAogICAgICAgICAgICB2YXIgY2lyY2xlX21hcmtlcl82N2VmODM2YjZjMTY0YzViYjM5MGRkM2YyNDEzOTEwNiA9IEwuY2lyY2xlTWFya2VyKAogICAgICAgICAgICAgICAgWzQzLjc0NDczNDIsLTc5LjIzOTQ3NjA5OTk5OTk5XSwKICAgICAgICAgICAgICAgIHsKICAiYnViYmxpbmdNb3VzZUV2ZW50cyI6IHRydWUsCiAgImNvbG9yIjogImJsdWUiLAogICJkYXNoQXJyYXkiOiBudWxsLAogICJkYXNoT2Zmc2V0IjogbnVsbCwKICAiZmlsbCI6IGZhbHNlLAogICJmaWxsQ29sb3IiOiAiIzMxODZjYyIsCiAgImZpbGxPcGFjaXR5IjogMC43LAogICJmaWxsUnVsZSI6ICJldmVub2RkIiwKICAibGluZUNhcCI6ICJyb3VuZCIsCiAgImxpbmVKb2luIjogInJvdW5kIiwKICAib3BhY2l0eSI6IDEuMCwKICAicmFkaXVzIjogNSwKICAic3Ryb2tlIjogdHJ1ZSwKICAid2VpZ2h0IjogMwp9CiAgICAgICAgICAgICAgICApLmFkZFRvKG1hcF83ZTQ1YmVlM2U3ZjY0NzI5OWFiOTljNjgxZGM0ZGUzNSk7CiAgICAgICAgICAgIAogICAgCiAgICAgICAgICAgIHZhciBwb3B1cF81NDBmYzM5NWJjMzU0ZDUwOGZiMGNmZTJkODQ2MGU5NyA9IEwucG9wdXAoe21heFdpZHRoOiAnMzAwJ30pOwoKICAgICAgICAgICAgCiAgICAgICAgICAgICAgICB2YXIgaHRtbF84OGNlYTA2NDdjNjc0MWM1YmExZjI0YzljNTljMDNiYiA9ICQoJzxkaXYgaWQ9Imh0bWxfODhjZWEwNjQ3YzY3NDFjNWJhMWYyNGM5YzU5YzAzYmIiIHN0eWxlPSJ3aWR0aDogMTAwLjAlOyBoZWlnaHQ6IDEwMC4wJTsiPlNjYXJib3JvdWdoIFZpbGxhZ2UsIFNjYXJib3JvdWdoPC9kaXY+JylbMF07CiAgICAgICAgICAgICAgICBwb3B1cF81NDBmYzM5NWJjMzU0ZDUwOGZiMGNmZTJkODQ2MGU5Ny5zZXRDb250ZW50KGh0bWxfODhjZWEwNjQ3YzY3NDFjNWJhMWYyNGM5YzU5YzAzYmIpOwogICAgICAgICAgICAKCiAgICAgICAgICAgIGNpcmNsZV9tYXJrZXJfNjdlZjgzNmI2YzE2NGM1YmIzOTBkZDNmMjQxMzkxMDYuYmluZFBvcHVwKHBvcHVwXzU0MGZjMzk1YmMzNTRkNTA4ZmIwY2ZlMmQ4NDYwZTk3KTsKCiAgICAgICAgICAgIAogICAgICAgIAogICAgCiAgICAgICAgICAgIHZhciBjaXJjbGVfbWFya2VyX2IwMGZlM2M2MDU4MjRiODM5MzQxZDY4OTY0MWRhZjY4ID0gTC5jaXJjbGVNYXJrZXIoCiAgICAgICAgICAgICAgICBbNDMuNzc4NTE3NSwtNzkuMzQ2NTU1N10sCiAgICAgICAgICAgICAgICB7CiAgImJ1YmJsaW5nTW91c2VFdmVudHMiOiB0cnVlLAogICJjb2xvciI6ICJibHVlIiwKICAiZGFzaEFycmF5IjogbnVsbCwKICAiZGFzaE9mZnNldCI6IG51bGwsCiAgImZpbGwiOiBmYWxzZSwKICAiZmlsbENvbG9yIjogIiMzMTg2Y2MiLAogICJmaWxsT3BhY2l0eSI6IDAuNywKICAiZmlsbFJ1bGUiOiAiZXZlbm9kZCIsCiAgImxpbmVDYXAiOiAicm91bmQiLAogICJsaW5lSm9pbiI6ICJyb3VuZCIsCiAgIm9wYWNpdHkiOiAxLjAsCiAgInJhZGl1cyI6IDUsCiAgInN0cm9rZSI6IHRydWUsCiAgIndlaWdodCI6IDMKfQogICAgICAgICAgICAgICAgKS5hZGRUbyhtYXBfN2U0NWJlZTNlN2Y2NDcyOTlhYjk5YzY4MWRjNGRlMzUpOwogICAgICAgICAgICAKICAgIAogICAgICAgICAgICB2YXIgcG9wdXBfNWRmY2M4YTJmMzdjNDc5Yzk0MjhhMTZkZjVhNmVmMzUgPSBMLnBvcHVwKHttYXhXaWR0aDogJzMwMCd9KTsKCiAgICAgICAgICAgIAogICAgICAgICAgICAgICAgdmFyIGh0bWxfOWU2NDA2MmFkNzcyNGJiYWJhYTNiZTM1MmI0ZDNkNTkgPSAkKCc8ZGl2IGlkPSJodG1sXzllNjQwNjJhZDc3MjRiYmFiYWEzYmUzNTJiNGQzZDU5IiBzdHlsZT0id2lkdGg6IDEwMC4wJTsgaGVpZ2h0OiAxMDAuMCU7Ij5GYWlydmlldywgSGVucnkgRmFybSwgT3Jpb2xlLCBOb3J0aCBZb3JrPC9kaXY+JylbMF07CiAgICAgICAgICAgICAgICBwb3B1cF81ZGZjYzhhMmYzN2M0NzljOTQyOGExNmRmNWE2ZWYzNS5zZXRDb250ZW50KGh0bWxfOWU2NDA2MmFkNzcyNGJiYWJhYTNiZTM1MmI0ZDNkNTkpOwogICAgICAgICAgICAKCiAgICAgICAgICAgIGNpcmNsZV9tYXJrZXJfYjAwZmUzYzYwNTgyNGI4MzkzNDFkNjg5NjQxZGFmNjguYmluZFBvcHVwKHBvcHVwXzVkZmNjOGEyZjM3YzQ3OWM5NDI4YTE2ZGY1YTZlZjM1KTsKCiAgICAgICAgICAgIAogICAgICAgIAogICAgCiAgICAgICAgICAgIHZhciBjaXJjbGVfbWFya2VyXzFmYzcwNTI3ODdjNTQ1ZmI4OGZhYzJmNTdmYTUwYjcwID0gTC5jaXJjbGVNYXJrZXIoCiAgICAgICAgICAgICAgICBbNDMuNzY3OTgwMywtNzkuNDg3MjYxOTAwMDAwMDFdLAogICAgICAgICAgICAgICAgewogICJidWJibGluZ01vdXNlRXZlbnRzIjogdHJ1ZSwKICAiY29sb3IiOiAiYmx1ZSIsCiAgImRhc2hBcnJheSI6IG51bGwsCiAgImRhc2hPZmZzZXQiOiBudWxsLAogICJmaWxsIjogZmFsc2UsCiAgImZpbGxDb2xvciI6ICIjMzE4NmNjIiwKICAiZmlsbE9wYWNpdHkiOiAwLjcsCiAgImZpbGxSdWxlIjogImV2ZW5vZGQiLAogICJsaW5lQ2FwIjogInJvdW5kIiwKICAibGluZUpvaW4iOiAicm91bmQiLAogICJvcGFjaXR5IjogMS4wLAogICJyYWRpdXMiOiA1LAogICJzdHJva2UiOiB0cnVlLAogICJ3ZWlnaHQiOiAzCn0KICAgICAgICAgICAgICAgICkuYWRkVG8obWFwXzdlNDViZWUzZTdmNjQ3Mjk5YWI5OWM2ODFkYzRkZTM1KTsKICAgICAgICAgICAgCiAgICAKICAgICAgICAgICAgdmFyIHBvcHVwX2UzZjAyMWU2NjA0YzRhOTdiNjUzMmE1OTE2OTUzYjVhID0gTC5wb3B1cCh7bWF4V2lkdGg6ICczMDAnfSk7CgogICAgICAgICAgICAKICAgICAgICAgICAgICAgIHZhciBodG1sX2ZhZDIwYTMxMzY4YjRlMDhhOTY1MDMyZWJkZjE0ZGZmID0gJCgnPGRpdiBpZD0iaHRtbF9mYWQyMGEzMTM2OGI0ZTA4YTk2NTAzMmViZGYxNGRmZiIgc3R5bGU9IndpZHRoOiAxMDAuMCU7IGhlaWdodDogMTAwLjAlOyI+Tm9ydGh3b29kIFBhcmssIFlvcmsgVW5pdmVyc2l0eSwgTm9ydGggWW9yazwvZGl2PicpWzBdOwogICAgICAgICAgICAgICAgcG9wdXBfZTNmMDIxZTY2MDRjNGE5N2I2NTMyYTU5MTY5NTNiNWEuc2V0Q29udGVudChodG1sX2ZhZDIwYTMxMzY4YjRlMDhhOTY1MDMyZWJkZjE0ZGZmKTsKICAgICAgICAgICAgCgogICAgICAgICAgICBjaXJjbGVfbWFya2VyXzFmYzcwNTI3ODdjNTQ1ZmI4OGZhYzJmNTdmYTUwYjcwLmJpbmRQb3B1cChwb3B1cF9lM2YwMjFlNjYwNGM0YTk3YjY1MzJhNTkxNjk1M2I1YSk7CgogICAgICAgICAgICAKICAgICAgICAKICAgIAogICAgICAgICAgICB2YXIgY2lyY2xlX21hcmtlcl9mYjg5NTU3NGJiY2M0NmUyODg2ZTdhNDAxOTU5ZGRiMCA9IEwuY2lyY2xlTWFya2VyKAogICAgICAgICAgICAgICAgWzQzLjY4NTM0NywtNzkuMzM4MTA2NV0sCiAgICAgICAgICAgICAgICB7CiAgImJ1YmJsaW5nTW91c2VFdmVudHMiOiB0cnVlLAogICJjb2xvciI6ICJibHVlIiwKICAiZGFzaEFycmF5IjogbnVsbCwKICAiZGFzaE9mZnNldCI6IG51bGwsCiAgImZpbGwiOiBmYWxzZSwKICAiZmlsbENvbG9yIjogIiMzMTg2Y2MiLAogICJmaWxsT3BhY2l0eSI6IDAuNywKICAiZmlsbFJ1bGUiOiAiZXZlbm9kZCIsCiAgImxpbmVDYXAiOiAicm91bmQiLAogICJsaW5lSm9pbiI6ICJyb3VuZCIsCiAgIm9wYWNpdHkiOiAxLjAsCiAgInJhZGl1cyI6IDUsCiAgInN0cm9rZSI6IHRydWUsCiAgIndlaWdodCI6IDMKfQogICAgICAgICAgICAgICAgKS5hZGRUbyhtYXBfN2U0NWJlZTNlN2Y2NDcyOTlhYjk5YzY4MWRjNGRlMzUpOwogICAgICAgICAgICAKICAgIAogICAgICAgICAgICB2YXIgcG9wdXBfMDcyODIyOGE2YjY3NDc4ZmExMDEzYTE4Mzc5YWFlZWQgPSBMLnBvcHVwKHttYXhXaWR0aDogJzMwMCd9KTsKCiAgICAgICAgICAgIAogICAgICAgICAgICAgICAgdmFyIGh0bWxfN2E1NjdiYjlmMTk1NDU4MzkwMzI5Y2Q4MmIwYTMzZTggPSAkKCc8ZGl2IGlkPSJodG1sXzdhNTY3YmI5ZjE5NTQ1ODM5MDMyOWNkODJiMGEzM2U4IiBzdHlsZT0id2lkdGg6IDEwMC4wJTsgaGVpZ2h0OiAxMDAuMCU7Ij5FYXN0IFRvcm9udG8sIEJyb2FkdmlldyBOb3J0aCAoT2xkIEVhc3QgWW9yayksIEVhc3QgWW9yazwvZGl2PicpWzBdOwogICAgICAgICAgICAgICAgcG9wdXBfMDcyODIyOGE2YjY3NDc4ZmExMDEzYTE4Mzc5YWFlZWQuc2V0Q29udGVudChodG1sXzdhNTY3YmI5ZjE5NTQ1ODM5MDMyOWNkODJiMGEzM2U4KTsKICAgICAgICAgICAgCgogICAgICAgICAgICBjaXJjbGVfbWFya2VyX2ZiODk1NTc0YmJjYzQ2ZTI4ODZlN2E0MDE5NTlkZGIwLmJpbmRQb3B1cChwb3B1cF8wNzI4MjI4YTZiNjc0NzhmYTEwMTNhMTgzNzlhYWVlZCk7CgogICAgICAgICAgICAKICAgICAgICAKICAgIAogICAgICAgICAgICB2YXIgY2lyY2xlX21hcmtlcl81MDhiNWI5MzRiOGE0NWE0OWViOTFiZDQ5MzFiODdhZiA9IEwuY2lyY2xlTWFya2VyKAogICAgICAgICAgICAgICAgWzQzLjY0MDgxNTcsLTc5LjM4MTc1MjI5OTk5OTk5XSwKICAgICAgICAgICAgICAgIHsKICAiYnViYmxpbmdNb3VzZUV2ZW50cyI6IHRydWUsCiAgImNvbG9yIjogImJsdWUiLAogICJkYXNoQXJyYXkiOiBudWxsLAogICJkYXNoT2Zmc2V0IjogbnVsbCwKICAiZmlsbCI6IGZhbHNlLAogICJmaWxsQ29sb3IiOiAiIzMxODZjYyIsCiAgImZpbGxPcGFjaXR5IjogMC43LAogICJmaWxsUnVsZSI6ICJldmVub2RkIiwKICAibGluZUNhcCI6ICJyb3VuZCIsCiAgImxpbmVKb2luIjogInJvdW5kIiwKICAib3BhY2l0eSI6IDEuMCwKICAicmFkaXVzIjogNSwKICAic3Ryb2tlIjogdHJ1ZSwKICAid2VpZ2h0IjogMwp9CiAgICAgICAgICAgICAgICApLmFkZFRvKG1hcF83ZTQ1YmVlM2U3ZjY0NzI5OWFiOTljNjgxZGM0ZGUzNSk7CiAgICAgICAgICAgIAogICAgCiAgICAgICAgICAgIHZhciBwb3B1cF9kODJhNDUwYWZkYjU0NzA5OWUzNjgzNWNhOGFlY2M4MSA9IEwucG9wdXAoe21heFdpZHRoOiAnMzAwJ30pOwoKICAgICAgICAgICAgCiAgICAgICAgICAgICAgICB2YXIgaHRtbF9kNmU4YWZjZTNkMTM0ZjFlYjQ0ZjRjMmY2Y2RmOTViMiA9ICQoJzxkaXYgaWQ9Imh0bWxfZDZlOGFmY2UzZDEzNGYxZWI0NGY0YzJmNmNkZjk1YjIiIHN0eWxlPSJ3aWR0aDogMTAwLjAlOyBoZWlnaHQ6IDEwMC4wJTsiPkhhcmJvdXJmcm9udCBFYXN0LCBVbmlvbiBTdGF0aW9uLCBUb3JvbnRvIElzbGFuZHMsIERvd250b3duIFRvcm9udG88L2Rpdj4nKVswXTsKICAgICAgICAgICAgICAgIHBvcHVwX2Q4MmE0NTBhZmRiNTQ3MDk5ZTM2ODM1Y2E4YWVjYzgxLnNldENvbnRlbnQoaHRtbF9kNmU4YWZjZTNkMTM0ZjFlYjQ0ZjRjMmY2Y2RmOTViMik7CiAgICAgICAgICAgIAoKICAgICAgICAgICAgY2lyY2xlX21hcmtlcl81MDhiNWI5MzRiOGE0NWE0OWViOTFiZDQ5MzFiODdhZi5iaW5kUG9wdXAocG9wdXBfZDgyYTQ1MGFmZGI1NDcwOTllMzY4MzVjYThhZWNjODEpOwoKICAgICAgICAgICAgCiAgICAgICAgCiAgICAKICAgICAgICAgICAgdmFyIGNpcmNsZV9tYXJrZXJfNmUxMjNjMmQyYzI4NDI4Yzg3OTA4NDFkYzc1ZWI2N2IgPSBMLmNpcmNsZU1hcmtlcigKICAgICAgICAgICAgICAgIFs0My42NDc5MjY3MDAwMDAwMDYsLTc5LjQxOTc0OTddLAogICAgICAgICAgICAgICAgewogICJidWJibGluZ01vdXNlRXZlbnRzIjogdHJ1ZSwKICAiY29sb3IiOiAiYmx1ZSIsCiAgImRhc2hBcnJheSI6IG51bGwsCiAgImRhc2hPZmZzZXQiOiBudWxsLAogICJmaWxsIjogZmFsc2UsCiAgImZpbGxDb2xvciI6ICIjMzE4NmNjIiwKICAiZmlsbE9wYWNpdHkiOiAwLjcsCiAgImZpbGxSdWxlIjogImV2ZW5vZGQiLAogICJsaW5lQ2FwIjogInJvdW5kIiwKICAibGluZUpvaW4iOiAicm91bmQiLAogICJvcGFjaXR5IjogMS4wLAogICJyYWRpdXMiOiA1LAogICJzdHJva2UiOiB0cnVlLAogICJ3ZWlnaHQiOiAzCn0KICAgICAgICAgICAgICAgICkuYWRkVG8obWFwXzdlNDViZWUzZTdmNjQ3Mjk5YWI5OWM2ODFkYzRkZTM1KTsKICAgICAgICAgICAgCiAgICAKICAgICAgICAgICAgdmFyIHBvcHVwX2U0MjZmNmIxYTczNjQ0Mzg4OTlhMzg4YmMxYTE4NTFiID0gTC5wb3B1cCh7bWF4V2lkdGg6ICczMDAnfSk7CgogICAgICAgICAgICAKICAgICAgICAgICAgICAgIHZhciBodG1sXzFjOTRlYTcyYjU4YzQyOTg5M2I3NzJkMDI0MjRkNDc0ID0gJCgnPGRpdiBpZD0iaHRtbF8xYzk0ZWE3MmI1OGM0Mjk4OTNiNzcyZDAyNDI0ZDQ3NCIgc3R5bGU9IndpZHRoOiAxMDAuMCU7IGhlaWdodDogMTAwLjAlOyI+TGl0dGxlIFBvcnR1Z2FsLCBUcmluaXR5LCBXZXN0IFRvcm9udG88L2Rpdj4nKVswXTsKICAgICAgICAgICAgICAgIHBvcHVwX2U0MjZmNmIxYTczNjQ0Mzg4OTlhMzg4YmMxYTE4NTFiLnNldENvbnRlbnQoaHRtbF8xYzk0ZWE3MmI1OGM0Mjk4OTNiNzcyZDAyNDI0ZDQ3NCk7CiAgICAgICAgICAgIAoKICAgICAgICAgICAgY2lyY2xlX21hcmtlcl82ZTEyM2MyZDJjMjg0MjhjODc5MDg0MWRjNzVlYjY3Yi5iaW5kUG9wdXAocG9wdXBfZTQyNmY2YjFhNzM2NDQzODg5OWEzODhiYzFhMTg1MWIpOwoKICAgICAgICAgICAgCiAgICAgICAgCiAgICAKICAgICAgICAgICAgdmFyIGNpcmNsZV9tYXJrZXJfZDg1ZjM0ZTIyYzc1NGQ0YzhlYjdiYjQxMWM5MDA5MzYgPSBMLmNpcmNsZU1hcmtlcigKICAgICAgICAgICAgICAgIFs0My43Mjc5MjkyLC03OS4yNjIwMjk0MDAwMDAwMl0sCiAgICAgICAgICAgICAgICB7CiAgImJ1YmJsaW5nTW91c2VFdmVudHMiOiB0cnVlLAogICJjb2xvciI6ICJibHVlIiwKICAiZGFzaEFycmF5IjogbnVsbCwKICAiZGFzaE9mZnNldCI6IG51bGwsCiAgImZpbGwiOiBmYWxzZSwKICAiZmlsbENvbG9yIjogIiMzMTg2Y2MiLAogICJmaWxsT3BhY2l0eSI6IDAuNywKICAiZmlsbFJ1bGUiOiAiZXZlbm9kZCIsCiAgImxpbmVDYXAiOiAicm91bmQiLAogICJsaW5lSm9pbiI6ICJyb3VuZCIsCiAgIm9wYWNpdHkiOiAxLjAsCiAgInJhZGl1cyI6IDUsCiAgInN0cm9rZSI6IHRydWUsCiAgIndlaWdodCI6IDMKfQogICAgICAgICAgICAgICAgKS5hZGRUbyhtYXBfN2U0NWJlZTNlN2Y2NDcyOTlhYjk5YzY4MWRjNGRlMzUpOwogICAgICAgICAgICAKICAgIAogICAgICAgICAgICB2YXIgcG9wdXBfYTc0OWQzNDMxNTlmNDY4NDg4NGU1YmQ2ZjQ5NDE1OGEgPSBMLnBvcHVwKHttYXhXaWR0aDogJzMwMCd9KTsKCiAgICAgICAgICAgIAogICAgICAgICAgICAgICAgdmFyIGh0bWxfNmNmNWU2YWU4MTlhNDczYTg0NGNmYjc0MDE1MjRiNWEgPSAkKCc8ZGl2IGlkPSJodG1sXzZjZjVlNmFlODE5YTQ3M2E4NDRjZmI3NDAxNTI0YjVhIiBzdHlsZT0id2lkdGg6IDEwMC4wJTsgaGVpZ2h0OiAxMDAuMCU7Ij5LZW5uZWR5IFBhcmssIElvbnZpZXcsIEVhc3QgQmlyY2htb3VudCBQYXJrLCBTY2FyYm9yb3VnaDwvZGl2PicpWzBdOwogICAgICAgICAgICAgICAgcG9wdXBfYTc0OWQzNDMxNTlmNDY4NDg4NGU1YmQ2ZjQ5NDE1OGEuc2V0Q29udGVudChodG1sXzZjZjVlNmFlODE5YTQ3M2E4NDRjZmI3NDAxNTI0YjVhKTsKICAgICAgICAgICAgCgogICAgICAgICAgICBjaXJjbGVfbWFya2VyX2Q4NWYzNGUyMmM3NTRkNGM4ZWI3YmI0MTFjOTAwOTM2LmJpbmRQb3B1cChwb3B1cF9hNzQ5ZDM0MzE1OWY0Njg0ODg0ZTViZDZmNDk0MTU4YSk7CgogICAgICAgICAgICAKICAgICAgICAKICAgIAogICAgICAgICAgICB2YXIgY2lyY2xlX21hcmtlcl9jZDg2ZGQ2YTNlYTg0N2YzODJjMzNmNjkxN2RmYTRkNiA9IEwuY2lyY2xlTWFya2VyKAogICAgICAgICAgICAgICAgWzQzLjc4Njk0NzMsLTc5LjM4NTk3NV0sCiAgICAgICAgICAgICAgICB7CiAgImJ1YmJsaW5nTW91c2VFdmVudHMiOiB0cnVlLAogICJjb2xvciI6ICJibHVlIiwKICAiZGFzaEFycmF5IjogbnVsbCwKICAiZGFzaE9mZnNldCI6IG51bGwsCiAgImZpbGwiOiBmYWxzZSwKICAiZmlsbENvbG9yIjogIiMzMTg2Y2MiLAogICJmaWxsT3BhY2l0eSI6IDAuNywKICAiZmlsbFJ1bGUiOiAiZXZlbm9kZCIsCiAgImxpbmVDYXAiOiAicm91bmQiLAogICJsaW5lSm9pbiI6ICJyb3VuZCIsCiAgIm9wYWNpdHkiOiAxLjAsCiAgInJhZGl1cyI6IDUsCiAgInN0cm9rZSI6IHRydWUsCiAgIndlaWdodCI6IDMKfQogICAgICAgICAgICAgICAgKS5hZGRUbyhtYXBfN2U0NWJlZTNlN2Y2NDcyOTlhYjk5YzY4MWRjNGRlMzUpOwogICAgICAgICAgICAKICAgIAogICAgICAgICAgICB2YXIgcG9wdXBfYmZkYjM2ZTc4YjE1NGMzYjlhZDRjNmNhYjZiM2E2OTggPSBMLnBvcHVwKHttYXhXaWR0aDogJzMwMCd9KTsKCiAgICAgICAgICAgIAogICAgICAgICAgICAgICAgdmFyIGh0bWxfZTg2ODk1ZGFiOGE5NGMyYmEwZThjMzEwOWRkMDJlZmMgPSAkKCc8ZGl2IGlkPSJodG1sX2U4Njg5NWRhYjhhOTRjMmJhMGU4YzMxMDlkZDAyZWZjIiBzdHlsZT0id2lkdGg6IDEwMC4wJTsgaGVpZ2h0OiAxMDAuMCU7Ij5CYXl2aWV3IFZpbGxhZ2UsIE5vcnRoIFlvcms8L2Rpdj4nKVswXTsKICAgICAgICAgICAgICAgIHBvcHVwX2JmZGIzNmU3OGIxNTRjM2I5YWQ0YzZjYWI2YjNhNjk4LnNldENvbnRlbnQoaHRtbF9lODY4OTVkYWI4YTk0YzJiYTBlOGMzMTA5ZGQwMmVmYyk7CiAgICAgICAgICAgIAoKICAgICAgICAgICAgY2lyY2xlX21hcmtlcl9jZDg2ZGQ2YTNlYTg0N2YzODJjMzNmNjkxN2RmYTRkNi5iaW5kUG9wdXAocG9wdXBfYmZkYjM2ZTc4YjE1NGMzYjlhZDRjNmNhYjZiM2E2OTgpOwoKICAgICAgICAgICAgCiAgICAgICAgCiAgICAKICAgICAgICAgICAgdmFyIGNpcmNsZV9tYXJrZXJfYjYxNGI0ZTU5YzNkNDg5ZGJiZTYyMjkzY2VmYjU1NDAgPSBMLmNpcmNsZU1hcmtlcigKICAgICAgICAgICAgICAgIFs0My43Mzc0NzMyMDAwMDAwMDQsLTc5LjQ2NDc2MzI5OTk5OTk5XSwKICAgICAgICAgICAgICAgIHsKICAiYnViYmxpbmdNb3VzZUV2ZW50cyI6IHRydWUsCiAgImNvbG9yIjogImJsdWUiLAogICJkYXNoQXJyYXkiOiBudWxsLAogICJkYXNoT2Zmc2V0IjogbnVsbCwKICAiZmlsbCI6IGZhbHNlLAogICJmaWxsQ29sb3IiOiAiIzMxODZjYyIsCiAgImZpbGxPcGFjaXR5IjogMC43LAogICJmaWxsUnVsZSI6ICJldmVub2RkIiwKICAibGluZUNhcCI6ICJyb3VuZCIsCiAgImxpbmVKb2luIjogInJvdW5kIiwKICAib3BhY2l0eSI6IDEuMCwKICAicmFkaXVzIjogNSwKICAic3Ryb2tlIjogdHJ1ZSwKICAid2VpZ2h0IjogMwp9CiAgICAgICAgICAgICAgICApLmFkZFRvKG1hcF83ZTQ1YmVlM2U3ZjY0NzI5OWFiOTljNjgxZGM0ZGUzNSk7CiAgICAgICAgICAgIAogICAgCiAgICAgICAgICAgIHZhciBwb3B1cF85ZmU0OWM5ZDgyZTY0MDJjOWQ1MjJhYjMzOTcxYTA5OCA9IEwucG9wdXAoe21heFdpZHRoOiAnMzAwJ30pOwoKICAgICAgICAgICAgCiAgICAgICAgICAgICAgICB2YXIgaHRtbF8wZjNiMmMzZjY5YzU0ZDNiYWMzMWFhNGQzMzQzNGEyNyA9ICQoJzxkaXYgaWQ9Imh0bWxfMGYzYjJjM2Y2OWM1NGQzYmFjMzFhYTRkMzM0MzRhMjciIHN0eWxlPSJ3aWR0aDogMTAwLjAlOyBoZWlnaHQ6IDEwMC4wJTsiPkRvd25zdmlldywgTm9ydGggWW9yazwvZGl2PicpWzBdOwogICAgICAgICAgICAgICAgcG9wdXBfOWZlNDljOWQ4MmU2NDAyYzlkNTIyYWIzMzk3MWEwOTguc2V0Q29udGVudChodG1sXzBmM2IyYzNmNjljNTRkM2JhYzMxYWE0ZDMzNDM0YTI3KTsKICAgICAgICAgICAgCgogICAgICAgICAgICBjaXJjbGVfbWFya2VyX2I2MTRiNGU1OWMzZDQ4OWRiYmU2MjI5M2NlZmI1NTQwLmJpbmRQb3B1cChwb3B1cF85ZmU0OWM5ZDgyZTY0MDJjOWQ1MjJhYjMzOTcxYTA5OCk7CgogICAgICAgICAgICAKICAgICAgICAKICAgIAogICAgICAgICAgICB2YXIgY2lyY2xlX21hcmtlcl85YTllMmFlOTc5Mjg0OWFmODhiN2NiMWZkNGQ4NWFmYiA9IEwuY2lyY2xlTWFya2VyKAogICAgICAgICAgICAgICAgWzQzLjY3OTU1NzEsLTc5LjM1MjE4OF0sCiAgICAgICAgICAgICAgICB7CiAgImJ1YmJsaW5nTW91c2VFdmVudHMiOiB0cnVlLAogICJjb2xvciI6ICJibHVlIiwKICAiZGFzaEFycmF5IjogbnVsbCwKICAiZGFzaE9mZnNldCI6IG51bGwsCiAgImZpbGwiOiBmYWxzZSwKICAiZmlsbENvbG9yIjogIiMzMTg2Y2MiLAogICJmaWxsT3BhY2l0eSI6IDAuNywKICAiZmlsbFJ1bGUiOiAiZXZlbm9kZCIsCiAgImxpbmVDYXAiOiAicm91bmQiLAogICJsaW5lSm9pbiI6ICJyb3VuZCIsCiAgIm9wYWNpdHkiOiAxLjAsCiAgInJhZGl1cyI6IDUsCiAgInN0cm9rZSI6IHRydWUsCiAgIndlaWdodCI6IDMKfQogICAgICAgICAgICAgICAgKS5hZGRUbyhtYXBfN2U0NWJlZTNlN2Y2NDcyOTlhYjk5YzY4MWRjNGRlMzUpOwogICAgICAgICAgICAKICAgIAogICAgICAgICAgICB2YXIgcG9wdXBfYmU0MTlkNzBjYzc1NDhjZjg1OWJiNzYxOTYxODMwOWUgPSBMLnBvcHVwKHttYXhXaWR0aDogJzMwMCd9KTsKCiAgICAgICAgICAgIAogICAgICAgICAgICAgICAgdmFyIGh0bWxfMDg5NTk0MjFiODkwNDI2MzkxMjkyYmUxNGU1NTFmYmUgPSAkKCc8ZGl2IGlkPSJodG1sXzA4OTU5NDIxYjg5MDQyNjM5MTI5MmJlMTRlNTUxZmJlIiBzdHlsZT0id2lkdGg6IDEwMC4wJTsgaGVpZ2h0OiAxMDAuMCU7Ij5UaGUgRGFuZm9ydGggV2VzdCwgUml2ZXJkYWxlLCBFYXN0IFRvcm9udG88L2Rpdj4nKVswXTsKICAgICAgICAgICAgICAgIHBvcHVwX2JlNDE5ZDcwY2M3NTQ4Y2Y4NTliYjc2MTk2MTgzMDllLnNldENvbnRlbnQoaHRtbF8wODk1OTQyMWI4OTA0MjYzOTEyOTJiZTE0ZTU1MWZiZSk7CiAgICAgICAgICAgIAoKICAgICAgICAgICAgY2lyY2xlX21hcmtlcl85YTllMmFlOTc5Mjg0OWFmODhiN2NiMWZkNGQ4NWFmYi5iaW5kUG9wdXAocG9wdXBfYmU0MTlkNzBjYzc1NDhjZjg1OWJiNzYxOTYxODMwOWUpOwoKICAgICAgICAgICAgCiAgICAgICAgCiAgICAKICAgICAgICAgICAgdmFyIGNpcmNsZV9tYXJrZXJfMDE0MzEwNDcwY2Y1NDdlMWI3NTViMTBhNDE4Y2Q4ZTQgPSBMLmNpcmNsZU1hcmtlcigKICAgICAgICAgICAgICAgIFs0My42NDcxNzY4LC03OS4zODE1NzY0MDAwMDAwMV0sCiAgICAgICAgICAgICAgICB7CiAgImJ1YmJsaW5nTW91c2VFdmVudHMiOiB0cnVlLAogICJjb2xvciI6ICJibHVlIiwKICAiZGFzaEFycmF5IjogbnVsbCwKICAiZGFzaE9mZnNldCI6IG51bGwsCiAgImZpbGwiOiBmYWxzZSwKICAiZmlsbENvbG9yIjogIiMzMTg2Y2MiLAogICJmaWxsT3BhY2l0eSI6IDAuNywKICAiZmlsbFJ1bGUiOiAiZXZlbm9kZCIsCiAgImxpbmVDYXAiOiAicm91bmQiLAogICJsaW5lSm9pbiI6ICJyb3VuZCIsCiAgIm9wYWNpdHkiOiAxLjAsCiAgInJhZGl1cyI6IDUsCiAgInN0cm9rZSI6IHRydWUsCiAgIndlaWdodCI6IDMKfQogICAgICAgICAgICAgICAgKS5hZGRUbyhtYXBfN2U0NWJlZTNlN2Y2NDcyOTlhYjk5YzY4MWRjNGRlMzUpOwogICAgICAgICAgICAKICAgIAogICAgICAgICAgICB2YXIgcG9wdXBfMjRlYmJiZDJlODBmNDY2MmFmODk0MGIyZTcyNzMyNzQgPSBMLnBvcHVwKHttYXhXaWR0aDogJzMwMCd9KTsKCiAgICAgICAgICAgIAogICAgICAgICAgICAgICAgdmFyIGh0bWxfYTBhOGZhZDMwYzNkNGM1NThlMzk0OTUwYTU0NDU0OWQgPSAkKCc8ZGl2IGlkPSJodG1sX2EwYThmYWQzMGMzZDRjNTU4ZTM5NDk1MGE1NDQ1NDlkIiBzdHlsZT0id2lkdGg6IDEwMC4wJTsgaGVpZ2h0OiAxMDAuMCU7Ij5Ub3JvbnRvIERvbWluaW9uIENlbnRyZSwgRGVzaWduIEV4Y2hhbmdlLCBEb3dudG93biBUb3JvbnRvPC9kaXY+JylbMF07CiAgICAgICAgICAgICAgICBwb3B1cF8yNGViYmJkMmU4MGY0NjYyYWY4OTQwYjJlNzI3MzI3NC5zZXRDb250ZW50KGh0bWxfYTBhOGZhZDMwYzNkNGM1NThlMzk0OTUwYTU0NDU0OWQpOwogICAgICAgICAgICAKCiAgICAgICAgICAgIGNpcmNsZV9tYXJrZXJfMDE0MzEwNDcwY2Y1NDdlMWI3NTViMTBhNDE4Y2Q4ZTQuYmluZFBvcHVwKHBvcHVwXzI0ZWJiYmQyZTgwZjQ2NjJhZjg5NDBiMmU3MjczMjc0KTsKCiAgICAgICAgICAgIAogICAgICAgIAogICAgCiAgICAgICAgICAgIHZhciBjaXJjbGVfbWFya2VyX2Y4ZTJmMmZlOWQ2NzQxMzFhZjk1MGIyODJhMDgwNTVjID0gTC5jaXJjbGVNYXJrZXIoCiAgICAgICAgICAgICAgICBbNDMuNjM2ODQ3MiwtNzkuNDI4MTkxNDAwMDAwMDJdLAogICAgICAgICAgICAgICAgewogICJidWJibGluZ01vdXNlRXZlbnRzIjogdHJ1ZSwKICAiY29sb3IiOiAiYmx1ZSIsCiAgImRhc2hBcnJheSI6IG51bGwsCiAgImRhc2hPZmZzZXQiOiBudWxsLAogICJmaWxsIjogZmFsc2UsCiAgImZpbGxDb2xvciI6ICIjMzE4NmNjIiwKICAiZmlsbE9wYWNpdHkiOiAwLjcsCiAgImZpbGxSdWxlIjogImV2ZW5vZGQiLAogICJsaW5lQ2FwIjogInJvdW5kIiwKICAibGluZUpvaW4iOiAicm91bmQiLAogICJvcGFjaXR5IjogMS4wLAogICJyYWRpdXMiOiA1LAogICJzdHJva2UiOiB0cnVlLAogICJ3ZWlnaHQiOiAzCn0KICAgICAgICAgICAgICAgICkuYWRkVG8obWFwXzdlNDViZWUzZTdmNjQ3Mjk5YWI5OWM2ODFkYzRkZTM1KTsKICAgICAgICAgICAgCiAgICAKICAgICAgICAgICAgdmFyIHBvcHVwXzNjOWE4ZDU4YTdlNTRhNTNhZGJmZTBlNWViMDI3NWEwID0gTC5wb3B1cCh7bWF4V2lkdGg6ICczMDAnfSk7CgogICAgICAgICAgICAKICAgICAgICAgICAgICAgIHZhciBodG1sXzk3Njk0ODdkZmU1YjQxZDk5NDFkZTE0NjIxZjY0OTFkID0gJCgnPGRpdiBpZD0iaHRtbF85NzY5NDg3ZGZlNWI0MWQ5OTQxZGUxNDYyMWY2NDkxZCIgc3R5bGU9IndpZHRoOiAxMDAuMCU7IGhlaWdodDogMTAwLjAlOyI+QnJvY2t0b24sIFBhcmtkYWxlIFZpbGxhZ2UsIEV4aGliaXRpb24gUGxhY2UsIFdlc3QgVG9yb250bzwvZGl2PicpWzBdOwogICAgICAgICAgICAgICAgcG9wdXBfM2M5YThkNThhN2U1NGE1M2FkYmZlMGU1ZWIwMjc1YTAuc2V0Q29udGVudChodG1sXzk3Njk0ODdkZmU1YjQxZDk5NDFkZTE0NjIxZjY0OTFkKTsKICAgICAgICAgICAgCgogICAgICAgICAgICBjaXJjbGVfbWFya2VyX2Y4ZTJmMmZlOWQ2NzQxMzFhZjk1MGIyODJhMDgwNTVjLmJpbmRQb3B1cChwb3B1cF8zYzlhOGQ1OGE3ZTU0YTUzYWRiZmUwZTVlYjAyNzVhMCk7CgogICAgICAgICAgICAKICAgICAgICAKICAgIAogICAgICAgICAgICB2YXIgY2lyY2xlX21hcmtlcl9iYTI0NjUzMWQyNDc0YmUxYWY1MGJmMmIzMGVhMzAyMCA9IEwuY2lyY2xlTWFya2VyKAogICAgICAgICAgICAgICAgWzQzLjcxMTExMTcwMDAwMDAwNCwtNzkuMjg0NTc3Ml0sCiAgICAgICAgICAgICAgICB7CiAgImJ1YmJsaW5nTW91c2VFdmVudHMiOiB0cnVlLAogICJjb2xvciI6ICJibHVlIiwKICAiZGFzaEFycmF5IjogbnVsbCwKICAiZGFzaE9mZnNldCI6IG51bGwsCiAgImZpbGwiOiBmYWxzZSwKICAiZmlsbENvbG9yIjogIiMzMTg2Y2MiLAogICJmaWxsT3BhY2l0eSI6IDAuNywKICAiZmlsbFJ1bGUiOiAiZXZlbm9kZCIsCiAgImxpbmVDYXAiOiAicm91bmQiLAogICJsaW5lSm9pbiI6ICJyb3VuZCIsCiAgIm9wYWNpdHkiOiAxLjAsCiAgInJhZGl1cyI6IDUsCiAgInN0cm9rZSI6IHRydWUsCiAgIndlaWdodCI6IDMKfQogICAgICAgICAgICAgICAgKS5hZGRUbyhtYXBfN2U0NWJlZTNlN2Y2NDcyOTlhYjk5YzY4MWRjNGRlMzUpOwogICAgICAgICAgICAKICAgIAogICAgICAgICAgICB2YXIgcG9wdXBfYzkyYjNkMzlhYjNkNGFmYmE4ZGExODQ0YjhjNjY4NTIgPSBMLnBvcHVwKHttYXhXaWR0aDogJzMwMCd9KTsKCiAgICAgICAgICAgIAogICAgICAgICAgICAgICAgdmFyIGh0bWxfZmY3ZWE0NjBmMmIwNDJmNzgwY2RjNzVhMjJkNjQ2MDEgPSAkKCc8ZGl2IGlkPSJodG1sX2ZmN2VhNDYwZjJiMDQyZjc4MGNkYzc1YTIyZDY0NjAxIiBzdHlsZT0id2lkdGg6IDEwMC4wJTsgaGVpZ2h0OiAxMDAuMCU7Ij5Hb2xkZW4gTWlsZSwgQ2xhaXJsZWEsIE9ha3JpZGdlLCBTY2FyYm9yb3VnaDwvZGl2PicpWzBdOwogICAgICAgICAgICAgICAgcG9wdXBfYzkyYjNkMzlhYjNkNGFmYmE4ZGExODQ0YjhjNjY4NTIuc2V0Q29udGVudChodG1sX2ZmN2VhNDYwZjJiMDQyZjc4MGNkYzc1YTIyZDY0NjAxKTsKICAgICAgICAgICAgCgogICAgICAgICAgICBjaXJjbGVfbWFya2VyX2JhMjQ2NTMxZDI0NzRiZTFhZjUwYmYyYjMwZWEzMDIwLmJpbmRQb3B1cChwb3B1cF9jOTJiM2QzOWFiM2Q0YWZiYThkYTE4NDRiOGM2Njg1Mik7CgogICAgICAgICAgICAKICAgICAgICAKICAgIAogICAgICAgICAgICB2YXIgY2lyY2xlX21hcmtlcl9jNDdiOGVlOTU1YTM0MTc4OTk1MWE0NzBkMTlhNDRiZSA9IEwuY2lyY2xlTWFya2VyKAogICAgICAgICAgICAgICAgWzQzLjc1NzQ5MDIsLTc5LjM3NDcxNDA5OTk5OTk5XSwKICAgICAgICAgICAgICAgIHsKICAiYnViYmxpbmdNb3VzZUV2ZW50cyI6IHRydWUsCiAgImNvbG9yIjogImJsdWUiLAogICJkYXNoQXJyYXkiOiBudWxsLAogICJkYXNoT2Zmc2V0IjogbnVsbCwKICAiZmlsbCI6IGZhbHNlLAogICJmaWxsQ29sb3IiOiAiIzMxODZjYyIsCiAgImZpbGxPcGFjaXR5IjogMC43LAogICJmaWxsUnVsZSI6ICJldmVub2RkIiwKICAibGluZUNhcCI6ICJyb3VuZCIsCiAgImxpbmVKb2luIjogInJvdW5kIiwKICAib3BhY2l0eSI6IDEuMCwKICAicmFkaXVzIjogNSwKICAic3Ryb2tlIjogdHJ1ZSwKICAid2VpZ2h0IjogMwp9CiAgICAgICAgICAgICAgICApLmFkZFRvKG1hcF83ZTQ1YmVlM2U3ZjY0NzI5OWFiOTljNjgxZGM0ZGUzNSk7CiAgICAgICAgICAgIAogICAgCiAgICAgICAgICAgIHZhciBwb3B1cF9kM2YxMmQ3YTc0ZjA0NWM5YjFmNzVhNjNiZTRhMDE0MyA9IEwucG9wdXAoe21heFdpZHRoOiAnMzAwJ30pOwoKICAgICAgICAgICAgCiAgICAgICAgICAgICAgICB2YXIgaHRtbF80Njg5YmE3NWY2MzE0MTA2OGQyODA4MjM2NmZhMGVmYyA9ICQoJzxkaXYgaWQ9Imh0bWxfNDY4OWJhNzVmNjMxNDEwNjhkMjgwODIzNjZmYTBlZmMiIHN0eWxlPSJ3aWR0aDogMTAwLjAlOyBoZWlnaHQ6IDEwMC4wJTsiPllvcmsgTWlsbHMsIFNpbHZlciBIaWxscywgTm9ydGggWW9yazwvZGl2PicpWzBdOwogICAgICAgICAgICAgICAgcG9wdXBfZDNmMTJkN2E3NGYwNDVjOWIxZjc1YTYzYmU0YTAxNDMuc2V0Q29udGVudChodG1sXzQ2ODliYTc1ZjYzMTQxMDY4ZDI4MDgyMzY2ZmEwZWZjKTsKICAgICAgICAgICAgCgogICAgICAgICAgICBjaXJjbGVfbWFya2VyX2M0N2I4ZWU5NTVhMzQxNzg5OTUxYTQ3MGQxOWE0NGJlLmJpbmRQb3B1cChwb3B1cF9kM2YxMmQ3YTc0ZjA0NWM5YjFmNzVhNjNiZTRhMDE0Myk7CgogICAgICAgICAgICAKICAgICAgICAKICAgIAogICAgICAgICAgICB2YXIgY2lyY2xlX21hcmtlcl82MWMzOTY5ZjIxMzE0NjBhOGQxMmY5MGVjNjMxZTIzOCA9IEwuY2lyY2xlTWFya2VyKAogICAgICAgICAgICAgICAgWzQzLjczOTAxNDYsLTc5LjUwNjk0MzZdLAogICAgICAgICAgICAgICAgewogICJidWJibGluZ01vdXNlRXZlbnRzIjogdHJ1ZSwKICAiY29sb3IiOiAiYmx1ZSIsCiAgImRhc2hBcnJheSI6IG51bGwsCiAgImRhc2hPZmZzZXQiOiBudWxsLAogICJmaWxsIjogZmFsc2UsCiAgImZpbGxDb2xvciI6ICIjMzE4NmNjIiwKICAiZmlsbE9wYWNpdHkiOiAwLjcsCiAgImZpbGxSdWxlIjogImV2ZW5vZGQiLAogICJsaW5lQ2FwIjogInJvdW5kIiwKICAibGluZUpvaW4iOiAicm91bmQiLAogICJvcGFjaXR5IjogMS4wLAogICJyYWRpdXMiOiA1LAogICJzdHJva2UiOiB0cnVlLAogICJ3ZWlnaHQiOiAzCn0KICAgICAgICAgICAgICAgICkuYWRkVG8obWFwXzdlNDViZWUzZTdmNjQ3Mjk5YWI5OWM2ODFkYzRkZTM1KTsKICAgICAgICAgICAgCiAgICAKICAgICAgICAgICAgdmFyIHBvcHVwX2VkMjBlMzYzZDk4NjRkZWQ4YTZmZWUwNjNjZDFlZmNmID0gTC5wb3B1cCh7bWF4V2lkdGg6ICczMDAnfSk7CgogICAgICAgICAgICAKICAgICAgICAgICAgICAgIHZhciBodG1sXzhlMTBjMzZjOTM5YTQyMjRhZDk1MjFlMzcyZDg3NjFlID0gJCgnPGRpdiBpZD0iaHRtbF84ZTEwYzM2YzkzOWE0MjI0YWQ5NTIxZTM3MmQ4NzYxZSIgc3R5bGU9IndpZHRoOiAxMDAuMCU7IGhlaWdodDogMTAwLjAlOyI+RG93bnN2aWV3LCBOb3J0aCBZb3JrPC9kaXY+JylbMF07CiAgICAgICAgICAgICAgICBwb3B1cF9lZDIwZTM2M2Q5ODY0ZGVkOGE2ZmVlMDYzY2QxZWZjZi5zZXRDb250ZW50KGh0bWxfOGUxMGMzNmM5MzlhNDIyNGFkOTUyMWUzNzJkODc2MWUpOwogICAgICAgICAgICAKCiAgICAgICAgICAgIGNpcmNsZV9tYXJrZXJfNjFjMzk2OWYyMTMxNDYwYThkMTJmOTBlYzYzMWUyMzguYmluZFBvcHVwKHBvcHVwX2VkMjBlMzYzZDk4NjRkZWQ4YTZmZWUwNjNjZDFlZmNmKTsKCiAgICAgICAgICAgIAogICAgICAgIAogICAgCiAgICAgICAgICAgIHZhciBjaXJjbGVfbWFya2VyX2M4ZWI0OTZjZTkyZTRiZjNiNTBlNjBiNDQ4M2I2OTFhID0gTC5jaXJjbGVNYXJrZXIoCiAgICAgICAgICAgICAgICBbNDMuNjY4OTk4NSwtNzkuMzE1NTcxNTk5OTk5OThdLAogICAgICAgICAgICAgICAgewogICJidWJibGluZ01vdXNlRXZlbnRzIjogdHJ1ZSwKICAiY29sb3IiOiAiYmx1ZSIsCiAgImRhc2hBcnJheSI6IG51bGwsCiAgImRhc2hPZmZzZXQiOiBudWxsLAogICJmaWxsIjogZmFsc2UsCiAgImZpbGxDb2xvciI6ICIjMzE4NmNjIiwKICAiZmlsbE9wYWNpdHkiOiAwLjcsCiAgImZpbGxSdWxlIjogImV2ZW5vZGQiLAogICJsaW5lQ2FwIjogInJvdW5kIiwKICAibGluZUpvaW4iOiAicm91bmQiLAogICJvcGFjaXR5IjogMS4wLAogICJyYWRpdXMiOiA1LAogICJzdHJva2UiOiB0cnVlLAogICJ3ZWlnaHQiOiAzCn0KICAgICAgICAgICAgICAgICkuYWRkVG8obWFwXzdlNDViZWUzZTdmNjQ3Mjk5YWI5OWM2ODFkYzRkZTM1KTsKICAgICAgICAgICAgCiAgICAKICAgICAgICAgICAgdmFyIHBvcHVwX2JiN2Y5MTBiOGJlYTQyYTZiNGYyYzI3MDlkZDY5MDgxID0gTC5wb3B1cCh7bWF4V2lkdGg6ICczMDAnfSk7CgogICAgICAgICAgICAKICAgICAgICAgICAgICAgIHZhciBodG1sXzhiZTljMjg5OTZiNjRkOTJiMjhkOTg2ZmJiMzUyY2Y2ID0gJCgnPGRpdiBpZD0iaHRtbF84YmU5YzI4OTk2YjY0ZDkyYjI4ZDk4NmZiYjM1MmNmNiIgc3R5bGU9IndpZHRoOiAxMDAuMCU7IGhlaWdodDogMTAwLjAlOyI+SW5kaWEgQmF6YWFyLCBUaGUgQmVhY2hlcyBXZXN0LCBFYXN0IFRvcm9udG88L2Rpdj4nKVswXTsKICAgICAgICAgICAgICAgIHBvcHVwX2JiN2Y5MTBiOGJlYTQyYTZiNGYyYzI3MDlkZDY5MDgxLnNldENvbnRlbnQoaHRtbF84YmU5YzI4OTk2YjY0ZDkyYjI4ZDk4NmZiYjM1MmNmNik7CiAgICAgICAgICAgIAoKICAgICAgICAgICAgY2lyY2xlX21hcmtlcl9jOGViNDk2Y2U5MmU0YmYzYjUwZTYwYjQ0ODNiNjkxYS5iaW5kUG9wdXAocG9wdXBfYmI3ZjkxMGI4YmVhNDJhNmI0ZjJjMjcwOWRkNjkwODEpOwoKICAgICAgICAgICAgCiAgICAgICAgCiAgICAKICAgICAgICAgICAgdmFyIGNpcmNsZV9tYXJrZXJfOGUyMjY0YTM1NjYwNGFlODg0YjQ4ZGY3ZGY3NjI2ZjggPSBMLmNpcmNsZU1hcmtlcigKICAgICAgICAgICAgICAgIFs0My42NDgxOTg1LC03OS4zNzk4MTY5MDAwMDAwMV0sCiAgICAgICAgICAgICAgICB7CiAgImJ1YmJsaW5nTW91c2VFdmVudHMiOiB0cnVlLAogICJjb2xvciI6ICJibHVlIiwKICAiZGFzaEFycmF5IjogbnVsbCwKICAiZGFzaE9mZnNldCI6IG51bGwsCiAgImZpbGwiOiBmYWxzZSwKICAiZmlsbENvbG9yIjogIiMzMTg2Y2MiLAogICJmaWxsT3BhY2l0eSI6IDAuNywKICAiZmlsbFJ1bGUiOiAiZXZlbm9kZCIsCiAgImxpbmVDYXAiOiAicm91bmQiLAogICJsaW5lSm9pbiI6ICJyb3VuZCIsCiAgIm9wYWNpdHkiOiAxLjAsCiAgInJhZGl1cyI6IDUsCiAgInN0cm9rZSI6IHRydWUsCiAgIndlaWdodCI6IDMKfQogICAgICAgICAgICAgICAgKS5hZGRUbyhtYXBfN2U0NWJlZTNlN2Y2NDcyOTlhYjk5YzY4MWRjNGRlMzUpOwogICAgICAgICAgICAKICAgIAogICAgICAgICAgICB2YXIgcG9wdXBfODljOWQ1NWVlOTkxNDc0NTgxZGI1ZWYxODJmMDU1ZTQgPSBMLnBvcHVwKHttYXhXaWR0aDogJzMwMCd9KTsKCiAgICAgICAgICAgIAogICAgICAgICAgICAgICAgdmFyIGh0bWxfMThiMGQ1NDdlNTk0NDNkOGI4Yzk5OWMyYmNkZjMwYzYgPSAkKCc8ZGl2IGlkPSJodG1sXzE4YjBkNTQ3ZTU5NDQzZDhiOGM5OTljMmJjZGYzMGM2IiBzdHlsZT0id2lkdGg6IDEwMC4wJTsgaGVpZ2h0OiAxMDAuMCU7Ij5Db21tZXJjZSBDb3VydCwgVmljdG9yaWEgSG90ZWwsIERvd250b3duIFRvcm9udG88L2Rpdj4nKVswXTsKICAgICAgICAgICAgICAgIHBvcHVwXzg5YzlkNTVlZTk5MTQ3NDU4MWRiNWVmMTgyZjA1NWU0LnNldENvbnRlbnQoaHRtbF8xOGIwZDU0N2U1OTQ0M2Q4YjhjOTk5YzJiY2RmMzBjNik7CiAgICAgICAgICAgIAoKICAgICAgICAgICAgY2lyY2xlX21hcmtlcl84ZTIyNjRhMzU2NjA0YWU4ODRiNDhkZjdkZjc2MjZmOC5iaW5kUG9wdXAocG9wdXBfODljOWQ1NWVlOTkxNDc0NTgxZGI1ZWYxODJmMDU1ZTQpOwoKICAgICAgICAgICAgCiAgICAgICAgCiAgICAKICAgICAgICAgICAgdmFyIGNpcmNsZV9tYXJrZXJfODI0ZTk3OGFkYjZkNGQxY2IwMGIxMjEwZjkzYzBiMGIgPSBMLmNpcmNsZU1hcmtlcigKICAgICAgICAgICAgICAgIFs0My43MTM3NTYyMDAwMDAwMDYsLTc5LjQ5MDA3MzhdLAogICAgICAgICAgICAgICAgewogICJidWJibGluZ01vdXNlRXZlbnRzIjogdHJ1ZSwKICAiY29sb3IiOiAiYmx1ZSIsCiAgImRhc2hBcnJheSI6IG51bGwsCiAgImRhc2hPZmZzZXQiOiBudWxsLAogICJmaWxsIjogZmFsc2UsCiAgImZpbGxDb2xvciI6ICIjMzE4NmNjIiwKICAiZmlsbE9wYWNpdHkiOiAwLjcsCiAgImZpbGxSdWxlIjogImV2ZW5vZGQiLAogICJsaW5lQ2FwIjogInJvdW5kIiwKICAibGluZUpvaW4iOiAicm91bmQiLAogICJvcGFjaXR5IjogMS4wLAogICJyYWRpdXMiOiA1LAogICJzdHJva2UiOiB0cnVlLAogICJ3ZWlnaHQiOiAzCn0KICAgICAgICAgICAgICAgICkuYWRkVG8obWFwXzdlNDViZWUzZTdmNjQ3Mjk5YWI5OWM2ODFkYzRkZTM1KTsKICAgICAgICAgICAgCiAgICAKICAgICAgICAgICAgdmFyIHBvcHVwXzczMzI5ODIwNGJiYzQ0OTdhM2IxMGRhOGQ1ZjMzZjM0ID0gTC5wb3B1cCh7bWF4V2lkdGg6ICczMDAnfSk7CgogICAgICAgICAgICAKICAgICAgICAgICAgICAgIHZhciBodG1sX2UxYjYwNGJjY2ExMzRmOTQ5ZTI0NjdiYzI5NDFiMGI3ID0gJCgnPGRpdiBpZD0iaHRtbF9lMWI2MDRiY2NhMTM0Zjk0OWUyNDY3YmMyOTQxYjBiNyIgc3R5bGU9IndpZHRoOiAxMDAuMCU7IGhlaWdodDogMTAwLjAlOyI+Tm9ydGggUGFyaywgTWFwbGUgTGVhZiBQYXJrLCBVcHdvb2QgUGFyaywgTm9ydGggWW9yazwvZGl2PicpWzBdOwogICAgICAgICAgICAgICAgcG9wdXBfNzMzMjk4MjA0YmJjNDQ5N2EzYjEwZGE4ZDVmMzNmMzQuc2V0Q29udGVudChodG1sX2UxYjYwNGJjY2ExMzRmOTQ5ZTI0NjdiYzI5NDFiMGI3KTsKICAgICAgICAgICAgCgogICAgICAgICAgICBjaXJjbGVfbWFya2VyXzgyNGU5NzhhZGI2ZDRkMWNiMDBiMTIxMGY5M2MwYjBiLmJpbmRQb3B1cChwb3B1cF83MzMyOTgyMDRiYmM0NDk3YTNiMTBkYThkNWYzM2YzNCk7CgogICAgICAgICAgICAKICAgICAgICAKICAgIAogICAgICAgICAgICB2YXIgY2lyY2xlX21hcmtlcl9jNTRjMTIwMjJkMDE0YWNlOTEwMjNlNTNmOGYzOTQ0ZiA9IEwuY2lyY2xlTWFya2VyKAogICAgICAgICAgICAgICAgWzQzLjc1NjMwMzMsLTc5LjU2NTk2MzI5OTk5OTk5XSwKICAgICAgICAgICAgICAgIHsKICAiYnViYmxpbmdNb3VzZUV2ZW50cyI6IHRydWUsCiAgImNvbG9yIjogImJsdWUiLAogICJkYXNoQXJyYXkiOiBudWxsLAogICJkYXNoT2Zmc2V0IjogbnVsbCwKICAiZmlsbCI6IGZhbHNlLAogICJmaWxsQ29sb3IiOiAiIzMxODZjYyIsCiAgImZpbGxPcGFjaXR5IjogMC43LAogICJmaWxsUnVsZSI6ICJldmVub2RkIiwKICAibGluZUNhcCI6ICJyb3VuZCIsCiAgImxpbmVKb2luIjogInJvdW5kIiwKICAib3BhY2l0eSI6IDEuMCwKICAicmFkaXVzIjogNSwKICAic3Ryb2tlIjogdHJ1ZSwKICAid2VpZ2h0IjogMwp9CiAgICAgICAgICAgICAgICApLmFkZFRvKG1hcF83ZTQ1YmVlM2U3ZjY0NzI5OWFiOTljNjgxZGM0ZGUzNSk7CiAgICAgICAgICAgIAogICAgCiAgICAgICAgICAgIHZhciBwb3B1cF84NzdiNGMzMGI5ZDg0NWFhOTZmZDEyZGQ3NDFjYmYzNCA9IEwucG9wdXAoe21heFdpZHRoOiAnMzAwJ30pOwoKICAgICAgICAgICAgCiAgICAgICAgICAgICAgICB2YXIgaHRtbF9hNDQ4Njg3NjNjNjg0MTg5OGQwYWE5MjlmMWMxNzFmMyA9ICQoJzxkaXYgaWQ9Imh0bWxfYTQ0ODY4NzYzYzY4NDE4OThkMGFhOTI5ZjFjMTcxZjMiIHN0eWxlPSJ3aWR0aDogMTAwLjAlOyBoZWlnaHQ6IDEwMC4wJTsiPkh1bWJlciBTdW1taXQsIE5vcnRoIFlvcms8L2Rpdj4nKVswXTsKICAgICAgICAgICAgICAgIHBvcHVwXzg3N2I0YzMwYjlkODQ1YWE5NmZkMTJkZDc0MWNiZjM0LnNldENvbnRlbnQoaHRtbF9hNDQ4Njg3NjNjNjg0MTg5OGQwYWE5MjlmMWMxNzFmMyk7CiAgICAgICAgICAgIAoKICAgICAgICAgICAgY2lyY2xlX21hcmtlcl9jNTRjMTIwMjJkMDE0YWNlOTEwMjNlNTNmOGYzOTQ0Zi5iaW5kUG9wdXAocG9wdXBfODc3YjRjMzBiOWQ4NDVhYTk2ZmQxMmRkNzQxY2JmMzQpOwoKICAgICAgICAgICAgCiAgICAgICAgCiAgICAKICAgICAgICAgICAgdmFyIGNpcmNsZV9tYXJrZXJfNDAwYjc4OWMwYmY0NGY0NzgxZDIzNjU0NjhjMmY1NTQgPSBMLmNpcmNsZU1hcmtlcigKICAgICAgICAgICAgICAgIFs0My43MTYzMTYsLTc5LjIzOTQ3NjA5OTk5OTk5XSwKICAgICAgICAgICAgICAgIHsKICAiYnViYmxpbmdNb3VzZUV2ZW50cyI6IHRydWUsCiAgImNvbG9yIjogImJsdWUiLAogICJkYXNoQXJyYXkiOiBudWxsLAogICJkYXNoT2Zmc2V0IjogbnVsbCwKICAiZmlsbCI6IGZhbHNlLAogICJmaWxsQ29sb3IiOiAiIzMxODZjYyIsCiAgImZpbGxPcGFjaXR5IjogMC43LAogICJmaWxsUnVsZSI6ICJldmVub2RkIiwKICAibGluZUNhcCI6ICJyb3VuZCIsCiAgImxpbmVKb2luIjogInJvdW5kIiwKICAib3BhY2l0eSI6IDEuMCwKICAicmFkaXVzIjogNSwKICAic3Ryb2tlIjogdHJ1ZSwKICAid2VpZ2h0IjogMwp9CiAgICAgICAgICAgICAgICApLmFkZFRvKG1hcF83ZTQ1YmVlM2U3ZjY0NzI5OWFiOTljNjgxZGM0ZGUzNSk7CiAgICAgICAgICAgIAogICAgCiAgICAgICAgICAgIHZhciBwb3B1cF83ZTgzOWRjYWMyNmY0YjYyYWQ5YjgwODc3NmIzZWY2MiA9IEwucG9wdXAoe21heFdpZHRoOiAnMzAwJ30pOwoKICAgICAgICAgICAgCiAgICAgICAgICAgICAgICB2YXIgaHRtbF80YmY4MTM0NmRmMGQ0ODEyYjQxN2ExMzQ0YmQ2MzFmYyA9ICQoJzxkaXYgaWQ9Imh0bWxfNGJmODEzNDZkZjBkNDgxMmI0MTdhMTM0NGJkNjMxZmMiIHN0eWxlPSJ3aWR0aDogMTAwLjAlOyBoZWlnaHQ6IDEwMC4wJTsiPkNsaWZmc2lkZSwgQ2xpZmZjcmVzdCwgU2NhcmJvcm91Z2ggVmlsbGFnZSBXZXN0LCBTY2FyYm9yb3VnaDwvZGl2PicpWzBdOwogICAgICAgICAgICAgICAgcG9wdXBfN2U4MzlkY2FjMjZmNGI2MmFkOWI4MDg3NzZiM2VmNjIuc2V0Q29udGVudChodG1sXzRiZjgxMzQ2ZGYwZDQ4MTJiNDE3YTEzNDRiZDYzMWZjKTsKICAgICAgICAgICAgCgogICAgICAgICAgICBjaXJjbGVfbWFya2VyXzQwMGI3ODljMGJmNDRmNDc4MWQyMzY1NDY4YzJmNTU0LmJpbmRQb3B1cChwb3B1cF83ZTgzOWRjYWMyNmY0YjYyYWQ5YjgwODc3NmIzZWY2Mik7CgogICAgICAgICAgICAKICAgICAgICAKICAgIAogICAgICAgICAgICB2YXIgY2lyY2xlX21hcmtlcl82YmQ0NmZjYzNkN2U0ZTRlODM5MmUwNTg5Y2ZkNDY1YyA9IEwuY2lyY2xlTWFya2VyKAogICAgICAgICAgICAgICAgWzQzLjc4OTA1MywtNzkuNDA4NDkyNzk5OTk5OTldLAogICAgICAgICAgICAgICAgewogICJidWJibGluZ01vdXNlRXZlbnRzIjogdHJ1ZSwKICAiY29sb3IiOiAiYmx1ZSIsCiAgImRhc2hBcnJheSI6IG51bGwsCiAgImRhc2hPZmZzZXQiOiBudWxsLAogICJmaWxsIjogZmFsc2UsCiAgImZpbGxDb2xvciI6ICIjMzE4NmNjIiwKICAiZmlsbE9wYWNpdHkiOiAwLjcsCiAgImZpbGxSdWxlIjogImV2ZW5vZGQiLAogICJsaW5lQ2FwIjogInJvdW5kIiwKICAibGluZUpvaW4iOiAicm91bmQiLAogICJvcGFjaXR5IjogMS4wLAogICJyYWRpdXMiOiA1LAogICJzdHJva2UiOiB0cnVlLAogICJ3ZWlnaHQiOiAzCn0KICAgICAgICAgICAgICAgICkuYWRkVG8obWFwXzdlNDViZWUzZTdmNjQ3Mjk5YWI5OWM2ODFkYzRkZTM1KTsKICAgICAgICAgICAgCiAgICAKICAgICAgICAgICAgdmFyIHBvcHVwX2JhNDZlMjkyNjVlNDQ5MGQ4YjQ4NmNhNTZjN2I1MWZmID0gTC5wb3B1cCh7bWF4V2lkdGg6ICczMDAnfSk7CgogICAgICAgICAgICAKICAgICAgICAgICAgICAgIHZhciBodG1sXzcyN2UzNDEzZGU3YjQ1YjU5NTQ5ZjRhZTUxZWZkOGE5ID0gJCgnPGRpdiBpZD0iaHRtbF83MjdlMzQxM2RlN2I0NWI1OTU0OWY0YWU1MWVmZDhhOSIgc3R5bGU9IndpZHRoOiAxMDAuMCU7IGhlaWdodDogMTAwLjAlOyI+V2lsbG93ZGFsZSwgTmV3dG9uYnJvb2ssIE5vcnRoIFlvcms8L2Rpdj4nKVswXTsKICAgICAgICAgICAgICAgIHBvcHVwX2JhNDZlMjkyNjVlNDQ5MGQ4YjQ4NmNhNTZjN2I1MWZmLnNldENvbnRlbnQoaHRtbF83MjdlMzQxM2RlN2I0NWI1OTU0OWY0YWU1MWVmZDhhOSk7CiAgICAgICAgICAgIAoKICAgICAgICAgICAgY2lyY2xlX21hcmtlcl82YmQ0NmZjYzNkN2U0ZTRlODM5MmUwNTg5Y2ZkNDY1Yy5iaW5kUG9wdXAocG9wdXBfYmE0NmUyOTI2NWU0NDkwZDhiNDg2Y2E1NmM3YjUxZmYpOwoKICAgICAgICAgICAgCiAgICAgICAgCiAgICAKICAgICAgICAgICAgdmFyIGNpcmNsZV9tYXJrZXJfOGM2ZDU1Yjc3ODM2NGM1OTk5YWZlMTQxZjRlOWE3NDAgPSBMLmNpcmNsZU1hcmtlcigKICAgICAgICAgICAgICAgIFs0My43Mjg0OTY0LC03OS40OTU2OTc0MDAwMDAwMV0sCiAgICAgICAgICAgICAgICB7CiAgImJ1YmJsaW5nTW91c2VFdmVudHMiOiB0cnVlLAogICJjb2xvciI6ICJibHVlIiwKICAiZGFzaEFycmF5IjogbnVsbCwKICAiZGFzaE9mZnNldCI6IG51bGwsCiAgImZpbGwiOiBmYWxzZSwKICAiZmlsbENvbG9yIjogIiMzMTg2Y2MiLAogICJmaWxsT3BhY2l0eSI6IDAuNywKICAiZmlsbFJ1bGUiOiAiZXZlbm9kZCIsCiAgImxpbmVDYXAiOiAicm91bmQiLAogICJsaW5lSm9pbiI6ICJyb3VuZCIsCiAgIm9wYWNpdHkiOiAxLjAsCiAgInJhZGl1cyI6IDUsCiAgInN0cm9rZSI6IHRydWUsCiAgIndlaWdodCI6IDMKfQogICAgICAgICAgICAgICAgKS5hZGRUbyhtYXBfN2U0NWJlZTNlN2Y2NDcyOTlhYjk5YzY4MWRjNGRlMzUpOwogICAgICAgICAgICAKICAgIAogICAgICAgICAgICB2YXIgcG9wdXBfNDBkNGZiZTk4Y2NjNGY3Yjk1NDMyYzA3MzliNzllNTQgPSBMLnBvcHVwKHttYXhXaWR0aDogJzMwMCd9KTsKCiAgICAgICAgICAgIAogICAgICAgICAgICAgICAgdmFyIGh0bWxfMDFkNWQwNGJmODdlNGNmZGI3MWQyNjA5ODUwYzRjZTEgPSAkKCc8ZGl2IGlkPSJodG1sXzAxZDVkMDRiZjg3ZTRjZmRiNzFkMjYwOTg1MGM0Y2UxIiBzdHlsZT0id2lkdGg6IDEwMC4wJTsgaGVpZ2h0OiAxMDAuMCU7Ij5Eb3duc3ZpZXcsIE5vcnRoIFlvcms8L2Rpdj4nKVswXTsKICAgICAgICAgICAgICAgIHBvcHVwXzQwZDRmYmU5OGNjYzRmN2I5NTQzMmMwNzM5Yjc5ZTU0LnNldENvbnRlbnQoaHRtbF8wMWQ1ZDA0YmY4N2U0Y2ZkYjcxZDI2MDk4NTBjNGNlMSk7CiAgICAgICAgICAgIAoKICAgICAgICAgICAgY2lyY2xlX21hcmtlcl84YzZkNTViNzc4MzY0YzU5OTlhZmUxNDFmNGU5YTc0MC5iaW5kUG9wdXAocG9wdXBfNDBkNGZiZTk4Y2NjNGY3Yjk1NDMyYzA3MzliNzllNTQpOwoKICAgICAgICAgICAgCiAgICAgICAgCiAgICAKICAgICAgICAgICAgdmFyIGNpcmNsZV9tYXJrZXJfOTQ0NjQwMTdlMGM3NDQyNmJhNDNiOTY5ZjhlYzY4NDkgPSBMLmNpcmNsZU1hcmtlcigKICAgICAgICAgICAgICAgIFs0My42NTk1MjU1LC03OS4zNDA5MjNdLAogICAgICAgICAgICAgICAgewogICJidWJibGluZ01vdXNlRXZlbnRzIjogdHJ1ZSwKICAiY29sb3IiOiAiYmx1ZSIsCiAgImRhc2hBcnJheSI6IG51bGwsCiAgImRhc2hPZmZzZXQiOiBudWxsLAogICJmaWxsIjogZmFsc2UsCiAgImZpbGxDb2xvciI6ICIjMzE4NmNjIiwKICAiZmlsbE9wYWNpdHkiOiAwLjcsCiAgImZpbGxSdWxlIjogImV2ZW5vZGQiLAogICJsaW5lQ2FwIjogInJvdW5kIiwKICAibGluZUpvaW4iOiAicm91bmQiLAogICJvcGFjaXR5IjogMS4wLAogICJyYWRpdXMiOiA1LAogICJzdHJva2UiOiB0cnVlLAogICJ3ZWlnaHQiOiAzCn0KICAgICAgICAgICAgICAgICkuYWRkVG8obWFwXzdlNDViZWUzZTdmNjQ3Mjk5YWI5OWM2ODFkYzRkZTM1KTsKICAgICAgICAgICAgCiAgICAKICAgICAgICAgICAgdmFyIHBvcHVwXzNjMjMyZGI5NGJkODQ5ZDY4NDlkN2RiYzBiZTY5MzBiID0gTC5wb3B1cCh7bWF4V2lkdGg6ICczMDAnfSk7CgogICAgICAgICAgICAKICAgICAgICAgICAgICAgIHZhciBodG1sXzU3ODVmOTcyYjAxNTQwODNiZDFlMWVjZmM2ODc3OGE4ID0gJCgnPGRpdiBpZD0iaHRtbF81Nzg1Zjk3MmIwMTU0MDgzYmQxZTFlY2ZjNjg3NzhhOCIgc3R5bGU9IndpZHRoOiAxMDAuMCU7IGhlaWdodDogMTAwLjAlOyI+U3R1ZGlvIERpc3RyaWN0LCBFYXN0IFRvcm9udG88L2Rpdj4nKVswXTsKICAgICAgICAgICAgICAgIHBvcHVwXzNjMjMyZGI5NGJkODQ5ZDY4NDlkN2RiYzBiZTY5MzBiLnNldENvbnRlbnQoaHRtbF81Nzg1Zjk3MmIwMTU0MDgzYmQxZTFlY2ZjNjg3NzhhOCk7CiAgICAgICAgICAgIAoKICAgICAgICAgICAgY2lyY2xlX21hcmtlcl85NDQ2NDAxN2UwYzc0NDI2YmE0M2I5NjlmOGVjNjg0OS5iaW5kUG9wdXAocG9wdXBfM2MyMzJkYjk0YmQ4NDlkNjg0OWQ3ZGJjMGJlNjkzMGIpOwoKICAgICAgICAgICAgCiAgICAgICAgCiAgICAKICAgICAgICAgICAgdmFyIGNpcmNsZV9tYXJrZXJfNzExZTYwN2U5YzFlNDI2NDljYTBmYzJkMzk2MWVmNzEgPSBMLmNpcmNsZU1hcmtlcigKICAgICAgICAgICAgICAgIFs0My43MzMyODI1LC03OS40MTk3NDk3XSwKICAgICAgICAgICAgICAgIHsKICAiYnViYmxpbmdNb3VzZUV2ZW50cyI6IHRydWUsCiAgImNvbG9yIjogImJsdWUiLAogICJkYXNoQXJyYXkiOiBudWxsLAogICJkYXNoT2Zmc2V0IjogbnVsbCwKICAiZmlsbCI6IGZhbHNlLAogICJmaWxsQ29sb3IiOiAiIzMxODZjYyIsCiAgImZpbGxPcGFjaXR5IjogMC43LAogICJmaWxsUnVsZSI6ICJldmVub2RkIiwKICAibGluZUNhcCI6ICJyb3VuZCIsCiAgImxpbmVKb2luIjogInJvdW5kIiwKICAib3BhY2l0eSI6IDEuMCwKICAicmFkaXVzIjogNSwKICAic3Ryb2tlIjogdHJ1ZSwKICAid2VpZ2h0IjogMwp9CiAgICAgICAgICAgICAgICApLmFkZFRvKG1hcF83ZTQ1YmVlM2U3ZjY0NzI5OWFiOTljNjgxZGM0ZGUzNSk7CiAgICAgICAgICAgIAogICAgCiAgICAgICAgICAgIHZhciBwb3B1cF9hZjc1NTI0ZjY5YmQ0NWNiOWEyZDcxODZjZjJiMTBmMCA9IEwucG9wdXAoe21heFdpZHRoOiAnMzAwJ30pOwoKICAgICAgICAgICAgCiAgICAgICAgICAgICAgICB2YXIgaHRtbF8yYWI0NWI2ODI3Mzc0ZTNmODQ0MzQzMWQ4ZTA1ZjczYiA9ICQoJzxkaXYgaWQ9Imh0bWxfMmFiNDViNjgyNzM3NGUzZjg0NDM0MzFkOGUwNWY3M2IiIHN0eWxlPSJ3aWR0aDogMTAwLjAlOyBoZWlnaHQ6IDEwMC4wJTsiPkJlZGZvcmQgUGFyaywgTGF3cmVuY2UgTWFub3IgRWFzdCwgTm9ydGggWW9yazwvZGl2PicpWzBdOwogICAgICAgICAgICAgICAgcG9wdXBfYWY3NTUyNGY2OWJkNDVjYjlhMmQ3MTg2Y2YyYjEwZjAuc2V0Q29udGVudChodG1sXzJhYjQ1YjY4MjczNzRlM2Y4NDQzNDMxZDhlMDVmNzNiKTsKICAgICAgICAgICAgCgogICAgICAgICAgICBjaXJjbGVfbWFya2VyXzcxMWU2MDdlOWMxZTQyNjQ5Y2EwZmMyZDM5NjFlZjcxLmJpbmRQb3B1cChwb3B1cF9hZjc1NTI0ZjY5YmQ0NWNiOWEyZDcxODZjZjJiMTBmMCk7CgogICAgICAgICAgICAKICAgICAgICAKICAgIAogICAgICAgICAgICB2YXIgY2lyY2xlX21hcmtlcl81OWY3YWZmZTNiOTI0ZjM0YTRkN2RhZDdmZGMzODE0ZSA9IEwuY2lyY2xlTWFya2VyKAogICAgICAgICAgICAgICAgWzQzLjY5MTExNTgsLTc5LjQ3NjAxMzI5OTk5OTk5XSwKICAgICAgICAgICAgICAgIHsKICAiYnViYmxpbmdNb3VzZUV2ZW50cyI6IHRydWUsCiAgImNvbG9yIjogImJsdWUiLAogICJkYXNoQXJyYXkiOiBudWxsLAogICJkYXNoT2Zmc2V0IjogbnVsbCwKICAiZmlsbCI6IGZhbHNlLAogICJmaWxsQ29sb3IiOiAiIzMxODZjYyIsCiAgImZpbGxPcGFjaXR5IjogMC43LAogICJmaWxsUnVsZSI6ICJldmVub2RkIiwKICAibGluZUNhcCI6ICJyb3VuZCIsCiAgImxpbmVKb2luIjogInJvdW5kIiwKICAib3BhY2l0eSI6IDEuMCwKICAicmFkaXVzIjogNSwKICAic3Ryb2tlIjogdHJ1ZSwKICAid2VpZ2h0IjogMwp9CiAgICAgICAgICAgICAgICApLmFkZFRvKG1hcF83ZTQ1YmVlM2U3ZjY0NzI5OWFiOTljNjgxZGM0ZGUzNSk7CiAgICAgICAgICAgIAogICAgCiAgICAgICAgICAgIHZhciBwb3B1cF85ODIwYWJhZmE0N2M0MzRhYTMwMTYyMzg5NDc3ZDlmNyA9IEwucG9wdXAoe21heFdpZHRoOiAnMzAwJ30pOwoKICAgICAgICAgICAgCiAgICAgICAgICAgICAgICB2YXIgaHRtbF9jMzIzN2YwMDVhMjA0OTc3OGJhZGFhN2JlYjBjMzYwNyA9ICQoJzxkaXYgaWQ9Imh0bWxfYzMyMzdmMDA1YTIwNDk3NzhiYWRhYTdiZWIwYzM2MDciIHN0eWxlPSJ3aWR0aDogMTAwLjAlOyBoZWlnaHQ6IDEwMC4wJTsiPkRlbCBSYXksIE1vdW50IERlbm5pcywgS2VlbHNkYWxlIGFuZCBTaWx2ZXJ0aG9ybiwgWW9yazwvZGl2PicpWzBdOwogICAgICAgICAgICAgICAgcG9wdXBfOTgyMGFiYWZhNDdjNDM0YWEzMDE2MjM4OTQ3N2Q5Zjcuc2V0Q29udGVudChodG1sX2MzMjM3ZjAwNWEyMDQ5Nzc4YmFkYWE3YmViMGMzNjA3KTsKICAgICAgICAgICAgCgogICAgICAgICAgICBjaXJjbGVfbWFya2VyXzU5ZjdhZmZlM2I5MjRmMzRhNGQ3ZGFkN2ZkYzM4MTRlLmJpbmRQb3B1cChwb3B1cF85ODIwYWJhZmE0N2M0MzRhYTMwMTYyMzg5NDc3ZDlmNyk7CgogICAgICAgICAgICAKICAgICAgICAKICAgIAogICAgICAgICAgICB2YXIgY2lyY2xlX21hcmtlcl9iZWY0MGZmYTY3MGM0YmZjOWE1ZjNjYTZjY2MxMzU0MyA9IEwuY2lyY2xlTWFya2VyKAogICAgICAgICAgICAgICAgWzQzLjcyNDc2NTksLTc5LjUzMjI0MjQwMDAwMDAyXSwKICAgICAgICAgICAgICAgIHsKICAiYnViYmxpbmdNb3VzZUV2ZW50cyI6IHRydWUsCiAgImNvbG9yIjogImJsdWUiLAogICJkYXNoQXJyYXkiOiBudWxsLAogICJkYXNoT2Zmc2V0IjogbnVsbCwKICAiZmlsbCI6IGZhbHNlLAogICJmaWxsQ29sb3IiOiAiIzMxODZjYyIsCiAgImZpbGxPcGFjaXR5IjogMC43LAogICJmaWxsUnVsZSI6ICJldmVub2RkIiwKICAibGluZUNhcCI6ICJyb3VuZCIsCiAgImxpbmVKb2luIjogInJvdW5kIiwKICAib3BhY2l0eSI6IDEuMCwKICAicmFkaXVzIjogNSwKICAic3Ryb2tlIjogdHJ1ZSwKICAid2VpZ2h0IjogMwp9CiAgICAgICAgICAgICAgICApLmFkZFRvKG1hcF83ZTQ1YmVlM2U3ZjY0NzI5OWFiOTljNjgxZGM0ZGUzNSk7CiAgICAgICAgICAgIAogICAgCiAgICAgICAgICAgIHZhciBwb3B1cF83ZjU2ZTkzNmZmMjY0NWQzYTkzNTIzNDU2OTkzNGVkYyA9IEwucG9wdXAoe21heFdpZHRoOiAnMzAwJ30pOwoKICAgICAgICAgICAgCiAgICAgICAgICAgICAgICB2YXIgaHRtbF8xYWE0ZTU5ZTllMWI0ZmM1YmJmNzk0N2FiYjRiODhjMSA9ICQoJzxkaXYgaWQ9Imh0bWxfMWFhNGU1OWU5ZTFiNGZjNWJiZjc5NDdhYmI0Yjg4YzEiIHN0eWxlPSJ3aWR0aDogMTAwLjAlOyBoZWlnaHQ6IDEwMC4wJTsiPkh1bWJlcmxlYSwgRW1lcnksIE5vcnRoIFlvcms8L2Rpdj4nKVswXTsKICAgICAgICAgICAgICAgIHBvcHVwXzdmNTZlOTM2ZmYyNjQ1ZDNhOTM1MjM0NTY5OTM0ZWRjLnNldENvbnRlbnQoaHRtbF8xYWE0ZTU5ZTllMWI0ZmM1YmJmNzk0N2FiYjRiODhjMSk7CiAgICAgICAgICAgIAoKICAgICAgICAgICAgY2lyY2xlX21hcmtlcl9iZWY0MGZmYTY3MGM0YmZjOWE1ZjNjYTZjY2MxMzU0My5iaW5kUG9wdXAocG9wdXBfN2Y1NmU5MzZmZjI2NDVkM2E5MzUyMzQ1Njk5MzRlZGMpOwoKICAgICAgICAgICAgCiAgICAgICAgCiAgICAKICAgICAgICAgICAgdmFyIGNpcmNsZV9tYXJrZXJfMmNkMzZkNWZjYWViNGJhNTkxNjQ4ODE1MzA2M2JhNWMgPSBMLmNpcmNsZU1hcmtlcigKICAgICAgICAgICAgICAgIFs0My42OTI2NTcwMDAwMDAwMDQsLTc5LjI2NDg0ODFdLAogICAgICAgICAgICAgICAgewogICJidWJibGluZ01vdXNlRXZlbnRzIjogdHJ1ZSwKICAiY29sb3IiOiAiYmx1ZSIsCiAgImRhc2hBcnJheSI6IG51bGwsCiAgImRhc2hPZmZzZXQiOiBudWxsLAogICJmaWxsIjogZmFsc2UsCiAgImZpbGxDb2xvciI6ICIjMzE4NmNjIiwKICAiZmlsbE9wYWNpdHkiOiAwLjcsCiAgImZpbGxSdWxlIjogImV2ZW5vZGQiLAogICJsaW5lQ2FwIjogInJvdW5kIiwKICAibGluZUpvaW4iOiAicm91bmQiLAogICJvcGFjaXR5IjogMS4wLAogICJyYWRpdXMiOiA1LAogICJzdHJva2UiOiB0cnVlLAogICJ3ZWlnaHQiOiAzCn0KICAgICAgICAgICAgICAgICkuYWRkVG8obWFwXzdlNDViZWUzZTdmNjQ3Mjk5YWI5OWM2ODFkYzRkZTM1KTsKICAgICAgICAgICAgCiAgICAKICAgICAgICAgICAgdmFyIHBvcHVwXzkzZjA2OTA2YTRkZjRiNDdiZGI5YjQwOTVlOTQ0NjZjID0gTC5wb3B1cCh7bWF4V2lkdGg6ICczMDAnfSk7CgogICAgICAgICAgICAKICAgICAgICAgICAgICAgIHZhciBodG1sXzkwNjJmZTNiZDYxMzRiZDA4YjVkMzU0NzhkZWU2ZDljID0gJCgnPGRpdiBpZD0iaHRtbF85MDYyZmUzYmQ2MTM0YmQwOGI1ZDM1NDc4ZGVlNmQ5YyIgc3R5bGU9IndpZHRoOiAxMDAuMCU7IGhlaWdodDogMTAwLjAlOyI+QmlyY2ggQ2xpZmYsIENsaWZmc2lkZSBXZXN0LCBTY2FyYm9yb3VnaDwvZGl2PicpWzBdOwogICAgICAgICAgICAgICAgcG9wdXBfOTNmMDY5MDZhNGRmNGI0N2JkYjliNDA5NWU5NDQ2NmMuc2V0Q29udGVudChodG1sXzkwNjJmZTNiZDYxMzRiZDA4YjVkMzU0NzhkZWU2ZDljKTsKICAgICAgICAgICAgCgogICAgICAgICAgICBjaXJjbGVfbWFya2VyXzJjZDM2ZDVmY2FlYjRiYTU5MTY0ODgxNTMwNjNiYTVjLmJpbmRQb3B1cChwb3B1cF85M2YwNjkwNmE0ZGY0YjQ3YmRiOWI0MDk1ZTk0NDY2Yyk7CgogICAgICAgICAgICAKICAgICAgICAKICAgIAogICAgICAgICAgICB2YXIgY2lyY2xlX21hcmtlcl85N2U5YWRhYjUzNTg0MWJmYmNkZThhZjgzNDkxMGUyYyA9IEwuY2lyY2xlTWFya2VyKAogICAgICAgICAgICAgICAgWzQzLjc3MDExOTksLTc5LjQwODQ5Mjc5OTk5OTk5XSwKICAgICAgICAgICAgICAgIHsKICAiYnViYmxpbmdNb3VzZUV2ZW50cyI6IHRydWUsCiAgImNvbG9yIjogImJsdWUiLAogICJkYXNoQXJyYXkiOiBudWxsLAogICJkYXNoT2Zmc2V0IjogbnVsbCwKICAiZmlsbCI6IGZhbHNlLAogICJmaWxsQ29sb3IiOiAiIzMxODZjYyIsCiAgImZpbGxPcGFjaXR5IjogMC43LAogICJmaWxsUnVsZSI6ICJldmVub2RkIiwKICAibGluZUNhcCI6ICJyb3VuZCIsCiAgImxpbmVKb2luIjogInJvdW5kIiwKICAib3BhY2l0eSI6IDEuMCwKICAicmFkaXVzIjogNSwKICAic3Ryb2tlIjogdHJ1ZSwKICAid2VpZ2h0IjogMwp9CiAgICAgICAgICAgICAgICApLmFkZFRvKG1hcF83ZTQ1YmVlM2U3ZjY0NzI5OWFiOTljNjgxZGM0ZGUzNSk7CiAgICAgICAgICAgIAogICAgCiAgICAgICAgICAgIHZhciBwb3B1cF84NGQyMjkyMjViNGE0NWMyODBlOGIzOGZjMjI2YWMyMyA9IEwucG9wdXAoe21heFdpZHRoOiAnMzAwJ30pOwoKICAgICAgICAgICAgCiAgICAgICAgICAgICAgICB2YXIgaHRtbF8yOGMxY2U0NTVlMGM0Yzg5YTI1NzA2NDdlNzQ1YWViZiA9ICQoJzxkaXYgaWQ9Imh0bWxfMjhjMWNlNDU1ZTBjNGM4OWEyNTcwNjQ3ZTc0NWFlYmYiIHN0eWxlPSJ3aWR0aDogMTAwLjAlOyBoZWlnaHQ6IDEwMC4wJTsiPldpbGxvd2RhbGUsIFdpbGxvd2RhbGUgRWFzdCwgTm9ydGggWW9yazwvZGl2PicpWzBdOwogICAgICAgICAgICAgICAgcG9wdXBfODRkMjI5MjI1YjRhNDVjMjgwZThiMzhmYzIyNmFjMjMuc2V0Q29udGVudChodG1sXzI4YzFjZTQ1NWUwYzRjODlhMjU3MDY0N2U3NDVhZWJmKTsKICAgICAgICAgICAgCgogICAgICAgICAgICBjaXJjbGVfbWFya2VyXzk3ZTlhZGFiNTM1ODQxYmZiY2RlOGFmODM0OTEwZTJjLmJpbmRQb3B1cChwb3B1cF84NGQyMjkyMjViNGE0NWMyODBlOGIzOGZjMjI2YWMyMyk7CgogICAgICAgICAgICAKICAgICAgICAKICAgIAogICAgICAgICAgICB2YXIgY2lyY2xlX21hcmtlcl9hZWM0OTNhYTUzOWY0ZGNmYjVhZWVmZGJiYmQwNzg0ZCA9IEwuY2lyY2xlTWFya2VyKAogICAgICAgICAgICAgICAgWzQzLjc2MTYzMTMsLTc5LjUyMDk5OTQwMDAwMDAxXSwKICAgICAgICAgICAgICAgIHsKICAiYnViYmxpbmdNb3VzZUV2ZW50cyI6IHRydWUsCiAgImNvbG9yIjogImJsdWUiLAogICJkYXNoQXJyYXkiOiBudWxsLAogICJkYXNoT2Zmc2V0IjogbnVsbCwKICAiZmlsbCI6IGZhbHNlLAogICJmaWxsQ29sb3IiOiAiIzMxODZjYyIsCiAgImZpbGxPcGFjaXR5IjogMC43LAogICJmaWxsUnVsZSI6ICJldmVub2RkIiwKICAibGluZUNhcCI6ICJyb3VuZCIsCiAgImxpbmVKb2luIjogInJvdW5kIiwKICAib3BhY2l0eSI6IDEuMCwKICAicmFkaXVzIjogNSwKICAic3Ryb2tlIjogdHJ1ZSwKICAid2VpZ2h0IjogMwp9CiAgICAgICAgICAgICAgICApLmFkZFRvKG1hcF83ZTQ1YmVlM2U3ZjY0NzI5OWFiOTljNjgxZGM0ZGUzNSk7CiAgICAgICAgICAgIAogICAgCiAgICAgICAgICAgIHZhciBwb3B1cF8wNThiZTExYWQ4ZmI0YzU2YTkxZjExZWM1Y2QwYzIxZSA9IEwucG9wdXAoe21heFdpZHRoOiAnMzAwJ30pOwoKICAgICAgICAgICAgCiAgICAgICAgICAgICAgICB2YXIgaHRtbF9jYmQ2ZDIwNWI3OWI0YmFlODQ3YmUyNzE1ZGMyNDhjMSA9ICQoJzxkaXYgaWQ9Imh0bWxfY2JkNmQyMDViNzliNGJhZTg0N2JlMjcxNWRjMjQ4YzEiIHN0eWxlPSJ3aWR0aDogMTAwLjAlOyBoZWlnaHQ6IDEwMC4wJTsiPkRvd25zdmlldywgTm9ydGggWW9yazwvZGl2PicpWzBdOwogICAgICAgICAgICAgICAgcG9wdXBfMDU4YmUxMWFkOGZiNGM1NmE5MWYxMWVjNWNkMGMyMWUuc2V0Q29udGVudChodG1sX2NiZDZkMjA1Yjc5YjRiYWU4NDdiZTI3MTVkYzI0OGMxKTsKICAgICAgICAgICAgCgogICAgICAgICAgICBjaXJjbGVfbWFya2VyX2FlYzQ5M2FhNTM5ZjRkY2ZiNWFlZWZkYmJiZDA3ODRkLmJpbmRQb3B1cChwb3B1cF8wNThiZTExYWQ4ZmI0YzU2YTkxZjExZWM1Y2QwYzIxZSk7CgogICAgICAgICAgICAKICAgICAgICAKICAgIAogICAgICAgICAgICB2YXIgY2lyY2xlX21hcmtlcl9hYTFkYWRjMzFjYTg0ZTQ4YjJjMzM1ZTU4YTgyMzY4NSA9IEwuY2lyY2xlTWFya2VyKAogICAgICAgICAgICAgICAgWzQzLjcyODAyMDUsLTc5LjM4ODc5MDFdLAogICAgICAgICAgICAgICAgewogICJidWJibGluZ01vdXNlRXZlbnRzIjogdHJ1ZSwKICAiY29sb3IiOiAiYmx1ZSIsCiAgImRhc2hBcnJheSI6IG51bGwsCiAgImRhc2hPZmZzZXQiOiBudWxsLAogICJmaWxsIjogZmFsc2UsCiAgImZpbGxDb2xvciI6ICIjMzE4NmNjIiwKICAiZmlsbE9wYWNpdHkiOiAwLjcsCiAgImZpbGxSdWxlIjogImV2ZW5vZGQiLAogICJsaW5lQ2FwIjogInJvdW5kIiwKICAibGluZUpvaW4iOiAicm91bmQiLAogICJvcGFjaXR5IjogMS4wLAogICJyYWRpdXMiOiA1LAogICJzdHJva2UiOiB0cnVlLAogICJ3ZWlnaHQiOiAzCn0KICAgICAgICAgICAgICAgICkuYWRkVG8obWFwXzdlNDViZWUzZTdmNjQ3Mjk5YWI5OWM2ODFkYzRkZTM1KTsKICAgICAgICAgICAgCiAgICAKICAgICAgICAgICAgdmFyIHBvcHVwX2Q1NWI1YzA2NDE2MTQ0ZmE5ZjQ0OGU4NGQwMzcyYTI5ID0gTC5wb3B1cCh7bWF4V2lkdGg6ICczMDAnfSk7CgogICAgICAgICAgICAKICAgICAgICAgICAgICAgIHZhciBodG1sXzIzYTFkOWU2MDMzMjRmNDJhZjA5MDhkMDE3M2U1NzkzID0gJCgnPGRpdiBpZD0iaHRtbF8yM2ExZDllNjAzMzI0ZjQyYWYwOTA4ZDAxNzNlNTc5MyIgc3R5bGU9IndpZHRoOiAxMDAuMCU7IGhlaWdodDogMTAwLjAlOyI+TGF3cmVuY2UgUGFyaywgQ2VudHJhbCBUb3JvbnRvPC9kaXY+JylbMF07CiAgICAgICAgICAgICAgICBwb3B1cF9kNTViNWMwNjQxNjE0NGZhOWY0NDhlODRkMDM3MmEyOS5zZXRDb250ZW50KGh0bWxfMjNhMWQ5ZTYwMzMyNGY0MmFmMDkwOGQwMTczZTU3OTMpOwogICAgICAgICAgICAKCiAgICAgICAgICAgIGNpcmNsZV9tYXJrZXJfYWExZGFkYzMxY2E4NGU0OGIyYzMzNWU1OGE4MjM2ODUuYmluZFBvcHVwKHBvcHVwX2Q1NWI1YzA2NDE2MTQ0ZmE5ZjQ0OGU4NGQwMzcyYTI5KTsKCiAgICAgICAgICAgIAogICAgICAgIAogICAgCiAgICAgICAgICAgIHZhciBjaXJjbGVfbWFya2VyX2IyN2E3ZTdjMjdkYTQ3MjJhNjFlYjM2NTE5NTc0OGU4ID0gTC5jaXJjbGVNYXJrZXIoCiAgICAgICAgICAgICAgICBbNDMuNzExNjk0OCwtNzkuNDE2OTM1NTk5OTk5OTldLAogICAgICAgICAgICAgICAgewogICJidWJibGluZ01vdXNlRXZlbnRzIjogdHJ1ZSwKICAiY29sb3IiOiAiYmx1ZSIsCiAgImRhc2hBcnJheSI6IG51bGwsCiAgImRhc2hPZmZzZXQiOiBudWxsLAogICJmaWxsIjogZmFsc2UsCiAgImZpbGxDb2xvciI6ICIjMzE4NmNjIiwKICAiZmlsbE9wYWNpdHkiOiAwLjcsCiAgImZpbGxSdWxlIjogImV2ZW5vZGQiLAogICJsaW5lQ2FwIjogInJvdW5kIiwKICAibGluZUpvaW4iOiAicm91bmQiLAogICJvcGFjaXR5IjogMS4wLAogICJyYWRpdXMiOiA1LAogICJzdHJva2UiOiB0cnVlLAogICJ3ZWlnaHQiOiAzCn0KICAgICAgICAgICAgICAgICkuYWRkVG8obWFwXzdlNDViZWUzZTdmNjQ3Mjk5YWI5OWM2ODFkYzRkZTM1KTsKICAgICAgICAgICAgCiAgICAKICAgICAgICAgICAgdmFyIHBvcHVwXzdjYjQ4ZjBkNzU1ZDQwYmNiYTVjNDVmYWJkOGIyMDg2ID0gTC5wb3B1cCh7bWF4V2lkdGg6ICczMDAnfSk7CgogICAgICAgICAgICAKICAgICAgICAgICAgICAgIHZhciBodG1sXzMxMzNkOWEwYTBlYzRlYjk5YThkOGY3NTU5ZDU0OWEzID0gJCgnPGRpdiBpZD0iaHRtbF8zMTMzZDlhMGEwZWM0ZWI5OWE4ZDhmNzU1OWQ1NDlhMyIgc3R5bGU9IndpZHRoOiAxMDAuMCU7IGhlaWdodDogMTAwLjAlOyI+Um9zZWxhd24sIENlbnRyYWwgVG9yb250bzwvZGl2PicpWzBdOwogICAgICAgICAgICAgICAgcG9wdXBfN2NiNDhmMGQ3NTVkNDBiY2JhNWM0NWZhYmQ4YjIwODYuc2V0Q29udGVudChodG1sXzMxMzNkOWEwYTBlYzRlYjk5YThkOGY3NTU5ZDU0OWEzKTsKICAgICAgICAgICAgCgogICAgICAgICAgICBjaXJjbGVfbWFya2VyX2IyN2E3ZTdjMjdkYTQ3MjJhNjFlYjM2NTE5NTc0OGU4LmJpbmRQb3B1cChwb3B1cF83Y2I0OGYwZDc1NWQ0MGJjYmE1YzQ1ZmFiZDhiMjA4Nik7CgogICAgICAgICAgICAKICAgICAgICAKICAgIAogICAgICAgICAgICB2YXIgY2lyY2xlX21hcmtlcl84ZWM3YTkxMTc4NTQ0ZTdhOTQxODI0MDI0Nzg1NjA5OCA9IEwuY2lyY2xlTWFya2VyKAogICAgICAgICAgICAgICAgWzQzLjY3MzE4NTI5OTk5OTk5LC03OS40ODcyNjE5MDAwMDAwMV0sCiAgICAgICAgICAgICAgICB7CiAgImJ1YmJsaW5nTW91c2VFdmVudHMiOiB0cnVlLAogICJjb2xvciI6ICJibHVlIiwKICAiZGFzaEFycmF5IjogbnVsbCwKICAiZGFzaE9mZnNldCI6IG51bGwsCiAgImZpbGwiOiBmYWxzZSwKICAiZmlsbENvbG9yIjogIiMzMTg2Y2MiLAogICJmaWxsT3BhY2l0eSI6IDAuNywKICAiZmlsbFJ1bGUiOiAiZXZlbm9kZCIsCiAgImxpbmVDYXAiOiAicm91bmQiLAogICJsaW5lSm9pbiI6ICJyb3VuZCIsCiAgIm9wYWNpdHkiOiAxLjAsCiAgInJhZGl1cyI6IDUsCiAgInN0cm9rZSI6IHRydWUsCiAgIndlaWdodCI6IDMKfQogICAgICAgICAgICAgICAgKS5hZGRUbyhtYXBfN2U0NWJlZTNlN2Y2NDcyOTlhYjk5YzY4MWRjNGRlMzUpOwogICAgICAgICAgICAKICAgIAogICAgICAgICAgICB2YXIgcG9wdXBfOWE5NWE3OGQ1NzZhNDc1YThjNDVjNWNmZDlhMGJlMmMgPSBMLnBvcHVwKHttYXhXaWR0aDogJzMwMCd9KTsKCiAgICAgICAgICAgIAogICAgICAgICAgICAgICAgdmFyIGh0bWxfZDE0NWUxMTE2ZDVmNGNlYzkwZGFiMjAyZTM3YTliYjIgPSAkKCc8ZGl2IGlkPSJodG1sX2QxNDVlMTExNmQ1ZjRjZWM5MGRhYjIwMmUzN2E5YmIyIiBzdHlsZT0id2lkdGg6IDEwMC4wJTsgaGVpZ2h0OiAxMDAuMCU7Ij5SdW5ueW1lZGUsIFRoZSBKdW5jdGlvbiBOb3J0aCwgWW9yazwvZGl2PicpWzBdOwogICAgICAgICAgICAgICAgcG9wdXBfOWE5NWE3OGQ1NzZhNDc1YThjNDVjNWNmZDlhMGJlMmMuc2V0Q29udGVudChodG1sX2QxNDVlMTExNmQ1ZjRjZWM5MGRhYjIwMmUzN2E5YmIyKTsKICAgICAgICAgICAgCgogICAgICAgICAgICBjaXJjbGVfbWFya2VyXzhlYzdhOTExNzg1NDRlN2E5NDE4MjQwMjQ3ODU2MDk4LmJpbmRQb3B1cChwb3B1cF85YTk1YTc4ZDU3NmE0NzVhOGM0NWM1Y2ZkOWEwYmUyYyk7CgogICAgICAgICAgICAKICAgICAgICAKICAgIAogICAgICAgICAgICB2YXIgY2lyY2xlX21hcmtlcl84MmIyZTVmYTA5YzE0YTE1YTM1MmYxYTBmOWMzOWZkYSA9IEwuY2lyY2xlTWFya2VyKAogICAgICAgICAgICAgICAgWzQzLjcwNjg3NiwtNzkuNTE4MTg4NDAwMDAwMDFdLAogICAgICAgICAgICAgICAgewogICJidWJibGluZ01vdXNlRXZlbnRzIjogdHJ1ZSwKICAiY29sb3IiOiAiYmx1ZSIsCiAgImRhc2hBcnJheSI6IG51bGwsCiAgImRhc2hPZmZzZXQiOiBudWxsLAogICJmaWxsIjogZmFsc2UsCiAgImZpbGxDb2xvciI6ICIjMzE4NmNjIiwKICAiZmlsbE9wYWNpdHkiOiAwLjcsCiAgImZpbGxSdWxlIjogImV2ZW5vZGQiLAogICJsaW5lQ2FwIjogInJvdW5kIiwKICAibGluZUpvaW4iOiAicm91bmQiLAogICJvcGFjaXR5IjogMS4wLAogICJyYWRpdXMiOiA1LAogICJzdHJva2UiOiB0cnVlLAogICJ3ZWlnaHQiOiAzCn0KICAgICAgICAgICAgICAgICkuYWRkVG8obWFwXzdlNDViZWUzZTdmNjQ3Mjk5YWI5OWM2ODFkYzRkZTM1KTsKICAgICAgICAgICAgCiAgICAKICAgICAgICAgICAgdmFyIHBvcHVwXzhjMDgxODM5MDFiZTRhN2ZhOTBhMjMyMmM4MmVhM2RhID0gTC5wb3B1cCh7bWF4V2lkdGg6ICczMDAnfSk7CgogICAgICAgICAgICAKICAgICAgICAgICAgICAgIHZhciBodG1sX2I4NTEzMTFhZmRkNDQ2OThhZDAwYWUzNjFhNDk0NGE2ID0gJCgnPGRpdiBpZD0iaHRtbF9iODUxMzExYWZkZDQ0Njk4YWQwMGFlMzYxYTQ5NDRhNiIgc3R5bGU9IndpZHRoOiAxMDAuMCU7IGhlaWdodDogMTAwLjAlOyI+V2VzdG9uLCBZb3JrPC9kaXY+JylbMF07CiAgICAgICAgICAgICAgICBwb3B1cF84YzA4MTgzOTAxYmU0YTdmYTkwYTIzMjJjODJlYTNkYS5zZXRDb250ZW50KGh0bWxfYjg1MTMxMWFmZGQ0NDY5OGFkMDBhZTM2MWE0OTQ0YTYpOwogICAgICAgICAgICAKCiAgICAgICAgICAgIGNpcmNsZV9tYXJrZXJfODJiMmU1ZmEwOWMxNGExNWEzNTJmMWEwZjljMzlmZGEuYmluZFBvcHVwKHBvcHVwXzhjMDgxODM5MDFiZTRhN2ZhOTBhMjMyMmM4MmVhM2RhKTsKCiAgICAgICAgICAgIAogICAgICAgIAogICAgCiAgICAgICAgICAgIHZhciBjaXJjbGVfbWFya2VyX2Y4MTlkMDM4YjY4YTQ4MTQ5MzNiMGZlMjliZDg3NWQ0ID0gTC5jaXJjbGVNYXJrZXIoCiAgICAgICAgICAgICAgICBbNDMuNzU3NDA5NiwtNzkuMjczMzA0MDAwMDAwMDFdLAogICAgICAgICAgICAgICAgewogICJidWJibGluZ01vdXNlRXZlbnRzIjogdHJ1ZSwKICAiY29sb3IiOiAiYmx1ZSIsCiAgImRhc2hBcnJheSI6IG51bGwsCiAgImRhc2hPZmZzZXQiOiBudWxsLAogICJmaWxsIjogZmFsc2UsCiAgImZpbGxDb2xvciI6ICIjMzE4NmNjIiwKICAiZmlsbE9wYWNpdHkiOiAwLjcsCiAgImZpbGxSdWxlIjogImV2ZW5vZGQiLAogICJsaW5lQ2FwIjogInJvdW5kIiwKICAibGluZUpvaW4iOiAicm91bmQiLAogICJvcGFjaXR5IjogMS4wLAogICJyYWRpdXMiOiA1LAogICJzdHJva2UiOiB0cnVlLAogICJ3ZWlnaHQiOiAzCn0KICAgICAgICAgICAgICAgICkuYWRkVG8obWFwXzdlNDViZWUzZTdmNjQ3Mjk5YWI5OWM2ODFkYzRkZTM1KTsKICAgICAgICAgICAgCiAgICAKICAgICAgICAgICAgdmFyIHBvcHVwX2QwNjU3N2Y3M2JmYzQ5M2M5YTQwYzgzN2NiZDhiMGQyID0gTC5wb3B1cCh7bWF4V2lkdGg6ICczMDAnfSk7CgogICAgICAgICAgICAKICAgICAgICAgICAgICAgIHZhciBodG1sX2FhMGI2NjIxNTNmYjQzMmVhMjllMWQwMDQ5ZjljMGQ2ID0gJCgnPGRpdiBpZD0iaHRtbF9hYTBiNjYyMTUzZmI0MzJlYTI5ZTFkMDA0OWY5YzBkNiIgc3R5bGU9IndpZHRoOiAxMDAuMCU7IGhlaWdodDogMTAwLjAlOyI+RG9yc2V0IFBhcmssIFdleGZvcmQgSGVpZ2h0cywgU2NhcmJvcm91Z2ggVG93biBDZW50cmUsIFNjYXJib3JvdWdoPC9kaXY+JylbMF07CiAgICAgICAgICAgICAgICBwb3B1cF9kMDY1NzdmNzNiZmM0OTNjOWE0MGM4MzdjYmQ4YjBkMi5zZXRDb250ZW50KGh0bWxfYWEwYjY2MjE1M2ZiNDMyZWEyOWUxZDAwNDlmOWMwZDYpOwogICAgICAgICAgICAKCiAgICAgICAgICAgIGNpcmNsZV9tYXJrZXJfZjgxOWQwMzhiNjhhNDgxNDkzM2IwZmUyOWJkODc1ZDQuYmluZFBvcHVwKHBvcHVwX2QwNjU3N2Y3M2JmYzQ5M2M5YTQwYzgzN2NiZDhiMGQyKTsKCiAgICAgICAgICAgIAogICAgICAgIAogICAgCiAgICAgICAgICAgIHZhciBjaXJjbGVfbWFya2VyX2Y2OWQ1MWIxMGU0OTQ4NGM5ZmRhZTdiOWNlNGIxNTRlID0gTC5jaXJjbGVNYXJrZXIoCiAgICAgICAgICAgICAgICBbNDMuNzUyNzU4Mjk5OTk5OTk2LC03OS40MDAwNDkzXSwKICAgICAgICAgICAgICAgIHsKICAiYnViYmxpbmdNb3VzZUV2ZW50cyI6IHRydWUsCiAgImNvbG9yIjogImJsdWUiLAogICJkYXNoQXJyYXkiOiBudWxsLAogICJkYXNoT2Zmc2V0IjogbnVsbCwKICAiZmlsbCI6IGZhbHNlLAogICJmaWxsQ29sb3IiOiAiIzMxODZjYyIsCiAgImZpbGxPcGFjaXR5IjogMC43LAogICJmaWxsUnVsZSI6ICJldmVub2RkIiwKICAibGluZUNhcCI6ICJyb3VuZCIsCiAgImxpbmVKb2luIjogInJvdW5kIiwKICAib3BhY2l0eSI6IDEuMCwKICAicmFkaXVzIjogNSwKICAic3Ryb2tlIjogdHJ1ZSwKICAid2VpZ2h0IjogMwp9CiAgICAgICAgICAgICAgICApLmFkZFRvKG1hcF83ZTQ1YmVlM2U3ZjY0NzI5OWFiOTljNjgxZGM0ZGUzNSk7CiAgICAgICAgICAgIAogICAgCiAgICAgICAgICAgIHZhciBwb3B1cF9kOWQwMDgxZWJmYTU0NjUxYWMwOTk4ZTliOTVkYTRiMSA9IEwucG9wdXAoe21heFdpZHRoOiAnMzAwJ30pOwoKICAgICAgICAgICAgCiAgICAgICAgICAgICAgICB2YXIgaHRtbF80YTFlOTU3NDVmMGY0NDE1YTEzNjExOWQ1Yjg5ZTc1ZiA9ICQoJzxkaXYgaWQ9Imh0bWxfNGExZTk1NzQ1ZjBmNDQxNWExMzYxMTlkNWI4OWU3NWYiIHN0eWxlPSJ3aWR0aDogMTAwLjAlOyBoZWlnaHQ6IDEwMC4wJTsiPllvcmsgTWlsbHMgV2VzdCwgTm9ydGggWW9yazwvZGl2PicpWzBdOwogICAgICAgICAgICAgICAgcG9wdXBfZDlkMDA4MWViZmE1NDY1MWFjMDk5OGU5Yjk1ZGE0YjEuc2V0Q29udGVudChodG1sXzRhMWU5NTc0NWYwZjQ0MTVhMTM2MTE5ZDViODllNzVmKTsKICAgICAgICAgICAgCgogICAgICAgICAgICBjaXJjbGVfbWFya2VyX2Y2OWQ1MWIxMGU0OTQ4NGM5ZmRhZTdiOWNlNGIxNTRlLmJpbmRQb3B1cChwb3B1cF9kOWQwMDgxZWJmYTU0NjUxYWMwOTk4ZTliOTVkYTRiMSk7CgogICAgICAgICAgICAKICAgICAgICAKICAgIAogICAgICAgICAgICB2YXIgY2lyY2xlX21hcmtlcl81M2E5ZmZiNzA2YTk0Y2MwODBkMDFkZGM2N2Q2ZDlmOSA9IEwuY2lyY2xlTWFya2VyKAogICAgICAgICAgICAgICAgWzQzLjcxMjc1MTEsLTc5LjM5MDE5NzVdLAogICAgICAgICAgICAgICAgewogICJidWJibGluZ01vdXNlRXZlbnRzIjogdHJ1ZSwKICAiY29sb3IiOiAiYmx1ZSIsCiAgImRhc2hBcnJheSI6IG51bGwsCiAgImRhc2hPZmZzZXQiOiBudWxsLAogICJmaWxsIjogZmFsc2UsCiAgImZpbGxDb2xvciI6ICIjMzE4NmNjIiwKICAiZmlsbE9wYWNpdHkiOiAwLjcsCiAgImZpbGxSdWxlIjogImV2ZW5vZGQiLAogICJsaW5lQ2FwIjogInJvdW5kIiwKICAibGluZUpvaW4iOiAicm91bmQiLAogICJvcGFjaXR5IjogMS4wLAogICJyYWRpdXMiOiA1LAogICJzdHJva2UiOiB0cnVlLAogICJ3ZWlnaHQiOiAzCn0KICAgICAgICAgICAgICAgICkuYWRkVG8obWFwXzdlNDViZWUzZTdmNjQ3Mjk5YWI5OWM2ODFkYzRkZTM1KTsKICAgICAgICAgICAgCiAgICAKICAgICAgICAgICAgdmFyIHBvcHVwXzJkODYwMTUzNjBkMzQ5NWFiZGI3M2RlYzI0ODAyNmNlID0gTC5wb3B1cCh7bWF4V2lkdGg6ICczMDAnfSk7CgogICAgICAgICAgICAKICAgICAgICAgICAgICAgIHZhciBodG1sX2UyYjUxN2MwYmJhNzQyZmRhZGRjMjk4OGMzOWNkM2Y2ID0gJCgnPGRpdiBpZD0iaHRtbF9lMmI1MTdjMGJiYTc0MmZkYWRkYzI5ODhjMzljZDNmNiIgc3R5bGU9IndpZHRoOiAxMDAuMCU7IGhlaWdodDogMTAwLjAlOyI+RGF2aXN2aWxsZSBOb3J0aCwgQ2VudHJhbCBUb3JvbnRvPC9kaXY+JylbMF07CiAgICAgICAgICAgICAgICBwb3B1cF8yZDg2MDE1MzYwZDM0OTVhYmRiNzNkZWMyNDgwMjZjZS5zZXRDb250ZW50KGh0bWxfZTJiNTE3YzBiYmE3NDJmZGFkZGMyOTg4YzM5Y2QzZjYpOwogICAgICAgICAgICAKCiAgICAgICAgICAgIGNpcmNsZV9tYXJrZXJfNTNhOWZmYjcwNmE5NGNjMDgwZDAxZGRjNjdkNmQ5ZjkuYmluZFBvcHVwKHBvcHVwXzJkODYwMTUzNjBkMzQ5NWFiZGI3M2RlYzI0ODAyNmNlKTsKCiAgICAgICAgICAgIAogICAgICAgIAogICAgCiAgICAgICAgICAgIHZhciBjaXJjbGVfbWFya2VyXzhmYjI3OWM3N2ZlODRjM2E4MmM1YjQ1YzRkYzQ3YmVhID0gTC5jaXJjbGVNYXJrZXIoCiAgICAgICAgICAgICAgICBbNDMuNjk2OTQ3NiwtNzkuNDExMzA3MjAwMDAwMDFdLAogICAgICAgICAgICAgICAgewogICJidWJibGluZ01vdXNlRXZlbnRzIjogdHJ1ZSwKICAiY29sb3IiOiAiYmx1ZSIsCiAgImRhc2hBcnJheSI6IG51bGwsCiAgImRhc2hPZmZzZXQiOiBudWxsLAogICJmaWxsIjogZmFsc2UsCiAgImZpbGxDb2xvciI6ICIjMzE4NmNjIiwKICAiZmlsbE9wYWNpdHkiOiAwLjcsCiAgImZpbGxSdWxlIjogImV2ZW5vZGQiLAogICJsaW5lQ2FwIjogInJvdW5kIiwKICAibGluZUpvaW4iOiAicm91bmQiLAogICJvcGFjaXR5IjogMS4wLAogICJyYWRpdXMiOiA1LAogICJzdHJva2UiOiB0cnVlLAogICJ3ZWlnaHQiOiAzCn0KICAgICAgICAgICAgICAgICkuYWRkVG8obWFwXzdlNDViZWUzZTdmNjQ3Mjk5YWI5OWM2ODFkYzRkZTM1KTsKICAgICAgICAgICAgCiAgICAKICAgICAgICAgICAgdmFyIHBvcHVwXzBlMTkwMTA5NTI4MzQxYTk4ZDM0ODk0YzVmNDFiOGNmID0gTC5wb3B1cCh7bWF4V2lkdGg6ICczMDAnfSk7CgogICAgICAgICAgICAKICAgICAgICAgICAgICAgIHZhciBodG1sX2Q5ZmU2MzIwMjgzMDRjZWQ4ZTU5Mzk1MTMzZGQ2OGI0ID0gJCgnPGRpdiBpZD0iaHRtbF9kOWZlNjMyMDI4MzA0Y2VkOGU1OTM5NTEzM2RkNjhiNCIgc3R5bGU9IndpZHRoOiAxMDAuMCU7IGhlaWdodDogMTAwLjAlOyI+Rm9yZXN0IEhpbGwgTm9ydGggJmFtcDsgV2VzdCwgRm9yZXN0IEhpbGwgUm9hZCBQYXJrLCBDZW50cmFsIFRvcm9udG88L2Rpdj4nKVswXTsKICAgICAgICAgICAgICAgIHBvcHVwXzBlMTkwMTA5NTI4MzQxYTk4ZDM0ODk0YzVmNDFiOGNmLnNldENvbnRlbnQoaHRtbF9kOWZlNjMyMDI4MzA0Y2VkOGU1OTM5NTEzM2RkNjhiNCk7CiAgICAgICAgICAgIAoKICAgICAgICAgICAgY2lyY2xlX21hcmtlcl84ZmIyNzljNzdmZTg0YzNhODJjNWI0NWM0ZGM0N2JlYS5iaW5kUG9wdXAocG9wdXBfMGUxOTAxMDk1MjgzNDFhOThkMzQ4OTRjNWY0MWI4Y2YpOwoKICAgICAgICAgICAgCiAgICAgICAgCiAgICAKICAgICAgICAgICAgdmFyIGNpcmNsZV9tYXJrZXJfZTRkOWY0NGVmMjY3NGU2OTlhNDVmN2IwZTM5YTgyN2MgPSBMLmNpcmNsZU1hcmtlcigKICAgICAgICAgICAgICAgIFs0My42NjE2MDgzLC03OS40NjQ3NjMyOTk5OTk5OV0sCiAgICAgICAgICAgICAgICB7CiAgImJ1YmJsaW5nTW91c2VFdmVudHMiOiB0cnVlLAogICJjb2xvciI6ICJibHVlIiwKICAiZGFzaEFycmF5IjogbnVsbCwKICAiZGFzaE9mZnNldCI6IG51bGwsCiAgImZpbGwiOiBmYWxzZSwKICAiZmlsbENvbG9yIjogIiMzMTg2Y2MiLAogICJmaWxsT3BhY2l0eSI6IDAuNywKICAiZmlsbFJ1bGUiOiAiZXZlbm9kZCIsCiAgImxpbmVDYXAiOiAicm91bmQiLAogICJsaW5lSm9pbiI6ICJyb3VuZCIsCiAgIm9wYWNpdHkiOiAxLjAsCiAgInJhZGl1cyI6IDUsCiAgInN0cm9rZSI6IHRydWUsCiAgIndlaWdodCI6IDMKfQogICAgICAgICAgICAgICAgKS5hZGRUbyhtYXBfN2U0NWJlZTNlN2Y2NDcyOTlhYjk5YzY4MWRjNGRlMzUpOwogICAgICAgICAgICAKICAgIAogICAgICAgICAgICB2YXIgcG9wdXBfYzg1N2VkMGI3YjVkNGRkOTk5YzI4NTI5ZGMzNDdlNWUgPSBMLnBvcHVwKHttYXhXaWR0aDogJzMwMCd9KTsKCiAgICAgICAgICAgIAogICAgICAgICAgICAgICAgdmFyIGh0bWxfNTUzNzk5YWZjOGUwNDE4YjgwY2JmYzNhZjM1ZTIxOTkgPSAkKCc8ZGl2IGlkPSJodG1sXzU1Mzc5OWFmYzhlMDQxOGI4MGNiZmMzYWYzNWUyMTk5IiBzdHlsZT0id2lkdGg6IDEwMC4wJTsgaGVpZ2h0OiAxMDAuMCU7Ij5IaWdoIFBhcmssIFRoZSBKdW5jdGlvbiBTb3V0aCwgV2VzdCBUb3JvbnRvPC9kaXY+JylbMF07CiAgICAgICAgICAgICAgICBwb3B1cF9jODU3ZWQwYjdiNWQ0ZGQ5OTljMjg1MjlkYzM0N2U1ZS5zZXRDb250ZW50KGh0bWxfNTUzNzk5YWZjOGUwNDE4YjgwY2JmYzNhZjM1ZTIxOTkpOwogICAgICAgICAgICAKCiAgICAgICAgICAgIGNpcmNsZV9tYXJrZXJfZTRkOWY0NGVmMjY3NGU2OTlhNDVmN2IwZTM5YTgyN2MuYmluZFBvcHVwKHBvcHVwX2M4NTdlZDBiN2I1ZDRkZDk5OWMyODUyOWRjMzQ3ZTVlKTsKCiAgICAgICAgICAgIAogICAgICAgIAogICAgCiAgICAgICAgICAgIHZhciBjaXJjbGVfbWFya2VyXzIwZGNkMjQ4NDVlNzQwNzU4MzU2MDQ0ODZlMmYxYTM2ID0gTC5jaXJjbGVNYXJrZXIoCiAgICAgICAgICAgICAgICBbNDMuNjk2MzE5LC03OS41MzIyNDI0MDAwMDAwMl0sCiAgICAgICAgICAgICAgICB7CiAgImJ1YmJsaW5nTW91c2VFdmVudHMiOiB0cnVlLAogICJjb2xvciI6ICJibHVlIiwKICAiZGFzaEFycmF5IjogbnVsbCwKICAiZGFzaE9mZnNldCI6IG51bGwsCiAgImZpbGwiOiBmYWxzZSwKICAiZmlsbENvbG9yIjogIiMzMTg2Y2MiLAogICJmaWxsT3BhY2l0eSI6IDAuNywKICAiZmlsbFJ1bGUiOiAiZXZlbm9kZCIsCiAgImxpbmVDYXAiOiAicm91bmQiLAogICJsaW5lSm9pbiI6ICJyb3VuZCIsCiAgIm9wYWNpdHkiOiAxLjAsCiAgInJhZGl1cyI6IDUsCiAgInN0cm9rZSI6IHRydWUsCiAgIndlaWdodCI6IDMKfQogICAgICAgICAgICAgICAgKS5hZGRUbyhtYXBfN2U0NWJlZTNlN2Y2NDcyOTlhYjk5YzY4MWRjNGRlMzUpOwogICAgICAgICAgICAKICAgIAogICAgICAgICAgICB2YXIgcG9wdXBfOGNiMzQxMWMxZWVlNGRhYmE3NzBhOTYwZmYxOGRiZWIgPSBMLnBvcHVwKHttYXhXaWR0aDogJzMwMCd9KTsKCiAgICAgICAgICAgIAogICAgICAgICAgICAgICAgdmFyIGh0bWxfZmRmNGI2YmM1YzE0NDIzNzk3YTUxNjMzZjhjOGE0NzUgPSAkKCc8ZGl2IGlkPSJodG1sX2ZkZjRiNmJjNWMxNDQyMzc5N2E1MTYzM2Y4YzhhNDc1IiBzdHlsZT0id2lkdGg6IDEwMC4wJTsgaGVpZ2h0OiAxMDAuMCU7Ij5XZXN0bW91bnQsIEV0b2JpY29rZTwvZGl2PicpWzBdOwogICAgICAgICAgICAgICAgcG9wdXBfOGNiMzQxMWMxZWVlNGRhYmE3NzBhOTYwZmYxOGRiZWIuc2V0Q29udGVudChodG1sX2ZkZjRiNmJjNWMxNDQyMzc5N2E1MTYzM2Y4YzhhNDc1KTsKICAgICAgICAgICAgCgogICAgICAgICAgICBjaXJjbGVfbWFya2VyXzIwZGNkMjQ4NDVlNzQwNzU4MzU2MDQ0ODZlMmYxYTM2LmJpbmRQb3B1cChwb3B1cF84Y2IzNDExYzFlZWU0ZGFiYTc3MGE5NjBmZjE4ZGJlYik7CgogICAgICAgICAgICAKICAgICAgICAKICAgIAogICAgICAgICAgICB2YXIgY2lyY2xlX21hcmtlcl9kMDE5ZDBlMmU5ZTc0OTQ0YTg5NGY0YTY3NDIyNGZiNiA9IEwuY2lyY2xlTWFya2VyKAogICAgICAgICAgICAgICAgWzQzLjc1MDA3MTUwMDAwMDAwNCwtNzkuMjk1ODQ5MV0sCiAgICAgICAgICAgICAgICB7CiAgImJ1YmJsaW5nTW91c2VFdmVudHMiOiB0cnVlLAogICJjb2xvciI6ICJibHVlIiwKICAiZGFzaEFycmF5IjogbnVsbCwKICAiZGFzaE9mZnNldCI6IG51bGwsCiAgImZpbGwiOiBmYWxzZSwKICAiZmlsbENvbG9yIjogIiMzMTg2Y2MiLAogICJmaWxsT3BhY2l0eSI6IDAuNywKICAiZmlsbFJ1bGUiOiAiZXZlbm9kZCIsCiAgImxpbmVDYXAiOiAicm91bmQiLAogICJsaW5lSm9pbiI6ICJyb3VuZCIsCiAgIm9wYWNpdHkiOiAxLjAsCiAgInJhZGl1cyI6IDUsCiAgInN0cm9rZSI6IHRydWUsCiAgIndlaWdodCI6IDMKfQogICAgICAgICAgICAgICAgKS5hZGRUbyhtYXBfN2U0NWJlZTNlN2Y2NDcyOTlhYjk5YzY4MWRjNGRlMzUpOwogICAgICAgICAgICAKICAgIAogICAgICAgICAgICB2YXIgcG9wdXBfZDlhNDQ2ZjVjNDBjNDMzYTlmOTljOGI2ZDhiNThhZGEgPSBMLnBvcHVwKHttYXhXaWR0aDogJzMwMCd9KTsKCiAgICAgICAgICAgIAogICAgICAgICAgICAgICAgdmFyIGh0bWxfNjg4Mjk4OTA2ZmMzNGU4MDhjYzM4MDM1MTc5YTAzNDMgPSAkKCc8ZGl2IGlkPSJodG1sXzY4ODI5ODkwNmZjMzRlODA4Y2MzODAzNTE3OWEwMzQzIiBzdHlsZT0id2lkdGg6IDEwMC4wJTsgaGVpZ2h0OiAxMDAuMCU7Ij5XZXhmb3JkLCBNYXJ5dmFsZSwgU2NhcmJvcm91Z2g8L2Rpdj4nKVswXTsKICAgICAgICAgICAgICAgIHBvcHVwX2Q5YTQ0NmY1YzQwYzQzM2E5Zjk5YzhiNmQ4YjU4YWRhLnNldENvbnRlbnQoaHRtbF82ODgyOTg5MDZmYzM0ZTgwOGNjMzgwMzUxNzlhMDM0Myk7CiAgICAgICAgICAgIAoKICAgICAgICAgICAgY2lyY2xlX21hcmtlcl9kMDE5ZDBlMmU5ZTc0OTQ0YTg5NGY0YTY3NDIyNGZiNi5iaW5kUG9wdXAocG9wdXBfZDlhNDQ2ZjVjNDBjNDMzYTlmOTljOGI2ZDhiNThhZGEpOwoKICAgICAgICAgICAgCiAgICAgICAgCiAgICAKICAgICAgICAgICAgdmFyIGNpcmNsZV9tYXJrZXJfOWVjYWE2YTg4ODdiNDE1MGJjMDNjMGY4NzQ0NGUzZjMgPSBMLmNpcmNsZU1hcmtlcigKICAgICAgICAgICAgICAgIFs0My43ODI3MzY0LC03OS40NDIyNTkzXSwKICAgICAgICAgICAgICAgIHsKICAiYnViYmxpbmdNb3VzZUV2ZW50cyI6IHRydWUsCiAgImNvbG9yIjogImJsdWUiLAogICJkYXNoQXJyYXkiOiBudWxsLAogICJkYXNoT2Zmc2V0IjogbnVsbCwKICAiZmlsbCI6IGZhbHNlLAogICJmaWxsQ29sb3IiOiAiIzMxODZjYyIsCiAgImZpbGxPcGFjaXR5IjogMC43LAogICJmaWxsUnVsZSI6ICJldmVub2RkIiwKICAibGluZUNhcCI6ICJyb3VuZCIsCiAgImxpbmVKb2luIjogInJvdW5kIiwKICAib3BhY2l0eSI6IDEuMCwKICAicmFkaXVzIjogNSwKICAic3Ryb2tlIjogdHJ1ZSwKICAid2VpZ2h0IjogMwp9CiAgICAgICAgICAgICAgICApLmFkZFRvKG1hcF83ZTQ1YmVlM2U3ZjY0NzI5OWFiOTljNjgxZGM0ZGUzNSk7CiAgICAgICAgICAgIAogICAgCiAgICAgICAgICAgIHZhciBwb3B1cF8wY2ExMDkwMzU3ZmQ0Y2IyOWM3MzBkMjA3YjIzOGM5NSA9IEwucG9wdXAoe21heFdpZHRoOiAnMzAwJ30pOwoKICAgICAgICAgICAgCiAgICAgICAgICAgICAgICB2YXIgaHRtbF80MDczMDFmNzI1M2I0OThlODEzYzQwNDkzYmE0YzZhYiA9ICQoJzxkaXYgaWQ9Imh0bWxfNDA3MzAxZjcyNTNiNDk4ZTgxM2M0MDQ5M2JhNGM2YWIiIHN0eWxlPSJ3aWR0aDogMTAwLjAlOyBoZWlnaHQ6IDEwMC4wJTsiPldpbGxvd2RhbGUsIFdpbGxvd2RhbGUgV2VzdCwgTm9ydGggWW9yazwvZGl2PicpWzBdOwogICAgICAgICAgICAgICAgcG9wdXBfMGNhMTA5MDM1N2ZkNGNiMjljNzMwZDIwN2IyMzhjOTUuc2V0Q29udGVudChodG1sXzQwNzMwMWY3MjUzYjQ5OGU4MTNjNDA0OTNiYTRjNmFiKTsKICAgICAgICAgICAgCgogICAgICAgICAgICBjaXJjbGVfbWFya2VyXzllY2FhNmE4ODg3YjQxNTBiYzAzYzBmODc0NDRlM2YzLmJpbmRQb3B1cChwb3B1cF8wY2ExMDkwMzU3ZmQ0Y2IyOWM3MzBkMjA3YjIzOGM5NSk7CgogICAgICAgICAgICAKICAgICAgICAKICAgIAogICAgICAgICAgICB2YXIgY2lyY2xlX21hcmtlcl82NmUyZGVkZDE0OTY0ODkxYmNlZjA1ZDg5YzczYjNhZSA9IEwuY2lyY2xlTWFya2VyKAogICAgICAgICAgICAgICAgWzQzLjcxNTM4MzQsLTc5LjQwNTY3ODQwMDAwMDAxXSwKICAgICAgICAgICAgICAgIHsKICAiYnViYmxpbmdNb3VzZUV2ZW50cyI6IHRydWUsCiAgImNvbG9yIjogImJsdWUiLAogICJkYXNoQXJyYXkiOiBudWxsLAogICJkYXNoT2Zmc2V0IjogbnVsbCwKICAiZmlsbCI6IGZhbHNlLAogICJmaWxsQ29sb3IiOiAiIzMxODZjYyIsCiAgImZpbGxPcGFjaXR5IjogMC43LAogICJmaWxsUnVsZSI6ICJldmVub2RkIiwKICAibGluZUNhcCI6ICJyb3VuZCIsCiAgImxpbmVKb2luIjogInJvdW5kIiwKICAib3BhY2l0eSI6IDEuMCwKICAicmFkaXVzIjogNSwKICAic3Ryb2tlIjogdHJ1ZSwKICAid2VpZ2h0IjogMwp9CiAgICAgICAgICAgICAgICApLmFkZFRvKG1hcF83ZTQ1YmVlM2U3ZjY0NzI5OWFiOTljNjgxZGM0ZGUzNSk7CiAgICAgICAgICAgIAogICAgCiAgICAgICAgICAgIHZhciBwb3B1cF84OWY0NWUyMTZiYjg0MzU4ODQ2ZTUyNDBjMTU3NzdkYSA9IEwucG9wdXAoe21heFdpZHRoOiAnMzAwJ30pOwoKICAgICAgICAgICAgCiAgICAgICAgICAgICAgICB2YXIgaHRtbF83NjhjMTZmZDJlZjE0YjRjODBlMWY4Zjk0N2M1ODllZCA9ICQoJzxkaXYgaWQ9Imh0bWxfNzY4YzE2ZmQyZWYxNGI0YzgwZTFmOGY5NDdjNTg5ZWQiIHN0eWxlPSJ3aWR0aDogMTAwLjAlOyBoZWlnaHQ6IDEwMC4wJTsiPk5vcnRoIFRvcm9udG8gV2VzdCwgTGF3cmVuY2UgUGFyaywgQ2VudHJhbCBUb3JvbnRvPC9kaXY+JylbMF07CiAgICAgICAgICAgICAgICBwb3B1cF84OWY0NWUyMTZiYjg0MzU4ODQ2ZTUyNDBjMTU3NzdkYS5zZXRDb250ZW50KGh0bWxfNzY4YzE2ZmQyZWYxNGI0YzgwZTFmOGY5NDdjNTg5ZWQpOwogICAgICAgICAgICAKCiAgICAgICAgICAgIGNpcmNsZV9tYXJrZXJfNjZlMmRlZGQxNDk2NDg5MWJjZWYwNWQ4OWM3M2IzYWUuYmluZFBvcHVwKHBvcHVwXzg5ZjQ1ZTIxNmJiODQzNTg4NDZlNTI0MGMxNTc3N2RhKTsKCiAgICAgICAgICAgIAogICAgICAgIAogICAgCiAgICAgICAgICAgIHZhciBjaXJjbGVfbWFya2VyXzJiMGE0Y2ZkOThjMTRkNjc4NzRkMzBlMDUxZTYyMTRmID0gTC5jaXJjbGVNYXJrZXIoCiAgICAgICAgICAgICAgICBbNDMuNjcyNzA5NywtNzkuNDA1Njc4NDAwMDAwMDFdLAogICAgICAgICAgICAgICAgewogICJidWJibGluZ01vdXNlRXZlbnRzIjogdHJ1ZSwKICAiY29sb3IiOiAiYmx1ZSIsCiAgImRhc2hBcnJheSI6IG51bGwsCiAgImRhc2hPZmZzZXQiOiBudWxsLAogICJmaWxsIjogZmFsc2UsCiAgImZpbGxDb2xvciI6ICIjMzE4NmNjIiwKICAiZmlsbE9wYWNpdHkiOiAwLjcsCiAgImZpbGxSdWxlIjogImV2ZW5vZGQiLAogICJsaW5lQ2FwIjogInJvdW5kIiwKICAibGluZUpvaW4iOiAicm91bmQiLAogICJvcGFjaXR5IjogMS4wLAogICJyYWRpdXMiOiA1LAogICJzdHJva2UiOiB0cnVlLAogICJ3ZWlnaHQiOiAzCn0KICAgICAgICAgICAgICAgICkuYWRkVG8obWFwXzdlNDViZWUzZTdmNjQ3Mjk5YWI5OWM2ODFkYzRkZTM1KTsKICAgICAgICAgICAgCiAgICAKICAgICAgICAgICAgdmFyIHBvcHVwXzYyOGNiN2NlNDJlMTQ5MzFiNjUxZGUxMGI2N2RiOWFhID0gTC5wb3B1cCh7bWF4V2lkdGg6ICczMDAnfSk7CgogICAgICAgICAgICAKICAgICAgICAgICAgICAgIHZhciBodG1sX2FhZGZiNDk2NTQxMDRlYWVhY2E5YmZiY2Y4ZjY1ZTNjID0gJCgnPGRpdiBpZD0iaHRtbF9hYWRmYjQ5NjU0MTA0ZWFlYWNhOWJmYmNmOGY2NWUzYyIgc3R5bGU9IndpZHRoOiAxMDAuMCU7IGhlaWdodDogMTAwLjAlOyI+VGhlIEFubmV4LCBOb3J0aCBNaWR0b3duLCBZb3JrdmlsbGUsIENlbnRyYWwgVG9yb250bzwvZGl2PicpWzBdOwogICAgICAgICAgICAgICAgcG9wdXBfNjI4Y2I3Y2U0MmUxNDkzMWI2NTFkZTEwYjY3ZGI5YWEuc2V0Q29udGVudChodG1sX2FhZGZiNDk2NTQxMDRlYWVhY2E5YmZiY2Y4ZjY1ZTNjKTsKICAgICAgICAgICAgCgogICAgICAgICAgICBjaXJjbGVfbWFya2VyXzJiMGE0Y2ZkOThjMTRkNjc4NzRkMzBlMDUxZTYyMTRmLmJpbmRQb3B1cChwb3B1cF82MjhjYjdjZTQyZTE0OTMxYjY1MWRlMTBiNjdkYjlhYSk7CgogICAgICAgICAgICAKICAgICAgICAKICAgIAogICAgICAgICAgICB2YXIgY2lyY2xlX21hcmtlcl82MTgyZmM2NTY2OWM0NDdkOGYwNTE3Yjc4NzYyZGViZCA9IEwuY2lyY2xlTWFya2VyKAogICAgICAgICAgICAgICAgWzQzLjY0ODk1OTcsLTc5LjQ1NjMyNV0sCiAgICAgICAgICAgICAgICB7CiAgImJ1YmJsaW5nTW91c2VFdmVudHMiOiB0cnVlLAogICJjb2xvciI6ICJibHVlIiwKICAiZGFzaEFycmF5IjogbnVsbCwKICAiZGFzaE9mZnNldCI6IG51bGwsCiAgImZpbGwiOiBmYWxzZSwKICAiZmlsbENvbG9yIjogIiMzMTg2Y2MiLAogICJmaWxsT3BhY2l0eSI6IDAuNywKICAiZmlsbFJ1bGUiOiAiZXZlbm9kZCIsCiAgImxpbmVDYXAiOiAicm91bmQiLAogICJsaW5lSm9pbiI6ICJyb3VuZCIsCiAgIm9wYWNpdHkiOiAxLjAsCiAgInJhZGl1cyI6IDUsCiAgInN0cm9rZSI6IHRydWUsCiAgIndlaWdodCI6IDMKfQogICAgICAgICAgICAgICAgKS5hZGRUbyhtYXBfN2U0NWJlZTNlN2Y2NDcyOTlhYjk5YzY4MWRjNGRlMzUpOwogICAgICAgICAgICAKICAgIAogICAgICAgICAgICB2YXIgcG9wdXBfMzE2M2QzMWRmZjU4NGViOGE0ZTliZmY0N2M0MDEzNmUgPSBMLnBvcHVwKHttYXhXaWR0aDogJzMwMCd9KTsKCiAgICAgICAgICAgIAogICAgICAgICAgICAgICAgdmFyIGh0bWxfZThlNmEwY2MwYzU3NDEzNGExZWE4NjE2ZjZjOGVmNDEgPSAkKCc8ZGl2IGlkPSJodG1sX2U4ZTZhMGNjMGM1NzQxMzRhMWVhODYxNmY2YzhlZjQxIiBzdHlsZT0id2lkdGg6IDEwMC4wJTsgaGVpZ2h0OiAxMDAuMCU7Ij5QYXJrZGFsZSwgUm9uY2VzdmFsbGVzLCBXZXN0IFRvcm9udG88L2Rpdj4nKVswXTsKICAgICAgICAgICAgICAgIHBvcHVwXzMxNjNkMzFkZmY1ODRlYjhhNGU5YmZmNDdjNDAxMzZlLnNldENvbnRlbnQoaHRtbF9lOGU2YTBjYzBjNTc0MTM0YTFlYTg2MTZmNmM4ZWY0MSk7CiAgICAgICAgICAgIAoKICAgICAgICAgICAgY2lyY2xlX21hcmtlcl82MTgyZmM2NTY2OWM0NDdkOGYwNTE3Yjc4NzYyZGViZC5iaW5kUG9wdXAocG9wdXBfMzE2M2QzMWRmZjU4NGViOGE0ZTliZmY0N2M0MDEzNmUpOwoKICAgICAgICAgICAgCiAgICAgICAgCiAgICAKICAgICAgICAgICAgdmFyIGNpcmNsZV9tYXJrZXJfMDExMWIwNzc0ZTkyNGQyMzg3ZmNhMDVlN2Q5ZGY1MTggPSBMLmNpcmNsZU1hcmtlcigKICAgICAgICAgICAgICAgIFs0My42MzY5NjU2LC03OS42MTU4MTg5OTk5OTk5OV0sCiAgICAgICAgICAgICAgICB7CiAgImJ1YmJsaW5nTW91c2VFdmVudHMiOiB0cnVlLAogICJjb2xvciI6ICJibHVlIiwKICAiZGFzaEFycmF5IjogbnVsbCwKICAiZGFzaE9mZnNldCI6IG51bGwsCiAgImZpbGwiOiBmYWxzZSwKICAiZmlsbENvbG9yIjogIiMzMTg2Y2MiLAogICJmaWxsT3BhY2l0eSI6IDAuNywKICAiZmlsbFJ1bGUiOiAiZXZlbm9kZCIsCiAgImxpbmVDYXAiOiAicm91bmQiLAogICJsaW5lSm9pbiI6ICJyb3VuZCIsCiAgIm9wYWNpdHkiOiAxLjAsCiAgInJhZGl1cyI6IDUsCiAgInN0cm9rZSI6IHRydWUsCiAgIndlaWdodCI6IDMKfQogICAgICAgICAgICAgICAgKS5hZGRUbyhtYXBfN2U0NWJlZTNlN2Y2NDcyOTlhYjk5YzY4MWRjNGRlMzUpOwogICAgICAgICAgICAKICAgIAogICAgICAgICAgICB2YXIgcG9wdXBfZjRmYTIzZWViOWQ4NDhkMTk5NWQzZjJmNWI0ODdjMjcgPSBMLnBvcHVwKHttYXhXaWR0aDogJzMwMCd9KTsKCiAgICAgICAgICAgIAogICAgICAgICAgICAgICAgdmFyIGh0bWxfZTg1NjVkOTQ3MzZmNGEwOWIyMjU0N2NlMGZiNjUwNTQgPSAkKCc8ZGl2IGlkPSJodG1sX2U4NTY1ZDk0NzM2ZjRhMDliMjI1NDdjZTBmYjY1MDU0IiBzdHlsZT0id2lkdGg6IDEwMC4wJTsgaGVpZ2h0OiAxMDAuMCU7Ij5DYW5hZGEgUG9zdCBHYXRld2F5IFByb2Nlc3NpbmcgQ2VudHJlLCBNaXNzaXNzYXVnYTwvZGl2PicpWzBdOwogICAgICAgICAgICAgICAgcG9wdXBfZjRmYTIzZWViOWQ4NDhkMTk5NWQzZjJmNWI0ODdjMjcuc2V0Q29udGVudChodG1sX2U4NTY1ZDk0NzM2ZjRhMDliMjI1NDdjZTBmYjY1MDU0KTsKICAgICAgICAgICAgCgogICAgICAgICAgICBjaXJjbGVfbWFya2VyXzAxMTFiMDc3NGU5MjRkMjM4N2ZjYTA1ZTdkOWRmNTE4LmJpbmRQb3B1cChwb3B1cF9mNGZhMjNlZWI5ZDg0OGQxOTk1ZDNmMmY1YjQ4N2MyNyk7CgogICAgICAgICAgICAKICAgICAgICAKICAgIAogICAgICAgICAgICB2YXIgY2lyY2xlX21hcmtlcl8zYjg3ZGYyMGI5MzU0YmY4OWZmODcwZGE3YjM1ZGFmMCA9IEwuY2lyY2xlTWFya2VyKAogICAgICAgICAgICAgICAgWzQzLjY4ODkwNTQsLTc5LjU1NDcyNDQwMDAwMDAxXSwKICAgICAgICAgICAgICAgIHsKICAiYnViYmxpbmdNb3VzZUV2ZW50cyI6IHRydWUsCiAgImNvbG9yIjogImJsdWUiLAogICJkYXNoQXJyYXkiOiBudWxsLAogICJkYXNoT2Zmc2V0IjogbnVsbCwKICAiZmlsbCI6IGZhbHNlLAogICJmaWxsQ29sb3IiOiAiIzMxODZjYyIsCiAgImZpbGxPcGFjaXR5IjogMC43LAogICJmaWxsUnVsZSI6ICJldmVub2RkIiwKICAibGluZUNhcCI6ICJyb3VuZCIsCiAgImxpbmVKb2luIjogInJvdW5kIiwKICAib3BhY2l0eSI6IDEuMCwKICAicmFkaXVzIjogNSwKICAic3Ryb2tlIjogdHJ1ZSwKICAid2VpZ2h0IjogMwp9CiAgICAgICAgICAgICAgICApLmFkZFRvKG1hcF83ZTQ1YmVlM2U3ZjY0NzI5OWFiOTljNjgxZGM0ZGUzNSk7CiAgICAgICAgICAgIAogICAgCiAgICAgICAgICAgIHZhciBwb3B1cF9kN2U3NzM3MGUwZjM0MGE3YjI5YjZmMTc5MDVlZDAwNCA9IEwucG9wdXAoe21heFdpZHRoOiAnMzAwJ30pOwoKICAgICAgICAgICAgCiAgICAgICAgICAgICAgICB2YXIgaHRtbF9lYzg5M2FjYzhjZDU0ZmRjOTNhMGExNDg0NTM4NWNjYiA9ICQoJzxkaXYgaWQ9Imh0bWxfZWM4OTNhY2M4Y2Q1NGZkYzkzYTBhMTQ4NDUzODVjY2IiIHN0eWxlPSJ3aWR0aDogMTAwLjAlOyBoZWlnaHQ6IDEwMC4wJTsiPktpbmdzdmlldyBWaWxsYWdlLCBTdC4gUGhpbGxpcHMsIE1hcnRpbiBHcm92ZSBHYXJkZW5zLCBSaWNodmlldyBHYXJkZW5zLCBFdG9iaWNva2U8L2Rpdj4nKVswXTsKICAgICAgICAgICAgICAgIHBvcHVwX2Q3ZTc3MzcwZTBmMzQwYTdiMjliNmYxNzkwNWVkMDA0LnNldENvbnRlbnQoaHRtbF9lYzg5M2FjYzhjZDU0ZmRjOTNhMGExNDg0NTM4NWNjYik7CiAgICAgICAgICAgIAoKICAgICAgICAgICAgY2lyY2xlX21hcmtlcl8zYjg3ZGYyMGI5MzU0YmY4OWZmODcwZGE3YjM1ZGFmMC5iaW5kUG9wdXAocG9wdXBfZDdlNzczNzBlMGYzNDBhN2IyOWI2ZjE3OTA1ZWQwMDQpOwoKICAgICAgICAgICAgCiAgICAgICAgCiAgICAKICAgICAgICAgICAgdmFyIGNpcmNsZV9tYXJrZXJfZTZkZmRjM2I5ODhiNGIxMmFlMjRiNjdiZDAyY2NlYWUgPSBMLmNpcmNsZU1hcmtlcigKICAgICAgICAgICAgICAgIFs0My43OTQyMDAzLC03OS4yNjIwMjk0MDAwMDAwMl0sCiAgICAgICAgICAgICAgICB7CiAgImJ1YmJsaW5nTW91c2VFdmVudHMiOiB0cnVlLAogICJjb2xvciI6ICJibHVlIiwKICAiZGFzaEFycmF5IjogbnVsbCwKICAiZGFzaE9mZnNldCI6IG51bGwsCiAgImZpbGwiOiBmYWxzZSwKICAiZmlsbENvbG9yIjogIiMzMTg2Y2MiLAogICJmaWxsT3BhY2l0eSI6IDAuNywKICAiZmlsbFJ1bGUiOiAiZXZlbm9kZCIsCiAgImxpbmVDYXAiOiAicm91bmQiLAogICJsaW5lSm9pbiI6ICJyb3VuZCIsCiAgIm9wYWNpdHkiOiAxLjAsCiAgInJhZGl1cyI6IDUsCiAgInN0cm9rZSI6IHRydWUsCiAgIndlaWdodCI6IDMKfQogICAgICAgICAgICAgICAgKS5hZGRUbyhtYXBfN2U0NWJlZTNlN2Y2NDcyOTlhYjk5YzY4MWRjNGRlMzUpOwogICAgICAgICAgICAKICAgIAogICAgICAgICAgICB2YXIgcG9wdXBfOTJlM2Y5ZmVmMDZlNDU4MTg4ZWE5YzcyNzkzYjU2NDMgPSBMLnBvcHVwKHttYXhXaWR0aDogJzMwMCd9KTsKCiAgICAgICAgICAgIAogICAgICAgICAgICAgICAgdmFyIGh0bWxfNDc1NWQyMjM0MWU2NDQ4NDg4OTUxZjRjMWNmMjZkMzEgPSAkKCc8ZGl2IGlkPSJodG1sXzQ3NTVkMjIzNDFlNjQ0ODQ4ODk1MWY0YzFjZjI2ZDMxIiBzdHlsZT0id2lkdGg6IDEwMC4wJTsgaGVpZ2h0OiAxMDAuMCU7Ij5BZ2luY291cnQsIFNjYXJib3JvdWdoPC9kaXY+JylbMF07CiAgICAgICAgICAgICAgICBwb3B1cF85MmUzZjlmZWYwNmU0NTgxODhlYTljNzI3OTNiNTY0My5zZXRDb250ZW50KGh0bWxfNDc1NWQyMjM0MWU2NDQ4NDg4OTUxZjRjMWNmMjZkMzEpOwogICAgICAgICAgICAKCiAgICAgICAgICAgIGNpcmNsZV9tYXJrZXJfZTZkZmRjM2I5ODhiNGIxMmFlMjRiNjdiZDAyY2NlYWUuYmluZFBvcHVwKHBvcHVwXzkyZTNmOWZlZjA2ZTQ1ODE4OGVhOWM3Mjc5M2I1NjQzKTsKCiAgICAgICAgICAgIAogICAgICAgIAogICAgCiAgICAgICAgICAgIHZhciBjaXJjbGVfbWFya2VyX2Y0YmQ0YmNjNzM5NDQ0MDNiNGE3YmI4ZDlmYmUyYzU5ID0gTC5jaXJjbGVNYXJrZXIoCiAgICAgICAgICAgICAgICBbNDMuNzA0MzI0NCwtNzkuMzg4NzkwMV0sCiAgICAgICAgICAgICAgICB7CiAgImJ1YmJsaW5nTW91c2VFdmVudHMiOiB0cnVlLAogICJjb2xvciI6ICJibHVlIiwKICAiZGFzaEFycmF5IjogbnVsbCwKICAiZGFzaE9mZnNldCI6IG51bGwsCiAgImZpbGwiOiBmYWxzZSwKICAiZmlsbENvbG9yIjogIiMzMTg2Y2MiLAogICJmaWxsT3BhY2l0eSI6IDAuNywKICAiZmlsbFJ1bGUiOiAiZXZlbm9kZCIsCiAgImxpbmVDYXAiOiAicm91bmQiLAogICJsaW5lSm9pbiI6ICJyb3VuZCIsCiAgIm9wYWNpdHkiOiAxLjAsCiAgInJhZGl1cyI6IDUsCiAgInN0cm9rZSI6IHRydWUsCiAgIndlaWdodCI6IDMKfQogICAgICAgICAgICAgICAgKS5hZGRUbyhtYXBfN2U0NWJlZTNlN2Y2NDcyOTlhYjk5YzY4MWRjNGRlMzUpOwogICAgICAgICAgICAKICAgIAogICAgICAgICAgICB2YXIgcG9wdXBfYjMxMjE0Y2Y2YmNiNGQ5OWIzODcwMWIyMWZkYmMzYWEgPSBMLnBvcHVwKHttYXhXaWR0aDogJzMwMCd9KTsKCiAgICAgICAgICAgIAogICAgICAgICAgICAgICAgdmFyIGh0bWxfNzcwZGZkNGQyMGM3NGIwZDk5N2M4NjA4ZmQ1N2ExMWMgPSAkKCc8ZGl2IGlkPSJodG1sXzc3MGRmZDRkMjBjNzRiMGQ5OTdjODYwOGZkNTdhMTFjIiBzdHlsZT0id2lkdGg6IDEwMC4wJTsgaGVpZ2h0OiAxMDAuMCU7Ij5EYXZpc3ZpbGxlLCBDZW50cmFsIFRvcm9udG88L2Rpdj4nKVswXTsKICAgICAgICAgICAgICAgIHBvcHVwX2IzMTIxNGNmNmJjYjRkOTliMzg3MDFiMjFmZGJjM2FhLnNldENvbnRlbnQoaHRtbF83NzBkZmQ0ZDIwYzc0YjBkOTk3Yzg2MDhmZDU3YTExYyk7CiAgICAgICAgICAgIAoKICAgICAgICAgICAgY2lyY2xlX21hcmtlcl9mNGJkNGJjYzczOTQ0NDAzYjRhN2JiOGQ5ZmJlMmM1OS5iaW5kUG9wdXAocG9wdXBfYjMxMjE0Y2Y2YmNiNGQ5OWIzODcwMWIyMWZkYmMzYWEpOwoKICAgICAgICAgICAgCiAgICAgICAgCiAgICAKICAgICAgICAgICAgdmFyIGNpcmNsZV9tYXJrZXJfMThiNzAxYjI5ZDU2NDE0YTk2NzZmNTcxNjg1MjVmYzEgPSBMLmNpcmNsZU1hcmtlcigKICAgICAgICAgICAgICAgIFs0My42NjI2OTU2LC03OS40MDAwNDkzXSwKICAgICAgICAgICAgICAgIHsKICAiYnViYmxpbmdNb3VzZUV2ZW50cyI6IHRydWUsCiAgImNvbG9yIjogImJsdWUiLAogICJkYXNoQXJyYXkiOiBudWxsLAogICJkYXNoT2Zmc2V0IjogbnVsbCwKICAiZmlsbCI6IGZhbHNlLAogICJmaWxsQ29sb3IiOiAiIzMxODZjYyIsCiAgImZpbGxPcGFjaXR5IjogMC43LAogICJmaWxsUnVsZSI6ICJldmVub2RkIiwKICAibGluZUNhcCI6ICJyb3VuZCIsCiAgImxpbmVKb2luIjogInJvdW5kIiwKICAib3BhY2l0eSI6IDEuMCwKICAicmFkaXVzIjogNSwKICAic3Ryb2tlIjogdHJ1ZSwKICAid2VpZ2h0IjogMwp9CiAgICAgICAgICAgICAgICApLmFkZFRvKG1hcF83ZTQ1YmVlM2U3ZjY0NzI5OWFiOTljNjgxZGM0ZGUzNSk7CiAgICAgICAgICAgIAogICAgCiAgICAgICAgICAgIHZhciBwb3B1cF9jZGQ2NTliNzU1NDc0YmRjYjE5N2I3MzdlMThkZGM5OSA9IEwucG9wdXAoe21heFdpZHRoOiAnMzAwJ30pOwoKICAgICAgICAgICAgCiAgICAgICAgICAgICAgICB2YXIgaHRtbF8zY2ExMzhiNTgzOTg0NjdmYTAyZWU3NWVjM2ZlYjcyYiA9ICQoJzxkaXYgaWQ9Imh0bWxfM2NhMTM4YjU4Mzk4NDY3ZmEwMmVlNzVlYzNmZWI3MmIiIHN0eWxlPSJ3aWR0aDogMTAwLjAlOyBoZWlnaHQ6IDEwMC4wJTsiPlVuaXZlcnNpdHkgb2YgVG9yb250bywgSGFyYm9yZCwgRG93bnRvd24gVG9yb250bzwvZGl2PicpWzBdOwogICAgICAgICAgICAgICAgcG9wdXBfY2RkNjU5Yjc1NTQ3NGJkY2IxOTdiNzM3ZTE4ZGRjOTkuc2V0Q29udGVudChodG1sXzNjYTEzOGI1ODM5ODQ2N2ZhMDJlZTc1ZWMzZmViNzJiKTsKICAgICAgICAgICAgCgogICAgICAgICAgICBjaXJjbGVfbWFya2VyXzE4YjcwMWIyOWQ1NjQxNGE5Njc2ZjU3MTY4NTI1ZmMxLmJpbmRQb3B1cChwb3B1cF9jZGQ2NTliNzU1NDc0YmRjYjE5N2I3MzdlMThkZGM5OSk7CgogICAgICAgICAgICAKICAgICAgICAKICAgIAogICAgICAgICAgICB2YXIgY2lyY2xlX21hcmtlcl85MjJjZTQyNjQ0ZmU0NDFlOGE5NmNhYzBiNThiNjBmMyA9IEwuY2lyY2xlTWFya2VyKAogICAgICAgICAgICAgICAgWzQzLjY1MTU3MDYsLTc5LjQ4NDQ0OTldLAogICAgICAgICAgICAgICAgewogICJidWJibGluZ01vdXNlRXZlbnRzIjogdHJ1ZSwKICAiY29sb3IiOiAiYmx1ZSIsCiAgImRhc2hBcnJheSI6IG51bGwsCiAgImRhc2hPZmZzZXQiOiBudWxsLAogICJmaWxsIjogZmFsc2UsCiAgImZpbGxDb2xvciI6ICIjMzE4NmNjIiwKICAiZmlsbE9wYWNpdHkiOiAwLjcsCiAgImZpbGxSdWxlIjogImV2ZW5vZGQiLAogICJsaW5lQ2FwIjogInJvdW5kIiwKICAibGluZUpvaW4iOiAicm91bmQiLAogICJvcGFjaXR5IjogMS4wLAogICJyYWRpdXMiOiA1LAogICJzdHJva2UiOiB0cnVlLAogICJ3ZWlnaHQiOiAzCn0KICAgICAgICAgICAgICAgICkuYWRkVG8obWFwXzdlNDViZWUzZTdmNjQ3Mjk5YWI5OWM2ODFkYzRkZTM1KTsKICAgICAgICAgICAgCiAgICAKICAgICAgICAgICAgdmFyIHBvcHVwXzZhMTIzOGFlMjY2MzQzMmQ5ZTQ4NGI1ZGViNjlmZjI1ID0gTC5wb3B1cCh7bWF4V2lkdGg6ICczMDAnfSk7CgogICAgICAgICAgICAKICAgICAgICAgICAgICAgIHZhciBodG1sX2U0MDc2OWQ2Yzc3ZDQ5MGVhMGMxZjA5NmFmMTY1OTY0ID0gJCgnPGRpdiBpZD0iaHRtbF9lNDA3NjlkNmM3N2Q0OTBlYTBjMWYwOTZhZjE2NTk2NCIgc3R5bGU9IndpZHRoOiAxMDAuMCU7IGhlaWdodDogMTAwLjAlOyI+UnVubnltZWRlLCBTd2Fuc2VhLCBXZXN0IFRvcm9udG88L2Rpdj4nKVswXTsKICAgICAgICAgICAgICAgIHBvcHVwXzZhMTIzOGFlMjY2MzQzMmQ5ZTQ4NGI1ZGViNjlmZjI1LnNldENvbnRlbnQoaHRtbF9lNDA3NjlkNmM3N2Q0OTBlYTBjMWYwOTZhZjE2NTk2NCk7CiAgICAgICAgICAgIAoKICAgICAgICAgICAgY2lyY2xlX21hcmtlcl85MjJjZTQyNjQ0ZmU0NDFlOGE5NmNhYzBiNThiNjBmMy5iaW5kUG9wdXAocG9wdXBfNmExMjM4YWUyNjYzNDMyZDllNDg0YjVkZWI2OWZmMjUpOwoKICAgICAgICAgICAgCiAgICAgICAgCiAgICAKICAgICAgICAgICAgdmFyIGNpcmNsZV9tYXJrZXJfYWRmNTY2MGRlZGVlNGQ5ZjkxNTc1ZWY1ODJiMjUzYzggPSBMLmNpcmNsZU1hcmtlcigKICAgICAgICAgICAgICAgIFs0My43ODE2Mzc1LC03OS4zMDQzMDIxXSwKICAgICAgICAgICAgICAgIHsKICAiYnViYmxpbmdNb3VzZUV2ZW50cyI6IHRydWUsCiAgImNvbG9yIjogImJsdWUiLAogICJkYXNoQXJyYXkiOiBudWxsLAogICJkYXNoT2Zmc2V0IjogbnVsbCwKICAiZmlsbCI6IGZhbHNlLAogICJmaWxsQ29sb3IiOiAiIzMxODZjYyIsCiAgImZpbGxPcGFjaXR5IjogMC43LAogICJmaWxsUnVsZSI6ICJldmVub2RkIiwKICAibGluZUNhcCI6ICJyb3VuZCIsCiAgImxpbmVKb2luIjogInJvdW5kIiwKICAib3BhY2l0eSI6IDEuMCwKICAicmFkaXVzIjogNSwKICAic3Ryb2tlIjogdHJ1ZSwKICAid2VpZ2h0IjogMwp9CiAgICAgICAgICAgICAgICApLmFkZFRvKG1hcF83ZTQ1YmVlM2U3ZjY0NzI5OWFiOTljNjgxZGM0ZGUzNSk7CiAgICAgICAgICAgIAogICAgCiAgICAgICAgICAgIHZhciBwb3B1cF9jYTk5MWIyMzU4YWY0NGYxOTE5YzI4OWE1MjRkM2ZiNSA9IEwucG9wdXAoe21heFdpZHRoOiAnMzAwJ30pOwoKICAgICAgICAgICAgCiAgICAgICAgICAgICAgICB2YXIgaHRtbF9lZTkzMTI3ODVjYzM0MDdlOThmNzc1ZWE5OGQzMzZhMCA9ICQoJzxkaXYgaWQ9Imh0bWxfZWU5MzEyNzg1Y2MzNDA3ZTk4Zjc3NWVhOThkMzM2YTAiIHN0eWxlPSJ3aWR0aDogMTAwLjAlOyBoZWlnaHQ6IDEwMC4wJTsiPkNsYXJrcyBDb3JuZXJzLCBUYW0gTyYjMzk7U2hhbnRlciwgU3VsbGl2YW4sIFNjYXJib3JvdWdoPC9kaXY+JylbMF07CiAgICAgICAgICAgICAgICBwb3B1cF9jYTk5MWIyMzU4YWY0NGYxOTE5YzI4OWE1MjRkM2ZiNS5zZXRDb250ZW50KGh0bWxfZWU5MzEyNzg1Y2MzNDA3ZTk4Zjc3NWVhOThkMzM2YTApOwogICAgICAgICAgICAKCiAgICAgICAgICAgIGNpcmNsZV9tYXJrZXJfYWRmNTY2MGRlZGVlNGQ5ZjkxNTc1ZWY1ODJiMjUzYzguYmluZFBvcHVwKHBvcHVwX2NhOTkxYjIzNThhZjQ0ZjE5MTljMjg5YTUyNGQzZmI1KTsKCiAgICAgICAgICAgIAogICAgICAgIAogICAgCiAgICAgICAgICAgIHZhciBjaXJjbGVfbWFya2VyXzY3Mjg3MDhhNjhjZjRiZDY5ZGQ2MTlhMTI5NWJhMWY5ID0gTC5jaXJjbGVNYXJrZXIoCiAgICAgICAgICAgICAgICBbNDMuNjg5NTc0MywtNzkuMzgzMTU5OTAwMDAwMDFdLAogICAgICAgICAgICAgICAgewogICJidWJibGluZ01vdXNlRXZlbnRzIjogdHJ1ZSwKICAiY29sb3IiOiAiYmx1ZSIsCiAgImRhc2hBcnJheSI6IG51bGwsCiAgImRhc2hPZmZzZXQiOiBudWxsLAogICJmaWxsIjogZmFsc2UsCiAgImZpbGxDb2xvciI6ICIjMzE4NmNjIiwKICAiZmlsbE9wYWNpdHkiOiAwLjcsCiAgImZpbGxSdWxlIjogImV2ZW5vZGQiLAogICJsaW5lQ2FwIjogInJvdW5kIiwKICAibGluZUpvaW4iOiAicm91bmQiLAogICJvcGFjaXR5IjogMS4wLAogICJyYWRpdXMiOiA1LAogICJzdHJva2UiOiB0cnVlLAogICJ3ZWlnaHQiOiAzCn0KICAgICAgICAgICAgICAgICkuYWRkVG8obWFwXzdlNDViZWUzZTdmNjQ3Mjk5YWI5OWM2ODFkYzRkZTM1KTsKICAgICAgICAgICAgCiAgICAKICAgICAgICAgICAgdmFyIHBvcHVwXzIzMmVkNDUwNmMyZTRmOTg5MTJlM2RmMmI1MTE4Yjc1ID0gTC5wb3B1cCh7bWF4V2lkdGg6ICczMDAnfSk7CgogICAgICAgICAgICAKICAgICAgICAgICAgICAgIHZhciBodG1sXzAwYWRkYmY1ZDNiZDQzYjRiZDAxOWMxMzRlOGZjOWY3ID0gJCgnPGRpdiBpZD0iaHRtbF8wMGFkZGJmNWQzYmQ0M2I0YmQwMTljMTM0ZThmYzlmNyIgc3R5bGU9IndpZHRoOiAxMDAuMCU7IGhlaWdodDogMTAwLjAlOyI+TW9vcmUgUGFyaywgU3VtbWVyaGlsbCBFYXN0LCBDZW50cmFsIFRvcm9udG88L2Rpdj4nKVswXTsKICAgICAgICAgICAgICAgIHBvcHVwXzIzMmVkNDUwNmMyZTRmOTg5MTJlM2RmMmI1MTE4Yjc1LnNldENvbnRlbnQoaHRtbF8wMGFkZGJmNWQzYmQ0M2I0YmQwMTljMTM0ZThmYzlmNyk7CiAgICAgICAgICAgIAoKICAgICAgICAgICAgY2lyY2xlX21hcmtlcl82NzI4NzA4YTY4Y2Y0YmQ2OWRkNjE5YTEyOTViYTFmOS5iaW5kUG9wdXAocG9wdXBfMjMyZWQ0NTA2YzJlNGY5ODkxMmUzZGYyYjUxMThiNzUpOwoKICAgICAgICAgICAgCiAgICAgICAgCiAgICAKICAgICAgICAgICAgdmFyIGNpcmNsZV9tYXJrZXJfNDI5ZWJkODEwMGIzNGUxZTg0ODBhNTAwZjY5ODFlZDUgPSBMLmNpcmNsZU1hcmtlcigKICAgICAgICAgICAgICAgIFs0My42NTMyMDU3LC03OS40MDAwNDkzXSwKICAgICAgICAgICAgICAgIHsKICAiYnViYmxpbmdNb3VzZUV2ZW50cyI6IHRydWUsCiAgImNvbG9yIjogImJsdWUiLAogICJkYXNoQXJyYXkiOiBudWxsLAogICJkYXNoT2Zmc2V0IjogbnVsbCwKICAiZmlsbCI6IGZhbHNlLAogICJmaWxsQ29sb3IiOiAiIzMxODZjYyIsCiAgImZpbGxPcGFjaXR5IjogMC43LAogICJmaWxsUnVsZSI6ICJldmVub2RkIiwKICAibGluZUNhcCI6ICJyb3VuZCIsCiAgImxpbmVKb2luIjogInJvdW5kIiwKICAib3BhY2l0eSI6IDEuMCwKICAicmFkaXVzIjogNSwKICAic3Ryb2tlIjogdHJ1ZSwKICAid2VpZ2h0IjogMwp9CiAgICAgICAgICAgICAgICApLmFkZFRvKG1hcF83ZTQ1YmVlM2U3ZjY0NzI5OWFiOTljNjgxZGM0ZGUzNSk7CiAgICAgICAgICAgIAogICAgCiAgICAgICAgICAgIHZhciBwb3B1cF9lMjg4YzU0ZjJmZDU0NWFhYjA1ZTQxMWEyNmE1MDg1MiA9IEwucG9wdXAoe21heFdpZHRoOiAnMzAwJ30pOwoKICAgICAgICAgICAgCiAgICAgICAgICAgICAgICB2YXIgaHRtbF83MGQxYzkzYTBhYjg0NDMzYjczNTQ0MDU0MjE5MzI2NSA9ICQoJzxkaXYgaWQ9Imh0bWxfNzBkMWM5M2EwYWI4NDQzM2I3MzU0NDA1NDIxOTMyNjUiIHN0eWxlPSJ3aWR0aDogMTAwLjAlOyBoZWlnaHQ6IDEwMC4wJTsiPktlbnNpbmd0b24gTWFya2V0LCBDaGluYXRvd24sIEdyYW5nZSBQYXJrLCBEb3dudG93biBUb3JvbnRvPC9kaXY+JylbMF07CiAgICAgICAgICAgICAgICBwb3B1cF9lMjg4YzU0ZjJmZDU0NWFhYjA1ZTQxMWEyNmE1MDg1Mi5zZXRDb250ZW50KGh0bWxfNzBkMWM5M2EwYWI4NDQzM2I3MzU0NDA1NDIxOTMyNjUpOwogICAgICAgICAgICAKCiAgICAgICAgICAgIGNpcmNsZV9tYXJrZXJfNDI5ZWJkODEwMGIzNGUxZTg0ODBhNTAwZjY5ODFlZDUuYmluZFBvcHVwKHBvcHVwX2UyODhjNTRmMmZkNTQ1YWFiMDVlNDExYTI2YTUwODUyKTsKCiAgICAgICAgICAgIAogICAgICAgIAogICAgCiAgICAgICAgICAgIHZhciBjaXJjbGVfbWFya2VyXzNkMTBmZjk3Y2U1ODQzZTg5OWNhYmYyOGMzZDg3YjNkID0gTC5jaXJjbGVNYXJrZXIoCiAgICAgICAgICAgICAgICBbNDMuODE1MjUyMiwtNzkuMjg0NTc3Ml0sCiAgICAgICAgICAgICAgICB7CiAgImJ1YmJsaW5nTW91c2VFdmVudHMiOiB0cnVlLAogICJjb2xvciI6ICJibHVlIiwKICAiZGFzaEFycmF5IjogbnVsbCwKICAiZGFzaE9mZnNldCI6IG51bGwsCiAgImZpbGwiOiBmYWxzZSwKICAiZmlsbENvbG9yIjogIiMzMTg2Y2MiLAogICJmaWxsT3BhY2l0eSI6IDAuNywKICAiZmlsbFJ1bGUiOiAiZXZlbm9kZCIsCiAgImxpbmVDYXAiOiAicm91bmQiLAogICJsaW5lSm9pbiI6ICJyb3VuZCIsCiAgIm9wYWNpdHkiOiAxLjAsCiAgInJhZGl1cyI6IDUsCiAgInN0cm9rZSI6IHRydWUsCiAgIndlaWdodCI6IDMKfQogICAgICAgICAgICAgICAgKS5hZGRUbyhtYXBfN2U0NWJlZTNlN2Y2NDcyOTlhYjk5YzY4MWRjNGRlMzUpOwogICAgICAgICAgICAKICAgIAogICAgICAgICAgICB2YXIgcG9wdXBfNDI2YTVlMjFiOWFjNGIzYWI0ZGJmOTI4ZjU2MDZhYWUgPSBMLnBvcHVwKHttYXhXaWR0aDogJzMwMCd9KTsKCiAgICAgICAgICAgIAogICAgICAgICAgICAgICAgdmFyIGh0bWxfYWNiNDc1ZTYxZjFiNGRhM2FlZjU1NWI2NTQ5NDIxNTAgPSAkKCc8ZGl2IGlkPSJodG1sX2FjYjQ3NWU2MWYxYjRkYTNhZWY1NTViNjU0OTQyMTUwIiBzdHlsZT0id2lkdGg6IDEwMC4wJTsgaGVpZ2h0OiAxMDAuMCU7Ij5NaWxsaWtlbiwgQWdpbmNvdXJ0IE5vcnRoLCBTdGVlbGVzIEVhc3QsIEwmIzM5O0Ftb3JlYXV4IEVhc3QsIFNjYXJib3JvdWdoPC9kaXY+JylbMF07CiAgICAgICAgICAgICAgICBwb3B1cF80MjZhNWUyMWI5YWM0YjNhYjRkYmY5MjhmNTYwNmFhZS5zZXRDb250ZW50KGh0bWxfYWNiNDc1ZTYxZjFiNGRhM2FlZjU1NWI2NTQ5NDIxNTApOwogICAgICAgICAgICAKCiAgICAgICAgICAgIGNpcmNsZV9tYXJrZXJfM2QxMGZmOTdjZTU4NDNlODk5Y2FiZjI4YzNkODdiM2QuYmluZFBvcHVwKHBvcHVwXzQyNmE1ZTIxYjlhYzRiM2FiNGRiZjkyOGY1NjA2YWFlKTsKCiAgICAgICAgICAgIAogICAgICAgIAogICAgCiAgICAgICAgICAgIHZhciBjaXJjbGVfbWFya2VyX2FmMDQ1MzJmZjBlOTQ3MmE4YzIzZTZmZjhlYTVkYmJkID0gTC5jaXJjbGVNYXJrZXIoCiAgICAgICAgICAgICAgICBbNDMuNjg2NDEyMjk5OTk5OTksLTc5LjQwMDA0OTNdLAogICAgICAgICAgICAgICAgewogICJidWJibGluZ01vdXNlRXZlbnRzIjogdHJ1ZSwKICAiY29sb3IiOiAiYmx1ZSIsCiAgImRhc2hBcnJheSI6IG51bGwsCiAgImRhc2hPZmZzZXQiOiBudWxsLAogICJmaWxsIjogZmFsc2UsCiAgImZpbGxDb2xvciI6ICIjMzE4NmNjIiwKICAiZmlsbE9wYWNpdHkiOiAwLjcsCiAgImZpbGxSdWxlIjogImV2ZW5vZGQiLAogICJsaW5lQ2FwIjogInJvdW5kIiwKICAibGluZUpvaW4iOiAicm91bmQiLAogICJvcGFjaXR5IjogMS4wLAogICJyYWRpdXMiOiA1LAogICJzdHJva2UiOiB0cnVlLAogICJ3ZWlnaHQiOiAzCn0KICAgICAgICAgICAgICAgICkuYWRkVG8obWFwXzdlNDViZWUzZTdmNjQ3Mjk5YWI5OWM2ODFkYzRkZTM1KTsKICAgICAgICAgICAgCiAgICAKICAgICAgICAgICAgdmFyIHBvcHVwXzU5NjBlYTZiN2NlYzQwYTdhYjFhMDc2MzAyMjIzMjJjID0gTC5wb3B1cCh7bWF4V2lkdGg6ICczMDAnfSk7CgogICAgICAgICAgICAKICAgICAgICAgICAgICAgIHZhciBodG1sXzQ4MDQ2MTZkNjY2ZjRlODI5YjE4ODUzNjY3YzY4Y2Y5ID0gJCgnPGRpdiBpZD0iaHRtbF80ODA0NjE2ZDY2NmY0ZTgyOWIxODg1MzY2N2M2OGNmOSIgc3R5bGU9IndpZHRoOiAxMDAuMCU7IGhlaWdodDogMTAwLjAlOyI+U3VtbWVyaGlsbCBXZXN0LCBSYXRobmVsbHksIFNvdXRoIEhpbGwsIEZvcmVzdCBIaWxsIFNFLCBEZWVyIFBhcmssIENlbnRyYWwgVG9yb250bzwvZGl2PicpWzBdOwogICAgICAgICAgICAgICAgcG9wdXBfNTk2MGVhNmI3Y2VjNDBhN2FiMWEwNzYzMDIyMjMyMmMuc2V0Q29udGVudChodG1sXzQ4MDQ2MTZkNjY2ZjRlODI5YjE4ODUzNjY3YzY4Y2Y5KTsKICAgICAgICAgICAgCgogICAgICAgICAgICBjaXJjbGVfbWFya2VyX2FmMDQ1MzJmZjBlOTQ3MmE4YzIzZTZmZjhlYTVkYmJkLmJpbmRQb3B1cChwb3B1cF81OTYwZWE2YjdjZWM0MGE3YWIxYTA3NjMwMjIyMzIyYyk7CgogICAgICAgICAgICAKICAgICAgICAKICAgIAogICAgICAgICAgICB2YXIgY2lyY2xlX21hcmtlcl8xYTM3Njg5ODdiN2U0NWIxODhmZmQ4Y2JiMTVjMjc3MSA9IEwuY2lyY2xlTWFya2VyKAogICAgICAgICAgICAgICAgWzQzLjYyODk0NjcsLTc5LjM5NDQxOTldLAogICAgICAgICAgICAgICAgewogICJidWJibGluZ01vdXNlRXZlbnRzIjogdHJ1ZSwKICAiY29sb3IiOiAiYmx1ZSIsCiAgImRhc2hBcnJheSI6IG51bGwsCiAgImRhc2hPZmZzZXQiOiBudWxsLAogICJmaWxsIjogZmFsc2UsCiAgImZpbGxDb2xvciI6ICIjMzE4NmNjIiwKICAiZmlsbE9wYWNpdHkiOiAwLjcsCiAgImZpbGxSdWxlIjogImV2ZW5vZGQiLAogICJsaW5lQ2FwIjogInJvdW5kIiwKICAibGluZUpvaW4iOiAicm91bmQiLAogICJvcGFjaXR5IjogMS4wLAogICJyYWRpdXMiOiA1LAogICJzdHJva2UiOiB0cnVlLAogICJ3ZWlnaHQiOiAzCn0KICAgICAgICAgICAgICAgICkuYWRkVG8obWFwXzdlNDViZWUzZTdmNjQ3Mjk5YWI5OWM2ODFkYzRkZTM1KTsKICAgICAgICAgICAgCiAgICAKICAgICAgICAgICAgdmFyIHBvcHVwXzJlZjQwMzM1ZmY5NjRlMjQ4MWVjZTQxZGY1ZWYzMGE2ID0gTC5wb3B1cCh7bWF4V2lkdGg6ICczMDAnfSk7CgogICAgICAgICAgICAKICAgICAgICAgICAgICAgIHZhciBodG1sXzBiYWRjNjI4YzdhNzQ2YzQ5MWU4MjMyYzMwNzM4ZWIyID0gJCgnPGRpdiBpZD0iaHRtbF8wYmFkYzYyOGM3YTc0NmM0OTFlODIzMmMzMDczOGViMiIgc3R5bGU9IndpZHRoOiAxMDAuMCU7IGhlaWdodDogMTAwLjAlOyI+Q04gVG93ZXIsIEtpbmcgYW5kIFNwYWRpbmEsIFJhaWx3YXkgTGFuZHMsIEhhcmJvdXJmcm9udCBXZXN0LCBCYXRodXJzdCBRdWF5LCBTb3V0aCBOaWFnYXJhLCBJc2xhbmQgYWlycG9ydCwgRG93bnRvd24gVG9yb250bzwvZGl2PicpWzBdOwogICAgICAgICAgICAgICAgcG9wdXBfMmVmNDAzMzVmZjk2NGUyNDgxZWNlNDFkZjVlZjMwYTYuc2V0Q29udGVudChodG1sXzBiYWRjNjI4YzdhNzQ2YzQ5MWU4MjMyYzMwNzM4ZWIyKTsKICAgICAgICAgICAgCgogICAgICAgICAgICBjaXJjbGVfbWFya2VyXzFhMzc2ODk4N2I3ZTQ1YjE4OGZmZDhjYmIxNWMyNzcxLmJpbmRQb3B1cChwb3B1cF8yZWY0MDMzNWZmOTY0ZTI0ODFlY2U0MWRmNWVmMzBhNik7CgogICAgICAgICAgICAKICAgICAgICAKICAgIAogICAgICAgICAgICB2YXIgY2lyY2xlX21hcmtlcl8zMzkwZmQ5MWRmYzY0YmIwOGZkYmFiZTZlYTk2NWI4NCA9IEwuY2lyY2xlTWFya2VyKAogICAgICAgICAgICAgICAgWzQzLjYwNTY0NjYsLTc5LjUwMTMyMDcwMDAwMDAxXSwKICAgICAgICAgICAgICAgIHsKICAiYnViYmxpbmdNb3VzZUV2ZW50cyI6IHRydWUsCiAgImNvbG9yIjogImJsdWUiLAogICJkYXNoQXJyYXkiOiBudWxsLAogICJkYXNoT2Zmc2V0IjogbnVsbCwKICAiZmlsbCI6IGZhbHNlLAogICJmaWxsQ29sb3IiOiAiIzMxODZjYyIsCiAgImZpbGxPcGFjaXR5IjogMC43LAogICJmaWxsUnVsZSI6ICJldmVub2RkIiwKICAibGluZUNhcCI6ICJyb3VuZCIsCiAgImxpbmVKb2luIjogInJvdW5kIiwKICAib3BhY2l0eSI6IDEuMCwKICAicmFkaXVzIjogNSwKICAic3Ryb2tlIjogdHJ1ZSwKICAid2VpZ2h0IjogMwp9CiAgICAgICAgICAgICAgICApLmFkZFRvKG1hcF83ZTQ1YmVlM2U3ZjY0NzI5OWFiOTljNjgxZGM0ZGUzNSk7CiAgICAgICAgICAgIAogICAgCiAgICAgICAgICAgIHZhciBwb3B1cF84OGQ3MTZhMDMwYmE0MTZhYmZjZjQ5NWRjNGVmNjZkYiA9IEwucG9wdXAoe21heFdpZHRoOiAnMzAwJ30pOwoKICAgICAgICAgICAgCiAgICAgICAgICAgICAgICB2YXIgaHRtbF84MGIwZTJlZjA0ZDE0MTdkYjZkZTg1MzUxZWZkMmVkZSA9ICQoJzxkaXYgaWQ9Imh0bWxfODBiMGUyZWYwNGQxNDE3ZGI2ZGU4NTM1MWVmZDJlZGUiIHN0eWxlPSJ3aWR0aDogMTAwLjAlOyBoZWlnaHQ6IDEwMC4wJTsiPk5ldyBUb3JvbnRvLCBNaW1pY28gU291dGgsIEh1bWJlciBCYXkgU2hvcmVzLCBFdG9iaWNva2U8L2Rpdj4nKVswXTsKICAgICAgICAgICAgICAgIHBvcHVwXzg4ZDcxNmEwMzBiYTQxNmFiZmNmNDk1ZGM0ZWY2NmRiLnNldENvbnRlbnQoaHRtbF84MGIwZTJlZjA0ZDE0MTdkYjZkZTg1MzUxZWZkMmVkZSk7CiAgICAgICAgICAgIAoKICAgICAgICAgICAgY2lyY2xlX21hcmtlcl8zMzkwZmQ5MWRmYzY0YmIwOGZkYmFiZTZlYTk2NWI4NC5iaW5kUG9wdXAocG9wdXBfODhkNzE2YTAzMGJhNDE2YWJmY2Y0OTVkYzRlZjY2ZGIpOwoKICAgICAgICAgICAgCiAgICAgICAgCiAgICAKICAgICAgICAgICAgdmFyIGNpcmNsZV9tYXJrZXJfYWU2OTNhNmZlYmM2NDhiMmJlZDczOGNhMDg0N2M5N2EgPSBMLmNpcmNsZU1hcmtlcigKICAgICAgICAgICAgICAgIFs0My43Mzk0MTYzOTk5OTk5OTYsLTc5LjU4ODQzNjldLAogICAgICAgICAgICAgICAgewogICJidWJibGluZ01vdXNlRXZlbnRzIjogdHJ1ZSwKICAiY29sb3IiOiAiYmx1ZSIsCiAgImRhc2hBcnJheSI6IG51bGwsCiAgImRhc2hPZmZzZXQiOiBudWxsLAogICJmaWxsIjogZmFsc2UsCiAgImZpbGxDb2xvciI6ICIjMzE4NmNjIiwKICAiZmlsbE9wYWNpdHkiOiAwLjcsCiAgImZpbGxSdWxlIjogImV2ZW5vZGQiLAogICJsaW5lQ2FwIjogInJvdW5kIiwKICAibGluZUpvaW4iOiAicm91bmQiLAogICJvcGFjaXR5IjogMS4wLAogICJyYWRpdXMiOiA1LAogICJzdHJva2UiOiB0cnVlLAogICJ3ZWlnaHQiOiAzCn0KICAgICAgICAgICAgICAgICkuYWRkVG8obWFwXzdlNDViZWUzZTdmNjQ3Mjk5YWI5OWM2ODFkYzRkZTM1KTsKICAgICAgICAgICAgCiAgICAKICAgICAgICAgICAgdmFyIHBvcHVwXzRiNDhjNDc2NWJiNjQyMzNiY2RkOWRjNmI1NDQyOTcyID0gTC5wb3B1cCh7bWF4V2lkdGg6ICczMDAnfSk7CgogICAgICAgICAgICAKICAgICAgICAgICAgICAgIHZhciBodG1sX2M3Y2RmMTA0YzZkODRjOGU4Mjk5NGY4YTM3YzhjNTljID0gJCgnPGRpdiBpZD0iaHRtbF9jN2NkZjEwNGM2ZDg0YzhlODI5OTRmOGEzN2M4YzU5YyIgc3R5bGU9IndpZHRoOiAxMDAuMCU7IGhlaWdodDogMTAwLjAlOyI+U291dGggU3RlZWxlcywgU2lsdmVyc3RvbmUsIEh1bWJlcmdhdGUsIEphbWVzdG93biwgTW91bnQgT2xpdmUsIEJlYXVtb25kIEhlaWdodHMsIFRoaXN0bGV0b3duLCBBbGJpb24gR2FyZGVucywgRXRvYmljb2tlPC9kaXY+JylbMF07CiAgICAgICAgICAgICAgICBwb3B1cF80YjQ4YzQ3NjViYjY0MjMzYmNkZDlkYzZiNTQ0Mjk3Mi5zZXRDb250ZW50KGh0bWxfYzdjZGYxMDRjNmQ4NGM4ZTgyOTk0ZjhhMzdjOGM1OWMpOwogICAgICAgICAgICAKCiAgICAgICAgICAgIGNpcmNsZV9tYXJrZXJfYWU2OTNhNmZlYmM2NDhiMmJlZDczOGNhMDg0N2M5N2EuYmluZFBvcHVwKHBvcHVwXzRiNDhjNDc2NWJiNjQyMzNiY2RkOWRjNmI1NDQyOTcyKTsKCiAgICAgICAgICAgIAogICAgICAgIAogICAgCiAgICAgICAgICAgIHZhciBjaXJjbGVfbWFya2VyXzZlNTNhOTQ0NjM5MDQ1MGQ4YTIzMjVjZWU0MmM0Mzk2ID0gTC5jaXJjbGVNYXJrZXIoCiAgICAgICAgICAgICAgICBbNDMuNzk5NTI1MjAwMDAwMDA1LC03OS4zMTgzODg3XSwKICAgICAgICAgICAgICAgIHsKICAiYnViYmxpbmdNb3VzZUV2ZW50cyI6IHRydWUsCiAgImNvbG9yIjogImJsdWUiLAogICJkYXNoQXJyYXkiOiBudWxsLAogICJkYXNoT2Zmc2V0IjogbnVsbCwKICAiZmlsbCI6IGZhbHNlLAogICJmaWxsQ29sb3IiOiAiIzMxODZjYyIsCiAgImZpbGxPcGFjaXR5IjogMC43LAogICJmaWxsUnVsZSI6ICJldmVub2RkIiwKICAibGluZUNhcCI6ICJyb3VuZCIsCiAgImxpbmVKb2luIjogInJvdW5kIiwKICAib3BhY2l0eSI6IDEuMCwKICAicmFkaXVzIjogNSwKICAic3Ryb2tlIjogdHJ1ZSwKICAid2VpZ2h0IjogMwp9CiAgICAgICAgICAgICAgICApLmFkZFRvKG1hcF83ZTQ1YmVlM2U3ZjY0NzI5OWFiOTljNjgxZGM0ZGUzNSk7CiAgICAgICAgICAgIAogICAgCiAgICAgICAgICAgIHZhciBwb3B1cF85ZjI4M2UwY2FmYjE0M2MzYTI5ZTNkY2VlM2Q0NGNjNiA9IEwucG9wdXAoe21heFdpZHRoOiAnMzAwJ30pOwoKICAgICAgICAgICAgCiAgICAgICAgICAgICAgICB2YXIgaHRtbF8yMjgxMzQ4MGRlMzQ0NTMyOWI4ZDI1MTllZDM1OWFiNSA9ICQoJzxkaXYgaWQ9Imh0bWxfMjI4MTM0ODBkZTM0NDUzMjliOGQyNTE5ZWQzNTlhYjUiIHN0eWxlPSJ3aWR0aDogMTAwLjAlOyBoZWlnaHQ6IDEwMC4wJTsiPlN0ZWVsZXMgV2VzdCwgTCYjMzk7QW1vcmVhdXggV2VzdCwgU2NhcmJvcm91Z2g8L2Rpdj4nKVswXTsKICAgICAgICAgICAgICAgIHBvcHVwXzlmMjgzZTBjYWZiMTQzYzNhMjllM2RjZWUzZDQ0Y2M2LnNldENvbnRlbnQoaHRtbF8yMjgxMzQ4MGRlMzQ0NTMyOWI4ZDI1MTllZDM1OWFiNSk7CiAgICAgICAgICAgIAoKICAgICAgICAgICAgY2lyY2xlX21hcmtlcl82ZTUzYTk0NDYzOTA0NTBkOGEyMzI1Y2VlNDJjNDM5Ni5iaW5kUG9wdXAocG9wdXBfOWYyODNlMGNhZmIxNDNjM2EyOWUzZGNlZTNkNDRjYzYpOwoKICAgICAgICAgICAgCiAgICAgICAgCiAgICAKICAgICAgICAgICAgdmFyIGNpcmNsZV9tYXJrZXJfOTMxNDMyMzYzNDlhNDM2MWFiYjkxMGUyODQ2ZjUwMGYgPSBMLmNpcmNsZU1hcmtlcigKICAgICAgICAgICAgICAgIFs0My42Nzk1NjI2LC03OS4zNzc1Mjk0MDAwMDAwMV0sCiAgICAgICAgICAgICAgICB7CiAgImJ1YmJsaW5nTW91c2VFdmVudHMiOiB0cnVlLAogICJjb2xvciI6ICJibHVlIiwKICAiZGFzaEFycmF5IjogbnVsbCwKICAiZGFzaE9mZnNldCI6IG51bGwsCiAgImZpbGwiOiBmYWxzZSwKICAiZmlsbENvbG9yIjogIiMzMTg2Y2MiLAogICJmaWxsT3BhY2l0eSI6IDAuNywKICAiZmlsbFJ1bGUiOiAiZXZlbm9kZCIsCiAgImxpbmVDYXAiOiAicm91bmQiLAogICJsaW5lSm9pbiI6ICJyb3VuZCIsCiAgIm9wYWNpdHkiOiAxLjAsCiAgInJhZGl1cyI6IDUsCiAgInN0cm9rZSI6IHRydWUsCiAgIndlaWdodCI6IDMKfQogICAgICAgICAgICAgICAgKS5hZGRUbyhtYXBfN2U0NWJlZTNlN2Y2NDcyOTlhYjk5YzY4MWRjNGRlMzUpOwogICAgICAgICAgICAKICAgIAogICAgICAgICAgICB2YXIgcG9wdXBfMGE0ZDhhZDcwODM4NDhkYmE1Y2RlMTIwNDY4NDU1NGEgPSBMLnBvcHVwKHttYXhXaWR0aDogJzMwMCd9KTsKCiAgICAgICAgICAgIAogICAgICAgICAgICAgICAgdmFyIGh0bWxfYTVlMjFhNjk1ZDJjNDEyMjk5ODEyOTViMjcxNDA2ZmUgPSAkKCc8ZGl2IGlkPSJodG1sX2E1ZTIxYTY5NWQyYzQxMjI5OTgxMjk1YjI3MTQwNmZlIiBzdHlsZT0id2lkdGg6IDEwMC4wJTsgaGVpZ2h0OiAxMDAuMCU7Ij5Sb3NlZGFsZSwgRG93bnRvd24gVG9yb250bzwvZGl2PicpWzBdOwogICAgICAgICAgICAgICAgcG9wdXBfMGE0ZDhhZDcwODM4NDhkYmE1Y2RlMTIwNDY4NDU1NGEuc2V0Q29udGVudChodG1sX2E1ZTIxYTY5NWQyYzQxMjI5OTgxMjk1YjI3MTQwNmZlKTsKICAgICAgICAgICAgCgogICAgICAgICAgICBjaXJjbGVfbWFya2VyXzkzMTQzMjM2MzQ5YTQzNjFhYmI5MTBlMjg0NmY1MDBmLmJpbmRQb3B1cChwb3B1cF8wYTRkOGFkNzA4Mzg0OGRiYTVjZGUxMjA0Njg0NTU0YSk7CgogICAgICAgICAgICAKICAgICAgICAKICAgIAogICAgICAgICAgICB2YXIgY2lyY2xlX21hcmtlcl9jOTMxOGI0MDExZTE0ZjdhYjZlZWY0OGJhODZkZmQ5NiA9IEwuY2lyY2xlTWFya2VyKAogICAgICAgICAgICAgICAgWzQzLjY0NjQzNTIsLTc5LjM3NDg0NTk5OTk5OTk5XSwKICAgICAgICAgICAgICAgIHsKICAiYnViYmxpbmdNb3VzZUV2ZW50cyI6IHRydWUsCiAgImNvbG9yIjogImJsdWUiLAogICJkYXNoQXJyYXkiOiBudWxsLAogICJkYXNoT2Zmc2V0IjogbnVsbCwKICAiZmlsbCI6IGZhbHNlLAogICJmaWxsQ29sb3IiOiAiIzMxODZjYyIsCiAgImZpbGxPcGFjaXR5IjogMC43LAogICJmaWxsUnVsZSI6ICJldmVub2RkIiwKICAibGluZUNhcCI6ICJyb3VuZCIsCiAgImxpbmVKb2luIjogInJvdW5kIiwKICAib3BhY2l0eSI6IDEuMCwKICAicmFkaXVzIjogNSwKICAic3Ryb2tlIjogdHJ1ZSwKICAid2VpZ2h0IjogMwp9CiAgICAgICAgICAgICAgICApLmFkZFRvKG1hcF83ZTQ1YmVlM2U3ZjY0NzI5OWFiOTljNjgxZGM0ZGUzNSk7CiAgICAgICAgICAgIAogICAgCiAgICAgICAgICAgIHZhciBwb3B1cF9kNDkxMGVkYmNjYzQ0NzVkOWRlYzliOTVlZGJkMTNmOSA9IEwucG9wdXAoe21heFdpZHRoOiAnMzAwJ30pOwoKICAgICAgICAgICAgCiAgICAgICAgICAgICAgICB2YXIgaHRtbF9lZWQzYjFkYmJjZTg0ZTNkOWQ0MDQwNGYyNTdkZTMxNiA9ICQoJzxkaXYgaWQ9Imh0bWxfZWVkM2IxZGJiY2U4NGUzZDlkNDA0MDRmMjU3ZGUzMTYiIHN0eWxlPSJ3aWR0aDogMTAwLjAlOyBoZWlnaHQ6IDEwMC4wJTsiPlN0biBBIFBPIEJveGVzLCBEb3dudG93biBUb3JvbnRvPC9kaXY+JylbMF07CiAgICAgICAgICAgICAgICBwb3B1cF9kNDkxMGVkYmNjYzQ0NzVkOWRlYzliOTVlZGJkMTNmOS5zZXRDb250ZW50KGh0bWxfZWVkM2IxZGJiY2U4NGUzZDlkNDA0MDRmMjU3ZGUzMTYpOwogICAgICAgICAgICAKCiAgICAgICAgICAgIGNpcmNsZV9tYXJrZXJfYzkzMThiNDAxMWUxNGY3YWI2ZWVmNDhiYTg2ZGZkOTYuYmluZFBvcHVwKHBvcHVwX2Q0OTEwZWRiY2NjNDQ3NWQ5ZGVjOWI5NWVkYmQxM2Y5KTsKCiAgICAgICAgICAgIAogICAgICAgIAogICAgCiAgICAgICAgICAgIHZhciBjaXJjbGVfbWFya2VyXzE3M2ZhOTRlZGRjZDRhNjc5MzM4Yzc2YmNlNWU3MzNkID0gTC5jaXJjbGVNYXJrZXIoCiAgICAgICAgICAgICAgICBbNDMuNjAyNDEzNzAwMDAwMDEsLTc5LjU0MzQ4NDA5OTk5OTk5XSwKICAgICAgICAgICAgICAgIHsKICAiYnViYmxpbmdNb3VzZUV2ZW50cyI6IHRydWUsCiAgImNvbG9yIjogImJsdWUiLAogICJkYXNoQXJyYXkiOiBudWxsLAogICJkYXNoT2Zmc2V0IjogbnVsbCwKICAiZmlsbCI6IGZhbHNlLAogICJmaWxsQ29sb3IiOiAiIzMxODZjYyIsCiAgImZpbGxPcGFjaXR5IjogMC43LAogICJmaWxsUnVsZSI6ICJldmVub2RkIiwKICAibGluZUNhcCI6ICJyb3VuZCIsCiAgImxpbmVKb2luIjogInJvdW5kIiwKICAib3BhY2l0eSI6IDEuMCwKICAicmFkaXVzIjogNSwKICAic3Ryb2tlIjogdHJ1ZSwKICAid2VpZ2h0IjogMwp9CiAgICAgICAgICAgICAgICApLmFkZFRvKG1hcF83ZTQ1YmVlM2U3ZjY0NzI5OWFiOTljNjgxZGM0ZGUzNSk7CiAgICAgICAgICAgIAogICAgCiAgICAgICAgICAgIHZhciBwb3B1cF83YTkyZTAzYWVjMmY0ODY1OTM3YmFiOGMzYTQyZTdmNyA9IEwucG9wdXAoe21heFdpZHRoOiAnMzAwJ30pOwoKICAgICAgICAgICAgCiAgICAgICAgICAgICAgICB2YXIgaHRtbF8yNDUwN2RiNjFmMTg0Y2UxOGM1MjcxODM0OWMxNWEwZCA9ICQoJzxkaXYgaWQ9Imh0bWxfMjQ1MDdkYjYxZjE4NGNlMThjNTI3MTgzNDljMTVhMGQiIHN0eWxlPSJ3aWR0aDogMTAwLjAlOyBoZWlnaHQ6IDEwMC4wJTsiPkFsZGVyd29vZCwgTG9uZyBCcmFuY2gsIEV0b2JpY29rZTwvZGl2PicpWzBdOwogICAgICAgICAgICAgICAgcG9wdXBfN2E5MmUwM2FlYzJmNDg2NTkzN2JhYjhjM2E0MmU3Zjcuc2V0Q29udGVudChodG1sXzI0NTA3ZGI2MWYxODRjZTE4YzUyNzE4MzQ5YzE1YTBkKTsKICAgICAgICAgICAgCgogICAgICAgICAgICBjaXJjbGVfbWFya2VyXzE3M2ZhOTRlZGRjZDRhNjc5MzM4Yzc2YmNlNWU3MzNkLmJpbmRQb3B1cChwb3B1cF83YTkyZTAzYWVjMmY0ODY1OTM3YmFiOGMzYTQyZTdmNyk7CgogICAgICAgICAgICAKICAgICAgICAKICAgIAogICAgICAgICAgICB2YXIgY2lyY2xlX21hcmtlcl83YTVlNmExMzNjMzQ0MmM5OWViMzdiYzcxZDUwZmVmNyA9IEwuY2lyY2xlTWFya2VyKAogICAgICAgICAgICAgICAgWzQzLjcwNjc0ODI5OTk5OTk5NCwtNzkuNTk0MDU0NF0sCiAgICAgICAgICAgICAgICB7CiAgImJ1YmJsaW5nTW91c2VFdmVudHMiOiB0cnVlLAogICJjb2xvciI6ICJibHVlIiwKICAiZGFzaEFycmF5IjogbnVsbCwKICAiZGFzaE9mZnNldCI6IG51bGwsCiAgImZpbGwiOiBmYWxzZSwKICAiZmlsbENvbG9yIjogIiMzMTg2Y2MiLAogICJmaWxsT3BhY2l0eSI6IDAuNywKICAiZmlsbFJ1bGUiOiAiZXZlbm9kZCIsCiAgImxpbmVDYXAiOiAicm91bmQiLAogICJsaW5lSm9pbiI6ICJyb3VuZCIsCiAgIm9wYWNpdHkiOiAxLjAsCiAgInJhZGl1cyI6IDUsCiAgInN0cm9rZSI6IHRydWUsCiAgIndlaWdodCI6IDMKfQogICAgICAgICAgICAgICAgKS5hZGRUbyhtYXBfN2U0NWJlZTNlN2Y2NDcyOTlhYjk5YzY4MWRjNGRlMzUpOwogICAgICAgICAgICAKICAgIAogICAgICAgICAgICB2YXIgcG9wdXBfNjMwZWMzMGE5ZTZkNGU1ZDgxM2FiMzExN2Y1NzA5NmYgPSBMLnBvcHVwKHttYXhXaWR0aDogJzMwMCd9KTsKCiAgICAgICAgICAgIAogICAgICAgICAgICAgICAgdmFyIGh0bWxfYjMwM2RiZWM1MTcwNDE3ZDhhMzA4MWIyMmMxZWNhZjQgPSAkKCc8ZGl2IGlkPSJodG1sX2IzMDNkYmVjNTE3MDQxN2Q4YTMwODFiMjJjMWVjYWY0IiBzdHlsZT0id2lkdGg6IDEwMC4wJTsgaGVpZ2h0OiAxMDAuMCU7Ij5Ob3J0aHdlc3QsIFdlc3QgSHVtYmVyIC0gQ2xhaXJ2aWxsZSwgRXRvYmljb2tlPC9kaXY+JylbMF07CiAgICAgICAgICAgICAgICBwb3B1cF82MzBlYzMwYTllNmQ0ZTVkODEzYWIzMTE3ZjU3MDk2Zi5zZXRDb250ZW50KGh0bWxfYjMwM2RiZWM1MTcwNDE3ZDhhMzA4MWIyMmMxZWNhZjQpOwogICAgICAgICAgICAKCiAgICAgICAgICAgIGNpcmNsZV9tYXJrZXJfN2E1ZTZhMTMzYzM0NDJjOTllYjM3YmM3MWQ1MGZlZjcuYmluZFBvcHVwKHBvcHVwXzYzMGVjMzBhOWU2ZDRlNWQ4MTNhYjMxMTdmNTcwOTZmKTsKCiAgICAgICAgICAgIAogICAgICAgIAogICAgCiAgICAgICAgICAgIHZhciBjaXJjbGVfbWFya2VyXzNiZmI1OTkyZGQ0OTQ5MzA4NzhmZDIwYjI1Y2NmMmRhID0gTC5jaXJjbGVNYXJrZXIoCiAgICAgICAgICAgICAgICBbNDMuODM2MTI0NzAwMDAwMDA2LC03OS4yMDU2MzYwOTk5OTk5OV0sCiAgICAgICAgICAgICAgICB7CiAgImJ1YmJsaW5nTW91c2VFdmVudHMiOiB0cnVlLAogICJjb2xvciI6ICJibHVlIiwKICAiZGFzaEFycmF5IjogbnVsbCwKICAiZGFzaE9mZnNldCI6IG51bGwsCiAgImZpbGwiOiBmYWxzZSwKICAiZmlsbENvbG9yIjogIiMzMTg2Y2MiLAogICJmaWxsT3BhY2l0eSI6IDAuNywKICAiZmlsbFJ1bGUiOiAiZXZlbm9kZCIsCiAgImxpbmVDYXAiOiAicm91bmQiLAogICJsaW5lSm9pbiI6ICJyb3VuZCIsCiAgIm9wYWNpdHkiOiAxLjAsCiAgInJhZGl1cyI6IDUsCiAgInN0cm9rZSI6IHRydWUsCiAgIndlaWdodCI6IDMKfQogICAgICAgICAgICAgICAgKS5hZGRUbyhtYXBfN2U0NWJlZTNlN2Y2NDcyOTlhYjk5YzY4MWRjNGRlMzUpOwogICAgICAgICAgICAKICAgIAogICAgICAgICAgICB2YXIgcG9wdXBfZTg1NmEzYjBlMzlhNDFlZGFkNzdhNzZhYjI1OWExZWUgPSBMLnBvcHVwKHttYXhXaWR0aDogJzMwMCd9KTsKCiAgICAgICAgICAgIAogICAgICAgICAgICAgICAgdmFyIGh0bWxfZWI0OTAyMjg5MWQ4NDgyOTgwMWU0ZWQ2ZDQyNGJhMGUgPSAkKCc8ZGl2IGlkPSJodG1sX2ViNDkwMjI4OTFkODQ4Mjk4MDFlNGVkNmQ0MjRiYTBlIiBzdHlsZT0id2lkdGg6IDEwMC4wJTsgaGVpZ2h0OiAxMDAuMCU7Ij5VcHBlciBSb3VnZSwgU2NhcmJvcm91Z2g8L2Rpdj4nKVswXTsKICAgICAgICAgICAgICAgIHBvcHVwX2U4NTZhM2IwZTM5YTQxZWRhZDc3YTc2YWIyNTlhMWVlLnNldENvbnRlbnQoaHRtbF9lYjQ5MDIyODkxZDg0ODI5ODAxZTRlZDZkNDI0YmEwZSk7CiAgICAgICAgICAgIAoKICAgICAgICAgICAgY2lyY2xlX21hcmtlcl8zYmZiNTk5MmRkNDk0OTMwODc4ZmQyMGIyNWNjZjJkYS5iaW5kUG9wdXAocG9wdXBfZTg1NmEzYjBlMzlhNDFlZGFkNzdhNzZhYjI1OWExZWUpOwoKICAgICAgICAgICAgCiAgICAgICAgCiAgICAKICAgICAgICAgICAgdmFyIGNpcmNsZV9tYXJrZXJfZmI0YzkxNTBjZTYyNDFkOWIwMWU5Yjc5YTgwYjY0ZDkgPSBMLmNpcmNsZU1hcmtlcigKICAgICAgICAgICAgICAgIFs0My42Njc5NjcsLTc5LjM2NzY3NTNdLAogICAgICAgICAgICAgICAgewogICJidWJibGluZ01vdXNlRXZlbnRzIjogdHJ1ZSwKICAiY29sb3IiOiAiYmx1ZSIsCiAgImRhc2hBcnJheSI6IG51bGwsCiAgImRhc2hPZmZzZXQiOiBudWxsLAogICJmaWxsIjogZmFsc2UsCiAgImZpbGxDb2xvciI6ICIjMzE4NmNjIiwKICAiZmlsbE9wYWNpdHkiOiAwLjcsCiAgImZpbGxSdWxlIjogImV2ZW5vZGQiLAogICJsaW5lQ2FwIjogInJvdW5kIiwKICAibGluZUpvaW4iOiAicm91bmQiLAogICJvcGFjaXR5IjogMS4wLAogICJyYWRpdXMiOiA1LAogICJzdHJva2UiOiB0cnVlLAogICJ3ZWlnaHQiOiAzCn0KICAgICAgICAgICAgICAgICkuYWRkVG8obWFwXzdlNDViZWUzZTdmNjQ3Mjk5YWI5OWM2ODFkYzRkZTM1KTsKICAgICAgICAgICAgCiAgICAKICAgICAgICAgICAgdmFyIHBvcHVwXzViMjBlMDVjOGYzMDQ3OWFiZDQ5ZGE4NTVkZDQzMDdjID0gTC5wb3B1cCh7bWF4V2lkdGg6ICczMDAnfSk7CgogICAgICAgICAgICAKICAgICAgICAgICAgICAgIHZhciBodG1sXzQyZGJhOTRkNGRjNDRhYTY5NzI3ZTRmNGNmOGEzZjJlID0gJCgnPGRpdiBpZD0iaHRtbF80MmRiYTk0ZDRkYzQ0YWE2OTcyN2U0ZjRjZjhhM2YyZSIgc3R5bGU9IndpZHRoOiAxMDAuMCU7IGhlaWdodDogMTAwLjAlOyI+U3QuIEphbWVzIFRvd24sIENhYmJhZ2V0b3duLCBEb3dudG93biBUb3JvbnRvPC9kaXY+JylbMF07CiAgICAgICAgICAgICAgICBwb3B1cF81YjIwZTA1YzhmMzA0NzlhYmQ0OWRhODU1ZGQ0MzA3Yy5zZXRDb250ZW50KGh0bWxfNDJkYmE5NGQ0ZGM0NGFhNjk3MjdlNGY0Y2Y4YTNmMmUpOwogICAgICAgICAgICAKCiAgICAgICAgICAgIGNpcmNsZV9tYXJrZXJfZmI0YzkxNTBjZTYyNDFkOWIwMWU5Yjc5YTgwYjY0ZDkuYmluZFBvcHVwKHBvcHVwXzViMjBlMDVjOGYzMDQ3OWFiZDQ5ZGE4NTVkZDQzMDdjKTsKCiAgICAgICAgICAgIAogICAgICAgIAogICAgCiAgICAgICAgICAgIHZhciBjaXJjbGVfbWFya2VyXzQ2MGM4ZWZjYjNlNDQ2ODViN2I2NTA4ZDgzYWJjNmYzID0gTC5jaXJjbGVNYXJrZXIoCiAgICAgICAgICAgICAgICBbNDMuNjQ4NDI5MiwtNzkuMzgyMjgwMl0sCiAgICAgICAgICAgICAgICB7CiAgImJ1YmJsaW5nTW91c2VFdmVudHMiOiB0cnVlLAogICJjb2xvciI6ICJibHVlIiwKICAiZGFzaEFycmF5IjogbnVsbCwKICAiZGFzaE9mZnNldCI6IG51bGwsCiAgImZpbGwiOiBmYWxzZSwKICAiZmlsbENvbG9yIjogIiMzMTg2Y2MiLAogICJmaWxsT3BhY2l0eSI6IDAuNywKICAiZmlsbFJ1bGUiOiAiZXZlbm9kZCIsCiAgImxpbmVDYXAiOiAicm91bmQiLAogICJsaW5lSm9pbiI6ICJyb3VuZCIsCiAgIm9wYWNpdHkiOiAxLjAsCiAgInJhZGl1cyI6IDUsCiAgInN0cm9rZSI6IHRydWUsCiAgIndlaWdodCI6IDMKfQogICAgICAgICAgICAgICAgKS5hZGRUbyhtYXBfN2U0NWJlZTNlN2Y2NDcyOTlhYjk5YzY4MWRjNGRlMzUpOwogICAgICAgICAgICAKICAgIAogICAgICAgICAgICB2YXIgcG9wdXBfZThkODAyYTI5YzUzNDk4ZDk2M2NmOGUwNDdmYmNkZjcgPSBMLnBvcHVwKHttYXhXaWR0aDogJzMwMCd9KTsKCiAgICAgICAgICAgIAogICAgICAgICAgICAgICAgdmFyIGh0bWxfYzczMzkwZDYwZTYzNDY3NGE4OWJhYmUzN2RmNTI2OTIgPSAkKCc8ZGl2IGlkPSJodG1sX2M3MzM5MGQ2MGU2MzQ2NzRhODliYWJlMzdkZjUyNjkyIiBzdHlsZT0id2lkdGg6IDEwMC4wJTsgaGVpZ2h0OiAxMDAuMCU7Ij5GaXJzdCBDYW5hZGlhbiBQbGFjZSwgVW5kZXJncm91bmQgY2l0eSwgRG93bnRvd24gVG9yb250bzwvZGl2PicpWzBdOwogICAgICAgICAgICAgICAgcG9wdXBfZThkODAyYTI5YzUzNDk4ZDk2M2NmOGUwNDdmYmNkZjcuc2V0Q29udGVudChodG1sX2M3MzM5MGQ2MGU2MzQ2NzRhODliYWJlMzdkZjUyNjkyKTsKICAgICAgICAgICAgCgogICAgICAgICAgICBjaXJjbGVfbWFya2VyXzQ2MGM4ZWZjYjNlNDQ2ODViN2I2NTA4ZDgzYWJjNmYzLmJpbmRQb3B1cChwb3B1cF9lOGQ4MDJhMjljNTM0OThkOTYzY2Y4ZTA0N2ZiY2RmNyk7CgogICAgICAgICAgICAKICAgICAgICAKICAgIAogICAgICAgICAgICB2YXIgY2lyY2xlX21hcmtlcl9mZmQ0NzQ3YjBiMDI0MTVlYmM2NDhjODc2Y2UwNjUzNiA9IEwuY2lyY2xlTWFya2VyKAogICAgICAgICAgICAgICAgWzQzLjY1MzY1MzYwMDAwMDAwNSwtNzkuNTA2OTQzNl0sCiAgICAgICAgICAgICAgICB7CiAgImJ1YmJsaW5nTW91c2VFdmVudHMiOiB0cnVlLAogICJjb2xvciI6ICJibHVlIiwKICAiZGFzaEFycmF5IjogbnVsbCwKICAiZGFzaE9mZnNldCI6IG51bGwsCiAgImZpbGwiOiBmYWxzZSwKICAiZmlsbENvbG9yIjogIiMzMTg2Y2MiLAogICJmaWxsT3BhY2l0eSI6IDAuNywKICAiZmlsbFJ1bGUiOiAiZXZlbm9kZCIsCiAgImxpbmVDYXAiOiAicm91bmQiLAogICJsaW5lSm9pbiI6ICJyb3VuZCIsCiAgIm9wYWNpdHkiOiAxLjAsCiAgInJhZGl1cyI6IDUsCiAgInN0cm9rZSI6IHRydWUsCiAgIndlaWdodCI6IDMKfQogICAgICAgICAgICAgICAgKS5hZGRUbyhtYXBfN2U0NWJlZTNlN2Y2NDcyOTlhYjk5YzY4MWRjNGRlMzUpOwogICAgICAgICAgICAKICAgIAogICAgICAgICAgICB2YXIgcG9wdXBfMjcyNWMzZDFkODgwNDJiMjhlNWRhYTM5MGI2OWZiY2EgPSBMLnBvcHVwKHttYXhXaWR0aDogJzMwMCd9KTsKCiAgICAgICAgICAgIAogICAgICAgICAgICAgICAgdmFyIGh0bWxfZjQyZGI1ZjNkOWE1NDBmYmFjNjIxMTk0Y2E4MDFmNjcgPSAkKCc8ZGl2IGlkPSJodG1sX2Y0MmRiNWYzZDlhNTQwZmJhYzYyMTE5NGNhODAxZjY3IiBzdHlsZT0id2lkdGg6IDEwMC4wJTsgaGVpZ2h0OiAxMDAuMCU7Ij5UaGUgS2luZ3N3YXksIE1vbnRnb21lcnkgUm9hZCwgT2xkIE1pbGwgTm9ydGgsIEV0b2JpY29rZTwvZGl2PicpWzBdOwogICAgICAgICAgICAgICAgcG9wdXBfMjcyNWMzZDFkODgwNDJiMjhlNWRhYTM5MGI2OWZiY2Euc2V0Q29udGVudChodG1sX2Y0MmRiNWYzZDlhNTQwZmJhYzYyMTE5NGNhODAxZjY3KTsKICAgICAgICAgICAgCgogICAgICAgICAgICBjaXJjbGVfbWFya2VyX2ZmZDQ3NDdiMGIwMjQxNWViYzY0OGM4NzZjZTA2NTM2LmJpbmRQb3B1cChwb3B1cF8yNzI1YzNkMWQ4ODA0MmIyOGU1ZGFhMzkwYjY5ZmJjYSk7CgogICAgICAgICAgICAKICAgICAgICAKICAgIAogICAgICAgICAgICB2YXIgY2lyY2xlX21hcmtlcl9mNGQyNzlmOTEzZjI0NTM4ODNkODhlMDQ5NGU1ODk4OCA9IEwuY2lyY2xlTWFya2VyKAogICAgICAgICAgICAgICAgWzQzLjY2NTg1OTksLTc5LjM4MzE1OTkwMDAwMDAxXSwKICAgICAgICAgICAgICAgIHsKICAiYnViYmxpbmdNb3VzZUV2ZW50cyI6IHRydWUsCiAgImNvbG9yIjogImJsdWUiLAogICJkYXNoQXJyYXkiOiBudWxsLAogICJkYXNoT2Zmc2V0IjogbnVsbCwKICAiZmlsbCI6IGZhbHNlLAogICJmaWxsQ29sb3IiOiAiIzMxODZjYyIsCiAgImZpbGxPcGFjaXR5IjogMC43LAogICJmaWxsUnVsZSI6ICJldmVub2RkIiwKICAibGluZUNhcCI6ICJyb3VuZCIsCiAgImxpbmVKb2luIjogInJvdW5kIiwKICAib3BhY2l0eSI6IDEuMCwKICAicmFkaXVzIjogNSwKICAic3Ryb2tlIjogdHJ1ZSwKICAid2VpZ2h0IjogMwp9CiAgICAgICAgICAgICAgICApLmFkZFRvKG1hcF83ZTQ1YmVlM2U3ZjY0NzI5OWFiOTljNjgxZGM0ZGUzNSk7CiAgICAgICAgICAgIAogICAgCiAgICAgICAgICAgIHZhciBwb3B1cF9hYjY0OGJlY2MwMmY0MTAzYmU2ZGVjYTJhMDBmYTMxMiA9IEwucG9wdXAoe21heFdpZHRoOiAnMzAwJ30pOwoKICAgICAgICAgICAgCiAgICAgICAgICAgICAgICB2YXIgaHRtbF8yZTdmMWUwMTA5Yjk0ODdiYWFkMDFkNDNlNzAwOTU0YSA9ICQoJzxkaXYgaWQ9Imh0bWxfMmU3ZjFlMDEwOWI5NDg3YmFhZDAxZDQzZTcwMDk1NGEiIHN0eWxlPSJ3aWR0aDogMTAwLjAlOyBoZWlnaHQ6IDEwMC4wJTsiPkNodXJjaCBhbmQgV2VsbGVzbGV5LCBEb3dudG93biBUb3JvbnRvPC9kaXY+JylbMF07CiAgICAgICAgICAgICAgICBwb3B1cF9hYjY0OGJlY2MwMmY0MTAzYmU2ZGVjYTJhMDBmYTMxMi5zZXRDb250ZW50KGh0bWxfMmU3ZjFlMDEwOWI5NDg3YmFhZDAxZDQzZTcwMDk1NGEpOwogICAgICAgICAgICAKCiAgICAgICAgICAgIGNpcmNsZV9tYXJrZXJfZjRkMjc5ZjkxM2YyNDUzODgzZDg4ZTA0OTRlNTg5ODguYmluZFBvcHVwKHBvcHVwX2FiNjQ4YmVjYzAyZjQxMDNiZTZkZWNhMmEwMGZhMzEyKTsKCiAgICAgICAgICAgIAogICAgICAgIAogICAgCiAgICAgICAgICAgIHZhciBjaXJjbGVfbWFya2VyXzJmNWU3OTJlY2Q2ZTRmMWE4M2JlYmE3MTkzYTg0NTU2ID0gTC5jaXJjbGVNYXJrZXIoCiAgICAgICAgICAgICAgICBbNDMuNjYyNzQzOSwtNzkuMzIxNTU4XSwKICAgICAgICAgICAgICAgIHsKICAiYnViYmxpbmdNb3VzZUV2ZW50cyI6IHRydWUsCiAgImNvbG9yIjogImJsdWUiLAogICJkYXNoQXJyYXkiOiBudWxsLAogICJkYXNoT2Zmc2V0IjogbnVsbCwKICAiZmlsbCI6IGZhbHNlLAogICJmaWxsQ29sb3IiOiAiIzMxODZjYyIsCiAgImZpbGxPcGFjaXR5IjogMC43LAogICJmaWxsUnVsZSI6ICJldmVub2RkIiwKICAibGluZUNhcCI6ICJyb3VuZCIsCiAgImxpbmVKb2luIjogInJvdW5kIiwKICAib3BhY2l0eSI6IDEuMCwKICAicmFkaXVzIjogNSwKICAic3Ryb2tlIjogdHJ1ZSwKICAid2VpZ2h0IjogMwp9CiAgICAgICAgICAgICAgICApLmFkZFRvKG1hcF83ZTQ1YmVlM2U3ZjY0NzI5OWFiOTljNjgxZGM0ZGUzNSk7CiAgICAgICAgICAgIAogICAgCiAgICAgICAgICAgIHZhciBwb3B1cF9kZWY2ZDQ1N2JiNmE0MmI4OWNhMWIwZjJlODdjMDRhMiA9IEwucG9wdXAoe21heFdpZHRoOiAnMzAwJ30pOwoKICAgICAgICAgICAgCiAgICAgICAgICAgICAgICB2YXIgaHRtbF84ODA2YmU0YWU4MDk0ZjhiODAyZTI3NzdhMzg3NDk4NyA9ICQoJzxkaXYgaWQ9Imh0bWxfODgwNmJlNGFlODA5NGY4YjgwMmUyNzc3YTM4NzQ5ODciIHN0eWxlPSJ3aWR0aDogMTAwLjAlOyBoZWlnaHQ6IDEwMC4wJTsiPkJ1c2luZXNzIHJlcGx5IG1haWwgUHJvY2Vzc2luZyBDZW50cmUsIFNvdXRoIENlbnRyYWwgTGV0dGVyIFByb2Nlc3NpbmcgUGxhbnQgVG9yb250bywgRWFzdCBUb3JvbnRvPC9kaXY+JylbMF07CiAgICAgICAgICAgICAgICBwb3B1cF9kZWY2ZDQ1N2JiNmE0MmI4OWNhMWIwZjJlODdjMDRhMi5zZXRDb250ZW50KGh0bWxfODgwNmJlNGFlODA5NGY4YjgwMmUyNzc3YTM4NzQ5ODcpOwogICAgICAgICAgICAKCiAgICAgICAgICAgIGNpcmNsZV9tYXJrZXJfMmY1ZTc5MmVjZDZlNGYxYTgzYmViYTcxOTNhODQ1NTYuYmluZFBvcHVwKHBvcHVwX2RlZjZkNDU3YmI2YTQyYjg5Y2ExYjBmMmU4N2MwNGEyKTsKCiAgICAgICAgICAgIAogICAgICAgIAogICAgCiAgICAgICAgICAgIHZhciBjaXJjbGVfbWFya2VyXzFmZmZiZDk0MTU5OTRlODM4NzJkY2E2NDg1YmUxOTQyID0gTC5jaXJjbGVNYXJrZXIoCiAgICAgICAgICAgICAgICBbNDMuNjM2MjU3OSwtNzkuNDk4NTA5MDk5OTk5OTldLAogICAgICAgICAgICAgICAgewogICJidWJibGluZ01vdXNlRXZlbnRzIjogdHJ1ZSwKICAiY29sb3IiOiAiYmx1ZSIsCiAgImRhc2hBcnJheSI6IG51bGwsCiAgImRhc2hPZmZzZXQiOiBudWxsLAogICJmaWxsIjogZmFsc2UsCiAgImZpbGxDb2xvciI6ICIjMzE4NmNjIiwKICAiZmlsbE9wYWNpdHkiOiAwLjcsCiAgImZpbGxSdWxlIjogImV2ZW5vZGQiLAogICJsaW5lQ2FwIjogInJvdW5kIiwKICAibGluZUpvaW4iOiAicm91bmQiLAogICJvcGFjaXR5IjogMS4wLAogICJyYWRpdXMiOiA1LAogICJzdHJva2UiOiB0cnVlLAogICJ3ZWlnaHQiOiAzCn0KICAgICAgICAgICAgICAgICkuYWRkVG8obWFwXzdlNDViZWUzZTdmNjQ3Mjk5YWI5OWM2ODFkYzRkZTM1KTsKICAgICAgICAgICAgCiAgICAKICAgICAgICAgICAgdmFyIHBvcHVwXzY1ZDA0NTk3NzkzOTQ5OTY5YmE2ZjE3MDJhNjQ5NDc1ID0gTC5wb3B1cCh7bWF4V2lkdGg6ICczMDAnfSk7CgogICAgICAgICAgICAKICAgICAgICAgICAgICAgIHZhciBodG1sXzkzY2NlMTZmZGJlMjQ5NTY4MzQyZDg2OGQwYzg2NzVhID0gJCgnPGRpdiBpZD0iaHRtbF85M2NjZTE2ZmRiZTI0OTU2ODM0MmQ4NjhkMGM4Njc1YSIgc3R5bGU9IndpZHRoOiAxMDAuMCU7IGhlaWdodDogMTAwLjAlOyI+T2xkIE1pbGwgU291dGgsIEtpbmcmIzM5O3MgTWlsbCBQYXJrLCBTdW5ueWxlYSwgSHVtYmVyIEJheSwgTWltaWNvIE5FLCBUaGUgUXVlZW5zd2F5IEVhc3QsIFJveWFsIFlvcmsgU291dGggRWFzdCwgS2luZ3N3YXkgUGFyayBTb3V0aCBFYXN0LCBFdG9iaWNva2U8L2Rpdj4nKVswXTsKICAgICAgICAgICAgICAgIHBvcHVwXzY1ZDA0NTk3NzkzOTQ5OTY5YmE2ZjE3MDJhNjQ5NDc1LnNldENvbnRlbnQoaHRtbF85M2NjZTE2ZmRiZTI0OTU2ODM0MmQ4NjhkMGM4Njc1YSk7CiAgICAgICAgICAgIAoKICAgICAgICAgICAgY2lyY2xlX21hcmtlcl8xZmZmYmQ5NDE1OTk0ZTgzODcyZGNhNjQ4NWJlMTk0Mi5iaW5kUG9wdXAocG9wdXBfNjVkMDQ1OTc3OTM5NDk5NjliYTZmMTcwMmE2NDk0NzUpOwoKICAgICAgICAgICAgCiAgICAgICAgCiAgICAKICAgICAgICAgICAgdmFyIGNpcmNsZV9tYXJrZXJfMzA2YzA5YWJhNjlhNDhlMjkxNzlmMTA4MmQ5NWVkYmUgPSBMLmNpcmNsZU1hcmtlcigKICAgICAgICAgICAgICAgIFs0My42Mjg4NDA4LC03OS41MjA5OTk0MDAwMDAwMV0sCiAgICAgICAgICAgICAgICB7CiAgImJ1YmJsaW5nTW91c2VFdmVudHMiOiB0cnVlLAogICJjb2xvciI6ICJibHVlIiwKICAiZGFzaEFycmF5IjogbnVsbCwKICAiZGFzaE9mZnNldCI6IG51bGwsCiAgImZpbGwiOiBmYWxzZSwKICAiZmlsbENvbG9yIjogIiMzMTg2Y2MiLAogICJmaWxsT3BhY2l0eSI6IDAuNywKICAiZmlsbFJ1bGUiOiAiZXZlbm9kZCIsCiAgImxpbmVDYXAiOiAicm91bmQiLAogICJsaW5lSm9pbiI6ICJyb3VuZCIsCiAgIm9wYWNpdHkiOiAxLjAsCiAgInJhZGl1cyI6IDUsCiAgInN0cm9rZSI6IHRydWUsCiAgIndlaWdodCI6IDMKfQogICAgICAgICAgICAgICAgKS5hZGRUbyhtYXBfN2U0NWJlZTNlN2Y2NDcyOTlhYjk5YzY4MWRjNGRlMzUpOwogICAgICAgICAgICAKICAgIAogICAgICAgICAgICB2YXIgcG9wdXBfZWM0NzkwMWZiYzQzNDU1OThmNDI5Y2VkNmMwMWYyMDYgPSBMLnBvcHVwKHttYXhXaWR0aDogJzMwMCd9KTsKCiAgICAgICAgICAgIAogICAgICAgICAgICAgICAgdmFyIGh0bWxfNTY4MzQ2NDUzNTE0NDNmM2EwMzI0YWFiYzdkMzQ5YWEgPSAkKCc8ZGl2IGlkPSJodG1sXzU2ODM0NjQ1MzUxNDQzZjNhMDMyNGFhYmM3ZDM0OWFhIiBzdHlsZT0id2lkdGg6IDEwMC4wJTsgaGVpZ2h0OiAxMDAuMCU7Ij5NaW1pY28gTlcsIFRoZSBRdWVlbnN3YXkgV2VzdCwgU291dGggb2YgQmxvb3IsIEtpbmdzd2F5IFBhcmsgU291dGggV2VzdCwgUm95YWwgWW9yayBTb3V0aCBXZXN0LCBFdG9iaWNva2U8L2Rpdj4nKVswXTsKICAgICAgICAgICAgICAgIHBvcHVwX2VjNDc5MDFmYmM0MzQ1NTk4ZjQyOWNlZDZjMDFmMjA2LnNldENvbnRlbnQoaHRtbF81NjgzNDY0NTM1MTQ0M2YzYTAzMjRhYWJjN2QzNDlhYSk7CiAgICAgICAgICAgIAoKICAgICAgICAgICAgY2lyY2xlX21hcmtlcl8zMDZjMDlhYmE2OWE0OGUyOTE3OWYxMDgyZDk1ZWRiZS5iaW5kUG9wdXAocG9wdXBfZWM0NzkwMWZiYzQzNDU1OThmNDI5Y2VkNmMwMWYyMDYpOwoKICAgICAgICAgICAgCiAgICAgICAgCjwvc2NyaXB0Pg== onload=\"this.contentDocument.open();this.contentDocument.write(atob(this.getAttribute('data-html')));this.contentDocument.close();\" allowfullscreen webkitallowfullscreen mozallowfullscreen></iframe></div></div>"
      ],
      "text/plain": [
       "<folium.folium.Map at 0x1a2ceeff90>"
      ]
     },
     "execution_count": 477,
     "metadata": {},
     "output_type": "execute_result"
    }
   ],
   "source": [
    "# Create a map of Toronto using latitude and longitude values.\n",
    "map_trt =folium.Map(location=[trt_latt, trt_logt], zoom_start=10)\n",
    "# Add marks to map\n",
    "for lat, lng, borgh, neibh in zip(trt_nh['Latitude'], trt_nh['Longitude'], trt_nh['Borough'], trt_nh['Neighborhood']):\n",
    "    label = neibh + ', ' + borgh\n",
    "    label = folium.Popup(label, parse_html=True)\n",
    "    folium.CircleMarker(\n",
    "        [lat, lng],\n",
    "        radius = 5,\n",
    "        popup = label,\n",
    "        color = 'blue',\n",
    "        file = True,\n",
    "        fill_color = '#3186cc',\n",
    "        fill_opacity = 0.7,\n",
    "        parse_html=False).add_to(map_trt)\n",
    "\n",
    "map_trt"
   ]
  },
  {
   "cell_type": "markdown",
   "metadata": {},
   "source": [
    "Now we are going to use Foursquare API to explore the neighobrhoods and then segment them."
   ]
  },
  {
   "cell_type": "markdown",
   "metadata": {},
   "source": [
    "Let's define Foursquare credentials and version first."
   ]
  },
  {
   "cell_type": "code",
   "execution_count": 478,
   "metadata": {},
   "outputs": [
    {
     "name": "stdout",
     "output_type": "stream",
     "text": [
      "Foursquare credential ready.\n"
     ]
    }
   ],
   "source": [
    "CLIENT_ID = 'KNHSATCIRLFKV1XG5AABYEOCD203O3PCQHN5TMOTPE4EPWOO'  # Foursquare ID\n",
    "CLIENT_SECRET = 'VK3WAOLFWLVRSKVEXOYCM4XAGVVLXTHOPZM3YVFXNA3EQNOT'\n",
    "VERSION = '20180605' # Foursquare API version\n",
    "LIMIT = 100 # A default Foursquare API limit value.\n",
    "\n",
    "print('Foursquare credential ready.')"
   ]
  },
  {
   "cell_type": "markdown",
   "metadata": {},
   "source": [
    "We will define a function that can get the top 100 venues in each Toronto neighborhoods within a radius of 500 meters."
   ]
  },
  {
   "cell_type": "code",
   "execution_count": 479,
   "metadata": {},
   "outputs": [],
   "source": [
    "def getVenues(neighborhood, latitude, longitude, radius=500):\n",
    "    venues_list = []\n",
    "    for neigh, lat, lng in zip(neighborhood, latitude, longitude):\n",
    "        # Create URL for API requests\n",
    "        url = 'https://api.foursquare.com/v2/venues/explore?&client_id={}&client_secret={}&v={}&ll={},{}&radius={}&limit={}'.format(\n",
    "            CLIENT_ID,\n",
    "            CLIENT_SECRET,\n",
    "            VERSION,\n",
    "            lat,\n",
    "            lng,\n",
    "            radius,\n",
    "            LIMIT)\n",
    "        \n",
    "        # Make the GET request\n",
    "        results = requests.get(url).json()['response']['groups'][0]['items']\n",
    "        \n",
    "        # Return only revelent information for each nearby venue\n",
    "        venues_list.append([(\n",
    "            neigh,\n",
    "            lat,\n",
    "            lng,\n",
    "            v['venue']['name'],\n",
    "            v['venue']['location']['lat'],\n",
    "            v['venue']['location']['lng'],\n",
    "            v['venue']['categories'][0]['name']) for v in results])\n",
    "        \n",
    "    nearby_venues = pd.DataFrame([venue_info for v_list in venues_list for venue_info in v_list])\n",
    "    nearby_venues.columns = ['neighborhood', 'nh_latitude', 'nh_longitude',\n",
    "                             'venue', 'vn_latitude', 'vn_longitude', 'category']\n",
    "    \n",
    "    return(nearby_venues)    "
   ]
  },
  {
   "cell_type": "markdown",
   "metadata": {},
   "source": [
    "Let's use function 'getVenues' to create a dataframe that includes venues information for each neighborhoods."
   ]
  },
  {
   "cell_type": "code",
   "execution_count": 480,
   "metadata": {},
   "outputs": [
    {
     "data": {
      "text/html": [
       "<div>\n",
       "<style scoped>\n",
       "    .dataframe tbody tr th:only-of-type {\n",
       "        vertical-align: middle;\n",
       "    }\n",
       "\n",
       "    .dataframe tbody tr th {\n",
       "        vertical-align: top;\n",
       "    }\n",
       "\n",
       "    .dataframe thead th {\n",
       "        text-align: right;\n",
       "    }\n",
       "</style>\n",
       "<table border=\"1\" class=\"dataframe\">\n",
       "  <thead>\n",
       "    <tr style=\"text-align: right;\">\n",
       "      <th></th>\n",
       "      <th>neighborhood</th>\n",
       "      <th>nh_latitude</th>\n",
       "      <th>nh_longitude</th>\n",
       "      <th>venue</th>\n",
       "      <th>vn_latitude</th>\n",
       "      <th>vn_longitude</th>\n",
       "      <th>category</th>\n",
       "    </tr>\n",
       "  </thead>\n",
       "  <tbody>\n",
       "    <tr>\n",
       "      <th>0</th>\n",
       "      <td>Parkwoods</td>\n",
       "      <td>43.753259</td>\n",
       "      <td>-79.329656</td>\n",
       "      <td>Brookbanks Park</td>\n",
       "      <td>43.751976</td>\n",
       "      <td>-79.332140</td>\n",
       "      <td>Park</td>\n",
       "    </tr>\n",
       "    <tr>\n",
       "      <th>1</th>\n",
       "      <td>Parkwoods</td>\n",
       "      <td>43.753259</td>\n",
       "      <td>-79.329656</td>\n",
       "      <td>Variety Store</td>\n",
       "      <td>43.751974</td>\n",
       "      <td>-79.333114</td>\n",
       "      <td>Food &amp; Drink Shop</td>\n",
       "    </tr>\n",
       "    <tr>\n",
       "      <th>2</th>\n",
       "      <td>Victoria Village</td>\n",
       "      <td>43.725882</td>\n",
       "      <td>-79.315572</td>\n",
       "      <td>Victoria Village Arena</td>\n",
       "      <td>43.723481</td>\n",
       "      <td>-79.315635</td>\n",
       "      <td>Hockey Arena</td>\n",
       "    </tr>\n",
       "    <tr>\n",
       "      <th>3</th>\n",
       "      <td>Victoria Village</td>\n",
       "      <td>43.725882</td>\n",
       "      <td>-79.315572</td>\n",
       "      <td>Portugril</td>\n",
       "      <td>43.725819</td>\n",
       "      <td>-79.312785</td>\n",
       "      <td>Portuguese Restaurant</td>\n",
       "    </tr>\n",
       "    <tr>\n",
       "      <th>4</th>\n",
       "      <td>Victoria Village</td>\n",
       "      <td>43.725882</td>\n",
       "      <td>-79.315572</td>\n",
       "      <td>Tim Hortons</td>\n",
       "      <td>43.725517</td>\n",
       "      <td>-79.313103</td>\n",
       "      <td>Coffee Shop</td>\n",
       "    </tr>\n",
       "  </tbody>\n",
       "</table>\n",
       "</div>"
      ],
      "text/plain": [
       "       neighborhood  nh_latitude  nh_longitude                   venue  \\\n",
       "0         Parkwoods    43.753259    -79.329656         Brookbanks Park   \n",
       "1         Parkwoods    43.753259    -79.329656           Variety Store   \n",
       "2  Victoria Village    43.725882    -79.315572  Victoria Village Arena   \n",
       "3  Victoria Village    43.725882    -79.315572               Portugril   \n",
       "4  Victoria Village    43.725882    -79.315572             Tim Hortons   \n",
       "\n",
       "   vn_latitude  vn_longitude               category  \n",
       "0    43.751976    -79.332140                   Park  \n",
       "1    43.751974    -79.333114      Food & Drink Shop  \n",
       "2    43.723481    -79.315635           Hockey Arena  \n",
       "3    43.725819    -79.312785  Portuguese Restaurant  \n",
       "4    43.725517    -79.313103            Coffee Shop  "
      ]
     },
     "execution_count": 480,
     "metadata": {},
     "output_type": "execute_result"
    }
   ],
   "source": [
    "trt_venues = getVenues(trt_nh['Neighborhood'], trt_nh['Latitude'], trt_nh['Longitude'])\n",
    "trt_venues.head()"
   ]
  },
  {
   "cell_type": "code",
   "execution_count": 428,
   "metadata": {},
   "outputs": [
    {
     "data": {
      "text/plain": [
       "(2136, 7)"
      ]
     },
     "execution_count": 428,
     "metadata": {},
     "output_type": "execute_result"
    }
   ],
   "source": [
    "trt_venues.shape"
   ]
  },
  {
   "cell_type": "markdown",
   "metadata": {},
   "source": [
    "Let's check how many of venues were returned for each neighborhoods."
   ]
  },
  {
   "cell_type": "code",
   "execution_count": 429,
   "metadata": {},
   "outputs": [
    {
     "data": {
      "text/html": [
       "<div>\n",
       "<style scoped>\n",
       "    .dataframe tbody tr th:only-of-type {\n",
       "        vertical-align: middle;\n",
       "    }\n",
       "\n",
       "    .dataframe tbody tr th {\n",
       "        vertical-align: top;\n",
       "    }\n",
       "\n",
       "    .dataframe thead th {\n",
       "        text-align: right;\n",
       "    }\n",
       "</style>\n",
       "<table border=\"1\" class=\"dataframe\">\n",
       "  <thead>\n",
       "    <tr style=\"text-align: right;\">\n",
       "      <th></th>\n",
       "      <th>nh_latitude</th>\n",
       "      <th>nh_longitude</th>\n",
       "      <th>venue</th>\n",
       "      <th>vn_latitude</th>\n",
       "      <th>vn_longitude</th>\n",
       "      <th>category</th>\n",
       "    </tr>\n",
       "    <tr>\n",
       "      <th>neighborhood</th>\n",
       "      <th></th>\n",
       "      <th></th>\n",
       "      <th></th>\n",
       "      <th></th>\n",
       "      <th></th>\n",
       "      <th></th>\n",
       "    </tr>\n",
       "  </thead>\n",
       "  <tbody>\n",
       "    <tr>\n",
       "      <th>Agincourt</th>\n",
       "      <td>5</td>\n",
       "      <td>5</td>\n",
       "      <td>5</td>\n",
       "      <td>5</td>\n",
       "      <td>5</td>\n",
       "      <td>5</td>\n",
       "    </tr>\n",
       "    <tr>\n",
       "      <th>Alderwood, Long Branch</th>\n",
       "      <td>7</td>\n",
       "      <td>7</td>\n",
       "      <td>7</td>\n",
       "      <td>7</td>\n",
       "      <td>7</td>\n",
       "      <td>7</td>\n",
       "    </tr>\n",
       "    <tr>\n",
       "      <th>Bathurst Manor, Wilson Heights, Downsview North</th>\n",
       "      <td>21</td>\n",
       "      <td>21</td>\n",
       "      <td>21</td>\n",
       "      <td>21</td>\n",
       "      <td>21</td>\n",
       "      <td>21</td>\n",
       "    </tr>\n",
       "    <tr>\n",
       "      <th>Bayview Village</th>\n",
       "      <td>4</td>\n",
       "      <td>4</td>\n",
       "      <td>4</td>\n",
       "      <td>4</td>\n",
       "      <td>4</td>\n",
       "      <td>4</td>\n",
       "    </tr>\n",
       "    <tr>\n",
       "      <th>Bedford Park, Lawrence Manor East</th>\n",
       "      <td>22</td>\n",
       "      <td>22</td>\n",
       "      <td>22</td>\n",
       "      <td>22</td>\n",
       "      <td>22</td>\n",
       "      <td>22</td>\n",
       "    </tr>\n",
       "    <tr>\n",
       "      <th>...</th>\n",
       "      <td>...</td>\n",
       "      <td>...</td>\n",
       "      <td>...</td>\n",
       "      <td>...</td>\n",
       "      <td>...</td>\n",
       "      <td>...</td>\n",
       "    </tr>\n",
       "    <tr>\n",
       "      <th>Willowdale, Willowdale West</th>\n",
       "      <td>5</td>\n",
       "      <td>5</td>\n",
       "      <td>5</td>\n",
       "      <td>5</td>\n",
       "      <td>5</td>\n",
       "      <td>5</td>\n",
       "    </tr>\n",
       "    <tr>\n",
       "      <th>Woburn</th>\n",
       "      <td>4</td>\n",
       "      <td>4</td>\n",
       "      <td>4</td>\n",
       "      <td>4</td>\n",
       "      <td>4</td>\n",
       "      <td>4</td>\n",
       "    </tr>\n",
       "    <tr>\n",
       "      <th>Woodbine Heights</th>\n",
       "      <td>7</td>\n",
       "      <td>7</td>\n",
       "      <td>7</td>\n",
       "      <td>7</td>\n",
       "      <td>7</td>\n",
       "      <td>7</td>\n",
       "    </tr>\n",
       "    <tr>\n",
       "      <th>York Mills West</th>\n",
       "      <td>2</td>\n",
       "      <td>2</td>\n",
       "      <td>2</td>\n",
       "      <td>2</td>\n",
       "      <td>2</td>\n",
       "      <td>2</td>\n",
       "    </tr>\n",
       "    <tr>\n",
       "      <th>York Mills, Silver Hills</th>\n",
       "      <td>1</td>\n",
       "      <td>1</td>\n",
       "      <td>1</td>\n",
       "      <td>1</td>\n",
       "      <td>1</td>\n",
       "      <td>1</td>\n",
       "    </tr>\n",
       "  </tbody>\n",
       "</table>\n",
       "<p>96 rows × 6 columns</p>\n",
       "</div>"
      ],
      "text/plain": [
       "                                                 nh_latitude  nh_longitude  \\\n",
       "neighborhood                                                                 \n",
       "Agincourt                                                  5             5   \n",
       "Alderwood, Long Branch                                     7             7   \n",
       "Bathurst Manor, Wilson Heights, Downsview North           21            21   \n",
       "Bayview Village                                            4             4   \n",
       "Bedford Park, Lawrence Manor East                         22            22   \n",
       "...                                                      ...           ...   \n",
       "Willowdale, Willowdale West                                5             5   \n",
       "Woburn                                                     4             4   \n",
       "Woodbine Heights                                           7             7   \n",
       "York Mills West                                            2             2   \n",
       "York Mills, Silver Hills                                   1             1   \n",
       "\n",
       "                                                 venue  vn_latitude  \\\n",
       "neighborhood                                                          \n",
       "Agincourt                                            5            5   \n",
       "Alderwood, Long Branch                               7            7   \n",
       "Bathurst Manor, Wilson Heights, Downsview North     21           21   \n",
       "Bayview Village                                      4            4   \n",
       "Bedford Park, Lawrence Manor East                   22           22   \n",
       "...                                                ...          ...   \n",
       "Willowdale, Willowdale West                          5            5   \n",
       "Woburn                                               4            4   \n",
       "Woodbine Heights                                     7            7   \n",
       "York Mills West                                      2            2   \n",
       "York Mills, Silver Hills                             1            1   \n",
       "\n",
       "                                                 vn_longitude  category  \n",
       "neighborhood                                                             \n",
       "Agincourt                                                   5         5  \n",
       "Alderwood, Long Branch                                      7         7  \n",
       "Bathurst Manor, Wilson Heights, Downsview North            21        21  \n",
       "Bayview Village                                             4         4  \n",
       "Bedford Park, Lawrence Manor East                          22        22  \n",
       "...                                                       ...       ...  \n",
       "Willowdale, Willowdale West                                 5         5  \n",
       "Woburn                                                      4         4  \n",
       "Woodbine Heights                                            7         7  \n",
       "York Mills West                                             2         2  \n",
       "York Mills, Silver Hills                                    1         1  \n",
       "\n",
       "[96 rows x 6 columns]"
      ]
     },
     "execution_count": 429,
     "metadata": {},
     "output_type": "execute_result"
    }
   ],
   "source": [
    "trt_venues.groupby('neighborhood').count()"
   ]
  },
  {
   "cell_type": "code",
   "execution_count": 430,
   "metadata": {},
   "outputs": [
    {
     "data": {
      "text/plain": [
       "273"
      ]
     },
     "execution_count": 430,
     "metadata": {},
     "output_type": "execute_result"
    }
   ],
   "source": [
    "# Find out the number of category.\n",
    "len(trt_venues['category'].unique())"
   ]
  },
  {
   "cell_type": "markdown",
   "metadata": {},
   "source": [
    "Let's plot the distribution of the number of venues in neighborhoods."
   ]
  },
  {
   "cell_type": "code",
   "execution_count": 431,
   "metadata": {},
   "outputs": [
    {
     "data": {
      "text/plain": [
       "<matplotlib.axes._subplots.AxesSubplot at 0x1a2bcb1f10>"
      ]
     },
     "execution_count": 431,
     "metadata": {},
     "output_type": "execute_result"
    },
    {
     "data": {
      "image/png": "[encoded data removed]",
      "text/plain": [
       "<Figure size 432x288 with 1 Axes>"
      ]
     },
     "metadata": {
      "needs_background": "light"
     },
     "output_type": "display_data"
    }
   ],
   "source": [
    "trt_venues.groupby('neighborhood').count()['venue'].plot(kind='hist')"
   ]
  },
  {
   "cell_type": "markdown",
   "metadata": {},
   "source": [
    "The number of venues in a lot of neighborhoods are less than twenty. We'll analyze only the neighborhoods that have at least 20 venues."
   ]
  },
  {
   "cell_type": "code",
   "execution_count": 432,
   "metadata": {},
   "outputs": [],
   "source": [
    "# Generate a neighborhood list that only includes neighborhoods wiht more than ten venues.\n",
    "temp = trt_venues.groupby('neighborhood').count()['venue']\n",
    "venue_20 = temp[temp>=20].index.tolist()\n",
    "trt_venues20 = trt_venues[trt_venues['neighborhood'].isin(venue_20)]"
   ]
  },
  {
   "cell_type": "code",
   "execution_count": 433,
   "metadata": {},
   "outputs": [
    {
     "data": {
      "text/plain": [
       "(1677, 7)"
      ]
     },
     "execution_count": 433,
     "metadata": {},
     "output_type": "execute_result"
    }
   ],
   "source": [
    "# Check the size of new dataframe.\n",
    "trt_venues20.shape"
   ]
  },
  {
   "cell_type": "markdown",
   "metadata": {},
   "source": [
    "We will transform the dataframe to meet conditions for applying K-means cluster."
   ]
  },
  {
   "cell_type": "code",
   "execution_count": 434,
   "metadata": {},
   "outputs": [
    {
     "data": {
      "text/html": [
       "<div>\n",
       "<style scoped>\n",
       "    .dataframe tbody tr th:only-of-type {\n",
       "        vertical-align: middle;\n",
       "    }\n",
       "\n",
       "    .dataframe tbody tr th {\n",
       "        vertical-align: top;\n",
       "    }\n",
       "\n",
       "    .dataframe thead th {\n",
       "        text-align: right;\n",
       "    }\n",
       "</style>\n",
       "<table border=\"1\" class=\"dataframe\">\n",
       "  <thead>\n",
       "    <tr style=\"text-align: right;\">\n",
       "      <th></th>\n",
       "      <th>neighborhood</th>\n",
       "      <th>Afghan Restaurant</th>\n",
       "      <th>American Restaurant</th>\n",
       "      <th>Antique Shop</th>\n",
       "      <th>Aquarium</th>\n",
       "      <th>Art Gallery</th>\n",
       "      <th>Art Museum</th>\n",
       "      <th>Arts &amp; Crafts Store</th>\n",
       "      <th>Asian Restaurant</th>\n",
       "      <th>BBQ Joint</th>\n",
       "      <th>...</th>\n",
       "      <th>Toy / Game Store</th>\n",
       "      <th>Trail</th>\n",
       "      <th>Train Station</th>\n",
       "      <th>Vegetarian / Vegan Restaurant</th>\n",
       "      <th>Video Game Store</th>\n",
       "      <th>Vietnamese Restaurant</th>\n",
       "      <th>Warehouse Store</th>\n",
       "      <th>Wine Bar</th>\n",
       "      <th>Women's Store</th>\n",
       "      <th>Yoga Studio</th>\n",
       "    </tr>\n",
       "  </thead>\n",
       "  <tbody>\n",
       "    <tr>\n",
       "      <th>7</th>\n",
       "      <td>Regent Park, Harbourfront</td>\n",
       "      <td>0</td>\n",
       "      <td>0</td>\n",
       "      <td>0</td>\n",
       "      <td>0</td>\n",
       "      <td>0</td>\n",
       "      <td>0</td>\n",
       "      <td>0</td>\n",
       "      <td>0</td>\n",
       "      <td>0</td>\n",
       "      <td>...</td>\n",
       "      <td>0</td>\n",
       "      <td>0</td>\n",
       "      <td>0</td>\n",
       "      <td>0</td>\n",
       "      <td>0</td>\n",
       "      <td>0</td>\n",
       "      <td>0</td>\n",
       "      <td>0</td>\n",
       "      <td>0</td>\n",
       "      <td>0</td>\n",
       "    </tr>\n",
       "    <tr>\n",
       "      <th>8</th>\n",
       "      <td>Regent Park, Harbourfront</td>\n",
       "      <td>0</td>\n",
       "      <td>0</td>\n",
       "      <td>0</td>\n",
       "      <td>0</td>\n",
       "      <td>0</td>\n",
       "      <td>0</td>\n",
       "      <td>0</td>\n",
       "      <td>0</td>\n",
       "      <td>0</td>\n",
       "      <td>...</td>\n",
       "      <td>0</td>\n",
       "      <td>0</td>\n",
       "      <td>0</td>\n",
       "      <td>0</td>\n",
       "      <td>0</td>\n",
       "      <td>0</td>\n",
       "      <td>0</td>\n",
       "      <td>0</td>\n",
       "      <td>0</td>\n",
       "      <td>0</td>\n",
       "    </tr>\n",
       "    <tr>\n",
       "      <th>9</th>\n",
       "      <td>Regent Park, Harbourfront</td>\n",
       "      <td>0</td>\n",
       "      <td>0</td>\n",
       "      <td>0</td>\n",
       "      <td>0</td>\n",
       "      <td>0</td>\n",
       "      <td>0</td>\n",
       "      <td>0</td>\n",
       "      <td>0</td>\n",
       "      <td>0</td>\n",
       "      <td>...</td>\n",
       "      <td>0</td>\n",
       "      <td>0</td>\n",
       "      <td>0</td>\n",
       "      <td>0</td>\n",
       "      <td>0</td>\n",
       "      <td>0</td>\n",
       "      <td>0</td>\n",
       "      <td>0</td>\n",
       "      <td>0</td>\n",
       "      <td>0</td>\n",
       "    </tr>\n",
       "    <tr>\n",
       "      <th>10</th>\n",
       "      <td>Regent Park, Harbourfront</td>\n",
       "      <td>0</td>\n",
       "      <td>0</td>\n",
       "      <td>0</td>\n",
       "      <td>0</td>\n",
       "      <td>0</td>\n",
       "      <td>0</td>\n",
       "      <td>0</td>\n",
       "      <td>0</td>\n",
       "      <td>0</td>\n",
       "      <td>...</td>\n",
       "      <td>0</td>\n",
       "      <td>0</td>\n",
       "      <td>0</td>\n",
       "      <td>0</td>\n",
       "      <td>0</td>\n",
       "      <td>0</td>\n",
       "      <td>0</td>\n",
       "      <td>0</td>\n",
       "      <td>0</td>\n",
       "      <td>0</td>\n",
       "    </tr>\n",
       "    <tr>\n",
       "      <th>11</th>\n",
       "      <td>Regent Park, Harbourfront</td>\n",
       "      <td>0</td>\n",
       "      <td>0</td>\n",
       "      <td>0</td>\n",
       "      <td>0</td>\n",
       "      <td>0</td>\n",
       "      <td>0</td>\n",
       "      <td>0</td>\n",
       "      <td>0</td>\n",
       "      <td>0</td>\n",
       "      <td>...</td>\n",
       "      <td>0</td>\n",
       "      <td>0</td>\n",
       "      <td>0</td>\n",
       "      <td>0</td>\n",
       "      <td>0</td>\n",
       "      <td>0</td>\n",
       "      <td>0</td>\n",
       "      <td>0</td>\n",
       "      <td>0</td>\n",
       "      <td>0</td>\n",
       "    </tr>\n",
       "  </tbody>\n",
       "</table>\n",
       "<p>5 rows × 228 columns</p>\n",
       "</div>"
      ],
      "text/plain": [
       "                 neighborhood  Afghan Restaurant  American Restaurant  \\\n",
       "7   Regent Park, Harbourfront                  0                    0   \n",
       "8   Regent Park, Harbourfront                  0                    0   \n",
       "9   Regent Park, Harbourfront                  0                    0   \n",
       "10  Regent Park, Harbourfront                  0                    0   \n",
       "11  Regent Park, Harbourfront                  0                    0   \n",
       "\n",
       "    Antique Shop  Aquarium  Art Gallery  Art Museum  Arts & Crafts Store  \\\n",
       "7              0         0            0           0                    0   \n",
       "8              0         0            0           0                    0   \n",
       "9              0         0            0           0                    0   \n",
       "10             0         0            0           0                    0   \n",
       "11             0         0            0           0                    0   \n",
       "\n",
       "    Asian Restaurant  BBQ Joint  ...  Toy / Game Store  Trail  Train Station  \\\n",
       "7                  0          0  ...                 0      0              0   \n",
       "8                  0          0  ...                 0      0              0   \n",
       "9                  0          0  ...                 0      0              0   \n",
       "10                 0          0  ...                 0      0              0   \n",
       "11                 0          0  ...                 0      0              0   \n",
       "\n",
       "    Vegetarian / Vegan Restaurant  Video Game Store  Vietnamese Restaurant  \\\n",
       "7                               0                 0                      0   \n",
       "8                               0                 0                      0   \n",
       "9                               0                 0                      0   \n",
       "10                              0                 0                      0   \n",
       "11                              0                 0                      0   \n",
       "\n",
       "    Warehouse Store  Wine Bar  Women's Store  Yoga Studio  \n",
       "7                 0         0              0            0  \n",
       "8                 0         0              0            0  \n",
       "9                 0         0              0            0  \n",
       "10                0         0              0            0  \n",
       "11                0         0              0            0  \n",
       "\n",
       "[5 rows x 228 columns]"
      ]
     },
     "execution_count": 434,
     "metadata": {},
     "output_type": "execute_result"
    }
   ],
   "source": [
    "# One hot coding\n",
    "trt_onehot = pd.get_dummies(trt_venues20[['category']], prefix='', prefix_sep='')\n",
    "# Add neighborhood column back to dataframe\n",
    "trt_onehot['neighborhood'] = trt_venues20['neighborhood']\n",
    "# Move neighborhood column to the first column\n",
    "fixed_columns = [trt_onehot.columns[-1]] + list(trt_onehot.columns[:-1])\n",
    "trt_onehot[fixed_columns].head()"
   ]
  },
  {
   "cell_type": "code",
   "execution_count": 435,
   "metadata": {},
   "outputs": [
    {
     "data": {
      "text/plain": [
       "(1677, 228)"
      ]
     },
     "execution_count": 435,
     "metadata": {},
     "output_type": "execute_result"
    }
   ],
   "source": [
    "# Check size of dataframe\n",
    "trt_onehot.shape"
   ]
  },
  {
   "cell_type": "markdown",
   "metadata": {},
   "source": [
    "Let's group rows by neighborhood and calculate the mean of the each category."
   ]
  },
  {
   "cell_type": "code",
   "execution_count": 436,
   "metadata": {},
   "outputs": [
    {
     "data": {
      "text/html": [
       "<div>\n",
       "<style scoped>\n",
       "    .dataframe tbody tr th:only-of-type {\n",
       "        vertical-align: middle;\n",
       "    }\n",
       "\n",
       "    .dataframe tbody tr th {\n",
       "        vertical-align: top;\n",
       "    }\n",
       "\n",
       "    .dataframe thead th {\n",
       "        text-align: right;\n",
       "    }\n",
       "</style>\n",
       "<table border=\"1\" class=\"dataframe\">\n",
       "  <thead>\n",
       "    <tr style=\"text-align: right;\">\n",
       "      <th></th>\n",
       "      <th>neighborhood</th>\n",
       "      <th>Afghan Restaurant</th>\n",
       "      <th>American Restaurant</th>\n",
       "      <th>Antique Shop</th>\n",
       "      <th>Aquarium</th>\n",
       "      <th>Art Gallery</th>\n",
       "      <th>Art Museum</th>\n",
       "      <th>Arts &amp; Crafts Store</th>\n",
       "      <th>Asian Restaurant</th>\n",
       "      <th>BBQ Joint</th>\n",
       "      <th>...</th>\n",
       "      <th>Toy / Game Store</th>\n",
       "      <th>Trail</th>\n",
       "      <th>Train Station</th>\n",
       "      <th>Vegetarian / Vegan Restaurant</th>\n",
       "      <th>Video Game Store</th>\n",
       "      <th>Vietnamese Restaurant</th>\n",
       "      <th>Warehouse Store</th>\n",
       "      <th>Wine Bar</th>\n",
       "      <th>Women's Store</th>\n",
       "      <th>Yoga Studio</th>\n",
       "    </tr>\n",
       "  </thead>\n",
       "  <tbody>\n",
       "    <tr>\n",
       "      <th>0</th>\n",
       "      <td>Bathurst Manor, Wilson Heights, Downsview North</td>\n",
       "      <td>0.0</td>\n",
       "      <td>0.000000</td>\n",
       "      <td>0.0</td>\n",
       "      <td>0.0</td>\n",
       "      <td>0.000000</td>\n",
       "      <td>0.000000</td>\n",
       "      <td>0.0</td>\n",
       "      <td>0.0</td>\n",
       "      <td>0.0</td>\n",
       "      <td>...</td>\n",
       "      <td>0.0</td>\n",
       "      <td>0.0</td>\n",
       "      <td>0.0</td>\n",
       "      <td>0.000000</td>\n",
       "      <td>0.0</td>\n",
       "      <td>0.0</td>\n",
       "      <td>0.0</td>\n",
       "      <td>0.000000</td>\n",
       "      <td>0.0</td>\n",
       "      <td>0.000000</td>\n",
       "    </tr>\n",
       "    <tr>\n",
       "      <th>1</th>\n",
       "      <td>Bedford Park, Lawrence Manor East</td>\n",
       "      <td>0.0</td>\n",
       "      <td>0.045455</td>\n",
       "      <td>0.0</td>\n",
       "      <td>0.0</td>\n",
       "      <td>0.000000</td>\n",
       "      <td>0.000000</td>\n",
       "      <td>0.0</td>\n",
       "      <td>0.0</td>\n",
       "      <td>0.0</td>\n",
       "      <td>...</td>\n",
       "      <td>0.0</td>\n",
       "      <td>0.0</td>\n",
       "      <td>0.0</td>\n",
       "      <td>0.000000</td>\n",
       "      <td>0.0</td>\n",
       "      <td>0.0</td>\n",
       "      <td>0.0</td>\n",
       "      <td>0.000000</td>\n",
       "      <td>0.0</td>\n",
       "      <td>0.000000</td>\n",
       "    </tr>\n",
       "    <tr>\n",
       "      <th>2</th>\n",
       "      <td>Berczy Park</td>\n",
       "      <td>0.0</td>\n",
       "      <td>0.000000</td>\n",
       "      <td>0.0</td>\n",
       "      <td>0.0</td>\n",
       "      <td>0.018182</td>\n",
       "      <td>0.000000</td>\n",
       "      <td>0.0</td>\n",
       "      <td>0.0</td>\n",
       "      <td>0.0</td>\n",
       "      <td>...</td>\n",
       "      <td>0.0</td>\n",
       "      <td>0.0</td>\n",
       "      <td>0.0</td>\n",
       "      <td>0.018182</td>\n",
       "      <td>0.0</td>\n",
       "      <td>0.0</td>\n",
       "      <td>0.0</td>\n",
       "      <td>0.000000</td>\n",
       "      <td>0.0</td>\n",
       "      <td>0.000000</td>\n",
       "    </tr>\n",
       "    <tr>\n",
       "      <th>3</th>\n",
       "      <td>Brockton, Parkdale Village, Exhibition Place</td>\n",
       "      <td>0.0</td>\n",
       "      <td>0.000000</td>\n",
       "      <td>0.0</td>\n",
       "      <td>0.0</td>\n",
       "      <td>0.000000</td>\n",
       "      <td>0.000000</td>\n",
       "      <td>0.0</td>\n",
       "      <td>0.0</td>\n",
       "      <td>0.0</td>\n",
       "      <td>...</td>\n",
       "      <td>0.0</td>\n",
       "      <td>0.0</td>\n",
       "      <td>0.0</td>\n",
       "      <td>0.000000</td>\n",
       "      <td>0.0</td>\n",
       "      <td>0.0</td>\n",
       "      <td>0.0</td>\n",
       "      <td>0.000000</td>\n",
       "      <td>0.0</td>\n",
       "      <td>0.000000</td>\n",
       "    </tr>\n",
       "    <tr>\n",
       "      <th>4</th>\n",
       "      <td>Central Bay Street</td>\n",
       "      <td>0.0</td>\n",
       "      <td>0.000000</td>\n",
       "      <td>0.0</td>\n",
       "      <td>0.0</td>\n",
       "      <td>0.000000</td>\n",
       "      <td>0.014706</td>\n",
       "      <td>0.0</td>\n",
       "      <td>0.0</td>\n",
       "      <td>0.0</td>\n",
       "      <td>...</td>\n",
       "      <td>0.0</td>\n",
       "      <td>0.0</td>\n",
       "      <td>0.0</td>\n",
       "      <td>0.014706</td>\n",
       "      <td>0.0</td>\n",
       "      <td>0.0</td>\n",
       "      <td>0.0</td>\n",
       "      <td>0.014706</td>\n",
       "      <td>0.0</td>\n",
       "      <td>0.014706</td>\n",
       "    </tr>\n",
       "  </tbody>\n",
       "</table>\n",
       "<p>5 rows × 228 columns</p>\n",
       "</div>"
      ],
      "text/plain": [
       "                                      neighborhood  Afghan Restaurant  \\\n",
       "0  Bathurst Manor, Wilson Heights, Downsview North                0.0   \n",
       "1                Bedford Park, Lawrence Manor East                0.0   \n",
       "2                                      Berczy Park                0.0   \n",
       "3     Brockton, Parkdale Village, Exhibition Place                0.0   \n",
       "4                               Central Bay Street                0.0   \n",
       "\n",
       "   American Restaurant  Antique Shop  Aquarium  Art Gallery  Art Museum  \\\n",
       "0             0.000000           0.0       0.0     0.000000    0.000000   \n",
       "1             0.045455           0.0       0.0     0.000000    0.000000   \n",
       "2             0.000000           0.0       0.0     0.018182    0.000000   \n",
       "3             0.000000           0.0       0.0     0.000000    0.000000   \n",
       "4             0.000000           0.0       0.0     0.000000    0.014706   \n",
       "\n",
       "   Arts & Crafts Store  Asian Restaurant  BBQ Joint  ...  Toy / Game Store  \\\n",
       "0                  0.0               0.0        0.0  ...               0.0   \n",
       "1                  0.0               0.0        0.0  ...               0.0   \n",
       "2                  0.0               0.0        0.0  ...               0.0   \n",
       "3                  0.0               0.0        0.0  ...               0.0   \n",
       "4                  0.0               0.0        0.0  ...               0.0   \n",
       "\n",
       "   Trail  Train Station  Vegetarian / Vegan Restaurant  Video Game Store  \\\n",
       "0    0.0            0.0                       0.000000               0.0   \n",
       "1    0.0            0.0                       0.000000               0.0   \n",
       "2    0.0            0.0                       0.018182               0.0   \n",
       "3    0.0            0.0                       0.000000               0.0   \n",
       "4    0.0            0.0                       0.014706               0.0   \n",
       "\n",
       "   Vietnamese Restaurant  Warehouse Store  Wine Bar  Women's Store  \\\n",
       "0                    0.0              0.0  0.000000            0.0   \n",
       "1                    0.0              0.0  0.000000            0.0   \n",
       "2                    0.0              0.0  0.000000            0.0   \n",
       "3                    0.0              0.0  0.000000            0.0   \n",
       "4                    0.0              0.0  0.014706            0.0   \n",
       "\n",
       "   Yoga Studio  \n",
       "0     0.000000  \n",
       "1     0.000000  \n",
       "2     0.000000  \n",
       "3     0.000000  \n",
       "4     0.014706  \n",
       "\n",
       "[5 rows x 228 columns]"
      ]
     },
     "execution_count": 436,
     "metadata": {},
     "output_type": "execute_result"
    }
   ],
   "source": [
    "trt_mean = trt_onehot.groupby('neighborhood').mean().reset_index()\n",
    "trt_mean.head()"
   ]
  },
  {
   "cell_type": "markdown",
   "metadata": {},
   "source": [
    "We will create a dataframe that can display neighborhoods with their top ten most common venues and cluster labels. First, let's define a function that can return the top ten most common venues."
   ]
  },
  {
   "cell_type": "code",
   "execution_count": 437,
   "metadata": {},
   "outputs": [],
   "source": [
    "# Function for returning most common venues.\n",
    "def most_common_venues(nh_row, number_top_common):\n",
    "    top_venues = nh_row[1:].sort_values(ascending=False)[0: number_top_common].index.values\n",
    "    return top_venues"
   ]
  },
  {
   "cell_type": "markdown",
   "metadata": {},
   "source": [
    "Create the new dataframe."
   ]
  },
  {
   "cell_type": "code",
   "execution_count": 452,
   "metadata": {},
   "outputs": [
    {
     "data": {
      "text/html": [
       "<div>\n",
       "<style scoped>\n",
       "    .dataframe tbody tr th:only-of-type {\n",
       "        vertical-align: middle;\n",
       "    }\n",
       "\n",
       "    .dataframe tbody tr th {\n",
       "        vertical-align: top;\n",
       "    }\n",
       "\n",
       "    .dataframe thead th {\n",
       "        text-align: right;\n",
       "    }\n",
       "</style>\n",
       "<table border=\"1\" class=\"dataframe\">\n",
       "  <thead>\n",
       "    <tr style=\"text-align: right;\">\n",
       "      <th></th>\n",
       "      <th>neighborhood</th>\n",
       "      <th>1st most common venue</th>\n",
       "      <th>2nd most common venue</th>\n",
       "      <th>3rd most common venue</th>\n",
       "      <th>4st most common venue</th>\n",
       "      <th>5st most common venue</th>\n",
       "      <th>6st most common venue</th>\n",
       "      <th>7st most common venue</th>\n",
       "      <th>8st most common venue</th>\n",
       "      <th>9st most common venue</th>\n",
       "      <th>10st most common venue</th>\n",
       "    </tr>\n",
       "  </thead>\n",
       "  <tbody>\n",
       "    <tr>\n",
       "      <th>0</th>\n",
       "      <td>Bathurst Manor, Wilson Heights, Downsview North</td>\n",
       "      <td>Bank</td>\n",
       "      <td>Coffee Shop</td>\n",
       "      <td>Sushi Restaurant</td>\n",
       "      <td>Ice Cream Shop</td>\n",
       "      <td>Sandwich Place</td>\n",
       "      <td>Bridal Shop</td>\n",
       "      <td>Restaurant</td>\n",
       "      <td>Chinese Restaurant</td>\n",
       "      <td>Middle Eastern Restaurant</td>\n",
       "      <td>Diner</td>\n",
       "    </tr>\n",
       "    <tr>\n",
       "      <th>1</th>\n",
       "      <td>Bedford Park, Lawrence Manor East</td>\n",
       "      <td>Italian Restaurant</td>\n",
       "      <td>Sandwich Place</td>\n",
       "      <td>Coffee Shop</td>\n",
       "      <td>American Restaurant</td>\n",
       "      <td>Pharmacy</td>\n",
       "      <td>Café</td>\n",
       "      <td>Restaurant</td>\n",
       "      <td>Pub</td>\n",
       "      <td>Pizza Place</td>\n",
       "      <td>Grocery Store</td>\n",
       "    </tr>\n",
       "    <tr>\n",
       "      <th>2</th>\n",
       "      <td>Berczy Park</td>\n",
       "      <td>Coffee Shop</td>\n",
       "      <td>Beer Bar</td>\n",
       "      <td>Cheese Shop</td>\n",
       "      <td>Farmers Market</td>\n",
       "      <td>Restaurant</td>\n",
       "      <td>Bakery</td>\n",
       "      <td>Seafood Restaurant</td>\n",
       "      <td>Cocktail Bar</td>\n",
       "      <td>Fountain</td>\n",
       "      <td>Sandwich Place</td>\n",
       "    </tr>\n",
       "    <tr>\n",
       "      <th>3</th>\n",
       "      <td>Brockton, Parkdale Village, Exhibition Place</td>\n",
       "      <td>Café</td>\n",
       "      <td>Nightclub</td>\n",
       "      <td>Coffee Shop</td>\n",
       "      <td>Breakfast Spot</td>\n",
       "      <td>Furniture / Home Store</td>\n",
       "      <td>Convenience Store</td>\n",
       "      <td>Performing Arts Venue</td>\n",
       "      <td>Pet Store</td>\n",
       "      <td>Climbing Gym</td>\n",
       "      <td>Restaurant</td>\n",
       "    </tr>\n",
       "    <tr>\n",
       "      <th>4</th>\n",
       "      <td>Central Bay Street</td>\n",
       "      <td>Coffee Shop</td>\n",
       "      <td>Café</td>\n",
       "      <td>Sandwich Place</td>\n",
       "      <td>Italian Restaurant</td>\n",
       "      <td>Japanese Restaurant</td>\n",
       "      <td>Burger Joint</td>\n",
       "      <td>Salad Place</td>\n",
       "      <td>Department Store</td>\n",
       "      <td>Bubble Tea Shop</td>\n",
       "      <td>Thai Restaurant</td>\n",
       "    </tr>\n",
       "  </tbody>\n",
       "</table>\n",
       "</div>"
      ],
      "text/plain": [
       "                                      neighborhood 1st most common venue  \\\n",
       "0  Bathurst Manor, Wilson Heights, Downsview North                  Bank   \n",
       "1                Bedford Park, Lawrence Manor East    Italian Restaurant   \n",
       "2                                      Berczy Park           Coffee Shop   \n",
       "3     Brockton, Parkdale Village, Exhibition Place                  Café   \n",
       "4                               Central Bay Street           Coffee Shop   \n",
       "\n",
       "  2nd most common venue 3rd most common venue 4st most common venue  \\\n",
       "0           Coffee Shop      Sushi Restaurant        Ice Cream Shop   \n",
       "1        Sandwich Place           Coffee Shop   American Restaurant   \n",
       "2              Beer Bar           Cheese Shop        Farmers Market   \n",
       "3             Nightclub           Coffee Shop        Breakfast Spot   \n",
       "4                  Café        Sandwich Place    Italian Restaurant   \n",
       "\n",
       "    5st most common venue 6st most common venue  7st most common venue  \\\n",
       "0          Sandwich Place           Bridal Shop             Restaurant   \n",
       "1                Pharmacy                  Café             Restaurant   \n",
       "2              Restaurant                Bakery     Seafood Restaurant   \n",
       "3  Furniture / Home Store     Convenience Store  Performing Arts Venue   \n",
       "4     Japanese Restaurant          Burger Joint            Salad Place   \n",
       "\n",
       "  8st most common venue      9st most common venue 10st most common venue  \n",
       "0    Chinese Restaurant  Middle Eastern Restaurant                  Diner  \n",
       "1                   Pub                Pizza Place          Grocery Store  \n",
       "2          Cocktail Bar                   Fountain         Sandwich Place  \n",
       "3             Pet Store               Climbing Gym             Restaurant  \n",
       "4      Department Store            Bubble Tea Shop        Thai Restaurant  "
      ]
     },
     "execution_count": 452,
     "metadata": {},
     "output_type": "execute_result"
    }
   ],
   "source": [
    "# Create dataframe displaying top ten most common venues.\n",
    "top_common = 10\n",
    "col_suffix = ['st', 'nd', 'rd']\n",
    "\n",
    "column_names = ['neighborhood']\n",
    "\n",
    "for i in range(top_common):\n",
    "    try:\n",
    "        column_names.append('{}{} most common venue'.format(i+1, col_suffix[i]))\n",
    "    except:\n",
    "        column_names.append('{}st most common venue'.format(i+1))\n",
    "        \n",
    "trt_venue_clusters = pd.DataFrame(columns=column_names)\n",
    "# Fill in the neighborhood name and top venue category\n",
    "trt_venue_clusters['neighborhood'] = trt_mean['neighborhood']\n",
    "\n",
    "for i in range(trt_mean.shape[0]):\n",
    "    trt_venue_clusters.iloc[i, 1:] = most_common_venues(trt_mean.iloc[i, 1:], top_common)\n",
    "\n",
    "trt_venue_clusters.head()"
   ]
  },
  {
   "cell_type": "markdown",
   "metadata": {},
   "source": [
    "Now we will run k-means to cluster the neighborhoods into 5 clusers."
   ]
  },
  {
   "cell_type": "code",
   "execution_count": 453,
   "metadata": {},
   "outputs": [
    {
     "data": {
      "text/plain": [
       "array([3, 2, 0, 1, 0, 4, 0, 2, 4, 4, 0, 4, 0, 1, 1, 4, 1, 0, 0, 4, 2, 4,\n",
       "       2, 0, 4, 0, 3, 0, 2, 4], dtype=int32)"
      ]
     },
     "execution_count": 453,
     "metadata": {},
     "output_type": "execute_result"
    }
   ],
   "source": [
    "# Set number of clusters.\n",
    "k = 5\n",
    "trt_cluster = trt_mean.drop('neighborhood', axis=1)\n",
    "\n",
    "k_means = KMeans(n_clusters=k, random_state=0)\n",
    "k_means.fit(trt_cluster)\n",
    "k_means.labels_"
   ]
  },
  {
   "cell_type": "code",
   "execution_count": 454,
   "metadata": {},
   "outputs": [],
   "source": [
    "# Add cluster label into dataframe\n",
    "trt_venue_clusters.insert(1, 'cluster label', k_means.labels_)\n"
   ]
  },
  {
   "cell_type": "code",
   "execution_count": 460,
   "metadata": {},
   "outputs": [
    {
     "data": {
      "text/html": [
       "<div>\n",
       "<style scoped>\n",
       "    .dataframe tbody tr th:only-of-type {\n",
       "        vertical-align: middle;\n",
       "    }\n",
       "\n",
       "    .dataframe tbody tr th {\n",
       "        vertical-align: top;\n",
       "    }\n",
       "\n",
       "    .dataframe thead th {\n",
       "        text-align: right;\n",
       "    }\n",
       "</style>\n",
       "<table border=\"1\" class=\"dataframe\">\n",
       "  <thead>\n",
       "    <tr style=\"text-align: right;\">\n",
       "      <th></th>\n",
       "      <th>neighborhood</th>\n",
       "      <th>cluster label</th>\n",
       "      <th>1st most common venue</th>\n",
       "      <th>2nd most common venue</th>\n",
       "      <th>3rd most common venue</th>\n",
       "      <th>4st most common venue</th>\n",
       "      <th>5st most common venue</th>\n",
       "      <th>6st most common venue</th>\n",
       "      <th>7st most common venue</th>\n",
       "      <th>8st most common venue</th>\n",
       "      <th>9st most common venue</th>\n",
       "      <th>10st most common venue</th>\n",
       "      <th>latitude</th>\n",
       "      <th>lagitude</th>\n",
       "      <th>longitude</th>\n",
       "    </tr>\n",
       "  </thead>\n",
       "  <tbody>\n",
       "    <tr>\n",
       "      <th>0</th>\n",
       "      <td>Bathurst Manor, Wilson Heights, Downsview North</td>\n",
       "      <td>3</td>\n",
       "      <td>Bank</td>\n",
       "      <td>Coffee Shop</td>\n",
       "      <td>Sushi Restaurant</td>\n",
       "      <td>Ice Cream Shop</td>\n",
       "      <td>Sandwich Place</td>\n",
       "      <td>Bridal Shop</td>\n",
       "      <td>Restaurant</td>\n",
       "      <td>Chinese Restaurant</td>\n",
       "      <td>Middle Eastern Restaurant</td>\n",
       "      <td>Diner</td>\n",
       "      <td>43.754328</td>\n",
       "      <td>-79.442259</td>\n",
       "      <td>-79.442259</td>\n",
       "    </tr>\n",
       "    <tr>\n",
       "      <th>1</th>\n",
       "      <td>Bedford Park, Lawrence Manor East</td>\n",
       "      <td>2</td>\n",
       "      <td>Italian Restaurant</td>\n",
       "      <td>Sandwich Place</td>\n",
       "      <td>Coffee Shop</td>\n",
       "      <td>American Restaurant</td>\n",
       "      <td>Pharmacy</td>\n",
       "      <td>Café</td>\n",
       "      <td>Restaurant</td>\n",
       "      <td>Pub</td>\n",
       "      <td>Pizza Place</td>\n",
       "      <td>Grocery Store</td>\n",
       "      <td>43.733283</td>\n",
       "      <td>-79.419750</td>\n",
       "      <td>-79.419750</td>\n",
       "    </tr>\n",
       "    <tr>\n",
       "      <th>2</th>\n",
       "      <td>Berczy Park</td>\n",
       "      <td>0</td>\n",
       "      <td>Coffee Shop</td>\n",
       "      <td>Beer Bar</td>\n",
       "      <td>Cheese Shop</td>\n",
       "      <td>Farmers Market</td>\n",
       "      <td>Restaurant</td>\n",
       "      <td>Bakery</td>\n",
       "      <td>Seafood Restaurant</td>\n",
       "      <td>Cocktail Bar</td>\n",
       "      <td>Fountain</td>\n",
       "      <td>Sandwich Place</td>\n",
       "      <td>43.644771</td>\n",
       "      <td>-79.373306</td>\n",
       "      <td>-79.373306</td>\n",
       "    </tr>\n",
       "    <tr>\n",
       "      <th>3</th>\n",
       "      <td>Brockton, Parkdale Village, Exhibition Place</td>\n",
       "      <td>1</td>\n",
       "      <td>Café</td>\n",
       "      <td>Nightclub</td>\n",
       "      <td>Coffee Shop</td>\n",
       "      <td>Breakfast Spot</td>\n",
       "      <td>Furniture / Home Store</td>\n",
       "      <td>Convenience Store</td>\n",
       "      <td>Performing Arts Venue</td>\n",
       "      <td>Pet Store</td>\n",
       "      <td>Climbing Gym</td>\n",
       "      <td>Restaurant</td>\n",
       "      <td>43.636847</td>\n",
       "      <td>-79.428191</td>\n",
       "      <td>-79.428191</td>\n",
       "    </tr>\n",
       "    <tr>\n",
       "      <th>4</th>\n",
       "      <td>Central Bay Street</td>\n",
       "      <td>0</td>\n",
       "      <td>Coffee Shop</td>\n",
       "      <td>Café</td>\n",
       "      <td>Sandwich Place</td>\n",
       "      <td>Italian Restaurant</td>\n",
       "      <td>Japanese Restaurant</td>\n",
       "      <td>Burger Joint</td>\n",
       "      <td>Salad Place</td>\n",
       "      <td>Department Store</td>\n",
       "      <td>Bubble Tea Shop</td>\n",
       "      <td>Thai Restaurant</td>\n",
       "      <td>43.657952</td>\n",
       "      <td>-79.387383</td>\n",
       "      <td>-79.387383</td>\n",
       "    </tr>\n",
       "  </tbody>\n",
       "</table>\n",
       "</div>"
      ],
      "text/plain": [
       "                                      neighborhood  cluster label  \\\n",
       "0  Bathurst Manor, Wilson Heights, Downsview North              3   \n",
       "1                Bedford Park, Lawrence Manor East              2   \n",
       "2                                      Berczy Park              0   \n",
       "3     Brockton, Parkdale Village, Exhibition Place              1   \n",
       "4                               Central Bay Street              0   \n",
       "\n",
       "  1st most common venue 2nd most common venue 3rd most common venue  \\\n",
       "0                  Bank           Coffee Shop      Sushi Restaurant   \n",
       "1    Italian Restaurant        Sandwich Place           Coffee Shop   \n",
       "2           Coffee Shop              Beer Bar           Cheese Shop   \n",
       "3                  Café             Nightclub           Coffee Shop   \n",
       "4           Coffee Shop                  Café        Sandwich Place   \n",
       "\n",
       "  4st most common venue   5st most common venue 6st most common venue  \\\n",
       "0        Ice Cream Shop          Sandwich Place           Bridal Shop   \n",
       "1   American Restaurant                Pharmacy                  Café   \n",
       "2        Farmers Market              Restaurant                Bakery   \n",
       "3        Breakfast Spot  Furniture / Home Store     Convenience Store   \n",
       "4    Italian Restaurant     Japanese Restaurant          Burger Joint   \n",
       "\n",
       "   7st most common venue 8st most common venue      9st most common venue  \\\n",
       "0             Restaurant    Chinese Restaurant  Middle Eastern Restaurant   \n",
       "1             Restaurant                   Pub                Pizza Place   \n",
       "2     Seafood Restaurant          Cocktail Bar                   Fountain   \n",
       "3  Performing Arts Venue             Pet Store               Climbing Gym   \n",
       "4            Salad Place      Department Store            Bubble Tea Shop   \n",
       "\n",
       "  10st most common venue   latitude   lagitude  longitude  \n",
       "0                  Diner  43.754328 -79.442259 -79.442259  \n",
       "1          Grocery Store  43.733283 -79.419750 -79.419750  \n",
       "2         Sandwich Place  43.644771 -79.373306 -79.373306  \n",
       "3             Restaurant  43.636847 -79.428191 -79.428191  \n",
       "4        Thai Restaurant  43.657952 -79.387383 -79.387383  "
      ]
     },
     "execution_count": 460,
     "metadata": {},
     "output_type": "execute_result"
    }
   ],
   "source": [
    "# Add latitude and longitude into dataframe for plotting folium map.\n",
    "for i in range(trt_venue_clusters.shape[0]):\n",
    "    nh = trt_venue_clusters.loc[i, 'neighborhood']\n",
    "    idx = trt_nh[trt_nh['Neighborhood'] == nh].index.values\n",
    "    trt_venue_clusters.loc[i, 'latitude'] = trt_nh.loc[idx, 'Latitude'].values[0]\n",
    "    trt_venue_clusters.loc[i, 'longitude'] = trt_nh.loc[idx, 'Longitude'].values[0]\n",
    "\n",
    "trt_venue_clusters.head()"
   ]
  },
  {
   "cell_type": "markdown",
   "metadata": {},
   "source": [
    "Finally, let's visualize the cluster result in a folium map. <a id='map_clusters'></a>"
   ]
  },
  {
   "cell_type": "code",
   "execution_count": 461,
   "metadata": {},
   "outputs": [],
   "source": [
    "# Create folium map\n",
    "map_clusters = folium.Map(location=[trt_latt, trt_logt], zoom_start=10)\n",
    "\n",
    "# Set color scheme for the clusters\n",
    "x = np.arange(k)\n",
    "ys = [i + x + (i*x)**2 for i in range(k)]\n",
    "colors_array = cm.rainbow(np.linspace(0, 1, len(ys)))\n",
    "rainbow = [colors.rgb2hex(i) for i in colors_array]"
   ]
  },
  {
   "cell_type": "code",
   "execution_count": 467,
   "metadata": {},
   "outputs": [
    {
     "data": {
      "text/html": [
       "<div style=\"width:100%;\"><div style=\"position:relative;width:100%;height:0;padding-bottom:60%;\"><span style=\"color:#565656\">Make this Notebook Trusted to load map: File -> Trust Notebook</span><iframe src=\"about:blank\" style=\"position:absolute;width:100%;height:100%;left:0;top:0;border:none !important;\" data-html=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 onload=\"this.contentDocument.open();this.contentDocument.write(atob(this.getAttribute('data-html')));this.contentDocument.close();\" allowfullscreen webkitallowfullscreen mozallowfullscreen></iframe></div></div>"
      ],
      "text/plain": [
       "<folium.folium.Map at 0x1a2bc8dd90>"
      ]
     },
     "execution_count": 467,
     "metadata": {},
     "output_type": "execute_result"
    }
   ],
   "source": [
    "# Add markers to the map\n",
    "markers_color = []\n",
    "for lat, lon, poi, cluster in zip(trt_venue_clusters['latitude'], trt_venue_clusters['longitude'], trt_venue_clusters['neighborhood'], trt_venue_clusters['cluster label']):\n",
    "    label = folium.Popup(str(poi) + ' Cluster ' + str(cluster), parse_html=True)\n",
    "    folium.CircleMarker(\n",
    "    [lat, lon],\n",
    "    radius=5,\n",
    "    popup=label,\n",
    "    color=rainbow[cluster-1],\n",
    "    fill=True,\n",
    "    fill_color=rainbow[cluster-1]).add_to(map_clusters)\n",
    "    \n",
    "map_clusters"
   ]
  },
  {
   "cell_type": "code",
   "execution_count": null,
   "metadata": {},
   "outputs": [],
   "source": []
  }
 ],
 "metadata": {
  "kernelspec": {
   "display_name": "Python 3",
   "language": "python",
   "name": "python3"
  },
  "language_info": {
   "codemirror_mode": {
    "name": "ipython",
    "version": 3
   },
   "file_extension": ".py",
   "mimetype": "text/x-python",
   "name": "python",
   "nbconvert_exporter": "python",
   "pygments_lexer": "ipython3",
   "version": "3.7.7"
  }
 },
 "nbformat": 4,
 "nbformat_minor": 4
}
